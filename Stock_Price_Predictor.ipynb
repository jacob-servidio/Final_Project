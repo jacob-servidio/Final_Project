{
 "metadata": {
  "language_info": {
   "codemirror_mode": {
    "name": "ipython",
    "version": 3
   },
   "file_extension": ".py",
   "mimetype": "text/x-python",
   "name": "python",
   "nbconvert_exporter": "python",
   "pygments_lexer": "ipython3",
   "version": "3.6.12-final"
  },
  "orig_nbformat": 2,
  "kernelspec": {
   "name": "python3",
   "display_name": "Python 3.6.12 64-bit ('PythonAdv': conda)",
   "metadata": {
    "interpreter": {
     "hash": "6b7fa3a0957172ecb0227f4a19ea8ccb7af90ad3c01dc11e0364b2092e9452fb"
    }
   }
  }
 },
 "nbformat": 4,
 "nbformat_minor": 2,
 "cells": [
  {
   "cell_type": "code",
   "execution_count": 32,
   "metadata": {},
   "outputs": [],
   "source": [
    "# program to predict stock prices using machine learning models\n",
    "#linear regression and support vector regressor"
   ]
  },
  {
   "cell_type": "code",
   "execution_count": 33,
   "metadata": {},
   "outputs": [],
   "source": [
    "#dependencies\n",
    "\n",
    "import quandl\n",
    "import numpy as np \n",
    "from sklearn.linear_model import LinearRegression\n",
    "from sklearn.svm import SVR\n",
    "from sklearn.model_selection import train_test_split"
   ]
  },
  {
   "cell_type": "code",
   "execution_count": 34,
   "metadata": {},
   "outputs": [
    {
     "output_type": "stream",
     "name": "stdout",
     "text": [
      "             Open     High    Low  Close      Volume  Ex-Dividend  \\\nDate                                                                \n2010-06-29  19.00  25.0000  17.54  23.89  18766300.0          0.0   \n2010-06-30  25.79  30.4192  23.30  23.83  17187100.0          0.0   \n2010-07-01  25.00  25.9200  20.27  21.96   8218800.0          0.0   \n2010-07-02  23.00  23.1000  18.71  19.20   5139800.0          0.0   \n2010-07-06  20.00  20.0000  15.83  16.11   6866900.0          0.0   \n\n            Split Ratio  Adj. Open  Adj. High  Adj. Low  Adj. Close  \\\nDate                                                                  \n2010-06-29          1.0      19.00    25.0000     17.54       23.89   \n2010-06-30          1.0      25.79    30.4192     23.30       23.83   \n2010-07-01          1.0      25.00    25.9200     20.27       21.96   \n2010-07-02          1.0      23.00    23.1000     18.71       19.20   \n2010-07-06          1.0      20.00    20.0000     15.83       16.11   \n\n            Adj. Volume  \nDate                     \n2010-06-29   18766300.0  \n2010-06-30   17187100.0  \n2010-07-01    8218800.0  \n2010-07-02    5139800.0  \n2010-07-06    6866900.0  \n"
     ]
    }
   ],
   "source": [
    "# get the stock data\n",
    "df = quandl.get(\"WIKI/TSLA\")\n",
    "print(df.head())"
   ]
  },
  {
   "cell_type": "code",
   "execution_count": 35,
   "metadata": {},
   "outputs": [
    {
     "output_type": "stream",
     "name": "stdout",
     "text": [
      "            Adj. Close\nDate                  \n2010-06-29       23.89\n2010-06-30       23.83\n2010-07-01       21.96\n2010-07-02       19.20\n2010-07-06       16.11\n"
     ]
    }
   ],
   "source": [
    "# get the adjusted close price\n",
    "df = df[['Adj. Close']]\n",
    "print(df.head())"
   ]
  },
  {
   "cell_type": "code",
   "execution_count": 36,
   "metadata": {},
   "outputs": [
    {
     "output_type": "stream",
     "name": "stdout",
     "text": [
      "            Adj. Close  Prediction\nDate                              \n2018-03-21      316.53         NaN\n2018-03-22      309.10         NaN\n2018-03-23      301.54         NaN\n2018-03-26      304.18         NaN\n2018-03-27      279.18         NaN\n"
     ]
    }
   ],
   "source": [
    "# variable for predicting 'n' days into the future\n",
    "forecast_out = 30\n",
    "#create column for target, shifted 'n' units up\n",
    "df['Prediction'] = df[['Adj. Close']].shift(-forecast_out)\n",
    "print(df.tail())"
   ]
  },
  {
   "cell_type": "code",
   "execution_count": 37,
   "metadata": {},
   "outputs": [],
   "source": [
    "# create the x data set\n",
    "#convert dataframe to numpy array\n",
    "X = np.array(df.drop(['Prediction'],1))\n",
    "#remove last 'n' rows\n",
    "X = X[:-forecast_out]"
   ]
  },
  {
   "cell_type": "code",
   "execution_count": 38,
   "metadata": {},
   "outputs": [],
   "source": [
    "#create y data set\n",
    "#convert dataframe to numpy array\n",
    "y = np.array(df['Prediction'])\n",
    "#get all of the y values except for the last 'n' rows\n",
    "y = y[:-forecast_out]"
   ]
  },
  {
   "cell_type": "code",
   "execution_count": 39,
   "metadata": {},
   "outputs": [],
   "source": [
    "X_train, X_test, y_train, y_test = train_test_split(X, y, test_size=0.2)"
   ]
  },
  {
   "cell_type": "code",
   "execution_count": 40,
   "metadata": {},
   "outputs": [
    {
     "output_type": "execute_result",
     "data": {
      "text/plain": [
       "SVR(C=1000.0, gamma=0.1)"
      ]
     },
     "metadata": {},
     "execution_count": 40
    }
   ],
   "source": [
    "svr_rbf = SVR(kernel='rbf', C=1e3, gamma=0.1)\n",
    "svr_rbf.fit(X_train, y_train)"
   ]
  },
  {
   "cell_type": "code",
   "execution_count": 41,
   "metadata": {},
   "outputs": [
    {
     "output_type": "stream",
     "name": "stdout",
     "text": [
      "svm confidence:  0.9498059108677066\n"
     ]
    }
   ],
   "source": [
    "#testing model\n",
    "svm_confidence = svr_rbf.score(X_test, y_test)\n",
    "print(\"svm confidence: \", svm_confidence)"
   ]
  },
  {
   "cell_type": "code",
   "execution_count": 42,
   "metadata": {},
   "outputs": [
    {
     "output_type": "execute_result",
     "data": {
      "text/plain": [
       "LinearRegression()"
      ]
     },
     "metadata": {},
     "execution_count": 42
    }
   ],
   "source": [
    "#create and train linear regression model\n",
    "lr = LinearRegression()\n",
    "lr.fit(X_train, y_train)"
   ]
  },
  {
   "cell_type": "code",
   "execution_count": 43,
   "metadata": {},
   "outputs": [
    {
     "output_type": "stream",
     "name": "stdout",
     "text": [
      "lr confidence:  0.9418358708145548\n"
     ]
    }
   ],
   "source": [
    "#testing Linear Regression model\n",
    "#testing model\n",
    "lr_confidence = lr.score(X_test, y_test)\n",
    "print(\"lr confidence: \", lr_confidence)"
   ]
  },
  {
   "cell_type": "code",
   "execution_count": 45,
   "metadata": {},
   "outputs": [],
   "source": [
    "#Set x_forcast equal to last 30 rows of the original dataset\n",
    "x_forecast = np.array(df.drop(['Prediction'],1))[-forecast_out:]"
   ]
  },
  {
   "cell_type": "code",
   "execution_count": 46,
   "metadata": {},
   "outputs": [
    {
     "output_type": "stream",
     "name": "stdout",
     "text": [
      "[324.9449961  323.62411653 335.12555305 336.51981482 335.81534572\n 334.37705463 346.96943984 352.72260417 357.97676956 351.68546911\n 343.92652469 332.05817717 336.15779598 334.4259761  329.38706516\n 333.39862532 330.26765154 328.37928297 346.32367649 342.73284093\n 327.85093114 326.84314896 322.68482439 315.06286008 312.11778786\n 317.96879512 310.69906536 303.30213978 305.88519316 281.42446044]\n"
     ]
    }
   ],
   "source": [
    "#print lr predictions for next 'n' days\n",
    "lr_prediction = lr.predict(x_forecast)\n",
    "print(lr_prediction)"
   ]
  },
  {
   "cell_type": "code",
   "execution_count": 47,
   "metadata": {},
   "outputs": [
    {
     "output_type": "stream",
     "name": "stdout",
     "text": [
      "[361.52771866 359.80657711 327.64779267 338.6798222  336.98760097\n 317.3994111  327.88582473 343.33432675 343.43908818 331.05218478\n 343.67478264 346.86660435 338.92976893 317.83033279 346.976151\n 320.6212474  353.30163171 341.0461476  327.03297811 326.03506686\n 339.61700086 342.04990501 346.21503943 352.91972    311.77557468\n 312.58666139 336.18876967 336.96454626 326.45381836 277.46126341]\n"
     ]
    }
   ],
   "source": [
    "#print support vector regressor predictions for next 'n' days\n",
    "svm_prediction = svr_rbf.predict(x_forecast)\n",
    "print(svm_prediction)"
   ]
  },
  {
   "cell_type": "code",
   "execution_count": null,
   "metadata": {},
   "outputs": [],
   "source": []
  }
 ]
}