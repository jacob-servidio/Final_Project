{
 "cells": [
  {
   "cell_type": "code",
   "execution_count": 1,
   "metadata": {},
   "outputs": [],
   "source": [
    "import FundamentalAnalysis as fa\n",
    "import pandas as pd\n",
    "from Password import API_KEY\n",
    "\n",
    "ticker = \"AAPL\"\n",
    "api_key = API_KEY\n"
   ]
  },
  {
   "cell_type": "code",
   "execution_count": 2,
   "metadata": {},
   "outputs": [],
   "source": [
    "# Show the available companies\n",
    "companies = fa.available_companies(api_key)\n",
    "\n",
    "# To df\n",
    "Companies = pd.DataFrame(companies)\n",
    "\n",
    "#To CSV\n",
    "Companies.to_csv(\"Test Data/companies.csv\")"
   ]
  },
  {
   "cell_type": "code",
   "execution_count": 3,
   "metadata": {},
   "outputs": [],
   "source": [
    "# Collect general company information\n",
    "profile = fa.profile(ticker, api_key)\n",
    "\n",
    "# To df\n",
    "Profile = pd.DataFrame(profile)\n",
    "\n",
    "#To CSV\n",
    "Profile.to_csv(f'Test Data/{ticker}_profile.csv')"
   ]
  },
  {
   "cell_type": "code",
   "execution_count": 4,
   "metadata": {},
   "outputs": [],
   "source": [
    "# Collect recent company quotes\n",
    "quotes = fa.quote(ticker, api_key)\n",
    "\n",
    "# To df\n",
    "Quotes = pd.DataFrame(quotes)\n",
    "\n",
    "#To CSV\n",
    "Quotes.to_csv(f'Test Data/{ticker}_quotes.csv')"
   ]
  },
  {
   "cell_type": "code",
   "execution_count": 5,
   "metadata": {},
   "outputs": [],
   "source": [
    "# Collect market cap and enterprise value\n",
    "entreprise_value = fa.enterprise(ticker, api_key)\n",
    "\n",
    "# To df\n",
    "Enterprise_value = pd.DataFrame(entreprise_value)\n",
    "\n",
    "#To CSV\n",
    "Enterprise_value.to_csv(f'Test Data/{ticker}_enterprise_value.csv')"
   ]
  },
  {
   "cell_type": "code",
   "execution_count": 6,
   "metadata": {},
   "outputs": [],
   "source": [
    "# Show recommendations of Analysts\n",
    "ratings = fa.rating(ticker, api_key)\n",
    "\n",
    "# To df\n",
    "Ratings = pd.DataFrame(ratings)\n",
    "\n",
    "#To CSV\n",
    "Ratings.to_csv(f'Test Data/{ticker}_ratings.csv')"
   ]
  },
  {
   "cell_type": "code",
   "execution_count": 7,
   "metadata": {},
   "outputs": [],
   "source": [
    "# Obtain DCFs over time\n",
    "dcf_annually = fa.discounted_cash_flow(ticker, api_key, period=\"annual\")\n",
    "dcf_quarterly = fa.discounted_cash_flow(ticker, api_key, period=\"quarter\")\n",
    "\n",
    "# To df\n",
    "Dcf_annually = pd.DataFrame(dcf_annually)\n",
    "Dcf_quarterly = pd.DataFrame(dcf_quarterly)\n",
    "\n",
    "#To CSV\n",
    "Dcf_annually.to_csv(f'Test Data/{ticker}_dcf_annually.csv')\n",
    "Dcf_quarterly.to_csv(f'Test Data/{ticker}_dcf_quarterly.csv')"
   ]
  },
  {
   "cell_type": "code",
   "execution_count": 8,
   "metadata": {},
   "outputs": [],
   "source": [
    "# Collect the Balance Sheet statements\n",
    "balance_sheet_annually = fa.balance_sheet_statement(ticker, api_key, period=\"annual\")\n",
    "balance_sheet_quarterly = fa.balance_sheet_statement(ticker, api_key, period=\"quarter\")\n",
    "\n",
    "# To df\n",
    "Balance_sheet_annually = pd.DataFrame(balance_sheet_annually)\n",
    "Balance_sheet_quarterly = pd.DataFrame(balance_sheet_quarterly)\n",
    "\n",
    "#To CSV\n",
    "Balance_sheet_annually.to_csv(f'Test Data/{ticker}_balance_sheet_annually.csv')\n",
    "Balance_sheet_quarterly.to_csv(f'Test Data/{ticker}_balance_sheet_quarterly.csv')"
   ]
  },
  {
   "cell_type": "code",
   "execution_count": 9,
   "metadata": {},
   "outputs": [],
   "source": [
    "# Collect the Income Statements\n",
    "income_statement_annually = fa.income_statement(ticker, api_key, period=\"annual\")\n",
    "income_statement_quarterly = fa.income_statement(ticker, api_key, period=\"quarter\")\n",
    "\n",
    "# To df\n",
    "Income_statement_annually = pd.DataFrame(income_statement_annually)\n",
    "Income_statement_quarterly = pd.DataFrame(income_statement_quarterly)\n",
    "\n",
    "#To CSV\n",
    "Income_statement_annually.to_csv(f'Test Data/{ticker}_income_statement_annually.csv')\n",
    "Income_statement_quarterly.to_csv(f'Test Data/{ticker}_income_statement_quarterly.csv')"
   ]
  },
  {
   "cell_type": "code",
   "execution_count": 10,
   "metadata": {},
   "outputs": [],
   "source": [
    "# Collect the Cash Flow Statements\n",
    "cash_flow_statement_annually = fa.cash_flow_statement(ticker, api_key, period=\"annual\")\n",
    "cash_flow_statement_quarterly = fa.cash_flow_statement(ticker, api_key, period=\"quarter\")\n",
    "\n",
    "# To df\n",
    "Cash_flow_statement_annually = pd.DataFrame(cash_flow_statement_annually)\n",
    "Cash_flow_statement_quarterly = pd.DataFrame(cash_flow_statement_quarterly)\n",
    "\n",
    "#To CSV\n",
    "Cash_flow_statement_annually.to_csv(f'Test Data/{ticker}_cash_flow_statement_annually.csv')\n",
    "Cash_flow_statement_quarterly.to_csv(f'Test Data/{ticker}_cash_flow_statement_quarterly.csv')"
   ]
  },
  {
   "cell_type": "code",
   "execution_count": 11,
   "metadata": {},
   "outputs": [],
   "source": [
    "# Show Key Metrics\n",
    "key_metrics_annually = fa.key_metrics(ticker, api_key, period=\"annual\")\n",
    "key_metrics_quarterly = fa.key_metrics(ticker, api_key, period=\"quarter\")\n",
    "\n",
    "# To df\n",
    "Key_metrics_annually = pd.DataFrame(key_metrics_annually)\n",
    "Key_metrics_quarterly = pd.DataFrame(key_metrics_quarterly)\n",
    "\n",
    "#To CSV\n",
    "Key_metrics_annually.to_csv(f'Test Data/{ticker}_key_metrics_annually.csv')\n",
    "Key_metrics_quarterly.to_csv(f'Test Data/{ticker}_key_metrics_quarterly.csv')"
   ]
  },
  {
   "cell_type": "code",
   "execution_count": 12,
   "metadata": {},
   "outputs": [],
   "source": [
    "# Show a large set of in-depth ratios\n",
    "financial_ratios_annually = fa.financial_ratios(ticker, api_key, period=\"annual\")\n",
    "financial_ratios_quarterly = fa.financial_ratios(ticker, api_key, period=\"quarter\")\n",
    "\n",
    "# To df\n",
    "Financial_ratios_annually = pd.DataFrame(financial_ratios_annually)\n",
    "Financial_ratios_quarterly = pd.DataFrame(financial_ratios_quarterly)\n",
    "\n",
    "#To CSV\n",
    "Financial_ratios_annually.to_csv(f'Test Data/{ticker}_financial_ratios_annually.csv')\n",
    "Financial_ratios_quarterly.to_csv(f'Test Data/{ticker}_financial_ratios_quarterly.csv')"
   ]
  },
  {
   "cell_type": "code",
   "execution_count": 13,
   "metadata": {},
   "outputs": [],
   "source": [
    "# Show the growth of the company\n",
    "growth_annually = fa.financial_statement_growth(ticker, api_key, period=\"annual\")\n",
    "growth_quarterly = fa.financial_statement_growth(ticker, api_key, period=\"quarter\")\n",
    "\n",
    "# To df\n",
    "Growth_annually = pd.DataFrame(growth_annually)\n",
    "Growth_quarterly = pd.DataFrame(growth_quarterly)\n",
    "\n",
    "#To CSV\n",
    "Growth_annually.to_csv(f'Test Data/{ticker}_growth_annually.csv')\n",
    "Growth_quarterly.to_csv(f'Test Data/{ticker}_growth_quarterly.csv')"
   ]
  },
  {
   "cell_type": "code",
   "execution_count": 14,
   "metadata": {},
   "outputs": [],
   "source": [
    "# Download general stock data\n",
    "stock_data = fa.stock_data(ticker, period=\"ytd\", interval=\"1d\")\n",
    "\n",
    "# To df\n",
    "Stock_data = pd.DataFrame(stock_data)\n",
    "\n",
    "#To CSV\n",
    "Stock_data.to_csv(f'Test Data/{ticker}_stock_data.csv')"
   ]
  },
  {
   "cell_type": "code",
   "execution_count": 15,
   "metadata": {},
   "outputs": [],
   "source": [
    "# Download detailed stock data\n",
    "stock_data_detailed = fa.stock_data_detailed(ticker, api_key, begin=\"2000-01-01\", end=\"2020-12-31\")\n",
    "\n",
    "# To df\n",
    "Stock_data_detailed = pd.DataFrame(stock_data_detailed)\n",
    "\n",
    "#To CSV\n",
    "Stock_data_detailed.to_csv(f'Test Data/{ticker}_stock_data_detailed.csv')"
   ]
  },
  {
   "cell_type": "code",
   "execution_count": null,
   "metadata": {},
   "outputs": [],
   "source": []
  }
 ],
 "metadata": {
  "language_info": {
   "codemirror_mode": {
    "name": "ipython",
    "version": 3
   },
   "file_extension": ".py",
   "mimetype": "text/x-python",
   "name": "python",
   "nbconvert_exporter": "python",
   "pygments_lexer": "ipython3",
   "version": "3.8.5-final"
  },
  "orig_nbformat": 2,
  "kernelspec": {
   "name": "python_defaultSpec_1610496031507",
   "display_name": "Python 3.8.5 64-bit"
  }
 },
 "nbformat": 4,
 "nbformat_minor": 2
}