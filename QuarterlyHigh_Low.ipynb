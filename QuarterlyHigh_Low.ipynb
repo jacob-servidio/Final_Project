{
 "cells": [
  {
   "cell_type": "code",
   "execution_count": 1,
   "metadata": {},
   "outputs": [],
   "source": [
    "#imports/dependencies\n",
    "import pandas as pd \n",
    "import numpy as np \n",
    "import datetime as dt\n"
   ]
  },
  {
   "cell_type": "code",
   "execution_count": 2,
   "metadata": {},
   "outputs": [
    {
     "output_type": "execute_result",
     "data": {
      "text/plain": [
       "   Unnamed: 0        open        high         low       close    adjClose  \\\n",
       "0  2020-12-31  134.080002  134.740005  131.720001  132.690002  132.690002   \n",
       "1  2020-12-30  135.580002  135.990005  133.399994  133.720001  133.720001   \n",
       "2  2020-12-29  138.050003  138.789993  134.339996  134.869995  134.869995   \n",
       "3  2020-12-28  133.990005  137.339996  133.509995  136.690002  136.690002   \n",
       "4  2020-12-24  131.320007  133.460007  131.100006  131.970001  131.970001   \n",
       "\n",
       "        volume  unadjustedVolume   change  changePercent       vwap  \\\n",
       "0   98990400.0        98990400.0 -1.39000         -1.037  133.05000   \n",
       "1   96452100.0        96452100.0 -1.86000         -1.372  134.37000   \n",
       "2  121047300.0       121047300.0 -3.18001         -2.304  135.99999   \n",
       "3  124486200.0       124486200.0  2.70000          2.015  135.84666   \n",
       "4   54930100.0        54930100.0  0.64999          0.495  132.17667   \n",
       "\n",
       "             label  changeOverTime  \n",
       "0  December 31, 20        -0.01037  \n",
       "1  December 30, 20        -0.01372  \n",
       "2  December 29, 20        -0.02304  \n",
       "3  December 28, 20         0.02015  \n",
       "4  December 24, 20         0.00495  "
      ],
      "text/html": "<div>\n<style scoped>\n    .dataframe tbody tr th:only-of-type {\n        vertical-align: middle;\n    }\n\n    .dataframe tbody tr th {\n        vertical-align: top;\n    }\n\n    .dataframe thead th {\n        text-align: right;\n    }\n</style>\n<table border=\"1\" class=\"dataframe\">\n  <thead>\n    <tr style=\"text-align: right;\">\n      <th></th>\n      <th>Unnamed: 0</th>\n      <th>open</th>\n      <th>high</th>\n      <th>low</th>\n      <th>close</th>\n      <th>adjClose</th>\n      <th>volume</th>\n      <th>unadjustedVolume</th>\n      <th>change</th>\n      <th>changePercent</th>\n      <th>vwap</th>\n      <th>label</th>\n      <th>changeOverTime</th>\n    </tr>\n  </thead>\n  <tbody>\n    <tr>\n      <th>0</th>\n      <td>2020-12-31</td>\n      <td>134.080002</td>\n      <td>134.740005</td>\n      <td>131.720001</td>\n      <td>132.690002</td>\n      <td>132.690002</td>\n      <td>98990400.0</td>\n      <td>98990400.0</td>\n      <td>-1.39000</td>\n      <td>-1.037</td>\n      <td>133.05000</td>\n      <td>December 31, 20</td>\n      <td>-0.01037</td>\n    </tr>\n    <tr>\n      <th>1</th>\n      <td>2020-12-30</td>\n      <td>135.580002</td>\n      <td>135.990005</td>\n      <td>133.399994</td>\n      <td>133.720001</td>\n      <td>133.720001</td>\n      <td>96452100.0</td>\n      <td>96452100.0</td>\n      <td>-1.86000</td>\n      <td>-1.372</td>\n      <td>134.37000</td>\n      <td>December 30, 20</td>\n      <td>-0.01372</td>\n    </tr>\n    <tr>\n      <th>2</th>\n      <td>2020-12-29</td>\n      <td>138.050003</td>\n      <td>138.789993</td>\n      <td>134.339996</td>\n      <td>134.869995</td>\n      <td>134.869995</td>\n      <td>121047300.0</td>\n      <td>121047300.0</td>\n      <td>-3.18001</td>\n      <td>-2.304</td>\n      <td>135.99999</td>\n      <td>December 29, 20</td>\n      <td>-0.02304</td>\n    </tr>\n    <tr>\n      <th>3</th>\n      <td>2020-12-28</td>\n      <td>133.990005</td>\n      <td>137.339996</td>\n      <td>133.509995</td>\n      <td>136.690002</td>\n      <td>136.690002</td>\n      <td>124486200.0</td>\n      <td>124486200.0</td>\n      <td>2.70000</td>\n      <td>2.015</td>\n      <td>135.84666</td>\n      <td>December 28, 20</td>\n      <td>0.02015</td>\n    </tr>\n    <tr>\n      <th>4</th>\n      <td>2020-12-24</td>\n      <td>131.320007</td>\n      <td>133.460007</td>\n      <td>131.100006</td>\n      <td>131.970001</td>\n      <td>131.970001</td>\n      <td>54930100.0</td>\n      <td>54930100.0</td>\n      <td>0.64999</td>\n      <td>0.495</td>\n      <td>132.17667</td>\n      <td>December 24, 20</td>\n      <td>0.00495</td>\n    </tr>\n  </tbody>\n</table>\n</div>"
     },
     "metadata": {},
     "execution_count": 2
    }
   ],
   "source": [
    "stockprice_df=pd.read_csv('Test Data/AAPL_stock_data_detailed.csv')\n",
    "stockprice_df.head()"
   ]
  },
  {
   "cell_type": "code",
   "execution_count": 3,
   "metadata": {},
   "outputs": [
    {
     "output_type": "execute_result",
     "data": {
      "text/plain": [
       "         date        open        high         low       close    adjClose  \\\n",
       "0  2020-12-31  134.080002  134.740005  131.720001  132.690002  132.690002   \n",
       "1  2020-12-30  135.580002  135.990005  133.399994  133.720001  133.720001   \n",
       "2  2020-12-29  138.050003  138.789993  134.339996  134.869995  134.869995   \n",
       "3  2020-12-28  133.990005  137.339996  133.509995  136.690002  136.690002   \n",
       "4  2020-12-24  131.320007  133.460007  131.100006  131.970001  131.970001   \n",
       "\n",
       "        volume  unadjustedVolume   change  changePercent       vwap  \\\n",
       "0   98990400.0        98990400.0 -1.39000         -1.037  133.05000   \n",
       "1   96452100.0        96452100.0 -1.86000         -1.372  134.37000   \n",
       "2  121047300.0       121047300.0 -3.18001         -2.304  135.99999   \n",
       "3  124486200.0       124486200.0  2.70000          2.015  135.84666   \n",
       "4   54930100.0        54930100.0  0.64999          0.495  132.17667   \n",
       "\n",
       "             label  changeOverTime  \n",
       "0  December 31, 20        -0.01037  \n",
       "1  December 30, 20        -0.01372  \n",
       "2  December 29, 20        -0.02304  \n",
       "3  December 28, 20         0.02015  \n",
       "4  December 24, 20         0.00495  "
      ],
      "text/html": "<div>\n<style scoped>\n    .dataframe tbody tr th:only-of-type {\n        vertical-align: middle;\n    }\n\n    .dataframe tbody tr th {\n        vertical-align: top;\n    }\n\n    .dataframe thead th {\n        text-align: right;\n    }\n</style>\n<table border=\"1\" class=\"dataframe\">\n  <thead>\n    <tr style=\"text-align: right;\">\n      <th></th>\n      <th>date</th>\n      <th>open</th>\n      <th>high</th>\n      <th>low</th>\n      <th>close</th>\n      <th>adjClose</th>\n      <th>volume</th>\n      <th>unadjustedVolume</th>\n      <th>change</th>\n      <th>changePercent</th>\n      <th>vwap</th>\n      <th>label</th>\n      <th>changeOverTime</th>\n    </tr>\n  </thead>\n  <tbody>\n    <tr>\n      <th>0</th>\n      <td>2020-12-31</td>\n      <td>134.080002</td>\n      <td>134.740005</td>\n      <td>131.720001</td>\n      <td>132.690002</td>\n      <td>132.690002</td>\n      <td>98990400.0</td>\n      <td>98990400.0</td>\n      <td>-1.39000</td>\n      <td>-1.037</td>\n      <td>133.05000</td>\n      <td>December 31, 20</td>\n      <td>-0.01037</td>\n    </tr>\n    <tr>\n      <th>1</th>\n      <td>2020-12-30</td>\n      <td>135.580002</td>\n      <td>135.990005</td>\n      <td>133.399994</td>\n      <td>133.720001</td>\n      <td>133.720001</td>\n      <td>96452100.0</td>\n      <td>96452100.0</td>\n      <td>-1.86000</td>\n      <td>-1.372</td>\n      <td>134.37000</td>\n      <td>December 30, 20</td>\n      <td>-0.01372</td>\n    </tr>\n    <tr>\n      <th>2</th>\n      <td>2020-12-29</td>\n      <td>138.050003</td>\n      <td>138.789993</td>\n      <td>134.339996</td>\n      <td>134.869995</td>\n      <td>134.869995</td>\n      <td>121047300.0</td>\n      <td>121047300.0</td>\n      <td>-3.18001</td>\n      <td>-2.304</td>\n      <td>135.99999</td>\n      <td>December 29, 20</td>\n      <td>-0.02304</td>\n    </tr>\n    <tr>\n      <th>3</th>\n      <td>2020-12-28</td>\n      <td>133.990005</td>\n      <td>137.339996</td>\n      <td>133.509995</td>\n      <td>136.690002</td>\n      <td>136.690002</td>\n      <td>124486200.0</td>\n      <td>124486200.0</td>\n      <td>2.70000</td>\n      <td>2.015</td>\n      <td>135.84666</td>\n      <td>December 28, 20</td>\n      <td>0.02015</td>\n    </tr>\n    <tr>\n      <th>4</th>\n      <td>2020-12-24</td>\n      <td>131.320007</td>\n      <td>133.460007</td>\n      <td>131.100006</td>\n      <td>131.970001</td>\n      <td>131.970001</td>\n      <td>54930100.0</td>\n      <td>54930100.0</td>\n      <td>0.64999</td>\n      <td>0.495</td>\n      <td>132.17667</td>\n      <td>December 24, 20</td>\n      <td>0.00495</td>\n    </tr>\n  </tbody>\n</table>\n</div>"
     },
     "metadata": {},
     "execution_count": 3
    }
   ],
   "source": [
    "stockprice_df = stockprice_df.rename(columns={'Unnamed: 0':'date'})\n",
    "stockprice_df.head()"
   ]
  },
  {
   "cell_type": "code",
   "execution_count": 4,
   "metadata": {},
   "outputs": [
    {
     "output_type": "execute_result",
     "data": {
      "text/plain": [
       "         date        open        high         low       close\n",
       "0  2020-12-31  134.080002  134.740005  131.720001  132.690002\n",
       "1  2020-12-30  135.580002  135.990005  133.399994  133.720001\n",
       "2  2020-12-29  138.050003  138.789993  134.339996  134.869995\n",
       "3  2020-12-28  133.990005  137.339996  133.509995  136.690002\n",
       "4  2020-12-24  131.320007  133.460007  131.100006  131.970001"
      ],
      "text/html": "<div>\n<style scoped>\n    .dataframe tbody tr th:only-of-type {\n        vertical-align: middle;\n    }\n\n    .dataframe tbody tr th {\n        vertical-align: top;\n    }\n\n    .dataframe thead th {\n        text-align: right;\n    }\n</style>\n<table border=\"1\" class=\"dataframe\">\n  <thead>\n    <tr style=\"text-align: right;\">\n      <th></th>\n      <th>date</th>\n      <th>open</th>\n      <th>high</th>\n      <th>low</th>\n      <th>close</th>\n    </tr>\n  </thead>\n  <tbody>\n    <tr>\n      <th>0</th>\n      <td>2020-12-31</td>\n      <td>134.080002</td>\n      <td>134.740005</td>\n      <td>131.720001</td>\n      <td>132.690002</td>\n    </tr>\n    <tr>\n      <th>1</th>\n      <td>2020-12-30</td>\n      <td>135.580002</td>\n      <td>135.990005</td>\n      <td>133.399994</td>\n      <td>133.720001</td>\n    </tr>\n    <tr>\n      <th>2</th>\n      <td>2020-12-29</td>\n      <td>138.050003</td>\n      <td>138.789993</td>\n      <td>134.339996</td>\n      <td>134.869995</td>\n    </tr>\n    <tr>\n      <th>3</th>\n      <td>2020-12-28</td>\n      <td>133.990005</td>\n      <td>137.339996</td>\n      <td>133.509995</td>\n      <td>136.690002</td>\n    </tr>\n    <tr>\n      <th>4</th>\n      <td>2020-12-24</td>\n      <td>131.320007</td>\n      <td>133.460007</td>\n      <td>131.100006</td>\n      <td>131.970001</td>\n    </tr>\n  </tbody>\n</table>\n</div>"
     },
     "metadata": {},
     "execution_count": 4
    }
   ],
   "source": [
    "selected_stockprice_df = stockprice_df[[\"date\", \"open\", \"high\", \"low\", \"close\"]]\n",
    "selected_stockprice_df.head()"
   ]
  },
  {
   "cell_type": "code",
   "execution_count": 5,
   "metadata": {},
   "outputs": [
    {
     "output_type": "execute_result",
     "data": {
      "text/plain": [
       "      date        open        high         low       close\n",
       "0  2020-12  134.080002  134.740005  131.720001  132.690002\n",
       "1  2020-12  135.580002  135.990005  133.399994  133.720001\n",
       "2  2020-12  138.050003  138.789993  134.339996  134.869995\n",
       "3  2020-12  133.990005  137.339996  133.509995  136.690002\n",
       "4  2020-12  131.320007  133.460007  131.100006  131.970001"
      ],
      "text/html": "<div>\n<style scoped>\n    .dataframe tbody tr th:only-of-type {\n        vertical-align: middle;\n    }\n\n    .dataframe tbody tr th {\n        vertical-align: top;\n    }\n\n    .dataframe thead th {\n        text-align: right;\n    }\n</style>\n<table border=\"1\" class=\"dataframe\">\n  <thead>\n    <tr style=\"text-align: right;\">\n      <th></th>\n      <th>date</th>\n      <th>open</th>\n      <th>high</th>\n      <th>low</th>\n      <th>close</th>\n    </tr>\n  </thead>\n  <tbody>\n    <tr>\n      <th>0</th>\n      <td>2020-12</td>\n      <td>134.080002</td>\n      <td>134.740005</td>\n      <td>131.720001</td>\n      <td>132.690002</td>\n    </tr>\n    <tr>\n      <th>1</th>\n      <td>2020-12</td>\n      <td>135.580002</td>\n      <td>135.990005</td>\n      <td>133.399994</td>\n      <td>133.720001</td>\n    </tr>\n    <tr>\n      <th>2</th>\n      <td>2020-12</td>\n      <td>138.050003</td>\n      <td>138.789993</td>\n      <td>134.339996</td>\n      <td>134.869995</td>\n    </tr>\n    <tr>\n      <th>3</th>\n      <td>2020-12</td>\n      <td>133.990005</td>\n      <td>137.339996</td>\n      <td>133.509995</td>\n      <td>136.690002</td>\n    </tr>\n    <tr>\n      <th>4</th>\n      <td>2020-12</td>\n      <td>131.320007</td>\n      <td>133.460007</td>\n      <td>131.100006</td>\n      <td>131.970001</td>\n    </tr>\n  </tbody>\n</table>\n</div>"
     },
     "metadata": {},
     "execution_count": 5
    }
   ],
   "source": [
    "selected_stockprice_df['date'] = selected_stockprice_df['date'].str[:-3]\n",
    "selected_stockprice_df.head()\n"
   ]
  },
  {
   "cell_type": "code",
   "execution_count": 6,
   "metadata": {},
   "outputs": [
    {
     "output_type": "execute_result",
     "data": {
      "text/plain": [
       "           date        open        high         low       close\n",
       "0    2020-12-01  134.080002  134.740005  131.720001  132.690002\n",
       "1    2020-12-01  135.580002  135.990005  133.399994  133.720001\n",
       "2    2020-12-01  138.050003  138.789993  134.339996  134.869995\n",
       "3    2020-12-01  133.990005  137.339996  133.509995  136.690002\n",
       "4    2020-12-01  131.320007  133.460007  131.100006  131.970001\n",
       "...         ...         ...         ...         ...         ...\n",
       "5279 2000-01-01    0.861607    0.901786    0.852679    0.888393\n",
       "5280 2000-01-01    0.947545    0.955357    0.848214    0.848214\n",
       "5281 2000-01-01    0.926339    0.987165    0.919643    0.928571\n",
       "5282 2000-01-01    0.966518    0.987723    0.903460    0.915179\n",
       "5283 2000-01-01    0.936384    1.004464    0.907924    0.999442\n",
       "\n",
       "[5284 rows x 5 columns]"
      ],
      "text/html": "<div>\n<style scoped>\n    .dataframe tbody tr th:only-of-type {\n        vertical-align: middle;\n    }\n\n    .dataframe tbody tr th {\n        vertical-align: top;\n    }\n\n    .dataframe thead th {\n        text-align: right;\n    }\n</style>\n<table border=\"1\" class=\"dataframe\">\n  <thead>\n    <tr style=\"text-align: right;\">\n      <th></th>\n      <th>date</th>\n      <th>open</th>\n      <th>high</th>\n      <th>low</th>\n      <th>close</th>\n    </tr>\n  </thead>\n  <tbody>\n    <tr>\n      <th>0</th>\n      <td>2020-12-01</td>\n      <td>134.080002</td>\n      <td>134.740005</td>\n      <td>131.720001</td>\n      <td>132.690002</td>\n    </tr>\n    <tr>\n      <th>1</th>\n      <td>2020-12-01</td>\n      <td>135.580002</td>\n      <td>135.990005</td>\n      <td>133.399994</td>\n      <td>133.720001</td>\n    </tr>\n    <tr>\n      <th>2</th>\n      <td>2020-12-01</td>\n      <td>138.050003</td>\n      <td>138.789993</td>\n      <td>134.339996</td>\n      <td>134.869995</td>\n    </tr>\n    <tr>\n      <th>3</th>\n      <td>2020-12-01</td>\n      <td>133.990005</td>\n      <td>137.339996</td>\n      <td>133.509995</td>\n      <td>136.690002</td>\n    </tr>\n    <tr>\n      <th>4</th>\n      <td>2020-12-01</td>\n      <td>131.320007</td>\n      <td>133.460007</td>\n      <td>131.100006</td>\n      <td>131.970001</td>\n    </tr>\n    <tr>\n      <th>...</th>\n      <td>...</td>\n      <td>...</td>\n      <td>...</td>\n      <td>...</td>\n      <td>...</td>\n    </tr>\n    <tr>\n      <th>5279</th>\n      <td>2000-01-01</td>\n      <td>0.861607</td>\n      <td>0.901786</td>\n      <td>0.852679</td>\n      <td>0.888393</td>\n    </tr>\n    <tr>\n      <th>5280</th>\n      <td>2000-01-01</td>\n      <td>0.947545</td>\n      <td>0.955357</td>\n      <td>0.848214</td>\n      <td>0.848214</td>\n    </tr>\n    <tr>\n      <th>5281</th>\n      <td>2000-01-01</td>\n      <td>0.926339</td>\n      <td>0.987165</td>\n      <td>0.919643</td>\n      <td>0.928571</td>\n    </tr>\n    <tr>\n      <th>5282</th>\n      <td>2000-01-01</td>\n      <td>0.966518</td>\n      <td>0.987723</td>\n      <td>0.903460</td>\n      <td>0.915179</td>\n    </tr>\n    <tr>\n      <th>5283</th>\n      <td>2000-01-01</td>\n      <td>0.936384</td>\n      <td>1.004464</td>\n      <td>0.907924</td>\n      <td>0.999442</td>\n    </tr>\n  </tbody>\n</table>\n<p>5284 rows × 5 columns</p>\n</div>"
     },
     "metadata": {},
     "execution_count": 6
    }
   ],
   "source": [
    "selected_stockprice_df['date'] = pd.to_datetime(selected_stockprice_df['date'])\n",
    "\n",
    "selected_stockprice_df\n"
   ]
  },
  {
   "cell_type": "code",
   "execution_count": 7,
   "metadata": {},
   "outputs": [
    {
     "output_type": "execute_result",
     "data": {
      "text/plain": [
       "                  high\n",
       "date                  \n",
       "2000-01-01    1.084821\n",
       "2000-02-01    1.070871\n",
       "2000-03-01    1.342634\n",
       "2000-04-01    1.245536\n",
       "2000-05-01    1.127232\n",
       "...                ...\n",
       "2020-08-01  131.000000\n",
       "2020-09-01  137.979996\n",
       "2020-10-01  125.389999\n",
       "2020-11-01  121.989998\n",
       "2020-12-01  138.789993\n",
       "\n",
       "[252 rows x 1 columns]"
      ],
      "text/html": "<div>\n<style scoped>\n    .dataframe tbody tr th:only-of-type {\n        vertical-align: middle;\n    }\n\n    .dataframe tbody tr th {\n        vertical-align: top;\n    }\n\n    .dataframe thead th {\n        text-align: right;\n    }\n</style>\n<table border=\"1\" class=\"dataframe\">\n  <thead>\n    <tr style=\"text-align: right;\">\n      <th></th>\n      <th>high</th>\n    </tr>\n    <tr>\n      <th>date</th>\n      <th></th>\n    </tr>\n  </thead>\n  <tbody>\n    <tr>\n      <th>2000-01-01</th>\n      <td>1.084821</td>\n    </tr>\n    <tr>\n      <th>2000-02-01</th>\n      <td>1.070871</td>\n    </tr>\n    <tr>\n      <th>2000-03-01</th>\n      <td>1.342634</td>\n    </tr>\n    <tr>\n      <th>2000-04-01</th>\n      <td>1.245536</td>\n    </tr>\n    <tr>\n      <th>2000-05-01</th>\n      <td>1.127232</td>\n    </tr>\n    <tr>\n      <th>...</th>\n      <td>...</td>\n    </tr>\n    <tr>\n      <th>2020-08-01</th>\n      <td>131.000000</td>\n    </tr>\n    <tr>\n      <th>2020-09-01</th>\n      <td>137.979996</td>\n    </tr>\n    <tr>\n      <th>2020-10-01</th>\n      <td>125.389999</td>\n    </tr>\n    <tr>\n      <th>2020-11-01</th>\n      <td>121.989998</td>\n    </tr>\n    <tr>\n      <th>2020-12-01</th>\n      <td>138.789993</td>\n    </tr>\n  </tbody>\n</table>\n<p>252 rows × 1 columns</p>\n</div>"
     },
     "metadata": {},
     "execution_count": 7
    }
   ],
   "source": [
    "testFrame = selected_stockprice_df.groupby('date')\n",
    "pricehighmnth = testFrame['high'].max()\n",
    "pricehighmnth = pd.DataFrame(pricehighmnth)\n",
    "pricehighmnth"
   ]
  },
  {
   "cell_type": "code",
   "execution_count": 8,
   "metadata": {},
   "outputs": [
    {
     "output_type": "execute_result",
     "data": {
      "text/plain": [
       "date\n",
       "2000-03-31      1.342634\n",
       "2000-06-30      1.245536\n",
       "2000-09-30      1.145089\n",
       "2000-12-31      0.477679\n",
       "2001-03-31      0.424107\n",
       "                 ...    \n",
       "2019-12-31     73.492500\n",
       "2020-03-31     81.962502\n",
       "2020-06-30     93.095001\n",
       "2020-09-30    137.979996\n",
       "2020-12-31    138.789993\n",
       "Freq: Q-DEC, Name: high, Length: 84, dtype: float64"
      ]
     },
     "metadata": {},
     "execution_count": 8
    }
   ],
   "source": [
    "#grouping quarterly\n",
    "quarterlyHigh = pricehighmnth.resample('Q')['high'].max()\n",
    "quarterlyHigh "
   ]
  },
  {
   "cell_type": "code",
   "execution_count": 9,
   "metadata": {},
   "outputs": [
    {
     "output_type": "execute_result",
     "data": {
      "text/plain": [
       "                   low\n",
       "date                  \n",
       "2000-01-01    0.772321\n",
       "2000-02-01    0.866071\n",
       "2000-03-01    1.017857\n",
       "2000-04-01    0.936384\n",
       "2000-05-01    0.729911\n",
       "...                ...\n",
       "2020-08-01  107.892502\n",
       "2020-09-01  103.099998\n",
       "2020-10-01  107.720001\n",
       "2020-11-01  107.320000\n",
       "2020-12-01  120.010002\n",
       "\n",
       "[252 rows x 1 columns]"
      ],
      "text/html": "<div>\n<style scoped>\n    .dataframe tbody tr th:only-of-type {\n        vertical-align: middle;\n    }\n\n    .dataframe tbody tr th {\n        vertical-align: top;\n    }\n\n    .dataframe thead th {\n        text-align: right;\n    }\n</style>\n<table border=\"1\" class=\"dataframe\">\n  <thead>\n    <tr style=\"text-align: right;\">\n      <th></th>\n      <th>low</th>\n    </tr>\n    <tr>\n      <th>date</th>\n      <th></th>\n    </tr>\n  </thead>\n  <tbody>\n    <tr>\n      <th>2000-01-01</th>\n      <td>0.772321</td>\n    </tr>\n    <tr>\n      <th>2000-02-01</th>\n      <td>0.866071</td>\n    </tr>\n    <tr>\n      <th>2000-03-01</th>\n      <td>1.017857</td>\n    </tr>\n    <tr>\n      <th>2000-04-01</th>\n      <td>0.936384</td>\n    </tr>\n    <tr>\n      <th>2000-05-01</th>\n      <td>0.729911</td>\n    </tr>\n    <tr>\n      <th>...</th>\n      <td>...</td>\n    </tr>\n    <tr>\n      <th>2020-08-01</th>\n      <td>107.892502</td>\n    </tr>\n    <tr>\n      <th>2020-09-01</th>\n      <td>103.099998</td>\n    </tr>\n    <tr>\n      <th>2020-10-01</th>\n      <td>107.720001</td>\n    </tr>\n    <tr>\n      <th>2020-11-01</th>\n      <td>107.320000</td>\n    </tr>\n    <tr>\n      <th>2020-12-01</th>\n      <td>120.010002</td>\n    </tr>\n  </tbody>\n</table>\n<p>252 rows × 1 columns</p>\n</div>"
     },
     "metadata": {},
     "execution_count": 9
    }
   ],
   "source": [
    "pricelowmnth = testFrame['low'].min()\n",
    "pricelowmnth = pd.DataFrame(pricelowmnth)\n",
    "pricelowmnth\n"
   ]
  },
  {
   "cell_type": "code",
   "execution_count": 10,
   "metadata": {},
   "outputs": [
    {
     "output_type": "execute_result",
     "data": {
      "text/plain": [
       "date\n",
       "2000-03-31      0.772321\n",
       "2000-06-30      0.717634\n",
       "2000-09-30      0.453125\n",
       "2000-12-31      0.243304\n",
       "2001-03-31      0.257813\n",
       "                 ...    \n",
       "2019-12-31     53.782501\n",
       "2020-03-31     53.152500\n",
       "2020-06-30     59.224998\n",
       "2020-09-30     89.144997\n",
       "2020-12-31    107.320000\n",
       "Freq: Q-DEC, Name: low, Length: 84, dtype: float64"
      ]
     },
     "metadata": {},
     "execution_count": 10
    }
   ],
   "source": [
    "#grouping quarterly\n",
    "quarterlyLow = pricelowmnth.resample('Q')['low'].min()\n",
    "quarterlyLow "
   ]
  },
  {
   "cell_type": "code",
   "execution_count": 11,
   "metadata": {},
   "outputs": [
    {
     "output_type": "execute_result",
     "data": {
      "text/plain": [
       "                  high         low\n",
       "date                              \n",
       "2000-03-31    1.342634    0.772321\n",
       "2000-06-30    1.245536    0.717634\n",
       "2000-09-30    1.145089    0.453125\n",
       "2000-12-31    0.477679    0.243304\n",
       "2001-03-31    0.424107    0.257813\n",
       "...                ...         ...\n",
       "2019-12-31   73.492500   53.782501\n",
       "2020-03-31   81.962502   53.152500\n",
       "2020-06-30   93.095001   59.224998\n",
       "2020-09-30  137.979996   89.144997\n",
       "2020-12-31  138.789993  107.320000\n",
       "\n",
       "[84 rows x 2 columns]"
      ],
      "text/html": "<div>\n<style scoped>\n    .dataframe tbody tr th:only-of-type {\n        vertical-align: middle;\n    }\n\n    .dataframe tbody tr th {\n        vertical-align: top;\n    }\n\n    .dataframe thead th {\n        text-align: right;\n    }\n</style>\n<table border=\"1\" class=\"dataframe\">\n  <thead>\n    <tr style=\"text-align: right;\">\n      <th></th>\n      <th>high</th>\n      <th>low</th>\n    </tr>\n    <tr>\n      <th>date</th>\n      <th></th>\n      <th></th>\n    </tr>\n  </thead>\n  <tbody>\n    <tr>\n      <th>2000-03-31</th>\n      <td>1.342634</td>\n      <td>0.772321</td>\n    </tr>\n    <tr>\n      <th>2000-06-30</th>\n      <td>1.245536</td>\n      <td>0.717634</td>\n    </tr>\n    <tr>\n      <th>2000-09-30</th>\n      <td>1.145089</td>\n      <td>0.453125</td>\n    </tr>\n    <tr>\n      <th>2000-12-31</th>\n      <td>0.477679</td>\n      <td>0.243304</td>\n    </tr>\n    <tr>\n      <th>2001-03-31</th>\n      <td>0.424107</td>\n      <td>0.257813</td>\n    </tr>\n    <tr>\n      <th>...</th>\n      <td>...</td>\n      <td>...</td>\n    </tr>\n    <tr>\n      <th>2019-12-31</th>\n      <td>73.492500</td>\n      <td>53.782501</td>\n    </tr>\n    <tr>\n      <th>2020-03-31</th>\n      <td>81.962502</td>\n      <td>53.152500</td>\n    </tr>\n    <tr>\n      <th>2020-06-30</th>\n      <td>93.095001</td>\n      <td>59.224998</td>\n    </tr>\n    <tr>\n      <th>2020-09-30</th>\n      <td>137.979996</td>\n      <td>89.144997</td>\n    </tr>\n    <tr>\n      <th>2020-12-31</th>\n      <td>138.789993</td>\n      <td>107.320000</td>\n    </tr>\n  </tbody>\n</table>\n<p>84 rows × 2 columns</p>\n</div>"
     },
     "metadata": {},
     "execution_count": 11
    }
   ],
   "source": [
    "quarterlyHigh = pd.DataFrame(quarterlyHigh)\n",
    "quarterlyLow = pd.DataFrame(quarterlyLow)\n",
    "\n",
    "quarterly_combined_df = quarterlyHigh.merge(quarterlyLow, on=['date'])\n",
    "quarterly_combined_df"
   ]
  },
  {
   "cell_type": "code",
   "execution_count": 12,
   "metadata": {},
   "outputs": [],
   "source": [
    "# Creating the Classes\n",
    "def class_creation(quarterly_combined_df, thres=3):\n",
    "    \"\"\"\n",
    "    - buy (1)\n",
    "    - hold (2)\n",
    "    - sell (0)\n",
    "    \"\"\"\n",
    "    # Buy\n",
    "    if quarterly_combined_df['high'] >= thres and quarterly_combined_df['low'] >= thres:\n",
    "        return 1\n",
    "    # Sell\n",
    "    elif quarterly_combined_df['high'] <= -thres and quarterly_combined_df['low'] <= -thres:\n",
    "        return 0\n",
    "    # Hold\n",
    "    else:\n",
    "        return 2"
   ]
  },
  {
   "cell_type": "code",
   "execution_count": 13,
   "metadata": {},
   "outputs": [
    {
     "output_type": "execute_result",
     "data": {
      "text/plain": [
       "                  high         low decision\n",
       "date                                       \n",
       "2000-03-31    1.342634    0.772321         \n",
       "2000-06-30    1.245536    0.717634         \n",
       "2000-09-30    1.145089    0.453125         \n",
       "2000-12-31    0.477679    0.243304         \n",
       "2001-03-31    0.424107    0.257813         \n",
       "...                ...         ...      ...\n",
       "2019-12-31   73.492500   53.782501         \n",
       "2020-03-31   81.962502   53.152500         \n",
       "2020-06-30   93.095001   59.224998         \n",
       "2020-09-30  137.979996   89.144997         \n",
       "2020-12-31  138.789993  107.320000         \n",
       "\n",
       "[84 rows x 3 columns]"
      ],
      "text/html": "<div>\n<style scoped>\n    .dataframe tbody tr th:only-of-type {\n        vertical-align: middle;\n    }\n\n    .dataframe tbody tr th {\n        vertical-align: top;\n    }\n\n    .dataframe thead th {\n        text-align: right;\n    }\n</style>\n<table border=\"1\" class=\"dataframe\">\n  <thead>\n    <tr style=\"text-align: right;\">\n      <th></th>\n      <th>high</th>\n      <th>low</th>\n      <th>decision</th>\n    </tr>\n    <tr>\n      <th>date</th>\n      <th></th>\n      <th></th>\n      <th></th>\n    </tr>\n  </thead>\n  <tbody>\n    <tr>\n      <th>2000-03-31</th>\n      <td>1.342634</td>\n      <td>0.772321</td>\n      <td></td>\n    </tr>\n    <tr>\n      <th>2000-06-30</th>\n      <td>1.245536</td>\n      <td>0.717634</td>\n      <td></td>\n    </tr>\n    <tr>\n      <th>2000-09-30</th>\n      <td>1.145089</td>\n      <td>0.453125</td>\n      <td></td>\n    </tr>\n    <tr>\n      <th>2000-12-31</th>\n      <td>0.477679</td>\n      <td>0.243304</td>\n      <td></td>\n    </tr>\n    <tr>\n      <th>2001-03-31</th>\n      <td>0.424107</td>\n      <td>0.257813</td>\n      <td></td>\n    </tr>\n    <tr>\n      <th>...</th>\n      <td>...</td>\n      <td>...</td>\n      <td>...</td>\n    </tr>\n    <tr>\n      <th>2019-12-31</th>\n      <td>73.492500</td>\n      <td>53.782501</td>\n      <td></td>\n    </tr>\n    <tr>\n      <th>2020-03-31</th>\n      <td>81.962502</td>\n      <td>53.152500</td>\n      <td></td>\n    </tr>\n    <tr>\n      <th>2020-06-30</th>\n      <td>93.095001</td>\n      <td>59.224998</td>\n      <td></td>\n    </tr>\n    <tr>\n      <th>2020-09-30</th>\n      <td>137.979996</td>\n      <td>89.144997</td>\n      <td></td>\n    </tr>\n    <tr>\n      <th>2020-12-31</th>\n      <td>138.789993</td>\n      <td>107.320000</td>\n      <td></td>\n    </tr>\n  </tbody>\n</table>\n<p>84 rows × 3 columns</p>\n</div>"
     },
     "metadata": {},
     "execution_count": 13
    }
   ],
   "source": [
    "# Add decision column\n",
    "quarterly_combined_df['decision'] = \"\"\n",
    "quarterly_combined_df"
   ]
  },
  {
   "cell_type": "code",
   "execution_count": 14,
   "metadata": {},
   "outputs": [
    {
     "output_type": "execute_result",
     "data": {
      "text/plain": [
       "                  high         low  decision\n",
       "date                                        \n",
       "2000-03-31    1.342634    0.772321       NaN\n",
       "2000-06-30    1.245536    0.717634       2.0\n",
       "2000-09-30    1.145089    0.453125       2.0\n",
       "2000-12-31    0.477679    0.243304       2.0\n",
       "2001-03-31    0.424107    0.257813       2.0\n",
       "...                ...         ...       ...\n",
       "2019-12-31   73.492500   53.782501       1.0\n",
       "2020-03-31   81.962502   53.152500       1.0\n",
       "2020-06-30   93.095001   59.224998       1.0\n",
       "2020-09-30  137.979996   89.144997       1.0\n",
       "2020-12-31  138.789993  107.320000       1.0\n",
       "\n",
       "[84 rows x 3 columns]"
      ],
      "text/html": "<div>\n<style scoped>\n    .dataframe tbody tr th:only-of-type {\n        vertical-align: middle;\n    }\n\n    .dataframe tbody tr th {\n        vertical-align: top;\n    }\n\n    .dataframe thead th {\n        text-align: right;\n    }\n</style>\n<table border=\"1\" class=\"dataframe\">\n  <thead>\n    <tr style=\"text-align: right;\">\n      <th></th>\n      <th>high</th>\n      <th>low</th>\n      <th>decision</th>\n    </tr>\n    <tr>\n      <th>date</th>\n      <th></th>\n      <th></th>\n      <th></th>\n    </tr>\n  </thead>\n  <tbody>\n    <tr>\n      <th>2000-03-31</th>\n      <td>1.342634</td>\n      <td>0.772321</td>\n      <td>NaN</td>\n    </tr>\n    <tr>\n      <th>2000-06-30</th>\n      <td>1.245536</td>\n      <td>0.717634</td>\n      <td>2.0</td>\n    </tr>\n    <tr>\n      <th>2000-09-30</th>\n      <td>1.145089</td>\n      <td>0.453125</td>\n      <td>2.0</td>\n    </tr>\n    <tr>\n      <th>2000-12-31</th>\n      <td>0.477679</td>\n      <td>0.243304</td>\n      <td>2.0</td>\n    </tr>\n    <tr>\n      <th>2001-03-31</th>\n      <td>0.424107</td>\n      <td>0.257813</td>\n      <td>2.0</td>\n    </tr>\n    <tr>\n      <th>...</th>\n      <td>...</td>\n      <td>...</td>\n      <td>...</td>\n    </tr>\n    <tr>\n      <th>2019-12-31</th>\n      <td>73.492500</td>\n      <td>53.782501</td>\n      <td>1.0</td>\n    </tr>\n    <tr>\n      <th>2020-03-31</th>\n      <td>81.962502</td>\n      <td>53.152500</td>\n      <td>1.0</td>\n    </tr>\n    <tr>\n      <th>2020-06-30</th>\n      <td>93.095001</td>\n      <td>59.224998</td>\n      <td>1.0</td>\n    </tr>\n    <tr>\n      <th>2020-09-30</th>\n      <td>137.979996</td>\n      <td>89.144997</td>\n      <td>1.0</td>\n    </tr>\n    <tr>\n      <th>2020-12-31</th>\n      <td>138.789993</td>\n      <td>107.320000</td>\n      <td>1.0</td>\n    </tr>\n  </tbody>\n</table>\n<p>84 rows × 3 columns</p>\n</div>"
     },
     "metadata": {},
     "execution_count": 14
    }
   ],
   "source": [
    "# Add the classes to the decision column, shifted to know if prices will increase/decrease in teh next quarter (ask group about shift)\n",
    "\n",
    "quarterly_combined_df['decision'] = quarterly_combined_df.apply(class_creation, axis=1).shift(1)\n",
    "quarterly_combined_df"
   ]
  },
  {
   "cell_type": "code",
   "execution_count": 15,
   "metadata": {},
   "outputs": [
    {
     "output_type": "execute_result",
     "data": {
      "text/plain": [
       "                  high        low  decision\n",
       "date                                       \n",
       "2000-06-30    1.245536   0.717634       2.0\n",
       "2000-09-30    1.145089   0.453125       2.0\n",
       "2000-12-31    0.477679   0.243304       2.0\n",
       "2001-03-31    0.424107   0.257813       2.0\n",
       "2001-06-30    0.484286   0.334821       2.0\n",
       "...                ...        ...       ...\n",
       "2019-09-30   56.605000  48.145000       1.0\n",
       "2019-12-31   73.492500  53.782501       1.0\n",
       "2020-03-31   81.962502  53.152500       1.0\n",
       "2020-06-30   93.095001  59.224998       1.0\n",
       "2020-09-30  137.979996  89.144997       1.0\n",
       "\n",
       "[82 rows x 3 columns]"
      ],
      "text/html": "<div>\n<style scoped>\n    .dataframe tbody tr th:only-of-type {\n        vertical-align: middle;\n    }\n\n    .dataframe tbody tr th {\n        vertical-align: top;\n    }\n\n    .dataframe thead th {\n        text-align: right;\n    }\n</style>\n<table border=\"1\" class=\"dataframe\">\n  <thead>\n    <tr style=\"text-align: right;\">\n      <th></th>\n      <th>high</th>\n      <th>low</th>\n      <th>decision</th>\n    </tr>\n    <tr>\n      <th>date</th>\n      <th></th>\n      <th></th>\n      <th></th>\n    </tr>\n  </thead>\n  <tbody>\n    <tr>\n      <th>2000-06-30</th>\n      <td>1.245536</td>\n      <td>0.717634</td>\n      <td>2.0</td>\n    </tr>\n    <tr>\n      <th>2000-09-30</th>\n      <td>1.145089</td>\n      <td>0.453125</td>\n      <td>2.0</td>\n    </tr>\n    <tr>\n      <th>2000-12-31</th>\n      <td>0.477679</td>\n      <td>0.243304</td>\n      <td>2.0</td>\n    </tr>\n    <tr>\n      <th>2001-03-31</th>\n      <td>0.424107</td>\n      <td>0.257813</td>\n      <td>2.0</td>\n    </tr>\n    <tr>\n      <th>2001-06-30</th>\n      <td>0.484286</td>\n      <td>0.334821</td>\n      <td>2.0</td>\n    </tr>\n    <tr>\n      <th>...</th>\n      <td>...</td>\n      <td>...</td>\n      <td>...</td>\n    </tr>\n    <tr>\n      <th>2019-09-30</th>\n      <td>56.605000</td>\n      <td>48.145000</td>\n      <td>1.0</td>\n    </tr>\n    <tr>\n      <th>2019-12-31</th>\n      <td>73.492500</td>\n      <td>53.782501</td>\n      <td>1.0</td>\n    </tr>\n    <tr>\n      <th>2020-03-31</th>\n      <td>81.962502</td>\n      <td>53.152500</td>\n      <td>1.0</td>\n    </tr>\n    <tr>\n      <th>2020-06-30</th>\n      <td>93.095001</td>\n      <td>59.224998</td>\n      <td>1.0</td>\n    </tr>\n    <tr>\n      <th>2020-09-30</th>\n      <td>137.979996</td>\n      <td>89.144997</td>\n      <td>1.0</td>\n    </tr>\n  </tbody>\n</table>\n<p>82 rows × 3 columns</p>\n</div>"
     },
     "metadata": {},
     "execution_count": 15
    }
   ],
   "source": [
    "# eliminates last row (no data to compare improvement to) and first row (does not have data to to show if price will increase in future)\n",
    "quarterly_combined_df = quarterly_combined_df[1:-1]\n",
    "quarterly_combined_df"
   ]
  },
  {
   "cell_type": "code",
   "execution_count": 16,
   "metadata": {},
   "outputs": [
    {
     "output_type": "execute_result",
     "data": {
      "text/plain": [
       "         date        high        low  decision\n",
       "0  2000-06-30    1.245536   0.717634       2.0\n",
       "1  2000-09-30    1.145089   0.453125       2.0\n",
       "2  2000-12-31    0.477679   0.243304       2.0\n",
       "3  2001-03-31    0.424107   0.257813       2.0\n",
       "4  2001-06-30    0.484286   0.334821       2.0\n",
       "..        ...         ...        ...       ...\n",
       "77 2019-09-30   56.605000  48.145000       1.0\n",
       "78 2019-12-31   73.492500  53.782501       1.0\n",
       "79 2020-03-31   81.962502  53.152500       1.0\n",
       "80 2020-06-30   93.095001  59.224998       1.0\n",
       "81 2020-09-30  137.979996  89.144997       1.0\n",
       "\n",
       "[82 rows x 4 columns]"
      ],
      "text/html": "<div>\n<style scoped>\n    .dataframe tbody tr th:only-of-type {\n        vertical-align: middle;\n    }\n\n    .dataframe tbody tr th {\n        vertical-align: top;\n    }\n\n    .dataframe thead th {\n        text-align: right;\n    }\n</style>\n<table border=\"1\" class=\"dataframe\">\n  <thead>\n    <tr style=\"text-align: right;\">\n      <th></th>\n      <th>date</th>\n      <th>high</th>\n      <th>low</th>\n      <th>decision</th>\n    </tr>\n  </thead>\n  <tbody>\n    <tr>\n      <th>0</th>\n      <td>2000-06-30</td>\n      <td>1.245536</td>\n      <td>0.717634</td>\n      <td>2.0</td>\n    </tr>\n    <tr>\n      <th>1</th>\n      <td>2000-09-30</td>\n      <td>1.145089</td>\n      <td>0.453125</td>\n      <td>2.0</td>\n    </tr>\n    <tr>\n      <th>2</th>\n      <td>2000-12-31</td>\n      <td>0.477679</td>\n      <td>0.243304</td>\n      <td>2.0</td>\n    </tr>\n    <tr>\n      <th>3</th>\n      <td>2001-03-31</td>\n      <td>0.424107</td>\n      <td>0.257813</td>\n      <td>2.0</td>\n    </tr>\n    <tr>\n      <th>4</th>\n      <td>2001-06-30</td>\n      <td>0.484286</td>\n      <td>0.334821</td>\n      <td>2.0</td>\n    </tr>\n    <tr>\n      <th>...</th>\n      <td>...</td>\n      <td>...</td>\n      <td>...</td>\n      <td>...</td>\n    </tr>\n    <tr>\n      <th>77</th>\n      <td>2019-09-30</td>\n      <td>56.605000</td>\n      <td>48.145000</td>\n      <td>1.0</td>\n    </tr>\n    <tr>\n      <th>78</th>\n      <td>2019-12-31</td>\n      <td>73.492500</td>\n      <td>53.782501</td>\n      <td>1.0</td>\n    </tr>\n    <tr>\n      <th>79</th>\n      <td>2020-03-31</td>\n      <td>81.962502</td>\n      <td>53.152500</td>\n      <td>1.0</td>\n    </tr>\n    <tr>\n      <th>80</th>\n      <td>2020-06-30</td>\n      <td>93.095001</td>\n      <td>59.224998</td>\n      <td>1.0</td>\n    </tr>\n    <tr>\n      <th>81</th>\n      <td>2020-09-30</td>\n      <td>137.979996</td>\n      <td>89.144997</td>\n      <td>1.0</td>\n    </tr>\n  </tbody>\n</table>\n<p>82 rows × 4 columns</p>\n</div>"
     },
     "metadata": {},
     "execution_count": 16
    }
   ],
   "source": [
    "quarterly_combined_df.reset_index(drop=False, inplace=True)\n",
    "quarterly_combined_df"
   ]
  },
  {
   "cell_type": "code",
   "execution_count": 17,
   "metadata": {},
   "outputs": [
    {
     "output_type": "execute_result",
     "data": {
      "text/plain": [
       "       date        high        low  decision\n",
       "0   2000-06    1.245536   0.717634       2.0\n",
       "1   2000-09    1.145089   0.453125       2.0\n",
       "2   2000-12    0.477679   0.243304       2.0\n",
       "3   2001-03    0.424107   0.257813       2.0\n",
       "4   2001-06    0.484286   0.334821       2.0\n",
       "..      ...         ...        ...       ...\n",
       "77  2019-09   56.605000  48.145000       1.0\n",
       "78  2019-12   73.492500  53.782501       1.0\n",
       "79  2020-03   81.962502  53.152500       1.0\n",
       "80  2020-06   93.095001  59.224998       1.0\n",
       "81  2020-09  137.979996  89.144997       1.0\n",
       "\n",
       "[82 rows x 4 columns]"
      ],
      "text/html": "<div>\n<style scoped>\n    .dataframe tbody tr th:only-of-type {\n        vertical-align: middle;\n    }\n\n    .dataframe tbody tr th {\n        vertical-align: top;\n    }\n\n    .dataframe thead th {\n        text-align: right;\n    }\n</style>\n<table border=\"1\" class=\"dataframe\">\n  <thead>\n    <tr style=\"text-align: right;\">\n      <th></th>\n      <th>date</th>\n      <th>high</th>\n      <th>low</th>\n      <th>decision</th>\n    </tr>\n  </thead>\n  <tbody>\n    <tr>\n      <th>0</th>\n      <td>2000-06</td>\n      <td>1.245536</td>\n      <td>0.717634</td>\n      <td>2.0</td>\n    </tr>\n    <tr>\n      <th>1</th>\n      <td>2000-09</td>\n      <td>1.145089</td>\n      <td>0.453125</td>\n      <td>2.0</td>\n    </tr>\n    <tr>\n      <th>2</th>\n      <td>2000-12</td>\n      <td>0.477679</td>\n      <td>0.243304</td>\n      <td>2.0</td>\n    </tr>\n    <tr>\n      <th>3</th>\n      <td>2001-03</td>\n      <td>0.424107</td>\n      <td>0.257813</td>\n      <td>2.0</td>\n    </tr>\n    <tr>\n      <th>4</th>\n      <td>2001-06</td>\n      <td>0.484286</td>\n      <td>0.334821</td>\n      <td>2.0</td>\n    </tr>\n    <tr>\n      <th>...</th>\n      <td>...</td>\n      <td>...</td>\n      <td>...</td>\n      <td>...</td>\n    </tr>\n    <tr>\n      <th>77</th>\n      <td>2019-09</td>\n      <td>56.605000</td>\n      <td>48.145000</td>\n      <td>1.0</td>\n    </tr>\n    <tr>\n      <th>78</th>\n      <td>2019-12</td>\n      <td>73.492500</td>\n      <td>53.782501</td>\n      <td>1.0</td>\n    </tr>\n    <tr>\n      <th>79</th>\n      <td>2020-03</td>\n      <td>81.962502</td>\n      <td>53.152500</td>\n      <td>1.0</td>\n    </tr>\n    <tr>\n      <th>80</th>\n      <td>2020-06</td>\n      <td>93.095001</td>\n      <td>59.224998</td>\n      <td>1.0</td>\n    </tr>\n    <tr>\n      <th>81</th>\n      <td>2020-09</td>\n      <td>137.979996</td>\n      <td>89.144997</td>\n      <td>1.0</td>\n    </tr>\n  </tbody>\n</table>\n<p>82 rows × 4 columns</p>\n</div>"
     },
     "metadata": {},
     "execution_count": 17
    }
   ],
   "source": [
    "quarterly_combined_df['date'] = quarterly_combined_df['date'].dt.strftime('%Y-%m')\n",
    "quarterly_combined_df"
   ]
  },
  {
   "cell_type": "code",
   "execution_count": 18,
   "metadata": {},
   "outputs": [
    {
     "output_type": "execute_result",
     "data": {
      "text/plain": [
       "       date        high        low  decision\n",
       "0   2000-06    1.245536   0.717634       2.0\n",
       "1   2000-09    1.145089   0.453125       2.0\n",
       "2   2000-12    0.477679   0.243304       2.0\n",
       "3   2001-03    0.424107   0.257813       2.0\n",
       "4   2001-06    0.484286   0.334821       2.0\n",
       "..      ...         ...        ...       ...\n",
       "77  2019-09   56.605000  48.145000       1.0\n",
       "78  2019-12   73.492500  53.782501       1.0\n",
       "79  2020-03   81.962502  53.152500       1.0\n",
       "80  2020-06   93.095001  59.224998       1.0\n",
       "81  2020-09  137.979996  89.144997       1.0\n",
       "\n",
       "[82 rows x 4 columns]"
      ],
      "text/html": "<div>\n<style scoped>\n    .dataframe tbody tr th:only-of-type {\n        vertical-align: middle;\n    }\n\n    .dataframe tbody tr th {\n        vertical-align: top;\n    }\n\n    .dataframe thead th {\n        text-align: right;\n    }\n</style>\n<table border=\"1\" class=\"dataframe\">\n  <thead>\n    <tr style=\"text-align: right;\">\n      <th></th>\n      <th>date</th>\n      <th>high</th>\n      <th>low</th>\n      <th>decision</th>\n    </tr>\n  </thead>\n  <tbody>\n    <tr>\n      <th>0</th>\n      <td>2000-06</td>\n      <td>1.245536</td>\n      <td>0.717634</td>\n      <td>2.0</td>\n    </tr>\n    <tr>\n      <th>1</th>\n      <td>2000-09</td>\n      <td>1.145089</td>\n      <td>0.453125</td>\n      <td>2.0</td>\n    </tr>\n    <tr>\n      <th>2</th>\n      <td>2000-12</td>\n      <td>0.477679</td>\n      <td>0.243304</td>\n      <td>2.0</td>\n    </tr>\n    <tr>\n      <th>3</th>\n      <td>2001-03</td>\n      <td>0.424107</td>\n      <td>0.257813</td>\n      <td>2.0</td>\n    </tr>\n    <tr>\n      <th>4</th>\n      <td>2001-06</td>\n      <td>0.484286</td>\n      <td>0.334821</td>\n      <td>2.0</td>\n    </tr>\n    <tr>\n      <th>...</th>\n      <td>...</td>\n      <td>...</td>\n      <td>...</td>\n      <td>...</td>\n    </tr>\n    <tr>\n      <th>77</th>\n      <td>2019-09</td>\n      <td>56.605000</td>\n      <td>48.145000</td>\n      <td>1.0</td>\n    </tr>\n    <tr>\n      <th>78</th>\n      <td>2019-12</td>\n      <td>73.492500</td>\n      <td>53.782501</td>\n      <td>1.0</td>\n    </tr>\n    <tr>\n      <th>79</th>\n      <td>2020-03</td>\n      <td>81.962502</td>\n      <td>53.152500</td>\n      <td>1.0</td>\n    </tr>\n    <tr>\n      <th>80</th>\n      <td>2020-06</td>\n      <td>93.095001</td>\n      <td>59.224998</td>\n      <td>1.0</td>\n    </tr>\n    <tr>\n      <th>81</th>\n      <td>2020-09</td>\n      <td>137.979996</td>\n      <td>89.144997</td>\n      <td>1.0</td>\n    </tr>\n  </tbody>\n</table>\n<p>82 rows × 4 columns</p>\n</div>"
     },
     "metadata": {},
     "execution_count": 18
    }
   ],
   "source": [
    "quarterly_combined_df.set_index(quarterly_combined_df['date'])\n",
    "quarterly_combined_df"
   ]
  },
  {
   "cell_type": "code",
   "execution_count": 19,
   "metadata": {},
   "outputs": [
    {
     "output_type": "execute_result",
     "data": {
      "text/plain": [
       "                   Unnamed: 0    2020-09     2020-06     2020-03     2019-12  \\\n",
       "0                currentRatio   1.363604    1.469450    1.495962    1.597782   \n",
       "1                  quickRatio   1.015855    1.312449    1.297979    1.439962   \n",
       "2                   cashRatio   0.360710    0.350228    0.418070    0.389297   \n",
       "3      daysOfSalesOutstanding  90.942533  196.152718  192.017303  158.793823   \n",
       "4  daysOfInventoryOutstanding   9.135195    9.674909    8.348218    6.514434   \n",
       "\n",
       "      2019-09     2019-06     2019-03     2018-12     2018-09  ...  \\\n",
       "0    1.540126    1.504649    1.315382    1.300555    1.132926  ...   \n",
       "1    1.384447    1.349862    1.134347    1.139680    0.994540  ...   \n",
       "2    0.462022    0.563297    0.405110    0.413463    0.223525  ...   \n",
       "3  261.062773  179.579810  165.327415  160.100403  284.311208  ...   \n",
       "4    9.301986    8.991424   12.144554    8.587004    9.172506  ...   \n",
       "\n",
       "      1991-12     1991-09     1991-06     1991-03     1990-12     1990-09  \\\n",
       "0    2.416994    2.353328    2.197358    2.824297    2.373134    2.339825   \n",
       "1    1.542880    1.479047    1.287490    1.839357    1.712687    1.712756   \n",
       "2    0.416994    0.496302    0.601399    0.877510    0.689366    0.365141   \n",
       "3  190.630703  219.678168  183.096795  180.672716  185.766706  205.413589   \n",
       "4   55.166826   70.985915   79.673913   68.241758   45.165644   49.003067   \n",
       "\n",
       "      1990-06     1990-03     1989-12     1989-09  \n",
       "0    2.636979    2.932817    2.604703    2.563128  \n",
       "1    1.972943    2.138243    1.855543    1.789944  \n",
       "2    0.749718    0.834625    0.460246    0.489385  \n",
       "3  188.783883  178.703566  183.111186  209.136561  \n",
       "4   41.847134   46.032787   53.673184   63.146233  \n",
       "\n",
       "[5 rows x 126 columns]"
      ],
      "text/html": "<div>\n<style scoped>\n    .dataframe tbody tr th:only-of-type {\n        vertical-align: middle;\n    }\n\n    .dataframe tbody tr th {\n        vertical-align: top;\n    }\n\n    .dataframe thead th {\n        text-align: right;\n    }\n</style>\n<table border=\"1\" class=\"dataframe\">\n  <thead>\n    <tr style=\"text-align: right;\">\n      <th></th>\n      <th>Unnamed: 0</th>\n      <th>2020-09</th>\n      <th>2020-06</th>\n      <th>2020-03</th>\n      <th>2019-12</th>\n      <th>2019-09</th>\n      <th>2019-06</th>\n      <th>2019-03</th>\n      <th>2018-12</th>\n      <th>2018-09</th>\n      <th>...</th>\n      <th>1991-12</th>\n      <th>1991-09</th>\n      <th>1991-06</th>\n      <th>1991-03</th>\n      <th>1990-12</th>\n      <th>1990-09</th>\n      <th>1990-06</th>\n      <th>1990-03</th>\n      <th>1989-12</th>\n      <th>1989-09</th>\n    </tr>\n  </thead>\n  <tbody>\n    <tr>\n      <th>0</th>\n      <td>currentRatio</td>\n      <td>1.363604</td>\n      <td>1.469450</td>\n      <td>1.495962</td>\n      <td>1.597782</td>\n      <td>1.540126</td>\n      <td>1.504649</td>\n      <td>1.315382</td>\n      <td>1.300555</td>\n      <td>1.132926</td>\n      <td>...</td>\n      <td>2.416994</td>\n      <td>2.353328</td>\n      <td>2.197358</td>\n      <td>2.824297</td>\n      <td>2.373134</td>\n      <td>2.339825</td>\n      <td>2.636979</td>\n      <td>2.932817</td>\n      <td>2.604703</td>\n      <td>2.563128</td>\n    </tr>\n    <tr>\n      <th>1</th>\n      <td>quickRatio</td>\n      <td>1.015855</td>\n      <td>1.312449</td>\n      <td>1.297979</td>\n      <td>1.439962</td>\n      <td>1.384447</td>\n      <td>1.349862</td>\n      <td>1.134347</td>\n      <td>1.139680</td>\n      <td>0.994540</td>\n      <td>...</td>\n      <td>1.542880</td>\n      <td>1.479047</td>\n      <td>1.287490</td>\n      <td>1.839357</td>\n      <td>1.712687</td>\n      <td>1.712756</td>\n      <td>1.972943</td>\n      <td>2.138243</td>\n      <td>1.855543</td>\n      <td>1.789944</td>\n    </tr>\n    <tr>\n      <th>2</th>\n      <td>cashRatio</td>\n      <td>0.360710</td>\n      <td>0.350228</td>\n      <td>0.418070</td>\n      <td>0.389297</td>\n      <td>0.462022</td>\n      <td>0.563297</td>\n      <td>0.405110</td>\n      <td>0.413463</td>\n      <td>0.223525</td>\n      <td>...</td>\n      <td>0.416994</td>\n      <td>0.496302</td>\n      <td>0.601399</td>\n      <td>0.877510</td>\n      <td>0.689366</td>\n      <td>0.365141</td>\n      <td>0.749718</td>\n      <td>0.834625</td>\n      <td>0.460246</td>\n      <td>0.489385</td>\n    </tr>\n    <tr>\n      <th>3</th>\n      <td>daysOfSalesOutstanding</td>\n      <td>90.942533</td>\n      <td>196.152718</td>\n      <td>192.017303</td>\n      <td>158.793823</td>\n      <td>261.062773</td>\n      <td>179.579810</td>\n      <td>165.327415</td>\n      <td>160.100403</td>\n      <td>284.311208</td>\n      <td>...</td>\n      <td>190.630703</td>\n      <td>219.678168</td>\n      <td>183.096795</td>\n      <td>180.672716</td>\n      <td>185.766706</td>\n      <td>205.413589</td>\n      <td>188.783883</td>\n      <td>178.703566</td>\n      <td>183.111186</td>\n      <td>209.136561</td>\n    </tr>\n    <tr>\n      <th>4</th>\n      <td>daysOfInventoryOutstanding</td>\n      <td>9.135195</td>\n      <td>9.674909</td>\n      <td>8.348218</td>\n      <td>6.514434</td>\n      <td>9.301986</td>\n      <td>8.991424</td>\n      <td>12.144554</td>\n      <td>8.587004</td>\n      <td>9.172506</td>\n      <td>...</td>\n      <td>55.166826</td>\n      <td>70.985915</td>\n      <td>79.673913</td>\n      <td>68.241758</td>\n      <td>45.165644</td>\n      <td>49.003067</td>\n      <td>41.847134</td>\n      <td>46.032787</td>\n      <td>53.673184</td>\n      <td>63.146233</td>\n    </tr>\n  </tbody>\n</table>\n<p>5 rows × 126 columns</p>\n</div>"
     },
     "metadata": {},
     "execution_count": 19
    }
   ],
   "source": [
    "quarterly_ratios = pd.read_csv('Test Data\\AAPL_financial_ratios_quarterly.csv')\n",
    "quarterly_ratiosdf = pd.DataFrame(quarterly_ratios)\n",
    "quarterly_ratiosdf.head()"
   ]
  },
  {
   "source": [
    "quarterly_ratiosdf = quarterly_ratios.transpose()\n",
    "quarterly_ratiosdf.head()\n"
   ],
   "cell_type": "code",
   "metadata": {},
   "execution_count": 20,
   "outputs": [
    {
     "output_type": "execute_result",
     "data": {
      "text/plain": [
       "                      0           1          2                       3   \\\n",
       "Unnamed: 0  currentRatio  quickRatio  cashRatio  daysOfSalesOutstanding   \n",
       "2020-09           1.3636     1.01586    0.36071                 90.9425   \n",
       "2020-06          1.46945     1.31245   0.350228                 196.153   \n",
       "2020-03          1.49596     1.29798    0.41807                 192.017   \n",
       "2019-12          1.59778     1.43996   0.389297                 158.794   \n",
       "\n",
       "                                    4               5   \\\n",
       "Unnamed: 0  daysOfInventoryOutstanding  operatingCycle   \n",
       "2020-09                        9.13519         31.5594   \n",
       "2020-06                        9.67491         58.0413   \n",
       "2020-03                        8.34822          55.695   \n",
       "2019-12                        6.51443         45.6691   \n",
       "\n",
       "                                   6                    7                  8   \\\n",
       "Unnamed: 0  daysOfPayablesOutstanding  cashConversionCycle  grossProfitMargin   \n",
       "2020-09                       95.1446             -63.5852           0.381604   \n",
       "2020-06                       85.9141             -27.8727           0.379995   \n",
       "2020-03                        81.181             -25.4861           0.383619   \n",
       "2019-12                       71.7287             -26.0597           0.383548   \n",
       "\n",
       "                               9   ...                 44                  45  \\\n",
       "Unnamed: 0  operatingProfitMargin  ...  priceToSalesRatio  priceEarningsRatio   \n",
       "2020-09                  0.228369  ...            29.6026             151.127   \n",
       "2020-06                  0.219335  ...            25.5517             135.524   \n",
       "2020-03                  0.220414  ...            18.5237             96.0238   \n",
       "2019-12                  0.278472  ...            13.9348             57.5409   \n",
       "\n",
       "                                   46                              47  \\\n",
       "Unnamed: 0  priceToFreeCashFlowsRatio  priceToOperatingCashFlowsRatio   \n",
       "2020-09                       101.917                         93.0808   \n",
       "2020-06                       103.703                         93.7284   \n",
       "2020-03                       94.2722                         81.1488   \n",
       "2019-12                       45.0378                         41.9281   \n",
       "\n",
       "                            48                          49               50  \\\n",
       "Unnamed: 0  priceCashFlowRatio  priceEarningsToGrowthRatio  priceSalesRatio   \n",
       "2020-09                93.0808                     229.082          29.6026   \n",
       "2020-06                93.7284                     207.752          25.5517   \n",
       "2020-03                81.1488                     148.822          18.5237   \n",
       "2019-12                41.9281                     90.3031          13.9348   \n",
       "\n",
       "                       51                       52              53  \n",
       "Unnamed: 0  dividendYield  enterpriseValueMultiple  priceFairValue  \n",
       "2020-09         0.0018332                  108.826         29.3122  \n",
       "2020-06        0.00239729                  96.3171         21.0987  \n",
       "2020-03         0.0031245                   68.338         13.7733  \n",
       "2019-12        0.00276597                  45.3404         14.2909  \n",
       "\n",
       "[5 rows x 54 columns]"
      ],
      "text/html": "<div>\n<style scoped>\n    .dataframe tbody tr th:only-of-type {\n        vertical-align: middle;\n    }\n\n    .dataframe tbody tr th {\n        vertical-align: top;\n    }\n\n    .dataframe thead th {\n        text-align: right;\n    }\n</style>\n<table border=\"1\" class=\"dataframe\">\n  <thead>\n    <tr style=\"text-align: right;\">\n      <th></th>\n      <th>0</th>\n      <th>1</th>\n      <th>2</th>\n      <th>3</th>\n      <th>4</th>\n      <th>5</th>\n      <th>6</th>\n      <th>7</th>\n      <th>8</th>\n      <th>9</th>\n      <th>...</th>\n      <th>44</th>\n      <th>45</th>\n      <th>46</th>\n      <th>47</th>\n      <th>48</th>\n      <th>49</th>\n      <th>50</th>\n      <th>51</th>\n      <th>52</th>\n      <th>53</th>\n    </tr>\n  </thead>\n  <tbody>\n    <tr>\n      <th>Unnamed: 0</th>\n      <td>currentRatio</td>\n      <td>quickRatio</td>\n      <td>cashRatio</td>\n      <td>daysOfSalesOutstanding</td>\n      <td>daysOfInventoryOutstanding</td>\n      <td>operatingCycle</td>\n      <td>daysOfPayablesOutstanding</td>\n      <td>cashConversionCycle</td>\n      <td>grossProfitMargin</td>\n      <td>operatingProfitMargin</td>\n      <td>...</td>\n      <td>priceToSalesRatio</td>\n      <td>priceEarningsRatio</td>\n      <td>priceToFreeCashFlowsRatio</td>\n      <td>priceToOperatingCashFlowsRatio</td>\n      <td>priceCashFlowRatio</td>\n      <td>priceEarningsToGrowthRatio</td>\n      <td>priceSalesRatio</td>\n      <td>dividendYield</td>\n      <td>enterpriseValueMultiple</td>\n      <td>priceFairValue</td>\n    </tr>\n    <tr>\n      <th>2020-09</th>\n      <td>1.3636</td>\n      <td>1.01586</td>\n      <td>0.36071</td>\n      <td>90.9425</td>\n      <td>9.13519</td>\n      <td>31.5594</td>\n      <td>95.1446</td>\n      <td>-63.5852</td>\n      <td>0.381604</td>\n      <td>0.228369</td>\n      <td>...</td>\n      <td>29.6026</td>\n      <td>151.127</td>\n      <td>101.917</td>\n      <td>93.0808</td>\n      <td>93.0808</td>\n      <td>229.082</td>\n      <td>29.6026</td>\n      <td>0.0018332</td>\n      <td>108.826</td>\n      <td>29.3122</td>\n    </tr>\n    <tr>\n      <th>2020-06</th>\n      <td>1.46945</td>\n      <td>1.31245</td>\n      <td>0.350228</td>\n      <td>196.153</td>\n      <td>9.67491</td>\n      <td>58.0413</td>\n      <td>85.9141</td>\n      <td>-27.8727</td>\n      <td>0.379995</td>\n      <td>0.219335</td>\n      <td>...</td>\n      <td>25.5517</td>\n      <td>135.524</td>\n      <td>103.703</td>\n      <td>93.7284</td>\n      <td>93.7284</td>\n      <td>207.752</td>\n      <td>25.5517</td>\n      <td>0.00239729</td>\n      <td>96.3171</td>\n      <td>21.0987</td>\n    </tr>\n    <tr>\n      <th>2020-03</th>\n      <td>1.49596</td>\n      <td>1.29798</td>\n      <td>0.41807</td>\n      <td>192.017</td>\n      <td>8.34822</td>\n      <td>55.695</td>\n      <td>81.181</td>\n      <td>-25.4861</td>\n      <td>0.383619</td>\n      <td>0.220414</td>\n      <td>...</td>\n      <td>18.5237</td>\n      <td>96.0238</td>\n      <td>94.2722</td>\n      <td>81.1488</td>\n      <td>81.1488</td>\n      <td>148.822</td>\n      <td>18.5237</td>\n      <td>0.0031245</td>\n      <td>68.338</td>\n      <td>13.7733</td>\n    </tr>\n    <tr>\n      <th>2019-12</th>\n      <td>1.59778</td>\n      <td>1.43996</td>\n      <td>0.389297</td>\n      <td>158.794</td>\n      <td>6.51443</td>\n      <td>45.6691</td>\n      <td>71.7287</td>\n      <td>-26.0597</td>\n      <td>0.383548</td>\n      <td>0.278472</td>\n      <td>...</td>\n      <td>13.9348</td>\n      <td>57.5409</td>\n      <td>45.0378</td>\n      <td>41.9281</td>\n      <td>41.9281</td>\n      <td>90.3031</td>\n      <td>13.9348</td>\n      <td>0.00276597</td>\n      <td>45.3404</td>\n      <td>14.2909</td>\n    </tr>\n  </tbody>\n</table>\n<p>5 rows × 54 columns</p>\n</div>"
     },
     "metadata": {},
     "execution_count": 20
    }
   ]
  },
  {
   "cell_type": "code",
   "execution_count": 21,
   "metadata": {},
   "outputs": [
    {
     "output_type": "execute_result",
     "data": {
      "text/plain": [
       "                   0           1          2                       3   \\\n",
       "date     currentRatio  quickRatio  cashRatio  daysOfSalesOutstanding   \n",
       "2020-09        1.3636     1.01586    0.36071                 90.9425   \n",
       "2020-06       1.46945     1.31245   0.350228                 196.153   \n",
       "2020-03       1.49596     1.29798    0.41807                 192.017   \n",
       "2019-12       1.59778     1.43996   0.389297                 158.794   \n",
       "\n",
       "                                 4               5   \\\n",
       "date     daysOfInventoryOutstanding  operatingCycle   \n",
       "2020-09                     9.13519         31.5594   \n",
       "2020-06                     9.67491         58.0413   \n",
       "2020-03                     8.34822          55.695   \n",
       "2019-12                     6.51443         45.6691   \n",
       "\n",
       "                                6                    7                  8   \\\n",
       "date     daysOfPayablesOutstanding  cashConversionCycle  grossProfitMargin   \n",
       "2020-09                    95.1446             -63.5852           0.381604   \n",
       "2020-06                    85.9141             -27.8727           0.379995   \n",
       "2020-03                     81.181             -25.4861           0.383619   \n",
       "2019-12                    71.7287             -26.0597           0.383548   \n",
       "\n",
       "                            9   ...                 44                  45  \\\n",
       "date     operatingProfitMargin  ...  priceToSalesRatio  priceEarningsRatio   \n",
       "2020-09               0.228369  ...            29.6026             151.127   \n",
       "2020-06               0.219335  ...            25.5517             135.524   \n",
       "2020-03               0.220414  ...            18.5237             96.0238   \n",
       "2019-12               0.278472  ...            13.9348             57.5409   \n",
       "\n",
       "                                46                              47  \\\n",
       "date     priceToFreeCashFlowsRatio  priceToOperatingCashFlowsRatio   \n",
       "2020-09                    101.917                         93.0808   \n",
       "2020-06                    103.703                         93.7284   \n",
       "2020-03                    94.2722                         81.1488   \n",
       "2019-12                    45.0378                         41.9281   \n",
       "\n",
       "                         48                          49               50  \\\n",
       "date     priceCashFlowRatio  priceEarningsToGrowthRatio  priceSalesRatio   \n",
       "2020-09             93.0808                     229.082          29.6026   \n",
       "2020-06             93.7284                     207.752          25.5517   \n",
       "2020-03             81.1488                     148.822          18.5237   \n",
       "2019-12             41.9281                     90.3031          13.9348   \n",
       "\n",
       "                    51                       52              53  \n",
       "date     dividendYield  enterpriseValueMultiple  priceFairValue  \n",
       "2020-09      0.0018332                  108.826         29.3122  \n",
       "2020-06     0.00239729                  96.3171         21.0987  \n",
       "2020-03      0.0031245                   68.338         13.7733  \n",
       "2019-12     0.00276597                  45.3404         14.2909  \n",
       "\n",
       "[5 rows x 54 columns]"
      ],
      "text/html": "<div>\n<style scoped>\n    .dataframe tbody tr th:only-of-type {\n        vertical-align: middle;\n    }\n\n    .dataframe tbody tr th {\n        vertical-align: top;\n    }\n\n    .dataframe thead th {\n        text-align: right;\n    }\n</style>\n<table border=\"1\" class=\"dataframe\">\n  <thead>\n    <tr style=\"text-align: right;\">\n      <th></th>\n      <th>0</th>\n      <th>1</th>\n      <th>2</th>\n      <th>3</th>\n      <th>4</th>\n      <th>5</th>\n      <th>6</th>\n      <th>7</th>\n      <th>8</th>\n      <th>9</th>\n      <th>...</th>\n      <th>44</th>\n      <th>45</th>\n      <th>46</th>\n      <th>47</th>\n      <th>48</th>\n      <th>49</th>\n      <th>50</th>\n      <th>51</th>\n      <th>52</th>\n      <th>53</th>\n    </tr>\n  </thead>\n  <tbody>\n    <tr>\n      <th>date</th>\n      <td>currentRatio</td>\n      <td>quickRatio</td>\n      <td>cashRatio</td>\n      <td>daysOfSalesOutstanding</td>\n      <td>daysOfInventoryOutstanding</td>\n      <td>operatingCycle</td>\n      <td>daysOfPayablesOutstanding</td>\n      <td>cashConversionCycle</td>\n      <td>grossProfitMargin</td>\n      <td>operatingProfitMargin</td>\n      <td>...</td>\n      <td>priceToSalesRatio</td>\n      <td>priceEarningsRatio</td>\n      <td>priceToFreeCashFlowsRatio</td>\n      <td>priceToOperatingCashFlowsRatio</td>\n      <td>priceCashFlowRatio</td>\n      <td>priceEarningsToGrowthRatio</td>\n      <td>priceSalesRatio</td>\n      <td>dividendYield</td>\n      <td>enterpriseValueMultiple</td>\n      <td>priceFairValue</td>\n    </tr>\n    <tr>\n      <th>2020-09</th>\n      <td>1.3636</td>\n      <td>1.01586</td>\n      <td>0.36071</td>\n      <td>90.9425</td>\n      <td>9.13519</td>\n      <td>31.5594</td>\n      <td>95.1446</td>\n      <td>-63.5852</td>\n      <td>0.381604</td>\n      <td>0.228369</td>\n      <td>...</td>\n      <td>29.6026</td>\n      <td>151.127</td>\n      <td>101.917</td>\n      <td>93.0808</td>\n      <td>93.0808</td>\n      <td>229.082</td>\n      <td>29.6026</td>\n      <td>0.0018332</td>\n      <td>108.826</td>\n      <td>29.3122</td>\n    </tr>\n    <tr>\n      <th>2020-06</th>\n      <td>1.46945</td>\n      <td>1.31245</td>\n      <td>0.350228</td>\n      <td>196.153</td>\n      <td>9.67491</td>\n      <td>58.0413</td>\n      <td>85.9141</td>\n      <td>-27.8727</td>\n      <td>0.379995</td>\n      <td>0.219335</td>\n      <td>...</td>\n      <td>25.5517</td>\n      <td>135.524</td>\n      <td>103.703</td>\n      <td>93.7284</td>\n      <td>93.7284</td>\n      <td>207.752</td>\n      <td>25.5517</td>\n      <td>0.00239729</td>\n      <td>96.3171</td>\n      <td>21.0987</td>\n    </tr>\n    <tr>\n      <th>2020-03</th>\n      <td>1.49596</td>\n      <td>1.29798</td>\n      <td>0.41807</td>\n      <td>192.017</td>\n      <td>8.34822</td>\n      <td>55.695</td>\n      <td>81.181</td>\n      <td>-25.4861</td>\n      <td>0.383619</td>\n      <td>0.220414</td>\n      <td>...</td>\n      <td>18.5237</td>\n      <td>96.0238</td>\n      <td>94.2722</td>\n      <td>81.1488</td>\n      <td>81.1488</td>\n      <td>148.822</td>\n      <td>18.5237</td>\n      <td>0.0031245</td>\n      <td>68.338</td>\n      <td>13.7733</td>\n    </tr>\n    <tr>\n      <th>2019-12</th>\n      <td>1.59778</td>\n      <td>1.43996</td>\n      <td>0.389297</td>\n      <td>158.794</td>\n      <td>6.51443</td>\n      <td>45.6691</td>\n      <td>71.7287</td>\n      <td>-26.0597</td>\n      <td>0.383548</td>\n      <td>0.278472</td>\n      <td>...</td>\n      <td>13.9348</td>\n      <td>57.5409</td>\n      <td>45.0378</td>\n      <td>41.9281</td>\n      <td>41.9281</td>\n      <td>90.3031</td>\n      <td>13.9348</td>\n      <td>0.00276597</td>\n      <td>45.3404</td>\n      <td>14.2909</td>\n    </tr>\n  </tbody>\n</table>\n<p>5 rows × 54 columns</p>\n</div>"
     },
     "metadata": {},
     "execution_count": 21
    }
   ],
   "source": [
    "quarterly_ratiosdf = quarterly_ratiosdf.rename(index={'Unnamed: 0':'date'})\n",
    "quarterly_ratiosdf.head()"
   ]
  },
  {
   "cell_type": "code",
   "execution_count": 22,
   "metadata": {},
   "outputs": [
    {
     "output_type": "execute_result",
     "data": {
      "text/plain": [
       "date     currentRatio  quickRatio  cashRatio  daysOfSalesOutstanding  \\\n",
       "date     currentRatio  quickRatio  cashRatio  daysOfSalesOutstanding   \n",
       "2020-09        1.3636     1.01586    0.36071                 90.9425   \n",
       "2020-06       1.46945     1.31245   0.350228                 196.153   \n",
       "2020-03       1.49596     1.29798    0.41807                 192.017   \n",
       "2019-12       1.59778     1.43996   0.389297                 158.794   \n",
       "\n",
       "date     daysOfInventoryOutstanding  operatingCycle  \\\n",
       "date     daysOfInventoryOutstanding  operatingCycle   \n",
       "2020-09                     9.13519         31.5594   \n",
       "2020-06                     9.67491         58.0413   \n",
       "2020-03                     8.34822          55.695   \n",
       "2019-12                     6.51443         45.6691   \n",
       "\n",
       "date     daysOfPayablesOutstanding  cashConversionCycle  grossProfitMargin  \\\n",
       "date     daysOfPayablesOutstanding  cashConversionCycle  grossProfitMargin   \n",
       "2020-09                    95.1446             -63.5852           0.381604   \n",
       "2020-06                    85.9141             -27.8727           0.379995   \n",
       "2020-03                     81.181             -25.4861           0.383619   \n",
       "2019-12                    71.7287             -26.0597           0.383548   \n",
       "\n",
       "date     operatingProfitMargin  ...  priceToSalesRatio  priceEarningsRatio  \\\n",
       "date     operatingProfitMargin  ...  priceToSalesRatio  priceEarningsRatio   \n",
       "2020-09               0.228369  ...            29.6026             151.127   \n",
       "2020-06               0.219335  ...            25.5517             135.524   \n",
       "2020-03               0.220414  ...            18.5237             96.0238   \n",
       "2019-12               0.278472  ...            13.9348             57.5409   \n",
       "\n",
       "date     priceToFreeCashFlowsRatio  priceToOperatingCashFlowsRatio  \\\n",
       "date     priceToFreeCashFlowsRatio  priceToOperatingCashFlowsRatio   \n",
       "2020-09                    101.917                         93.0808   \n",
       "2020-06                    103.703                         93.7284   \n",
       "2020-03                    94.2722                         81.1488   \n",
       "2019-12                    45.0378                         41.9281   \n",
       "\n",
       "date     priceCashFlowRatio  priceEarningsToGrowthRatio  priceSalesRatio  \\\n",
       "date     priceCashFlowRatio  priceEarningsToGrowthRatio  priceSalesRatio   \n",
       "2020-09             93.0808                     229.082          29.6026   \n",
       "2020-06             93.7284                     207.752          25.5517   \n",
       "2020-03             81.1488                     148.822          18.5237   \n",
       "2019-12             41.9281                     90.3031          13.9348   \n",
       "\n",
       "date     dividendYield  enterpriseValueMultiple  priceFairValue  \n",
       "date     dividendYield  enterpriseValueMultiple  priceFairValue  \n",
       "2020-09      0.0018332                  108.826         29.3122  \n",
       "2020-06     0.00239729                  96.3171         21.0987  \n",
       "2020-03      0.0031245                   68.338         13.7733  \n",
       "2019-12     0.00276597                  45.3404         14.2909  \n",
       "\n",
       "[5 rows x 54 columns]"
      ],
      "text/html": "<div>\n<style scoped>\n    .dataframe tbody tr th:only-of-type {\n        vertical-align: middle;\n    }\n\n    .dataframe tbody tr th {\n        vertical-align: top;\n    }\n\n    .dataframe thead th {\n        text-align: right;\n    }\n</style>\n<table border=\"1\" class=\"dataframe\">\n  <thead>\n    <tr style=\"text-align: right;\">\n      <th>date</th>\n      <th>currentRatio</th>\n      <th>quickRatio</th>\n      <th>cashRatio</th>\n      <th>daysOfSalesOutstanding</th>\n      <th>daysOfInventoryOutstanding</th>\n      <th>operatingCycle</th>\n      <th>daysOfPayablesOutstanding</th>\n      <th>cashConversionCycle</th>\n      <th>grossProfitMargin</th>\n      <th>operatingProfitMargin</th>\n      <th>...</th>\n      <th>priceToSalesRatio</th>\n      <th>priceEarningsRatio</th>\n      <th>priceToFreeCashFlowsRatio</th>\n      <th>priceToOperatingCashFlowsRatio</th>\n      <th>priceCashFlowRatio</th>\n      <th>priceEarningsToGrowthRatio</th>\n      <th>priceSalesRatio</th>\n      <th>dividendYield</th>\n      <th>enterpriseValueMultiple</th>\n      <th>priceFairValue</th>\n    </tr>\n  </thead>\n  <tbody>\n    <tr>\n      <th>date</th>\n      <td>currentRatio</td>\n      <td>quickRatio</td>\n      <td>cashRatio</td>\n      <td>daysOfSalesOutstanding</td>\n      <td>daysOfInventoryOutstanding</td>\n      <td>operatingCycle</td>\n      <td>daysOfPayablesOutstanding</td>\n      <td>cashConversionCycle</td>\n      <td>grossProfitMargin</td>\n      <td>operatingProfitMargin</td>\n      <td>...</td>\n      <td>priceToSalesRatio</td>\n      <td>priceEarningsRatio</td>\n      <td>priceToFreeCashFlowsRatio</td>\n      <td>priceToOperatingCashFlowsRatio</td>\n      <td>priceCashFlowRatio</td>\n      <td>priceEarningsToGrowthRatio</td>\n      <td>priceSalesRatio</td>\n      <td>dividendYield</td>\n      <td>enterpriseValueMultiple</td>\n      <td>priceFairValue</td>\n    </tr>\n    <tr>\n      <th>2020-09</th>\n      <td>1.3636</td>\n      <td>1.01586</td>\n      <td>0.36071</td>\n      <td>90.9425</td>\n      <td>9.13519</td>\n      <td>31.5594</td>\n      <td>95.1446</td>\n      <td>-63.5852</td>\n      <td>0.381604</td>\n      <td>0.228369</td>\n      <td>...</td>\n      <td>29.6026</td>\n      <td>151.127</td>\n      <td>101.917</td>\n      <td>93.0808</td>\n      <td>93.0808</td>\n      <td>229.082</td>\n      <td>29.6026</td>\n      <td>0.0018332</td>\n      <td>108.826</td>\n      <td>29.3122</td>\n    </tr>\n    <tr>\n      <th>2020-06</th>\n      <td>1.46945</td>\n      <td>1.31245</td>\n      <td>0.350228</td>\n      <td>196.153</td>\n      <td>9.67491</td>\n      <td>58.0413</td>\n      <td>85.9141</td>\n      <td>-27.8727</td>\n      <td>0.379995</td>\n      <td>0.219335</td>\n      <td>...</td>\n      <td>25.5517</td>\n      <td>135.524</td>\n      <td>103.703</td>\n      <td>93.7284</td>\n      <td>93.7284</td>\n      <td>207.752</td>\n      <td>25.5517</td>\n      <td>0.00239729</td>\n      <td>96.3171</td>\n      <td>21.0987</td>\n    </tr>\n    <tr>\n      <th>2020-03</th>\n      <td>1.49596</td>\n      <td>1.29798</td>\n      <td>0.41807</td>\n      <td>192.017</td>\n      <td>8.34822</td>\n      <td>55.695</td>\n      <td>81.181</td>\n      <td>-25.4861</td>\n      <td>0.383619</td>\n      <td>0.220414</td>\n      <td>...</td>\n      <td>18.5237</td>\n      <td>96.0238</td>\n      <td>94.2722</td>\n      <td>81.1488</td>\n      <td>81.1488</td>\n      <td>148.822</td>\n      <td>18.5237</td>\n      <td>0.0031245</td>\n      <td>68.338</td>\n      <td>13.7733</td>\n    </tr>\n    <tr>\n      <th>2019-12</th>\n      <td>1.59778</td>\n      <td>1.43996</td>\n      <td>0.389297</td>\n      <td>158.794</td>\n      <td>6.51443</td>\n      <td>45.6691</td>\n      <td>71.7287</td>\n      <td>-26.0597</td>\n      <td>0.383548</td>\n      <td>0.278472</td>\n      <td>...</td>\n      <td>13.9348</td>\n      <td>57.5409</td>\n      <td>45.0378</td>\n      <td>41.9281</td>\n      <td>41.9281</td>\n      <td>90.3031</td>\n      <td>13.9348</td>\n      <td>0.00276597</td>\n      <td>45.3404</td>\n      <td>14.2909</td>\n    </tr>\n  </tbody>\n</table>\n<p>5 rows × 54 columns</p>\n</div>"
     },
     "metadata": {},
     "execution_count": 22
    }
   ],
   "source": [
    "quarterly_ratiosdf.columns=quarterly_ratiosdf.iloc[0]\n",
    "quarterly_ratiosdf.head()"
   ]
  },
  {
   "cell_type": "code",
   "execution_count": 23,
   "metadata": {},
   "outputs": [
    {
     "output_type": "execute_result",
     "data": {
      "text/plain": [
       "date    currentRatio quickRatio cashRatio daysOfSalesOutstanding  \\\n",
       "2020-09       1.3636    1.01586   0.36071                90.9425   \n",
       "2020-06      1.46945    1.31245  0.350228                196.153   \n",
       "2020-03      1.49596    1.29798   0.41807                192.017   \n",
       "2019-12      1.59778    1.43996  0.389297                158.794   \n",
       "2019-09      1.54013    1.38445  0.462022                261.063   \n",
       "...              ...        ...       ...                    ...   \n",
       "1990-09      2.33982    1.71276  0.365141                205.414   \n",
       "1990-06      2.63698    1.97294  0.749718                188.784   \n",
       "1990-03      2.93282    2.13824  0.834625                178.704   \n",
       "1989-12       2.6047    1.85554  0.460246                183.111   \n",
       "1989-09      2.56313    1.78994  0.489385                209.137   \n",
       "\n",
       "date    daysOfInventoryOutstanding operatingCycle daysOfPayablesOutstanding  \\\n",
       "2020-09                    9.13519        31.5594                   95.1446   \n",
       "2020-06                    9.67491        58.0413                   85.9141   \n",
       "2020-03                    8.34822         55.695                    81.181   \n",
       "2019-12                    6.51443        45.6691                   71.7287   \n",
       "2019-09                    9.30199        73.6736                   104.746   \n",
       "...                            ...            ...                       ...   \n",
       "1990-09                    49.0031         99.653                   47.0706   \n",
       "1990-06                    41.8471        88.3966                   39.9841   \n",
       "1990-03                    46.0328        90.0967                   34.8197   \n",
       "1989-12                    53.6732        98.8239                   32.5559   \n",
       "1989-09                    63.1462        114.714                   44.4018   \n",
       "\n",
       "date    cashConversionCycle grossProfitMargin operatingProfitMargin  ...  \\\n",
       "2020-09            -63.5852          0.381604              0.228369  ...   \n",
       "2020-06            -27.8727          0.379995              0.219335  ...   \n",
       "2020-03            -25.4861          0.383619              0.220414  ...   \n",
       "2019-12            -26.0597          0.383548              0.278472  ...   \n",
       "2019-09            -31.0723          0.379653              0.243988  ...   \n",
       "...                     ...               ...                   ...  ...   \n",
       "1990-09             52.5824          0.518464              0.104136  ...   \n",
       "1990-06             48.4125          0.539927              0.133333  ...   \n",
       "1990-03              55.277          0.547548              0.147845  ...   \n",
       "1989-12              66.268          0.520429              0.127261  ...   \n",
       "1989-09             70.3124          0.510116              0.124277  ...   \n",
       "\n",
       "date    priceToSalesRatio priceEarningsRatio priceToFreeCashFlowsRatio  \\\n",
       "2020-09           29.6026            151.127                   101.917   \n",
       "2020-06           25.5517            135.524                   103.703   \n",
       "2020-03           18.5237            96.0238                   94.2722   \n",
       "2019-12           13.9348            57.5409                   45.0378   \n",
       "2019-09           15.3448            71.8018                    57.356   \n",
       "...                   ...                ...                       ...   \n",
       "1990-09           2.61989            36.1972                   118.244   \n",
       "1990-06           4.08043            46.4149                   22.1023   \n",
       "1990-03           3.79667            38.7145                    19.655   \n",
       "1989-12           3.05752             36.519                   23.0549   \n",
       "1989-09           4.17646             35.902                   321.124   \n",
       "\n",
       "date    priceToOperatingCashFlowsRatio priceCashFlowRatio  \\\n",
       "2020-09                        93.0808            93.0808   \n",
       "2020-06                        93.7284            93.7284   \n",
       "2020-03                        81.1488            81.1488   \n",
       "2019-12                        41.9281            41.9281   \n",
       "2019-09                        49.3561            49.3561   \n",
       "...                                ...                ...   \n",
       "1990-09                        36.1972            36.1972   \n",
       "1990-06                         18.443             18.443   \n",
       "1990-03                        16.8657            16.8657   \n",
       "1989-12                        17.4899            17.4899   \n",
       "1989-09                        74.1055            74.1055   \n",
       "\n",
       "date    priceEarningsToGrowthRatio priceSalesRatio dividendYield  \\\n",
       "2020-09                    229.082         29.6026     0.0018332   \n",
       "2020-06                    207.752         25.5517    0.00239729   \n",
       "2020-03                    148.822         18.5237     0.0031245   \n",
       "2019-12                    90.3031         13.9348    0.00276597   \n",
       "2019-09                    114.618         15.3448    0.00354032   \n",
       "...                            ...             ...           ...   \n",
       "1990-09                    44.0684         2.61989    0.00366473   \n",
       "1990-06                    57.4978         4.08043    0.00251356   \n",
       "1990-03                    48.9221         3.79667    0.00254388   \n",
       "1989-12                    47.0693         3.05752     0.0030669   \n",
       "1989-09                    46.4145         4.17646    0.00224905   \n",
       "\n",
       "date    enterpriseValueMultiple priceFairValue  \n",
       "2020-09                 108.826        29.3122  \n",
       "2020-06                 96.3171        21.0987  \n",
       "2020-03                  68.338        13.7733  \n",
       "2019-12                 45.3404        14.2909  \n",
       "2019-09                 51.2837        10.8598  \n",
       "...                         ...            ...  \n",
       "1990-09                 14.8438         2.4515  \n",
       "1990-06                 19.9586        3.69594  \n",
       "1990-03                 17.2474        3.29485  \n",
       "1989-12                 16.6872        2.99532  \n",
       "1989-09                 17.7606        3.88979  \n",
       "\n",
       "[125 rows x 54 columns]"
      ],
      "text/html": "<div>\n<style scoped>\n    .dataframe tbody tr th:only-of-type {\n        vertical-align: middle;\n    }\n\n    .dataframe tbody tr th {\n        vertical-align: top;\n    }\n\n    .dataframe thead th {\n        text-align: right;\n    }\n</style>\n<table border=\"1\" class=\"dataframe\">\n  <thead>\n    <tr style=\"text-align: right;\">\n      <th>date</th>\n      <th>currentRatio</th>\n      <th>quickRatio</th>\n      <th>cashRatio</th>\n      <th>daysOfSalesOutstanding</th>\n      <th>daysOfInventoryOutstanding</th>\n      <th>operatingCycle</th>\n      <th>daysOfPayablesOutstanding</th>\n      <th>cashConversionCycle</th>\n      <th>grossProfitMargin</th>\n      <th>operatingProfitMargin</th>\n      <th>...</th>\n      <th>priceToSalesRatio</th>\n      <th>priceEarningsRatio</th>\n      <th>priceToFreeCashFlowsRatio</th>\n      <th>priceToOperatingCashFlowsRatio</th>\n      <th>priceCashFlowRatio</th>\n      <th>priceEarningsToGrowthRatio</th>\n      <th>priceSalesRatio</th>\n      <th>dividendYield</th>\n      <th>enterpriseValueMultiple</th>\n      <th>priceFairValue</th>\n    </tr>\n  </thead>\n  <tbody>\n    <tr>\n      <th>2020-09</th>\n      <td>1.3636</td>\n      <td>1.01586</td>\n      <td>0.36071</td>\n      <td>90.9425</td>\n      <td>9.13519</td>\n      <td>31.5594</td>\n      <td>95.1446</td>\n      <td>-63.5852</td>\n      <td>0.381604</td>\n      <td>0.228369</td>\n      <td>...</td>\n      <td>29.6026</td>\n      <td>151.127</td>\n      <td>101.917</td>\n      <td>93.0808</td>\n      <td>93.0808</td>\n      <td>229.082</td>\n      <td>29.6026</td>\n      <td>0.0018332</td>\n      <td>108.826</td>\n      <td>29.3122</td>\n    </tr>\n    <tr>\n      <th>2020-06</th>\n      <td>1.46945</td>\n      <td>1.31245</td>\n      <td>0.350228</td>\n      <td>196.153</td>\n      <td>9.67491</td>\n      <td>58.0413</td>\n      <td>85.9141</td>\n      <td>-27.8727</td>\n      <td>0.379995</td>\n      <td>0.219335</td>\n      <td>...</td>\n      <td>25.5517</td>\n      <td>135.524</td>\n      <td>103.703</td>\n      <td>93.7284</td>\n      <td>93.7284</td>\n      <td>207.752</td>\n      <td>25.5517</td>\n      <td>0.00239729</td>\n      <td>96.3171</td>\n      <td>21.0987</td>\n    </tr>\n    <tr>\n      <th>2020-03</th>\n      <td>1.49596</td>\n      <td>1.29798</td>\n      <td>0.41807</td>\n      <td>192.017</td>\n      <td>8.34822</td>\n      <td>55.695</td>\n      <td>81.181</td>\n      <td>-25.4861</td>\n      <td>0.383619</td>\n      <td>0.220414</td>\n      <td>...</td>\n      <td>18.5237</td>\n      <td>96.0238</td>\n      <td>94.2722</td>\n      <td>81.1488</td>\n      <td>81.1488</td>\n      <td>148.822</td>\n      <td>18.5237</td>\n      <td>0.0031245</td>\n      <td>68.338</td>\n      <td>13.7733</td>\n    </tr>\n    <tr>\n      <th>2019-12</th>\n      <td>1.59778</td>\n      <td>1.43996</td>\n      <td>0.389297</td>\n      <td>158.794</td>\n      <td>6.51443</td>\n      <td>45.6691</td>\n      <td>71.7287</td>\n      <td>-26.0597</td>\n      <td>0.383548</td>\n      <td>0.278472</td>\n      <td>...</td>\n      <td>13.9348</td>\n      <td>57.5409</td>\n      <td>45.0378</td>\n      <td>41.9281</td>\n      <td>41.9281</td>\n      <td>90.3031</td>\n      <td>13.9348</td>\n      <td>0.00276597</td>\n      <td>45.3404</td>\n      <td>14.2909</td>\n    </tr>\n    <tr>\n      <th>2019-09</th>\n      <td>1.54013</td>\n      <td>1.38445</td>\n      <td>0.462022</td>\n      <td>261.063</td>\n      <td>9.30199</td>\n      <td>73.6736</td>\n      <td>104.746</td>\n      <td>-31.0723</td>\n      <td>0.379653</td>\n      <td>0.243988</td>\n      <td>...</td>\n      <td>15.3448</td>\n      <td>71.8018</td>\n      <td>57.356</td>\n      <td>49.3561</td>\n      <td>49.3561</td>\n      <td>114.618</td>\n      <td>15.3448</td>\n      <td>0.00354032</td>\n      <td>51.2837</td>\n      <td>10.8598</td>\n    </tr>\n    <tr>\n      <th>...</th>\n      <td>...</td>\n      <td>...</td>\n      <td>...</td>\n      <td>...</td>\n      <td>...</td>\n      <td>...</td>\n      <td>...</td>\n      <td>...</td>\n      <td>...</td>\n      <td>...</td>\n      <td>...</td>\n      <td>...</td>\n      <td>...</td>\n      <td>...</td>\n      <td>...</td>\n      <td>...</td>\n      <td>...</td>\n      <td>...</td>\n      <td>...</td>\n      <td>...</td>\n      <td>...</td>\n    </tr>\n    <tr>\n      <th>1990-09</th>\n      <td>2.33982</td>\n      <td>1.71276</td>\n      <td>0.365141</td>\n      <td>205.414</td>\n      <td>49.0031</td>\n      <td>99.653</td>\n      <td>47.0706</td>\n      <td>52.5824</td>\n      <td>0.518464</td>\n      <td>0.104136</td>\n      <td>...</td>\n      <td>2.61989</td>\n      <td>36.1972</td>\n      <td>118.244</td>\n      <td>36.1972</td>\n      <td>36.1972</td>\n      <td>44.0684</td>\n      <td>2.61989</td>\n      <td>0.00366473</td>\n      <td>14.8438</td>\n      <td>2.4515</td>\n    </tr>\n    <tr>\n      <th>1990-06</th>\n      <td>2.63698</td>\n      <td>1.97294</td>\n      <td>0.749718</td>\n      <td>188.784</td>\n      <td>41.8471</td>\n      <td>88.3966</td>\n      <td>39.9841</td>\n      <td>48.4125</td>\n      <td>0.539927</td>\n      <td>0.133333</td>\n      <td>...</td>\n      <td>4.08043</td>\n      <td>46.4149</td>\n      <td>22.1023</td>\n      <td>18.443</td>\n      <td>18.443</td>\n      <td>57.4978</td>\n      <td>4.08043</td>\n      <td>0.00251356</td>\n      <td>19.9586</td>\n      <td>3.69594</td>\n    </tr>\n    <tr>\n      <th>1990-03</th>\n      <td>2.93282</td>\n      <td>2.13824</td>\n      <td>0.834625</td>\n      <td>178.704</td>\n      <td>46.0328</td>\n      <td>90.0967</td>\n      <td>34.8197</td>\n      <td>55.277</td>\n      <td>0.547548</td>\n      <td>0.147845</td>\n      <td>...</td>\n      <td>3.79667</td>\n      <td>38.7145</td>\n      <td>19.655</td>\n      <td>16.8657</td>\n      <td>16.8657</td>\n      <td>48.9221</td>\n      <td>3.79667</td>\n      <td>0.00254388</td>\n      <td>17.2474</td>\n      <td>3.29485</td>\n    </tr>\n    <tr>\n      <th>1989-12</th>\n      <td>2.6047</td>\n      <td>1.85554</td>\n      <td>0.460246</td>\n      <td>183.111</td>\n      <td>53.6732</td>\n      <td>98.8239</td>\n      <td>32.5559</td>\n      <td>66.268</td>\n      <td>0.520429</td>\n      <td>0.127261</td>\n      <td>...</td>\n      <td>3.05752</td>\n      <td>36.519</td>\n      <td>23.0549</td>\n      <td>17.4899</td>\n      <td>17.4899</td>\n      <td>47.0693</td>\n      <td>3.05752</td>\n      <td>0.0030669</td>\n      <td>16.6872</td>\n      <td>2.99532</td>\n    </tr>\n    <tr>\n      <th>1989-09</th>\n      <td>2.56313</td>\n      <td>1.78994</td>\n      <td>0.489385</td>\n      <td>209.137</td>\n      <td>63.1462</td>\n      <td>114.714</td>\n      <td>44.4018</td>\n      <td>70.3124</td>\n      <td>0.510116</td>\n      <td>0.124277</td>\n      <td>...</td>\n      <td>4.17646</td>\n      <td>35.902</td>\n      <td>321.124</td>\n      <td>74.1055</td>\n      <td>74.1055</td>\n      <td>46.4145</td>\n      <td>4.17646</td>\n      <td>0.00224905</td>\n      <td>17.7606</td>\n      <td>3.88979</td>\n    </tr>\n  </tbody>\n</table>\n<p>125 rows × 54 columns</p>\n</div>"
     },
     "metadata": {},
     "execution_count": 23
    }
   ],
   "source": [
    "quarterly_ratiosdf = quarterly_ratiosdf.drop(['date'])\n",
    "quarterly_ratiosdf"
   ]
  },
  {
   "cell_type": "code",
   "execution_count": 24,
   "metadata": {},
   "outputs": [
    {
     "output_type": "execute_result",
     "data": {
      "text/plain": [
       "date    currentRatio quickRatio cashRatio daysOfSalesOutstanding  \\\n",
       "2020-09       1.3636    1.01586   0.36071                90.9425   \n",
       "2020-06      1.46945    1.31245  0.350228                196.153   \n",
       "2020-03      1.49596    1.29798   0.41807                192.017   \n",
       "2019-12      1.59778    1.43996  0.389297                158.794   \n",
       "2019-09      1.54013    1.38445  0.462022                261.063   \n",
       "...              ...        ...       ...                    ...   \n",
       "2001-06      3.25155    2.98389   1.31413                 147.98   \n",
       "2001-03      2.97772    2.66351   1.19109                162.477   \n",
       "2000-12      3.00916     2.7526   1.06109                159.846   \n",
       "2000-09      2.80755    2.57631  0.616141                186.013   \n",
       "2000-06      2.75334      2.559  0.717565                  193.4   \n",
       "\n",
       "date    daysOfInventoryOutstanding operatingCycle daysOfPayablesOutstanding  \\\n",
       "2020-09                    9.13519        31.5594                   95.1446   \n",
       "2020-06                    9.67491        58.0413                   85.9141   \n",
       "2020-03                    8.34822         55.695                    81.181   \n",
       "2019-12                    6.51443        45.6691                   71.7287   \n",
       "2019-09                    9.30199        73.6736                   104.746   \n",
       "...                            ...            ...                       ...   \n",
       "2001-06                    1.64265        38.1308                   73.2277   \n",
       "2001-03                   0.860421        40.9233                   82.6864   \n",
       "2000-12                    1.83852        41.2526                   55.7685   \n",
       "2000-09                    2.11689        47.9832                   74.2195   \n",
       "2000-06                   0.351014        48.0387                   73.0109   \n",
       "\n",
       "date    cashConversionCycle grossProfitMargin operatingProfitMargin  ...  \\\n",
       "2020-09            -63.5852          0.381604              0.228369  ...   \n",
       "2020-06            -27.8727          0.379995              0.219335  ...   \n",
       "2020-03            -25.4861          0.383619              0.220414  ...   \n",
       "2019-12            -26.0597          0.383548              0.278472  ...   \n",
       "2019-09            -31.0723          0.379653              0.243988  ...   \n",
       "...                     ...               ...                   ...  ...   \n",
       "2001-06            -35.0969          0.294237             0.0210169  ...   \n",
       "2001-03            -41.7631          0.269043            -0.0055905  ...   \n",
       "2000-12            -14.5159         -0.020854              -0.41708  ...   \n",
       "2000-09            -26.2363          0.249733             0.0449198  ...   \n",
       "2000-06            -24.9722          0.297534             0.0920548  ...   \n",
       "\n",
       "date    priceToSalesRatio priceEarningsRatio priceToFreeCashFlowsRatio  \\\n",
       "2020-09           29.6026            151.127                   101.917   \n",
       "2020-06           25.5517            135.524                   103.703   \n",
       "2020-03           18.5237            96.0238                   94.2722   \n",
       "2019-12           13.9348            57.5409                   45.0378   \n",
       "2019-09           15.3448            71.8018                    57.356   \n",
       "...                   ...                ...                       ...   \n",
       "2001-06           5.49749            132.931                  -128.711   \n",
       "2001-03           5.33751            177.628                  -125.213   \n",
       "2000-12           4.98054             -25.72                  -143.297   \n",
       "2000-09           4.47581             49.234                   65.9037   \n",
       "2000-06            9.3282            85.1199                   76.3407   \n",
       "\n",
       "date    priceToOperatingCashFlowsRatio priceCashFlowRatio  \\\n",
       "2020-09                        93.0808            93.0808   \n",
       "2020-06                        93.7284            93.7284   \n",
       "2020-03                        81.1488            81.1488   \n",
       "2019-12                        41.9281            41.9281   \n",
       "2019-09                        49.3561            49.3561   \n",
       "...                                ...                ...   \n",
       "2001-06                       -245.721           -245.721   \n",
       "2001-03                       -173.591           -173.591   \n",
       "2000-12                         -385.8             -385.8   \n",
       "2000-09                        52.9732            52.9732   \n",
       "2000-06                         72.752             72.752   \n",
       "\n",
       "date    priceEarningsToGrowthRatio priceSalesRatio dividendYield  \\\n",
       "2020-09                    229.082         29.6026     0.0018332   \n",
       "2020-06                    207.752         25.5517    0.00239729   \n",
       "2020-03                    148.822         18.5237     0.0031245   \n",
       "2019-12                    90.3031         13.9348    0.00276597   \n",
       "2019-09                    114.618         15.3448    0.00354032   \n",
       "...                            ...             ...           ...   \n",
       "2001-06                    230.717         5.49749           NaN   \n",
       "2001-03                    305.919         5.33751           NaN   \n",
       "2000-12                   -43.1559         4.98054           NaN   \n",
       "2000-09                    79.6382         4.47581           NaN   \n",
       "2000-06                    137.685          9.3282           NaN   \n",
       "\n",
       "date    enterpriseValueMultiple priceFairValue  \n",
       "2020-09                 108.826        29.3122  \n",
       "2020-06                 96.3171        21.0987  \n",
       "2020-03                  68.338        13.7733  \n",
       "2019-12                 45.3404        14.2909  \n",
       "2019-09                 51.2837        10.8598  \n",
       "...                         ...            ...  \n",
       "2001-06                 79.2622        2.10181  \n",
       "2001-03                  869.22        2.04333  \n",
       "2000-12                -11.0784        1.35113  \n",
       "2000-09                 63.6714        2.03793  \n",
       "2000-06                 111.748        4.07662  \n",
       "\n",
       "[82 rows x 54 columns]"
      ],
      "text/html": "<div>\n<style scoped>\n    .dataframe tbody tr th:only-of-type {\n        vertical-align: middle;\n    }\n\n    .dataframe tbody tr th {\n        vertical-align: top;\n    }\n\n    .dataframe thead th {\n        text-align: right;\n    }\n</style>\n<table border=\"1\" class=\"dataframe\">\n  <thead>\n    <tr style=\"text-align: right;\">\n      <th>date</th>\n      <th>currentRatio</th>\n      <th>quickRatio</th>\n      <th>cashRatio</th>\n      <th>daysOfSalesOutstanding</th>\n      <th>daysOfInventoryOutstanding</th>\n      <th>operatingCycle</th>\n      <th>daysOfPayablesOutstanding</th>\n      <th>cashConversionCycle</th>\n      <th>grossProfitMargin</th>\n      <th>operatingProfitMargin</th>\n      <th>...</th>\n      <th>priceToSalesRatio</th>\n      <th>priceEarningsRatio</th>\n      <th>priceToFreeCashFlowsRatio</th>\n      <th>priceToOperatingCashFlowsRatio</th>\n      <th>priceCashFlowRatio</th>\n      <th>priceEarningsToGrowthRatio</th>\n      <th>priceSalesRatio</th>\n      <th>dividendYield</th>\n      <th>enterpriseValueMultiple</th>\n      <th>priceFairValue</th>\n    </tr>\n  </thead>\n  <tbody>\n    <tr>\n      <th>2020-09</th>\n      <td>1.3636</td>\n      <td>1.01586</td>\n      <td>0.36071</td>\n      <td>90.9425</td>\n      <td>9.13519</td>\n      <td>31.5594</td>\n      <td>95.1446</td>\n      <td>-63.5852</td>\n      <td>0.381604</td>\n      <td>0.228369</td>\n      <td>...</td>\n      <td>29.6026</td>\n      <td>151.127</td>\n      <td>101.917</td>\n      <td>93.0808</td>\n      <td>93.0808</td>\n      <td>229.082</td>\n      <td>29.6026</td>\n      <td>0.0018332</td>\n      <td>108.826</td>\n      <td>29.3122</td>\n    </tr>\n    <tr>\n      <th>2020-06</th>\n      <td>1.46945</td>\n      <td>1.31245</td>\n      <td>0.350228</td>\n      <td>196.153</td>\n      <td>9.67491</td>\n      <td>58.0413</td>\n      <td>85.9141</td>\n      <td>-27.8727</td>\n      <td>0.379995</td>\n      <td>0.219335</td>\n      <td>...</td>\n      <td>25.5517</td>\n      <td>135.524</td>\n      <td>103.703</td>\n      <td>93.7284</td>\n      <td>93.7284</td>\n      <td>207.752</td>\n      <td>25.5517</td>\n      <td>0.00239729</td>\n      <td>96.3171</td>\n      <td>21.0987</td>\n    </tr>\n    <tr>\n      <th>2020-03</th>\n      <td>1.49596</td>\n      <td>1.29798</td>\n      <td>0.41807</td>\n      <td>192.017</td>\n      <td>8.34822</td>\n      <td>55.695</td>\n      <td>81.181</td>\n      <td>-25.4861</td>\n      <td>0.383619</td>\n      <td>0.220414</td>\n      <td>...</td>\n      <td>18.5237</td>\n      <td>96.0238</td>\n      <td>94.2722</td>\n      <td>81.1488</td>\n      <td>81.1488</td>\n      <td>148.822</td>\n      <td>18.5237</td>\n      <td>0.0031245</td>\n      <td>68.338</td>\n      <td>13.7733</td>\n    </tr>\n    <tr>\n      <th>2019-12</th>\n      <td>1.59778</td>\n      <td>1.43996</td>\n      <td>0.389297</td>\n      <td>158.794</td>\n      <td>6.51443</td>\n      <td>45.6691</td>\n      <td>71.7287</td>\n      <td>-26.0597</td>\n      <td>0.383548</td>\n      <td>0.278472</td>\n      <td>...</td>\n      <td>13.9348</td>\n      <td>57.5409</td>\n      <td>45.0378</td>\n      <td>41.9281</td>\n      <td>41.9281</td>\n      <td>90.3031</td>\n      <td>13.9348</td>\n      <td>0.00276597</td>\n      <td>45.3404</td>\n      <td>14.2909</td>\n    </tr>\n    <tr>\n      <th>2019-09</th>\n      <td>1.54013</td>\n      <td>1.38445</td>\n      <td>0.462022</td>\n      <td>261.063</td>\n      <td>9.30199</td>\n      <td>73.6736</td>\n      <td>104.746</td>\n      <td>-31.0723</td>\n      <td>0.379653</td>\n      <td>0.243988</td>\n      <td>...</td>\n      <td>15.3448</td>\n      <td>71.8018</td>\n      <td>57.356</td>\n      <td>49.3561</td>\n      <td>49.3561</td>\n      <td>114.618</td>\n      <td>15.3448</td>\n      <td>0.00354032</td>\n      <td>51.2837</td>\n      <td>10.8598</td>\n    </tr>\n    <tr>\n      <th>...</th>\n      <td>...</td>\n      <td>...</td>\n      <td>...</td>\n      <td>...</td>\n      <td>...</td>\n      <td>...</td>\n      <td>...</td>\n      <td>...</td>\n      <td>...</td>\n      <td>...</td>\n      <td>...</td>\n      <td>...</td>\n      <td>...</td>\n      <td>...</td>\n      <td>...</td>\n      <td>...</td>\n      <td>...</td>\n      <td>...</td>\n      <td>...</td>\n      <td>...</td>\n      <td>...</td>\n    </tr>\n    <tr>\n      <th>2001-06</th>\n      <td>3.25155</td>\n      <td>2.98389</td>\n      <td>1.31413</td>\n      <td>147.98</td>\n      <td>1.64265</td>\n      <td>38.1308</td>\n      <td>73.2277</td>\n      <td>-35.0969</td>\n      <td>0.294237</td>\n      <td>0.0210169</td>\n      <td>...</td>\n      <td>5.49749</td>\n      <td>132.931</td>\n      <td>-128.711</td>\n      <td>-245.721</td>\n      <td>-245.721</td>\n      <td>230.717</td>\n      <td>5.49749</td>\n      <td>NaN</td>\n      <td>79.2622</td>\n      <td>2.10181</td>\n    </tr>\n    <tr>\n      <th>2001-03</th>\n      <td>2.97772</td>\n      <td>2.66351</td>\n      <td>1.19109</td>\n      <td>162.477</td>\n      <td>0.860421</td>\n      <td>40.9233</td>\n      <td>82.6864</td>\n      <td>-41.7631</td>\n      <td>0.269043</td>\n      <td>-0.0055905</td>\n      <td>...</td>\n      <td>5.33751</td>\n      <td>177.628</td>\n      <td>-125.213</td>\n      <td>-173.591</td>\n      <td>-173.591</td>\n      <td>305.919</td>\n      <td>5.33751</td>\n      <td>NaN</td>\n      <td>869.22</td>\n      <td>2.04333</td>\n    </tr>\n    <tr>\n      <th>2000-12</th>\n      <td>3.00916</td>\n      <td>2.7526</td>\n      <td>1.06109</td>\n      <td>159.846</td>\n      <td>1.83852</td>\n      <td>41.2526</td>\n      <td>55.7685</td>\n      <td>-14.5159</td>\n      <td>-0.020854</td>\n      <td>-0.41708</td>\n      <td>...</td>\n      <td>4.98054</td>\n      <td>-25.72</td>\n      <td>-143.297</td>\n      <td>-385.8</td>\n      <td>-385.8</td>\n      <td>-43.1559</td>\n      <td>4.98054</td>\n      <td>NaN</td>\n      <td>-11.0784</td>\n      <td>1.35113</td>\n    </tr>\n    <tr>\n      <th>2000-09</th>\n      <td>2.80755</td>\n      <td>2.57631</td>\n      <td>0.616141</td>\n      <td>186.013</td>\n      <td>2.11689</td>\n      <td>47.9832</td>\n      <td>74.2195</td>\n      <td>-26.2363</td>\n      <td>0.249733</td>\n      <td>0.0449198</td>\n      <td>...</td>\n      <td>4.47581</td>\n      <td>49.234</td>\n      <td>65.9037</td>\n      <td>52.9732</td>\n      <td>52.9732</td>\n      <td>79.6382</td>\n      <td>4.47581</td>\n      <td>NaN</td>\n      <td>63.6714</td>\n      <td>2.03793</td>\n    </tr>\n    <tr>\n      <th>2000-06</th>\n      <td>2.75334</td>\n      <td>2.559</td>\n      <td>0.717565</td>\n      <td>193.4</td>\n      <td>0.351014</td>\n      <td>48.0387</td>\n      <td>73.0109</td>\n      <td>-24.9722</td>\n      <td>0.297534</td>\n      <td>0.0920548</td>\n      <td>...</td>\n      <td>9.3282</td>\n      <td>85.1199</td>\n      <td>76.3407</td>\n      <td>72.752</td>\n      <td>72.752</td>\n      <td>137.685</td>\n      <td>9.3282</td>\n      <td>NaN</td>\n      <td>111.748</td>\n      <td>4.07662</td>\n    </tr>\n  </tbody>\n</table>\n<p>82 rows × 54 columns</p>\n</div>"
     },
     "metadata": {},
     "execution_count": 24
    }
   ],
   "source": [
    "quarterly_ratiosdf = quarterly_ratiosdf.drop(quarterly_ratiosdf.index[82:125])\n",
    "quarterly_ratiosdf"
   ]
  },
  {
   "cell_type": "code",
   "execution_count": 25,
   "metadata": {},
   "outputs": [
    {
     "output_type": "execute_result",
     "data": {
      "text/plain": [
       "date     date currentRatio quickRatio cashRatio daysOfSalesOutstanding  \\\n",
       "0     2020-09       1.3636    1.01586   0.36071                90.9425   \n",
       "1     2020-06      1.46945    1.31245  0.350228                196.153   \n",
       "2     2020-03      1.49596    1.29798   0.41807                192.017   \n",
       "3     2019-12      1.59778    1.43996  0.389297                158.794   \n",
       "4     2019-09      1.54013    1.38445  0.462022                261.063   \n",
       "..        ...          ...        ...       ...                    ...   \n",
       "77    2001-06      3.25155    2.98389   1.31413                 147.98   \n",
       "78    2001-03      2.97772    2.66351   1.19109                162.477   \n",
       "79    2000-12      3.00916     2.7526   1.06109                159.846   \n",
       "80    2000-09      2.80755    2.57631  0.616141                186.013   \n",
       "81    2000-06      2.75334      2.559  0.717565                  193.4   \n",
       "\n",
       "date daysOfInventoryOutstanding operatingCycle daysOfPayablesOutstanding  \\\n",
       "0                       9.13519        31.5594                   95.1446   \n",
       "1                       9.67491        58.0413                   85.9141   \n",
       "2                       8.34822         55.695                    81.181   \n",
       "3                       6.51443        45.6691                   71.7287   \n",
       "4                       9.30199        73.6736                   104.746   \n",
       "..                          ...            ...                       ...   \n",
       "77                      1.64265        38.1308                   73.2277   \n",
       "78                     0.860421        40.9233                   82.6864   \n",
       "79                      1.83852        41.2526                   55.7685   \n",
       "80                      2.11689        47.9832                   74.2195   \n",
       "81                     0.351014        48.0387                   73.0109   \n",
       "\n",
       "date cashConversionCycle grossProfitMargin  ... priceToSalesRatio  \\\n",
       "0               -63.5852          0.381604  ...           29.6026   \n",
       "1               -27.8727          0.379995  ...           25.5517   \n",
       "2               -25.4861          0.383619  ...           18.5237   \n",
       "3               -26.0597          0.383548  ...           13.9348   \n",
       "4               -31.0723          0.379653  ...           15.3448   \n",
       "..                   ...               ...  ...               ...   \n",
       "77              -35.0969          0.294237  ...           5.49749   \n",
       "78              -41.7631          0.269043  ...           5.33751   \n",
       "79              -14.5159         -0.020854  ...           4.98054   \n",
       "80              -26.2363          0.249733  ...           4.47581   \n",
       "81              -24.9722          0.297534  ...            9.3282   \n",
       "\n",
       "date priceEarningsRatio priceToFreeCashFlowsRatio  \\\n",
       "0               151.127                   101.917   \n",
       "1               135.524                   103.703   \n",
       "2               96.0238                   94.2722   \n",
       "3               57.5409                   45.0378   \n",
       "4               71.8018                    57.356   \n",
       "..                  ...                       ...   \n",
       "77              132.931                  -128.711   \n",
       "78              177.628                  -125.213   \n",
       "79               -25.72                  -143.297   \n",
       "80               49.234                   65.9037   \n",
       "81              85.1199                   76.3407   \n",
       "\n",
       "date priceToOperatingCashFlowsRatio priceCashFlowRatio  \\\n",
       "0                           93.0808            93.0808   \n",
       "1                           93.7284            93.7284   \n",
       "2                           81.1488            81.1488   \n",
       "3                           41.9281            41.9281   \n",
       "4                           49.3561            49.3561   \n",
       "..                              ...                ...   \n",
       "77                         -245.721           -245.721   \n",
       "78                         -173.591           -173.591   \n",
       "79                           -385.8             -385.8   \n",
       "80                          52.9732            52.9732   \n",
       "81                           72.752             72.752   \n",
       "\n",
       "date priceEarningsToGrowthRatio priceSalesRatio dividendYield  \\\n",
       "0                       229.082         29.6026     0.0018332   \n",
       "1                       207.752         25.5517    0.00239729   \n",
       "2                       148.822         18.5237     0.0031245   \n",
       "3                       90.3031         13.9348    0.00276597   \n",
       "4                       114.618         15.3448    0.00354032   \n",
       "..                          ...             ...           ...   \n",
       "77                      230.717         5.49749           NaN   \n",
       "78                      305.919         5.33751           NaN   \n",
       "79                     -43.1559         4.98054           NaN   \n",
       "80                      79.6382         4.47581           NaN   \n",
       "81                      137.685          9.3282           NaN   \n",
       "\n",
       "date enterpriseValueMultiple priceFairValue  \n",
       "0                    108.826        29.3122  \n",
       "1                    96.3171        21.0987  \n",
       "2                     68.338        13.7733  \n",
       "3                    45.3404        14.2909  \n",
       "4                    51.2837        10.8598  \n",
       "..                       ...            ...  \n",
       "77                   79.2622        2.10181  \n",
       "78                    869.22        2.04333  \n",
       "79                  -11.0784        1.35113  \n",
       "80                   63.6714        2.03793  \n",
       "81                   111.748        4.07662  \n",
       "\n",
       "[82 rows x 55 columns]"
      ],
      "text/html": "<div>\n<style scoped>\n    .dataframe tbody tr th:only-of-type {\n        vertical-align: middle;\n    }\n\n    .dataframe tbody tr th {\n        vertical-align: top;\n    }\n\n    .dataframe thead th {\n        text-align: right;\n    }\n</style>\n<table border=\"1\" class=\"dataframe\">\n  <thead>\n    <tr style=\"text-align: right;\">\n      <th>date</th>\n      <th>date</th>\n      <th>currentRatio</th>\n      <th>quickRatio</th>\n      <th>cashRatio</th>\n      <th>daysOfSalesOutstanding</th>\n      <th>daysOfInventoryOutstanding</th>\n      <th>operatingCycle</th>\n      <th>daysOfPayablesOutstanding</th>\n      <th>cashConversionCycle</th>\n      <th>grossProfitMargin</th>\n      <th>...</th>\n      <th>priceToSalesRatio</th>\n      <th>priceEarningsRatio</th>\n      <th>priceToFreeCashFlowsRatio</th>\n      <th>priceToOperatingCashFlowsRatio</th>\n      <th>priceCashFlowRatio</th>\n      <th>priceEarningsToGrowthRatio</th>\n      <th>priceSalesRatio</th>\n      <th>dividendYield</th>\n      <th>enterpriseValueMultiple</th>\n      <th>priceFairValue</th>\n    </tr>\n  </thead>\n  <tbody>\n    <tr>\n      <th>0</th>\n      <td>2020-09</td>\n      <td>1.3636</td>\n      <td>1.01586</td>\n      <td>0.36071</td>\n      <td>90.9425</td>\n      <td>9.13519</td>\n      <td>31.5594</td>\n      <td>95.1446</td>\n      <td>-63.5852</td>\n      <td>0.381604</td>\n      <td>...</td>\n      <td>29.6026</td>\n      <td>151.127</td>\n      <td>101.917</td>\n      <td>93.0808</td>\n      <td>93.0808</td>\n      <td>229.082</td>\n      <td>29.6026</td>\n      <td>0.0018332</td>\n      <td>108.826</td>\n      <td>29.3122</td>\n    </tr>\n    <tr>\n      <th>1</th>\n      <td>2020-06</td>\n      <td>1.46945</td>\n      <td>1.31245</td>\n      <td>0.350228</td>\n      <td>196.153</td>\n      <td>9.67491</td>\n      <td>58.0413</td>\n      <td>85.9141</td>\n      <td>-27.8727</td>\n      <td>0.379995</td>\n      <td>...</td>\n      <td>25.5517</td>\n      <td>135.524</td>\n      <td>103.703</td>\n      <td>93.7284</td>\n      <td>93.7284</td>\n      <td>207.752</td>\n      <td>25.5517</td>\n      <td>0.00239729</td>\n      <td>96.3171</td>\n      <td>21.0987</td>\n    </tr>\n    <tr>\n      <th>2</th>\n      <td>2020-03</td>\n      <td>1.49596</td>\n      <td>1.29798</td>\n      <td>0.41807</td>\n      <td>192.017</td>\n      <td>8.34822</td>\n      <td>55.695</td>\n      <td>81.181</td>\n      <td>-25.4861</td>\n      <td>0.383619</td>\n      <td>...</td>\n      <td>18.5237</td>\n      <td>96.0238</td>\n      <td>94.2722</td>\n      <td>81.1488</td>\n      <td>81.1488</td>\n      <td>148.822</td>\n      <td>18.5237</td>\n      <td>0.0031245</td>\n      <td>68.338</td>\n      <td>13.7733</td>\n    </tr>\n    <tr>\n      <th>3</th>\n      <td>2019-12</td>\n      <td>1.59778</td>\n      <td>1.43996</td>\n      <td>0.389297</td>\n      <td>158.794</td>\n      <td>6.51443</td>\n      <td>45.6691</td>\n      <td>71.7287</td>\n      <td>-26.0597</td>\n      <td>0.383548</td>\n      <td>...</td>\n      <td>13.9348</td>\n      <td>57.5409</td>\n      <td>45.0378</td>\n      <td>41.9281</td>\n      <td>41.9281</td>\n      <td>90.3031</td>\n      <td>13.9348</td>\n      <td>0.00276597</td>\n      <td>45.3404</td>\n      <td>14.2909</td>\n    </tr>\n    <tr>\n      <th>4</th>\n      <td>2019-09</td>\n      <td>1.54013</td>\n      <td>1.38445</td>\n      <td>0.462022</td>\n      <td>261.063</td>\n      <td>9.30199</td>\n      <td>73.6736</td>\n      <td>104.746</td>\n      <td>-31.0723</td>\n      <td>0.379653</td>\n      <td>...</td>\n      <td>15.3448</td>\n      <td>71.8018</td>\n      <td>57.356</td>\n      <td>49.3561</td>\n      <td>49.3561</td>\n      <td>114.618</td>\n      <td>15.3448</td>\n      <td>0.00354032</td>\n      <td>51.2837</td>\n      <td>10.8598</td>\n    </tr>\n    <tr>\n      <th>...</th>\n      <td>...</td>\n      <td>...</td>\n      <td>...</td>\n      <td>...</td>\n      <td>...</td>\n      <td>...</td>\n      <td>...</td>\n      <td>...</td>\n      <td>...</td>\n      <td>...</td>\n      <td>...</td>\n      <td>...</td>\n      <td>...</td>\n      <td>...</td>\n      <td>...</td>\n      <td>...</td>\n      <td>...</td>\n      <td>...</td>\n      <td>...</td>\n      <td>...</td>\n      <td>...</td>\n    </tr>\n    <tr>\n      <th>77</th>\n      <td>2001-06</td>\n      <td>3.25155</td>\n      <td>2.98389</td>\n      <td>1.31413</td>\n      <td>147.98</td>\n      <td>1.64265</td>\n      <td>38.1308</td>\n      <td>73.2277</td>\n      <td>-35.0969</td>\n      <td>0.294237</td>\n      <td>...</td>\n      <td>5.49749</td>\n      <td>132.931</td>\n      <td>-128.711</td>\n      <td>-245.721</td>\n      <td>-245.721</td>\n      <td>230.717</td>\n      <td>5.49749</td>\n      <td>NaN</td>\n      <td>79.2622</td>\n      <td>2.10181</td>\n    </tr>\n    <tr>\n      <th>78</th>\n      <td>2001-03</td>\n      <td>2.97772</td>\n      <td>2.66351</td>\n      <td>1.19109</td>\n      <td>162.477</td>\n      <td>0.860421</td>\n      <td>40.9233</td>\n      <td>82.6864</td>\n      <td>-41.7631</td>\n      <td>0.269043</td>\n      <td>...</td>\n      <td>5.33751</td>\n      <td>177.628</td>\n      <td>-125.213</td>\n      <td>-173.591</td>\n      <td>-173.591</td>\n      <td>305.919</td>\n      <td>5.33751</td>\n      <td>NaN</td>\n      <td>869.22</td>\n      <td>2.04333</td>\n    </tr>\n    <tr>\n      <th>79</th>\n      <td>2000-12</td>\n      <td>3.00916</td>\n      <td>2.7526</td>\n      <td>1.06109</td>\n      <td>159.846</td>\n      <td>1.83852</td>\n      <td>41.2526</td>\n      <td>55.7685</td>\n      <td>-14.5159</td>\n      <td>-0.020854</td>\n      <td>...</td>\n      <td>4.98054</td>\n      <td>-25.72</td>\n      <td>-143.297</td>\n      <td>-385.8</td>\n      <td>-385.8</td>\n      <td>-43.1559</td>\n      <td>4.98054</td>\n      <td>NaN</td>\n      <td>-11.0784</td>\n      <td>1.35113</td>\n    </tr>\n    <tr>\n      <th>80</th>\n      <td>2000-09</td>\n      <td>2.80755</td>\n      <td>2.57631</td>\n      <td>0.616141</td>\n      <td>186.013</td>\n      <td>2.11689</td>\n      <td>47.9832</td>\n      <td>74.2195</td>\n      <td>-26.2363</td>\n      <td>0.249733</td>\n      <td>...</td>\n      <td>4.47581</td>\n      <td>49.234</td>\n      <td>65.9037</td>\n      <td>52.9732</td>\n      <td>52.9732</td>\n      <td>79.6382</td>\n      <td>4.47581</td>\n      <td>NaN</td>\n      <td>63.6714</td>\n      <td>2.03793</td>\n    </tr>\n    <tr>\n      <th>81</th>\n      <td>2000-06</td>\n      <td>2.75334</td>\n      <td>2.559</td>\n      <td>0.717565</td>\n      <td>193.4</td>\n      <td>0.351014</td>\n      <td>48.0387</td>\n      <td>73.0109</td>\n      <td>-24.9722</td>\n      <td>0.297534</td>\n      <td>...</td>\n      <td>9.3282</td>\n      <td>85.1199</td>\n      <td>76.3407</td>\n      <td>72.752</td>\n      <td>72.752</td>\n      <td>137.685</td>\n      <td>9.3282</td>\n      <td>NaN</td>\n      <td>111.748</td>\n      <td>4.07662</td>\n    </tr>\n  </tbody>\n</table>\n<p>82 rows × 55 columns</p>\n</div>"
     },
     "metadata": {},
     "execution_count": 25
    }
   ],
   "source": [
    "quarterly_ratiosdf.reset_index(inplace=True)\n",
    "quarterly_ratiosdf = quarterly_ratiosdf.rename(columns={'index':'date'})\n",
    "quarterly_ratiosdf"
   ]
  },
  {
   "cell_type": "code",
   "execution_count": 28,
   "metadata": {},
   "outputs": [
    {
     "output_type": "execute_result",
     "data": {
      "text/plain": [
       "date       date currentRatio quickRatio cashRatio daysOfSalesOutstanding  \\\n",
       "0    2020-09-01       1.3636    1.01586   0.36071                90.9425   \n",
       "1    2020-06-01      1.46945    1.31245  0.350228                196.153   \n",
       "2    2020-03-01      1.49596    1.29798   0.41807                192.017   \n",
       "3    2019-12-01      1.59778    1.43996  0.389297                158.794   \n",
       "4    2019-09-01      1.54013    1.38445  0.462022                261.063   \n",
       "..          ...          ...        ...       ...                    ...   \n",
       "77   2001-06-01      3.25155    2.98389   1.31413                 147.98   \n",
       "78   2001-03-01      2.97772    2.66351   1.19109                162.477   \n",
       "79   2000-12-01      3.00916     2.7526   1.06109                159.846   \n",
       "80   2000-09-01      2.80755    2.57631  0.616141                186.013   \n",
       "81   2000-06-01      2.75334      2.559  0.717565                  193.4   \n",
       "\n",
       "date daysOfInventoryOutstanding operatingCycle daysOfPayablesOutstanding  \\\n",
       "0                       9.13519        31.5594                   95.1446   \n",
       "1                       9.67491        58.0413                   85.9141   \n",
       "2                       8.34822         55.695                    81.181   \n",
       "3                       6.51443        45.6691                   71.7287   \n",
       "4                       9.30199        73.6736                   104.746   \n",
       "..                          ...            ...                       ...   \n",
       "77                      1.64265        38.1308                   73.2277   \n",
       "78                     0.860421        40.9233                   82.6864   \n",
       "79                      1.83852        41.2526                   55.7685   \n",
       "80                      2.11689        47.9832                   74.2195   \n",
       "81                     0.351014        48.0387                   73.0109   \n",
       "\n",
       "date cashConversionCycle grossProfitMargin  ... priceToSalesRatio  \\\n",
       "0               -63.5852          0.381604  ...           29.6026   \n",
       "1               -27.8727          0.379995  ...           25.5517   \n",
       "2               -25.4861          0.383619  ...           18.5237   \n",
       "3               -26.0597          0.383548  ...           13.9348   \n",
       "4               -31.0723          0.379653  ...           15.3448   \n",
       "..                   ...               ...  ...               ...   \n",
       "77              -35.0969          0.294237  ...           5.49749   \n",
       "78              -41.7631          0.269043  ...           5.33751   \n",
       "79              -14.5159         -0.020854  ...           4.98054   \n",
       "80              -26.2363          0.249733  ...           4.47581   \n",
       "81              -24.9722          0.297534  ...            9.3282   \n",
       "\n",
       "date priceEarningsRatio priceToFreeCashFlowsRatio  \\\n",
       "0               151.127                   101.917   \n",
       "1               135.524                   103.703   \n",
       "2               96.0238                   94.2722   \n",
       "3               57.5409                   45.0378   \n",
       "4               71.8018                    57.356   \n",
       "..                  ...                       ...   \n",
       "77              132.931                  -128.711   \n",
       "78              177.628                  -125.213   \n",
       "79               -25.72                  -143.297   \n",
       "80               49.234                   65.9037   \n",
       "81              85.1199                   76.3407   \n",
       "\n",
       "date priceToOperatingCashFlowsRatio priceCashFlowRatio  \\\n",
       "0                           93.0808            93.0808   \n",
       "1                           93.7284            93.7284   \n",
       "2                           81.1488            81.1488   \n",
       "3                           41.9281            41.9281   \n",
       "4                           49.3561            49.3561   \n",
       "..                              ...                ...   \n",
       "77                         -245.721           -245.721   \n",
       "78                         -173.591           -173.591   \n",
       "79                           -385.8             -385.8   \n",
       "80                          52.9732            52.9732   \n",
       "81                           72.752             72.752   \n",
       "\n",
       "date priceEarningsToGrowthRatio priceSalesRatio dividendYield  \\\n",
       "0                       229.082         29.6026     0.0018332   \n",
       "1                       207.752         25.5517    0.00239729   \n",
       "2                       148.822         18.5237     0.0031245   \n",
       "3                       90.3031         13.9348    0.00276597   \n",
       "4                       114.618         15.3448    0.00354032   \n",
       "..                          ...             ...           ...   \n",
       "77                      230.717         5.49749           NaN   \n",
       "78                      305.919         5.33751           NaN   \n",
       "79                     -43.1559         4.98054           NaN   \n",
       "80                      79.6382         4.47581           NaN   \n",
       "81                      137.685          9.3282           NaN   \n",
       "\n",
       "date enterpriseValueMultiple priceFairValue  \n",
       "0                    108.826        29.3122  \n",
       "1                    96.3171        21.0987  \n",
       "2                     68.338        13.7733  \n",
       "3                    45.3404        14.2909  \n",
       "4                    51.2837        10.8598  \n",
       "..                       ...            ...  \n",
       "77                   79.2622        2.10181  \n",
       "78                    869.22        2.04333  \n",
       "79                  -11.0784        1.35113  \n",
       "80                   63.6714        2.03793  \n",
       "81                   111.748        4.07662  \n",
       "\n",
       "[82 rows x 55 columns]"
      ],
      "text/html": "<div>\n<style scoped>\n    .dataframe tbody tr th:only-of-type {\n        vertical-align: middle;\n    }\n\n    .dataframe tbody tr th {\n        vertical-align: top;\n    }\n\n    .dataframe thead th {\n        text-align: right;\n    }\n</style>\n<table border=\"1\" class=\"dataframe\">\n  <thead>\n    <tr style=\"text-align: right;\">\n      <th>date</th>\n      <th>date</th>\n      <th>currentRatio</th>\n      <th>quickRatio</th>\n      <th>cashRatio</th>\n      <th>daysOfSalesOutstanding</th>\n      <th>daysOfInventoryOutstanding</th>\n      <th>operatingCycle</th>\n      <th>daysOfPayablesOutstanding</th>\n      <th>cashConversionCycle</th>\n      <th>grossProfitMargin</th>\n      <th>...</th>\n      <th>priceToSalesRatio</th>\n      <th>priceEarningsRatio</th>\n      <th>priceToFreeCashFlowsRatio</th>\n      <th>priceToOperatingCashFlowsRatio</th>\n      <th>priceCashFlowRatio</th>\n      <th>priceEarningsToGrowthRatio</th>\n      <th>priceSalesRatio</th>\n      <th>dividendYield</th>\n      <th>enterpriseValueMultiple</th>\n      <th>priceFairValue</th>\n    </tr>\n  </thead>\n  <tbody>\n    <tr>\n      <th>0</th>\n      <td>2020-09-01</td>\n      <td>1.3636</td>\n      <td>1.01586</td>\n      <td>0.36071</td>\n      <td>90.9425</td>\n      <td>9.13519</td>\n      <td>31.5594</td>\n      <td>95.1446</td>\n      <td>-63.5852</td>\n      <td>0.381604</td>\n      <td>...</td>\n      <td>29.6026</td>\n      <td>151.127</td>\n      <td>101.917</td>\n      <td>93.0808</td>\n      <td>93.0808</td>\n      <td>229.082</td>\n      <td>29.6026</td>\n      <td>0.0018332</td>\n      <td>108.826</td>\n      <td>29.3122</td>\n    </tr>\n    <tr>\n      <th>1</th>\n      <td>2020-06-01</td>\n      <td>1.46945</td>\n      <td>1.31245</td>\n      <td>0.350228</td>\n      <td>196.153</td>\n      <td>9.67491</td>\n      <td>58.0413</td>\n      <td>85.9141</td>\n      <td>-27.8727</td>\n      <td>0.379995</td>\n      <td>...</td>\n      <td>25.5517</td>\n      <td>135.524</td>\n      <td>103.703</td>\n      <td>93.7284</td>\n      <td>93.7284</td>\n      <td>207.752</td>\n      <td>25.5517</td>\n      <td>0.00239729</td>\n      <td>96.3171</td>\n      <td>21.0987</td>\n    </tr>\n    <tr>\n      <th>2</th>\n      <td>2020-03-01</td>\n      <td>1.49596</td>\n      <td>1.29798</td>\n      <td>0.41807</td>\n      <td>192.017</td>\n      <td>8.34822</td>\n      <td>55.695</td>\n      <td>81.181</td>\n      <td>-25.4861</td>\n      <td>0.383619</td>\n      <td>...</td>\n      <td>18.5237</td>\n      <td>96.0238</td>\n      <td>94.2722</td>\n      <td>81.1488</td>\n      <td>81.1488</td>\n      <td>148.822</td>\n      <td>18.5237</td>\n      <td>0.0031245</td>\n      <td>68.338</td>\n      <td>13.7733</td>\n    </tr>\n    <tr>\n      <th>3</th>\n      <td>2019-12-01</td>\n      <td>1.59778</td>\n      <td>1.43996</td>\n      <td>0.389297</td>\n      <td>158.794</td>\n      <td>6.51443</td>\n      <td>45.6691</td>\n      <td>71.7287</td>\n      <td>-26.0597</td>\n      <td>0.383548</td>\n      <td>...</td>\n      <td>13.9348</td>\n      <td>57.5409</td>\n      <td>45.0378</td>\n      <td>41.9281</td>\n      <td>41.9281</td>\n      <td>90.3031</td>\n      <td>13.9348</td>\n      <td>0.00276597</td>\n      <td>45.3404</td>\n      <td>14.2909</td>\n    </tr>\n    <tr>\n      <th>4</th>\n      <td>2019-09-01</td>\n      <td>1.54013</td>\n      <td>1.38445</td>\n      <td>0.462022</td>\n      <td>261.063</td>\n      <td>9.30199</td>\n      <td>73.6736</td>\n      <td>104.746</td>\n      <td>-31.0723</td>\n      <td>0.379653</td>\n      <td>...</td>\n      <td>15.3448</td>\n      <td>71.8018</td>\n      <td>57.356</td>\n      <td>49.3561</td>\n      <td>49.3561</td>\n      <td>114.618</td>\n      <td>15.3448</td>\n      <td>0.00354032</td>\n      <td>51.2837</td>\n      <td>10.8598</td>\n    </tr>\n    <tr>\n      <th>...</th>\n      <td>...</td>\n      <td>...</td>\n      <td>...</td>\n      <td>...</td>\n      <td>...</td>\n      <td>...</td>\n      <td>...</td>\n      <td>...</td>\n      <td>...</td>\n      <td>...</td>\n      <td>...</td>\n      <td>...</td>\n      <td>...</td>\n      <td>...</td>\n      <td>...</td>\n      <td>...</td>\n      <td>...</td>\n      <td>...</td>\n      <td>...</td>\n      <td>...</td>\n      <td>...</td>\n    </tr>\n    <tr>\n      <th>77</th>\n      <td>2001-06-01</td>\n      <td>3.25155</td>\n      <td>2.98389</td>\n      <td>1.31413</td>\n      <td>147.98</td>\n      <td>1.64265</td>\n      <td>38.1308</td>\n      <td>73.2277</td>\n      <td>-35.0969</td>\n      <td>0.294237</td>\n      <td>...</td>\n      <td>5.49749</td>\n      <td>132.931</td>\n      <td>-128.711</td>\n      <td>-245.721</td>\n      <td>-245.721</td>\n      <td>230.717</td>\n      <td>5.49749</td>\n      <td>NaN</td>\n      <td>79.2622</td>\n      <td>2.10181</td>\n    </tr>\n    <tr>\n      <th>78</th>\n      <td>2001-03-01</td>\n      <td>2.97772</td>\n      <td>2.66351</td>\n      <td>1.19109</td>\n      <td>162.477</td>\n      <td>0.860421</td>\n      <td>40.9233</td>\n      <td>82.6864</td>\n      <td>-41.7631</td>\n      <td>0.269043</td>\n      <td>...</td>\n      <td>5.33751</td>\n      <td>177.628</td>\n      <td>-125.213</td>\n      <td>-173.591</td>\n      <td>-173.591</td>\n      <td>305.919</td>\n      <td>5.33751</td>\n      <td>NaN</td>\n      <td>869.22</td>\n      <td>2.04333</td>\n    </tr>\n    <tr>\n      <th>79</th>\n      <td>2000-12-01</td>\n      <td>3.00916</td>\n      <td>2.7526</td>\n      <td>1.06109</td>\n      <td>159.846</td>\n      <td>1.83852</td>\n      <td>41.2526</td>\n      <td>55.7685</td>\n      <td>-14.5159</td>\n      <td>-0.020854</td>\n      <td>...</td>\n      <td>4.98054</td>\n      <td>-25.72</td>\n      <td>-143.297</td>\n      <td>-385.8</td>\n      <td>-385.8</td>\n      <td>-43.1559</td>\n      <td>4.98054</td>\n      <td>NaN</td>\n      <td>-11.0784</td>\n      <td>1.35113</td>\n    </tr>\n    <tr>\n      <th>80</th>\n      <td>2000-09-01</td>\n      <td>2.80755</td>\n      <td>2.57631</td>\n      <td>0.616141</td>\n      <td>186.013</td>\n      <td>2.11689</td>\n      <td>47.9832</td>\n      <td>74.2195</td>\n      <td>-26.2363</td>\n      <td>0.249733</td>\n      <td>...</td>\n      <td>4.47581</td>\n      <td>49.234</td>\n      <td>65.9037</td>\n      <td>52.9732</td>\n      <td>52.9732</td>\n      <td>79.6382</td>\n      <td>4.47581</td>\n      <td>NaN</td>\n      <td>63.6714</td>\n      <td>2.03793</td>\n    </tr>\n    <tr>\n      <th>81</th>\n      <td>2000-06-01</td>\n      <td>2.75334</td>\n      <td>2.559</td>\n      <td>0.717565</td>\n      <td>193.4</td>\n      <td>0.351014</td>\n      <td>48.0387</td>\n      <td>73.0109</td>\n      <td>-24.9722</td>\n      <td>0.297534</td>\n      <td>...</td>\n      <td>9.3282</td>\n      <td>85.1199</td>\n      <td>76.3407</td>\n      <td>72.752</td>\n      <td>72.752</td>\n      <td>137.685</td>\n      <td>9.3282</td>\n      <td>NaN</td>\n      <td>111.748</td>\n      <td>4.07662</td>\n    </tr>\n  </tbody>\n</table>\n<p>82 rows × 55 columns</p>\n</div>"
     },
     "metadata": {},
     "execution_count": 28
    }
   ],
   "source": [
    "quarterly_ratiosdf['date'] = pd.to_datetime(quarterly_ratiosdf['date'])\n",
    "quarterly_ratiosdf"
   ]
  },
  {
   "cell_type": "code",
   "execution_count": 29,
   "metadata": {},
   "outputs": [
    {
     "output_type": "execute_result",
     "data": {
      "text/plain": [
       "date     date currentRatio quickRatio cashRatio daysOfSalesOutstanding  \\\n",
       "0     2020-09       1.3636    1.01586   0.36071                90.9425   \n",
       "1     2020-06      1.46945    1.31245  0.350228                196.153   \n",
       "2     2020-03      1.49596    1.29798   0.41807                192.017   \n",
       "3     2019-12      1.59778    1.43996  0.389297                158.794   \n",
       "4     2019-09      1.54013    1.38445  0.462022                261.063   \n",
       "..        ...          ...        ...       ...                    ...   \n",
       "77    2001-06      3.25155    2.98389   1.31413                 147.98   \n",
       "78    2001-03      2.97772    2.66351   1.19109                162.477   \n",
       "79    2000-12      3.00916     2.7526   1.06109                159.846   \n",
       "80    2000-09      2.80755    2.57631  0.616141                186.013   \n",
       "81    2000-06      2.75334      2.559  0.717565                  193.4   \n",
       "\n",
       "date daysOfInventoryOutstanding operatingCycle daysOfPayablesOutstanding  \\\n",
       "0                       9.13519        31.5594                   95.1446   \n",
       "1                       9.67491        58.0413                   85.9141   \n",
       "2                       8.34822         55.695                    81.181   \n",
       "3                       6.51443        45.6691                   71.7287   \n",
       "4                       9.30199        73.6736                   104.746   \n",
       "..                          ...            ...                       ...   \n",
       "77                      1.64265        38.1308                   73.2277   \n",
       "78                     0.860421        40.9233                   82.6864   \n",
       "79                      1.83852        41.2526                   55.7685   \n",
       "80                      2.11689        47.9832                   74.2195   \n",
       "81                     0.351014        48.0387                   73.0109   \n",
       "\n",
       "date cashConversionCycle grossProfitMargin  ... priceToSalesRatio  \\\n",
       "0               -63.5852          0.381604  ...           29.6026   \n",
       "1               -27.8727          0.379995  ...           25.5517   \n",
       "2               -25.4861          0.383619  ...           18.5237   \n",
       "3               -26.0597          0.383548  ...           13.9348   \n",
       "4               -31.0723          0.379653  ...           15.3448   \n",
       "..                   ...               ...  ...               ...   \n",
       "77              -35.0969          0.294237  ...           5.49749   \n",
       "78              -41.7631          0.269043  ...           5.33751   \n",
       "79              -14.5159         -0.020854  ...           4.98054   \n",
       "80              -26.2363          0.249733  ...           4.47581   \n",
       "81              -24.9722          0.297534  ...            9.3282   \n",
       "\n",
       "date priceEarningsRatio priceToFreeCashFlowsRatio  \\\n",
       "0               151.127                   101.917   \n",
       "1               135.524                   103.703   \n",
       "2               96.0238                   94.2722   \n",
       "3               57.5409                   45.0378   \n",
       "4               71.8018                    57.356   \n",
       "..                  ...                       ...   \n",
       "77              132.931                  -128.711   \n",
       "78              177.628                  -125.213   \n",
       "79               -25.72                  -143.297   \n",
       "80               49.234                   65.9037   \n",
       "81              85.1199                   76.3407   \n",
       "\n",
       "date priceToOperatingCashFlowsRatio priceCashFlowRatio  \\\n",
       "0                           93.0808            93.0808   \n",
       "1                           93.7284            93.7284   \n",
       "2                           81.1488            81.1488   \n",
       "3                           41.9281            41.9281   \n",
       "4                           49.3561            49.3561   \n",
       "..                              ...                ...   \n",
       "77                         -245.721           -245.721   \n",
       "78                         -173.591           -173.591   \n",
       "79                           -385.8             -385.8   \n",
       "80                          52.9732            52.9732   \n",
       "81                           72.752             72.752   \n",
       "\n",
       "date priceEarningsToGrowthRatio priceSalesRatio dividendYield  \\\n",
       "0                       229.082         29.6026     0.0018332   \n",
       "1                       207.752         25.5517    0.00239729   \n",
       "2                       148.822         18.5237     0.0031245   \n",
       "3                       90.3031         13.9348    0.00276597   \n",
       "4                       114.618         15.3448    0.00354032   \n",
       "..                          ...             ...           ...   \n",
       "77                      230.717         5.49749           NaN   \n",
       "78                      305.919         5.33751           NaN   \n",
       "79                     -43.1559         4.98054           NaN   \n",
       "80                      79.6382         4.47581           NaN   \n",
       "81                      137.685          9.3282           NaN   \n",
       "\n",
       "date enterpriseValueMultiple priceFairValue  \n",
       "0                    108.826        29.3122  \n",
       "1                    96.3171        21.0987  \n",
       "2                     68.338        13.7733  \n",
       "3                    45.3404        14.2909  \n",
       "4                    51.2837        10.8598  \n",
       "..                       ...            ...  \n",
       "77                   79.2622        2.10181  \n",
       "78                    869.22        2.04333  \n",
       "79                  -11.0784        1.35113  \n",
       "80                   63.6714        2.03793  \n",
       "81                   111.748        4.07662  \n",
       "\n",
       "[82 rows x 55 columns]"
      ],
      "text/html": "<div>\n<style scoped>\n    .dataframe tbody tr th:only-of-type {\n        vertical-align: middle;\n    }\n\n    .dataframe tbody tr th {\n        vertical-align: top;\n    }\n\n    .dataframe thead th {\n        text-align: right;\n    }\n</style>\n<table border=\"1\" class=\"dataframe\">\n  <thead>\n    <tr style=\"text-align: right;\">\n      <th>date</th>\n      <th>date</th>\n      <th>currentRatio</th>\n      <th>quickRatio</th>\n      <th>cashRatio</th>\n      <th>daysOfSalesOutstanding</th>\n      <th>daysOfInventoryOutstanding</th>\n      <th>operatingCycle</th>\n      <th>daysOfPayablesOutstanding</th>\n      <th>cashConversionCycle</th>\n      <th>grossProfitMargin</th>\n      <th>...</th>\n      <th>priceToSalesRatio</th>\n      <th>priceEarningsRatio</th>\n      <th>priceToFreeCashFlowsRatio</th>\n      <th>priceToOperatingCashFlowsRatio</th>\n      <th>priceCashFlowRatio</th>\n      <th>priceEarningsToGrowthRatio</th>\n      <th>priceSalesRatio</th>\n      <th>dividendYield</th>\n      <th>enterpriseValueMultiple</th>\n      <th>priceFairValue</th>\n    </tr>\n  </thead>\n  <tbody>\n    <tr>\n      <th>0</th>\n      <td>2020-09</td>\n      <td>1.3636</td>\n      <td>1.01586</td>\n      <td>0.36071</td>\n      <td>90.9425</td>\n      <td>9.13519</td>\n      <td>31.5594</td>\n      <td>95.1446</td>\n      <td>-63.5852</td>\n      <td>0.381604</td>\n      <td>...</td>\n      <td>29.6026</td>\n      <td>151.127</td>\n      <td>101.917</td>\n      <td>93.0808</td>\n      <td>93.0808</td>\n      <td>229.082</td>\n      <td>29.6026</td>\n      <td>0.0018332</td>\n      <td>108.826</td>\n      <td>29.3122</td>\n    </tr>\n    <tr>\n      <th>1</th>\n      <td>2020-06</td>\n      <td>1.46945</td>\n      <td>1.31245</td>\n      <td>0.350228</td>\n      <td>196.153</td>\n      <td>9.67491</td>\n      <td>58.0413</td>\n      <td>85.9141</td>\n      <td>-27.8727</td>\n      <td>0.379995</td>\n      <td>...</td>\n      <td>25.5517</td>\n      <td>135.524</td>\n      <td>103.703</td>\n      <td>93.7284</td>\n      <td>93.7284</td>\n      <td>207.752</td>\n      <td>25.5517</td>\n      <td>0.00239729</td>\n      <td>96.3171</td>\n      <td>21.0987</td>\n    </tr>\n    <tr>\n      <th>2</th>\n      <td>2020-03</td>\n      <td>1.49596</td>\n      <td>1.29798</td>\n      <td>0.41807</td>\n      <td>192.017</td>\n      <td>8.34822</td>\n      <td>55.695</td>\n      <td>81.181</td>\n      <td>-25.4861</td>\n      <td>0.383619</td>\n      <td>...</td>\n      <td>18.5237</td>\n      <td>96.0238</td>\n      <td>94.2722</td>\n      <td>81.1488</td>\n      <td>81.1488</td>\n      <td>148.822</td>\n      <td>18.5237</td>\n      <td>0.0031245</td>\n      <td>68.338</td>\n      <td>13.7733</td>\n    </tr>\n    <tr>\n      <th>3</th>\n      <td>2019-12</td>\n      <td>1.59778</td>\n      <td>1.43996</td>\n      <td>0.389297</td>\n      <td>158.794</td>\n      <td>6.51443</td>\n      <td>45.6691</td>\n      <td>71.7287</td>\n      <td>-26.0597</td>\n      <td>0.383548</td>\n      <td>...</td>\n      <td>13.9348</td>\n      <td>57.5409</td>\n      <td>45.0378</td>\n      <td>41.9281</td>\n      <td>41.9281</td>\n      <td>90.3031</td>\n      <td>13.9348</td>\n      <td>0.00276597</td>\n      <td>45.3404</td>\n      <td>14.2909</td>\n    </tr>\n    <tr>\n      <th>4</th>\n      <td>2019-09</td>\n      <td>1.54013</td>\n      <td>1.38445</td>\n      <td>0.462022</td>\n      <td>261.063</td>\n      <td>9.30199</td>\n      <td>73.6736</td>\n      <td>104.746</td>\n      <td>-31.0723</td>\n      <td>0.379653</td>\n      <td>...</td>\n      <td>15.3448</td>\n      <td>71.8018</td>\n      <td>57.356</td>\n      <td>49.3561</td>\n      <td>49.3561</td>\n      <td>114.618</td>\n      <td>15.3448</td>\n      <td>0.00354032</td>\n      <td>51.2837</td>\n      <td>10.8598</td>\n    </tr>\n    <tr>\n      <th>...</th>\n      <td>...</td>\n      <td>...</td>\n      <td>...</td>\n      <td>...</td>\n      <td>...</td>\n      <td>...</td>\n      <td>...</td>\n      <td>...</td>\n      <td>...</td>\n      <td>...</td>\n      <td>...</td>\n      <td>...</td>\n      <td>...</td>\n      <td>...</td>\n      <td>...</td>\n      <td>...</td>\n      <td>...</td>\n      <td>...</td>\n      <td>...</td>\n      <td>...</td>\n      <td>...</td>\n    </tr>\n    <tr>\n      <th>77</th>\n      <td>2001-06</td>\n      <td>3.25155</td>\n      <td>2.98389</td>\n      <td>1.31413</td>\n      <td>147.98</td>\n      <td>1.64265</td>\n      <td>38.1308</td>\n      <td>73.2277</td>\n      <td>-35.0969</td>\n      <td>0.294237</td>\n      <td>...</td>\n      <td>5.49749</td>\n      <td>132.931</td>\n      <td>-128.711</td>\n      <td>-245.721</td>\n      <td>-245.721</td>\n      <td>230.717</td>\n      <td>5.49749</td>\n      <td>NaN</td>\n      <td>79.2622</td>\n      <td>2.10181</td>\n    </tr>\n    <tr>\n      <th>78</th>\n      <td>2001-03</td>\n      <td>2.97772</td>\n      <td>2.66351</td>\n      <td>1.19109</td>\n      <td>162.477</td>\n      <td>0.860421</td>\n      <td>40.9233</td>\n      <td>82.6864</td>\n      <td>-41.7631</td>\n      <td>0.269043</td>\n      <td>...</td>\n      <td>5.33751</td>\n      <td>177.628</td>\n      <td>-125.213</td>\n      <td>-173.591</td>\n      <td>-173.591</td>\n      <td>305.919</td>\n      <td>5.33751</td>\n      <td>NaN</td>\n      <td>869.22</td>\n      <td>2.04333</td>\n    </tr>\n    <tr>\n      <th>79</th>\n      <td>2000-12</td>\n      <td>3.00916</td>\n      <td>2.7526</td>\n      <td>1.06109</td>\n      <td>159.846</td>\n      <td>1.83852</td>\n      <td>41.2526</td>\n      <td>55.7685</td>\n      <td>-14.5159</td>\n      <td>-0.020854</td>\n      <td>...</td>\n      <td>4.98054</td>\n      <td>-25.72</td>\n      <td>-143.297</td>\n      <td>-385.8</td>\n      <td>-385.8</td>\n      <td>-43.1559</td>\n      <td>4.98054</td>\n      <td>NaN</td>\n      <td>-11.0784</td>\n      <td>1.35113</td>\n    </tr>\n    <tr>\n      <th>80</th>\n      <td>2000-09</td>\n      <td>2.80755</td>\n      <td>2.57631</td>\n      <td>0.616141</td>\n      <td>186.013</td>\n      <td>2.11689</td>\n      <td>47.9832</td>\n      <td>74.2195</td>\n      <td>-26.2363</td>\n      <td>0.249733</td>\n      <td>...</td>\n      <td>4.47581</td>\n      <td>49.234</td>\n      <td>65.9037</td>\n      <td>52.9732</td>\n      <td>52.9732</td>\n      <td>79.6382</td>\n      <td>4.47581</td>\n      <td>NaN</td>\n      <td>63.6714</td>\n      <td>2.03793</td>\n    </tr>\n    <tr>\n      <th>81</th>\n      <td>2000-06</td>\n      <td>2.75334</td>\n      <td>2.559</td>\n      <td>0.717565</td>\n      <td>193.4</td>\n      <td>0.351014</td>\n      <td>48.0387</td>\n      <td>73.0109</td>\n      <td>-24.9722</td>\n      <td>0.297534</td>\n      <td>...</td>\n      <td>9.3282</td>\n      <td>85.1199</td>\n      <td>76.3407</td>\n      <td>72.752</td>\n      <td>72.752</td>\n      <td>137.685</td>\n      <td>9.3282</td>\n      <td>NaN</td>\n      <td>111.748</td>\n      <td>4.07662</td>\n    </tr>\n  </tbody>\n</table>\n<p>82 rows × 55 columns</p>\n</div>"
     },
     "metadata": {},
     "execution_count": 29
    }
   ],
   "source": [
    "quarterly_ratiosdf['date'] = quarterly_ratiosdf['date'].dt.strftime('%Y-%m')\n",
    "quarterly_ratiosdf"
   ]
  },
  {
   "cell_type": "code",
   "execution_count": 31,
   "metadata": {},
   "outputs": [
    {
     "output_type": "execute_result",
     "data": {
      "text/plain": [
       "       date        high        low  decision currentRatio quickRatio  \\\n",
       "0   2000-06    1.245536   0.717634       2.0      2.75334      2.559   \n",
       "1   2000-09    1.145089   0.453125       2.0      2.80755    2.57631   \n",
       "2   2000-12    0.477679   0.243304       2.0      3.00916     2.7526   \n",
       "3   2001-03    0.424107   0.257813       2.0      2.97772    2.66351   \n",
       "4   2001-06    0.484286   0.334821       2.0      3.25155    2.98389   \n",
       "..      ...         ...        ...       ...          ...        ...   \n",
       "73  2019-09   56.605000  48.145000       1.0      1.54013    1.38445   \n",
       "74  2019-12   73.492500  53.782501       1.0      1.59778    1.43996   \n",
       "75  2020-03   81.962502  53.152500       1.0      1.49596    1.29798   \n",
       "76  2020-06   93.095001  59.224998       1.0      1.46945    1.31245   \n",
       "77  2020-09  137.979996  89.144997       1.0       1.3636    1.01586   \n",
       "\n",
       "   cashRatio daysOfSalesOutstanding daysOfInventoryOutstanding operatingCycle  \\\n",
       "0   0.717565                  193.4                   0.351014        48.0387   \n",
       "1   0.616141                186.013                    2.11689        47.9832   \n",
       "2    1.06109                159.846                    1.83852        41.2526   \n",
       "3    1.19109                162.477                   0.860421        40.9233   \n",
       "4    1.31413                 147.98                    1.64265        38.1308   \n",
       "..       ...                    ...                        ...            ...   \n",
       "73  0.462022                261.063                    9.30199        73.6736   \n",
       "74  0.389297                158.794                    6.51443        45.6691   \n",
       "75   0.41807                192.017                    8.34822         55.695   \n",
       "76  0.350228                196.153                    9.67491        58.0413   \n",
       "77   0.36071                90.9425                    9.13519        31.5594   \n",
       "\n",
       "    ... priceToSalesRatio priceEarningsRatio priceToFreeCashFlowsRatio  \\\n",
       "0   ...            9.3282            85.1199                   76.3407   \n",
       "1   ...           4.47581             49.234                   65.9037   \n",
       "2   ...           4.98054             -25.72                  -143.297   \n",
       "3   ...           5.33751            177.628                  -125.213   \n",
       "4   ...           5.49749            132.931                  -128.711   \n",
       "..  ...               ...                ...                       ...   \n",
       "73  ...           15.3448            71.8018                    57.356   \n",
       "74  ...           13.9348            57.5409                   45.0378   \n",
       "75  ...           18.5237            96.0238                   94.2722   \n",
       "76  ...           25.5517            135.524                   103.703   \n",
       "77  ...           29.6026            151.127                   101.917   \n",
       "\n",
       "   priceToOperatingCashFlowsRatio priceCashFlowRatio  \\\n",
       "0                          72.752             72.752   \n",
       "1                         52.9732            52.9732   \n",
       "2                          -385.8             -385.8   \n",
       "3                        -173.591           -173.591   \n",
       "4                        -245.721           -245.721   \n",
       "..                            ...                ...   \n",
       "73                        49.3561            49.3561   \n",
       "74                        41.9281            41.9281   \n",
       "75                        81.1488            81.1488   \n",
       "76                        93.7284            93.7284   \n",
       "77                        93.0808            93.0808   \n",
       "\n",
       "   priceEarningsToGrowthRatio priceSalesRatio dividendYield  \\\n",
       "0                     137.685          9.3282           NaN   \n",
       "1                     79.6382         4.47581           NaN   \n",
       "2                    -43.1559         4.98054           NaN   \n",
       "3                     305.919         5.33751           NaN   \n",
       "4                     230.717         5.49749           NaN   \n",
       "..                        ...             ...           ...   \n",
       "73                    114.618         15.3448    0.00354032   \n",
       "74                    90.3031         13.9348    0.00276597   \n",
       "75                    148.822         18.5237     0.0031245   \n",
       "76                    207.752         25.5517    0.00239729   \n",
       "77                    229.082         29.6026     0.0018332   \n",
       "\n",
       "   enterpriseValueMultiple priceFairValue  \n",
       "0                  111.748        4.07662  \n",
       "1                  63.6714        2.03793  \n",
       "2                 -11.0784        1.35113  \n",
       "3                   869.22        2.04333  \n",
       "4                  79.2622        2.10181  \n",
       "..                     ...            ...  \n",
       "73                 51.2837        10.8598  \n",
       "74                 45.3404        14.2909  \n",
       "75                  68.338        13.7733  \n",
       "76                 96.3171        21.0987  \n",
       "77                 108.826        29.3122  \n",
       "\n",
       "[78 rows x 58 columns]"
      ],
      "text/html": "<div>\n<style scoped>\n    .dataframe tbody tr th:only-of-type {\n        vertical-align: middle;\n    }\n\n    .dataframe tbody tr th {\n        vertical-align: top;\n    }\n\n    .dataframe thead th {\n        text-align: right;\n    }\n</style>\n<table border=\"1\" class=\"dataframe\">\n  <thead>\n    <tr style=\"text-align: right;\">\n      <th></th>\n      <th>date</th>\n      <th>high</th>\n      <th>low</th>\n      <th>decision</th>\n      <th>currentRatio</th>\n      <th>quickRatio</th>\n      <th>cashRatio</th>\n      <th>daysOfSalesOutstanding</th>\n      <th>daysOfInventoryOutstanding</th>\n      <th>operatingCycle</th>\n      <th>...</th>\n      <th>priceToSalesRatio</th>\n      <th>priceEarningsRatio</th>\n      <th>priceToFreeCashFlowsRatio</th>\n      <th>priceToOperatingCashFlowsRatio</th>\n      <th>priceCashFlowRatio</th>\n      <th>priceEarningsToGrowthRatio</th>\n      <th>priceSalesRatio</th>\n      <th>dividendYield</th>\n      <th>enterpriseValueMultiple</th>\n      <th>priceFairValue</th>\n    </tr>\n  </thead>\n  <tbody>\n    <tr>\n      <th>0</th>\n      <td>2000-06</td>\n      <td>1.245536</td>\n      <td>0.717634</td>\n      <td>2.0</td>\n      <td>2.75334</td>\n      <td>2.559</td>\n      <td>0.717565</td>\n      <td>193.4</td>\n      <td>0.351014</td>\n      <td>48.0387</td>\n      <td>...</td>\n      <td>9.3282</td>\n      <td>85.1199</td>\n      <td>76.3407</td>\n      <td>72.752</td>\n      <td>72.752</td>\n      <td>137.685</td>\n      <td>9.3282</td>\n      <td>NaN</td>\n      <td>111.748</td>\n      <td>4.07662</td>\n    </tr>\n    <tr>\n      <th>1</th>\n      <td>2000-09</td>\n      <td>1.145089</td>\n      <td>0.453125</td>\n      <td>2.0</td>\n      <td>2.80755</td>\n      <td>2.57631</td>\n      <td>0.616141</td>\n      <td>186.013</td>\n      <td>2.11689</td>\n      <td>47.9832</td>\n      <td>...</td>\n      <td>4.47581</td>\n      <td>49.234</td>\n      <td>65.9037</td>\n      <td>52.9732</td>\n      <td>52.9732</td>\n      <td>79.6382</td>\n      <td>4.47581</td>\n      <td>NaN</td>\n      <td>63.6714</td>\n      <td>2.03793</td>\n    </tr>\n    <tr>\n      <th>2</th>\n      <td>2000-12</td>\n      <td>0.477679</td>\n      <td>0.243304</td>\n      <td>2.0</td>\n      <td>3.00916</td>\n      <td>2.7526</td>\n      <td>1.06109</td>\n      <td>159.846</td>\n      <td>1.83852</td>\n      <td>41.2526</td>\n      <td>...</td>\n      <td>4.98054</td>\n      <td>-25.72</td>\n      <td>-143.297</td>\n      <td>-385.8</td>\n      <td>-385.8</td>\n      <td>-43.1559</td>\n      <td>4.98054</td>\n      <td>NaN</td>\n      <td>-11.0784</td>\n      <td>1.35113</td>\n    </tr>\n    <tr>\n      <th>3</th>\n      <td>2001-03</td>\n      <td>0.424107</td>\n      <td>0.257813</td>\n      <td>2.0</td>\n      <td>2.97772</td>\n      <td>2.66351</td>\n      <td>1.19109</td>\n      <td>162.477</td>\n      <td>0.860421</td>\n      <td>40.9233</td>\n      <td>...</td>\n      <td>5.33751</td>\n      <td>177.628</td>\n      <td>-125.213</td>\n      <td>-173.591</td>\n      <td>-173.591</td>\n      <td>305.919</td>\n      <td>5.33751</td>\n      <td>NaN</td>\n      <td>869.22</td>\n      <td>2.04333</td>\n    </tr>\n    <tr>\n      <th>4</th>\n      <td>2001-06</td>\n      <td>0.484286</td>\n      <td>0.334821</td>\n      <td>2.0</td>\n      <td>3.25155</td>\n      <td>2.98389</td>\n      <td>1.31413</td>\n      <td>147.98</td>\n      <td>1.64265</td>\n      <td>38.1308</td>\n      <td>...</td>\n      <td>5.49749</td>\n      <td>132.931</td>\n      <td>-128.711</td>\n      <td>-245.721</td>\n      <td>-245.721</td>\n      <td>230.717</td>\n      <td>5.49749</td>\n      <td>NaN</td>\n      <td>79.2622</td>\n      <td>2.10181</td>\n    </tr>\n    <tr>\n      <th>...</th>\n      <td>...</td>\n      <td>...</td>\n      <td>...</td>\n      <td>...</td>\n      <td>...</td>\n      <td>...</td>\n      <td>...</td>\n      <td>...</td>\n      <td>...</td>\n      <td>...</td>\n      <td>...</td>\n      <td>...</td>\n      <td>...</td>\n      <td>...</td>\n      <td>...</td>\n      <td>...</td>\n      <td>...</td>\n      <td>...</td>\n      <td>...</td>\n      <td>...</td>\n      <td>...</td>\n    </tr>\n    <tr>\n      <th>73</th>\n      <td>2019-09</td>\n      <td>56.605000</td>\n      <td>48.145000</td>\n      <td>1.0</td>\n      <td>1.54013</td>\n      <td>1.38445</td>\n      <td>0.462022</td>\n      <td>261.063</td>\n      <td>9.30199</td>\n      <td>73.6736</td>\n      <td>...</td>\n      <td>15.3448</td>\n      <td>71.8018</td>\n      <td>57.356</td>\n      <td>49.3561</td>\n      <td>49.3561</td>\n      <td>114.618</td>\n      <td>15.3448</td>\n      <td>0.00354032</td>\n      <td>51.2837</td>\n      <td>10.8598</td>\n    </tr>\n    <tr>\n      <th>74</th>\n      <td>2019-12</td>\n      <td>73.492500</td>\n      <td>53.782501</td>\n      <td>1.0</td>\n      <td>1.59778</td>\n      <td>1.43996</td>\n      <td>0.389297</td>\n      <td>158.794</td>\n      <td>6.51443</td>\n      <td>45.6691</td>\n      <td>...</td>\n      <td>13.9348</td>\n      <td>57.5409</td>\n      <td>45.0378</td>\n      <td>41.9281</td>\n      <td>41.9281</td>\n      <td>90.3031</td>\n      <td>13.9348</td>\n      <td>0.00276597</td>\n      <td>45.3404</td>\n      <td>14.2909</td>\n    </tr>\n    <tr>\n      <th>75</th>\n      <td>2020-03</td>\n      <td>81.962502</td>\n      <td>53.152500</td>\n      <td>1.0</td>\n      <td>1.49596</td>\n      <td>1.29798</td>\n      <td>0.41807</td>\n      <td>192.017</td>\n      <td>8.34822</td>\n      <td>55.695</td>\n      <td>...</td>\n      <td>18.5237</td>\n      <td>96.0238</td>\n      <td>94.2722</td>\n      <td>81.1488</td>\n      <td>81.1488</td>\n      <td>148.822</td>\n      <td>18.5237</td>\n      <td>0.0031245</td>\n      <td>68.338</td>\n      <td>13.7733</td>\n    </tr>\n    <tr>\n      <th>76</th>\n      <td>2020-06</td>\n      <td>93.095001</td>\n      <td>59.224998</td>\n      <td>1.0</td>\n      <td>1.46945</td>\n      <td>1.31245</td>\n      <td>0.350228</td>\n      <td>196.153</td>\n      <td>9.67491</td>\n      <td>58.0413</td>\n      <td>...</td>\n      <td>25.5517</td>\n      <td>135.524</td>\n      <td>103.703</td>\n      <td>93.7284</td>\n      <td>93.7284</td>\n      <td>207.752</td>\n      <td>25.5517</td>\n      <td>0.00239729</td>\n      <td>96.3171</td>\n      <td>21.0987</td>\n    </tr>\n    <tr>\n      <th>77</th>\n      <td>2020-09</td>\n      <td>137.979996</td>\n      <td>89.144997</td>\n      <td>1.0</td>\n      <td>1.3636</td>\n      <td>1.01586</td>\n      <td>0.36071</td>\n      <td>90.9425</td>\n      <td>9.13519</td>\n      <td>31.5594</td>\n      <td>...</td>\n      <td>29.6026</td>\n      <td>151.127</td>\n      <td>101.917</td>\n      <td>93.0808</td>\n      <td>93.0808</td>\n      <td>229.082</td>\n      <td>29.6026</td>\n      <td>0.0018332</td>\n      <td>108.826</td>\n      <td>29.3122</td>\n    </tr>\n  </tbody>\n</table>\n<p>78 rows × 58 columns</p>\n</div>"
     },
     "metadata": {},
     "execution_count": 31
    }
   ],
   "source": [
    "quarterly_data_combined = quarterly_combined_df.merge(quarterly_ratiosdf, on=['date'])\n",
    "quarterly_data_combined"
   ]
  },
  {
   "cell_type": "code",
   "execution_count": null,
   "metadata": {},
   "outputs": [],
   "source": []
  }
 ],
 "metadata": {
  "language_info": {
   "codemirror_mode": {
    "name": "ipython",
    "version": 3
   },
   "file_extension": ".py",
   "mimetype": "text/x-python",
   "name": "python",
   "nbconvert_exporter": "python",
   "pygments_lexer": "ipython3",
   "version": "3.6.12-final"
  },
  "orig_nbformat": 2,
  "kernelspec": {
   "name": "python3",
   "display_name": "Python 3.6.12 64-bit ('PythonAdv': conda)",
   "metadata": {
    "interpreter": {
     "hash": "6b7fa3a0957172ecb0227f4a19ea8ccb7af90ad3c01dc11e0364b2092e9452fb"
    }
   }
  }
 },
 "nbformat": 4,
 "nbformat_minor": 2
}