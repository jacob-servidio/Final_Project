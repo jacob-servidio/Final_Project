{
 "metadata": {
  "language_info": {
   "codemirror_mode": {
    "name": "ipython",
    "version": 3
   },
   "file_extension": ".py",
   "mimetype": "text/x-python",
   "name": "python",
   "nbconvert_exporter": "python",
   "pygments_lexer": "ipython3",
   "version": "3.6.12-final"
  },
  "orig_nbformat": 2,
  "kernelspec": {
   "name": "python3",
   "display_name": "Python 3.6.12 64-bit ('PythonAdv': conda)",
   "metadata": {
    "interpreter": {
     "hash": "6b7fa3a0957172ecb0227f4a19ea8ccb7af90ad3c01dc11e0364b2092e9452fb"
    }
   }
  }
 },
 "nbformat": 4,
 "nbformat_minor": 2,
 "cells": [
  {
   "cell_type": "code",
   "execution_count": 105,
   "metadata": {},
   "outputs": [],
   "source": [
    "#imports/dependencies\n",
    "import pandas as pd \n",
    "import numpy as np \n"
   ]
  },
  {
   "cell_type": "code",
   "execution_count": 106,
   "metadata": {},
   "outputs": [
    {
     "output_type": "execute_result",
     "data": {
      "text/plain": [
       "   Unnamed: 0        open        high         low       close    adjClose  \\\n",
       "0  2020-12-31  134.080002  134.740005  131.720001  132.690002  132.690002   \n",
       "1  2020-12-30  135.580002  135.990005  133.399994  133.720001  133.720001   \n",
       "2  2020-12-29  138.050003  138.789993  134.339996  134.869995  134.869995   \n",
       "3  2020-12-28  133.990005  137.339996  133.509995  136.690002  136.690002   \n",
       "4  2020-12-24  131.320007  133.460007  131.100006  131.970001  131.970001   \n",
       "\n",
       "        volume  unadjustedVolume   change  changePercent       vwap  \\\n",
       "0   98990400.0        98990400.0 -1.39000         -1.037  133.05000   \n",
       "1   96452100.0        96452100.0 -1.86000         -1.372  134.37000   \n",
       "2  121047300.0       121047300.0 -3.18001         -2.304  135.99999   \n",
       "3  124486200.0       124486200.0  2.70000          2.015  135.84666   \n",
       "4   54930100.0        54930100.0  0.64999          0.495  132.17667   \n",
       "\n",
       "             label  changeOverTime  \n",
       "0  December 31, 20        -0.01037  \n",
       "1  December 30, 20        -0.01372  \n",
       "2  December 29, 20        -0.02304  \n",
       "3  December 28, 20         0.02015  \n",
       "4  December 24, 20         0.00495  "
      ],
      "text/html": "<div>\n<style scoped>\n    .dataframe tbody tr th:only-of-type {\n        vertical-align: middle;\n    }\n\n    .dataframe tbody tr th {\n        vertical-align: top;\n    }\n\n    .dataframe thead th {\n        text-align: right;\n    }\n</style>\n<table border=\"1\" class=\"dataframe\">\n  <thead>\n    <tr style=\"text-align: right;\">\n      <th></th>\n      <th>Unnamed: 0</th>\n      <th>open</th>\n      <th>high</th>\n      <th>low</th>\n      <th>close</th>\n      <th>adjClose</th>\n      <th>volume</th>\n      <th>unadjustedVolume</th>\n      <th>change</th>\n      <th>changePercent</th>\n      <th>vwap</th>\n      <th>label</th>\n      <th>changeOverTime</th>\n    </tr>\n  </thead>\n  <tbody>\n    <tr>\n      <th>0</th>\n      <td>2020-12-31</td>\n      <td>134.080002</td>\n      <td>134.740005</td>\n      <td>131.720001</td>\n      <td>132.690002</td>\n      <td>132.690002</td>\n      <td>98990400.0</td>\n      <td>98990400.0</td>\n      <td>-1.39000</td>\n      <td>-1.037</td>\n      <td>133.05000</td>\n      <td>December 31, 20</td>\n      <td>-0.01037</td>\n    </tr>\n    <tr>\n      <th>1</th>\n      <td>2020-12-30</td>\n      <td>135.580002</td>\n      <td>135.990005</td>\n      <td>133.399994</td>\n      <td>133.720001</td>\n      <td>133.720001</td>\n      <td>96452100.0</td>\n      <td>96452100.0</td>\n      <td>-1.86000</td>\n      <td>-1.372</td>\n      <td>134.37000</td>\n      <td>December 30, 20</td>\n      <td>-0.01372</td>\n    </tr>\n    <tr>\n      <th>2</th>\n      <td>2020-12-29</td>\n      <td>138.050003</td>\n      <td>138.789993</td>\n      <td>134.339996</td>\n      <td>134.869995</td>\n      <td>134.869995</td>\n      <td>121047300.0</td>\n      <td>121047300.0</td>\n      <td>-3.18001</td>\n      <td>-2.304</td>\n      <td>135.99999</td>\n      <td>December 29, 20</td>\n      <td>-0.02304</td>\n    </tr>\n    <tr>\n      <th>3</th>\n      <td>2020-12-28</td>\n      <td>133.990005</td>\n      <td>137.339996</td>\n      <td>133.509995</td>\n      <td>136.690002</td>\n      <td>136.690002</td>\n      <td>124486200.0</td>\n      <td>124486200.0</td>\n      <td>2.70000</td>\n      <td>2.015</td>\n      <td>135.84666</td>\n      <td>December 28, 20</td>\n      <td>0.02015</td>\n    </tr>\n    <tr>\n      <th>4</th>\n      <td>2020-12-24</td>\n      <td>131.320007</td>\n      <td>133.460007</td>\n      <td>131.100006</td>\n      <td>131.970001</td>\n      <td>131.970001</td>\n      <td>54930100.0</td>\n      <td>54930100.0</td>\n      <td>0.64999</td>\n      <td>0.495</td>\n      <td>132.17667</td>\n      <td>December 24, 20</td>\n      <td>0.00495</td>\n    </tr>\n  </tbody>\n</table>\n</div>"
     },
     "metadata": {},
     "execution_count": 106
    }
   ],
   "source": [
    "stockprice_df=pd.read_csv('Test Data\\AAPL_stock_data_detailed.csv')\n",
    "stockprice_df.head()"
   ]
  },
  {
   "cell_type": "code",
   "execution_count": 107,
   "metadata": {},
   "outputs": [
    {
     "output_type": "execute_result",
     "data": {
      "text/plain": [
       "         date        open        high         low       close    adjClose  \\\n",
       "0  2020-12-31  134.080002  134.740005  131.720001  132.690002  132.690002   \n",
       "1  2020-12-30  135.580002  135.990005  133.399994  133.720001  133.720001   \n",
       "2  2020-12-29  138.050003  138.789993  134.339996  134.869995  134.869995   \n",
       "3  2020-12-28  133.990005  137.339996  133.509995  136.690002  136.690002   \n",
       "4  2020-12-24  131.320007  133.460007  131.100006  131.970001  131.970001   \n",
       "\n",
       "        volume  unadjustedVolume   change  changePercent       vwap  \\\n",
       "0   98990400.0        98990400.0 -1.39000         -1.037  133.05000   \n",
       "1   96452100.0        96452100.0 -1.86000         -1.372  134.37000   \n",
       "2  121047300.0       121047300.0 -3.18001         -2.304  135.99999   \n",
       "3  124486200.0       124486200.0  2.70000          2.015  135.84666   \n",
       "4   54930100.0        54930100.0  0.64999          0.495  132.17667   \n",
       "\n",
       "             label  changeOverTime  \n",
       "0  December 31, 20        -0.01037  \n",
       "1  December 30, 20        -0.01372  \n",
       "2  December 29, 20        -0.02304  \n",
       "3  December 28, 20         0.02015  \n",
       "4  December 24, 20         0.00495  "
      ],
      "text/html": "<div>\n<style scoped>\n    .dataframe tbody tr th:only-of-type {\n        vertical-align: middle;\n    }\n\n    .dataframe tbody tr th {\n        vertical-align: top;\n    }\n\n    .dataframe thead th {\n        text-align: right;\n    }\n</style>\n<table border=\"1\" class=\"dataframe\">\n  <thead>\n    <tr style=\"text-align: right;\">\n      <th></th>\n      <th>date</th>\n      <th>open</th>\n      <th>high</th>\n      <th>low</th>\n      <th>close</th>\n      <th>adjClose</th>\n      <th>volume</th>\n      <th>unadjustedVolume</th>\n      <th>change</th>\n      <th>changePercent</th>\n      <th>vwap</th>\n      <th>label</th>\n      <th>changeOverTime</th>\n    </tr>\n  </thead>\n  <tbody>\n    <tr>\n      <th>0</th>\n      <td>2020-12-31</td>\n      <td>134.080002</td>\n      <td>134.740005</td>\n      <td>131.720001</td>\n      <td>132.690002</td>\n      <td>132.690002</td>\n      <td>98990400.0</td>\n      <td>98990400.0</td>\n      <td>-1.39000</td>\n      <td>-1.037</td>\n      <td>133.05000</td>\n      <td>December 31, 20</td>\n      <td>-0.01037</td>\n    </tr>\n    <tr>\n      <th>1</th>\n      <td>2020-12-30</td>\n      <td>135.580002</td>\n      <td>135.990005</td>\n      <td>133.399994</td>\n      <td>133.720001</td>\n      <td>133.720001</td>\n      <td>96452100.0</td>\n      <td>96452100.0</td>\n      <td>-1.86000</td>\n      <td>-1.372</td>\n      <td>134.37000</td>\n      <td>December 30, 20</td>\n      <td>-0.01372</td>\n    </tr>\n    <tr>\n      <th>2</th>\n      <td>2020-12-29</td>\n      <td>138.050003</td>\n      <td>138.789993</td>\n      <td>134.339996</td>\n      <td>134.869995</td>\n      <td>134.869995</td>\n      <td>121047300.0</td>\n      <td>121047300.0</td>\n      <td>-3.18001</td>\n      <td>-2.304</td>\n      <td>135.99999</td>\n      <td>December 29, 20</td>\n      <td>-0.02304</td>\n    </tr>\n    <tr>\n      <th>3</th>\n      <td>2020-12-28</td>\n      <td>133.990005</td>\n      <td>137.339996</td>\n      <td>133.509995</td>\n      <td>136.690002</td>\n      <td>136.690002</td>\n      <td>124486200.0</td>\n      <td>124486200.0</td>\n      <td>2.70000</td>\n      <td>2.015</td>\n      <td>135.84666</td>\n      <td>December 28, 20</td>\n      <td>0.02015</td>\n    </tr>\n    <tr>\n      <th>4</th>\n      <td>2020-12-24</td>\n      <td>131.320007</td>\n      <td>133.460007</td>\n      <td>131.100006</td>\n      <td>131.970001</td>\n      <td>131.970001</td>\n      <td>54930100.0</td>\n      <td>54930100.0</td>\n      <td>0.64999</td>\n      <td>0.495</td>\n      <td>132.17667</td>\n      <td>December 24, 20</td>\n      <td>0.00495</td>\n    </tr>\n  </tbody>\n</table>\n</div>"
     },
     "metadata": {},
     "execution_count": 107
    }
   ],
   "source": [
    "stockprice_df = stockprice_df.rename(columns={'Unnamed: 0':'date'})\n",
    "stockprice_df.head()"
   ]
  },
  {
   "cell_type": "code",
   "execution_count": 108,
   "metadata": {},
   "outputs": [
    {
     "output_type": "execute_result",
     "data": {
      "text/plain": [
       "         date        open        high         low       close\n",
       "0  2020-12-31  134.080002  134.740005  131.720001  132.690002\n",
       "1  2020-12-30  135.580002  135.990005  133.399994  133.720001\n",
       "2  2020-12-29  138.050003  138.789993  134.339996  134.869995\n",
       "3  2020-12-28  133.990005  137.339996  133.509995  136.690002\n",
       "4  2020-12-24  131.320007  133.460007  131.100006  131.970001"
      ],
      "text/html": "<div>\n<style scoped>\n    .dataframe tbody tr th:only-of-type {\n        vertical-align: middle;\n    }\n\n    .dataframe tbody tr th {\n        vertical-align: top;\n    }\n\n    .dataframe thead th {\n        text-align: right;\n    }\n</style>\n<table border=\"1\" class=\"dataframe\">\n  <thead>\n    <tr style=\"text-align: right;\">\n      <th></th>\n      <th>date</th>\n      <th>open</th>\n      <th>high</th>\n      <th>low</th>\n      <th>close</th>\n    </tr>\n  </thead>\n  <tbody>\n    <tr>\n      <th>0</th>\n      <td>2020-12-31</td>\n      <td>134.080002</td>\n      <td>134.740005</td>\n      <td>131.720001</td>\n      <td>132.690002</td>\n    </tr>\n    <tr>\n      <th>1</th>\n      <td>2020-12-30</td>\n      <td>135.580002</td>\n      <td>135.990005</td>\n      <td>133.399994</td>\n      <td>133.720001</td>\n    </tr>\n    <tr>\n      <th>2</th>\n      <td>2020-12-29</td>\n      <td>138.050003</td>\n      <td>138.789993</td>\n      <td>134.339996</td>\n      <td>134.869995</td>\n    </tr>\n    <tr>\n      <th>3</th>\n      <td>2020-12-28</td>\n      <td>133.990005</td>\n      <td>137.339996</td>\n      <td>133.509995</td>\n      <td>136.690002</td>\n    </tr>\n    <tr>\n      <th>4</th>\n      <td>2020-12-24</td>\n      <td>131.320007</td>\n      <td>133.460007</td>\n      <td>131.100006</td>\n      <td>131.970001</td>\n    </tr>\n  </tbody>\n</table>\n</div>"
     },
     "metadata": {},
     "execution_count": 108
    }
   ],
   "source": [
    "selected_stockprice_df = stockprice_df[[\"date\", \"open\", \"high\", \"low\", \"close\"]]\n",
    "selected_stockprice_df.head()"
   ]
  },
  {
   "cell_type": "code",
   "execution_count": 109,
   "metadata": {},
   "outputs": [
    {
     "output_type": "execute_result",
     "data": {
      "text/plain": [
       "      date        open        high         low       close\n",
       "0  2020-12  134.080002  134.740005  131.720001  132.690002\n",
       "1  2020-12  135.580002  135.990005  133.399994  133.720001\n",
       "2  2020-12  138.050003  138.789993  134.339996  134.869995\n",
       "3  2020-12  133.990005  137.339996  133.509995  136.690002\n",
       "4  2020-12  131.320007  133.460007  131.100006  131.970001"
      ],
      "text/html": "<div>\n<style scoped>\n    .dataframe tbody tr th:only-of-type {\n        vertical-align: middle;\n    }\n\n    .dataframe tbody tr th {\n        vertical-align: top;\n    }\n\n    .dataframe thead th {\n        text-align: right;\n    }\n</style>\n<table border=\"1\" class=\"dataframe\">\n  <thead>\n    <tr style=\"text-align: right;\">\n      <th></th>\n      <th>date</th>\n      <th>open</th>\n      <th>high</th>\n      <th>low</th>\n      <th>close</th>\n    </tr>\n  </thead>\n  <tbody>\n    <tr>\n      <th>0</th>\n      <td>2020-12</td>\n      <td>134.080002</td>\n      <td>134.740005</td>\n      <td>131.720001</td>\n      <td>132.690002</td>\n    </tr>\n    <tr>\n      <th>1</th>\n      <td>2020-12</td>\n      <td>135.580002</td>\n      <td>135.990005</td>\n      <td>133.399994</td>\n      <td>133.720001</td>\n    </tr>\n    <tr>\n      <th>2</th>\n      <td>2020-12</td>\n      <td>138.050003</td>\n      <td>138.789993</td>\n      <td>134.339996</td>\n      <td>134.869995</td>\n    </tr>\n    <tr>\n      <th>3</th>\n      <td>2020-12</td>\n      <td>133.990005</td>\n      <td>137.339996</td>\n      <td>133.509995</td>\n      <td>136.690002</td>\n    </tr>\n    <tr>\n      <th>4</th>\n      <td>2020-12</td>\n      <td>131.320007</td>\n      <td>133.460007</td>\n      <td>131.100006</td>\n      <td>131.970001</td>\n    </tr>\n  </tbody>\n</table>\n</div>"
     },
     "metadata": {},
     "execution_count": 109
    }
   ],
   "source": [
    "selected_stockprice_df['date'] = selected_stockprice_df['date'].str[:-3]\n",
    "selected_stockprice_df.head()\n"
   ]
  },
  {
   "cell_type": "code",
   "execution_count": 110,
   "metadata": {},
   "outputs": [
    {
     "output_type": "execute_result",
     "data": {
      "text/plain": [
       "           date        open        high         low       close\n",
       "0    2020-12-01  134.080002  134.740005  131.720001  132.690002\n",
       "1    2020-12-01  135.580002  135.990005  133.399994  133.720001\n",
       "2    2020-12-01  138.050003  138.789993  134.339996  134.869995\n",
       "3    2020-12-01  133.990005  137.339996  133.509995  136.690002\n",
       "4    2020-12-01  131.320007  133.460007  131.100006  131.970001\n",
       "...         ...         ...         ...         ...         ...\n",
       "5279 2000-01-01    0.861607    0.901786    0.852679    0.888393\n",
       "5280 2000-01-01    0.947545    0.955357    0.848214    0.848214\n",
       "5281 2000-01-01    0.926339    0.987165    0.919643    0.928571\n",
       "5282 2000-01-01    0.966518    0.987723    0.903460    0.915179\n",
       "5283 2000-01-01    0.936384    1.004464    0.907924    0.999442\n",
       "\n",
       "[5284 rows x 5 columns]"
      ],
      "text/html": "<div>\n<style scoped>\n    .dataframe tbody tr th:only-of-type {\n        vertical-align: middle;\n    }\n\n    .dataframe tbody tr th {\n        vertical-align: top;\n    }\n\n    .dataframe thead th {\n        text-align: right;\n    }\n</style>\n<table border=\"1\" class=\"dataframe\">\n  <thead>\n    <tr style=\"text-align: right;\">\n      <th></th>\n      <th>date</th>\n      <th>open</th>\n      <th>high</th>\n      <th>low</th>\n      <th>close</th>\n    </tr>\n  </thead>\n  <tbody>\n    <tr>\n      <th>0</th>\n      <td>2020-12-01</td>\n      <td>134.080002</td>\n      <td>134.740005</td>\n      <td>131.720001</td>\n      <td>132.690002</td>\n    </tr>\n    <tr>\n      <th>1</th>\n      <td>2020-12-01</td>\n      <td>135.580002</td>\n      <td>135.990005</td>\n      <td>133.399994</td>\n      <td>133.720001</td>\n    </tr>\n    <tr>\n      <th>2</th>\n      <td>2020-12-01</td>\n      <td>138.050003</td>\n      <td>138.789993</td>\n      <td>134.339996</td>\n      <td>134.869995</td>\n    </tr>\n    <tr>\n      <th>3</th>\n      <td>2020-12-01</td>\n      <td>133.990005</td>\n      <td>137.339996</td>\n      <td>133.509995</td>\n      <td>136.690002</td>\n    </tr>\n    <tr>\n      <th>4</th>\n      <td>2020-12-01</td>\n      <td>131.320007</td>\n      <td>133.460007</td>\n      <td>131.100006</td>\n      <td>131.970001</td>\n    </tr>\n    <tr>\n      <th>...</th>\n      <td>...</td>\n      <td>...</td>\n      <td>...</td>\n      <td>...</td>\n      <td>...</td>\n    </tr>\n    <tr>\n      <th>5279</th>\n      <td>2000-01-01</td>\n      <td>0.861607</td>\n      <td>0.901786</td>\n      <td>0.852679</td>\n      <td>0.888393</td>\n    </tr>\n    <tr>\n      <th>5280</th>\n      <td>2000-01-01</td>\n      <td>0.947545</td>\n      <td>0.955357</td>\n      <td>0.848214</td>\n      <td>0.848214</td>\n    </tr>\n    <tr>\n      <th>5281</th>\n      <td>2000-01-01</td>\n      <td>0.926339</td>\n      <td>0.987165</td>\n      <td>0.919643</td>\n      <td>0.928571</td>\n    </tr>\n    <tr>\n      <th>5282</th>\n      <td>2000-01-01</td>\n      <td>0.966518</td>\n      <td>0.987723</td>\n      <td>0.903460</td>\n      <td>0.915179</td>\n    </tr>\n    <tr>\n      <th>5283</th>\n      <td>2000-01-01</td>\n      <td>0.936384</td>\n      <td>1.004464</td>\n      <td>0.907924</td>\n      <td>0.999442</td>\n    </tr>\n  </tbody>\n</table>\n<p>5284 rows × 5 columns</p>\n</div>"
     },
     "metadata": {},
     "execution_count": 110
    }
   ],
   "source": [
    "selected_stockprice_df['date'] = pd.to_datetime(selected_stockprice_df['date'], format='%Y-%m')\n",
    "\n",
    "selected_stockprice_df\n"
   ]
  },
  {
   "cell_type": "code",
   "execution_count": 111,
   "metadata": {},
   "outputs": [
    {
     "output_type": "execute_result",
     "data": {
      "text/plain": [
       "                  high\n",
       "date                  \n",
       "2000-01-01    1.084821\n",
       "2000-02-01    1.070871\n",
       "2000-03-01    1.342634\n",
       "2000-04-01    1.245536\n",
       "2000-05-01    1.127232\n",
       "...                ...\n",
       "2020-08-01  131.000000\n",
       "2020-09-01  137.979996\n",
       "2020-10-01  125.389999\n",
       "2020-11-01  121.989998\n",
       "2020-12-01  138.789993\n",
       "\n",
       "[252 rows x 1 columns]"
      ],
      "text/html": "<div>\n<style scoped>\n    .dataframe tbody tr th:only-of-type {\n        vertical-align: middle;\n    }\n\n    .dataframe tbody tr th {\n        vertical-align: top;\n    }\n\n    .dataframe thead th {\n        text-align: right;\n    }\n</style>\n<table border=\"1\" class=\"dataframe\">\n  <thead>\n    <tr style=\"text-align: right;\">\n      <th></th>\n      <th>high</th>\n    </tr>\n    <tr>\n      <th>date</th>\n      <th></th>\n    </tr>\n  </thead>\n  <tbody>\n    <tr>\n      <th>2000-01-01</th>\n      <td>1.084821</td>\n    </tr>\n    <tr>\n      <th>2000-02-01</th>\n      <td>1.070871</td>\n    </tr>\n    <tr>\n      <th>2000-03-01</th>\n      <td>1.342634</td>\n    </tr>\n    <tr>\n      <th>2000-04-01</th>\n      <td>1.245536</td>\n    </tr>\n    <tr>\n      <th>2000-05-01</th>\n      <td>1.127232</td>\n    </tr>\n    <tr>\n      <th>...</th>\n      <td>...</td>\n    </tr>\n    <tr>\n      <th>2020-08-01</th>\n      <td>131.000000</td>\n    </tr>\n    <tr>\n      <th>2020-09-01</th>\n      <td>137.979996</td>\n    </tr>\n    <tr>\n      <th>2020-10-01</th>\n      <td>125.389999</td>\n    </tr>\n    <tr>\n      <th>2020-11-01</th>\n      <td>121.989998</td>\n    </tr>\n    <tr>\n      <th>2020-12-01</th>\n      <td>138.789993</td>\n    </tr>\n  </tbody>\n</table>\n<p>252 rows × 1 columns</p>\n</div>"
     },
     "metadata": {},
     "execution_count": 111
    }
   ],
   "source": [
    "testFrame = selected_stockprice_df.groupby('date')\n",
    "pricehighmnth = testFrame['high'].max()\n",
    "pricehighmnth = pd.DataFrame(pricehighmnth)\n",
    "pricehighmnth"
   ]
  },
  {
   "cell_type": "code",
   "execution_count": 112,
   "metadata": {},
   "outputs": [
    {
     "output_type": "execute_result",
     "data": {
      "text/plain": [
       "date\n",
       "2019-12-31     73.492500\n",
       "2020-03-31     81.962502\n",
       "2020-06-30     93.095001\n",
       "2020-09-30    137.979996\n",
       "2020-12-31    138.789993\n",
       "Freq: Q-DEC, Name: high, dtype: float64"
      ]
     },
     "metadata": {},
     "execution_count": 112
    }
   ],
   "source": [
    "#grouping quarterly\n",
    "quarterlyHigh = pricehighmnth.resample('Q')['high'].max()\n",
    "quarterlyHigh "
   ]
  },
  {
   "cell_type": "code",
   "execution_count": 114,
   "metadata": {},
   "outputs": [
    {
     "output_type": "execute_result",
     "data": {
      "text/plain": [
       "                   low\n",
       "date                  \n",
       "2000-01-01    0.772321\n",
       "2000-02-01    0.866071\n",
       "2000-03-01    1.017857\n",
       "2000-04-01    0.936384\n",
       "2000-05-01    0.729911\n",
       "...                ...\n",
       "2020-08-01  107.892502\n",
       "2020-09-01  103.099998\n",
       "2020-10-01  107.720001\n",
       "2020-11-01  107.320000\n",
       "2020-12-01  120.010002\n",
       "\n",
       "[252 rows x 1 columns]"
      ],
      "text/html": "<div>\n<style scoped>\n    .dataframe tbody tr th:only-of-type {\n        vertical-align: middle;\n    }\n\n    .dataframe tbody tr th {\n        vertical-align: top;\n    }\n\n    .dataframe thead th {\n        text-align: right;\n    }\n</style>\n<table border=\"1\" class=\"dataframe\">\n  <thead>\n    <tr style=\"text-align: right;\">\n      <th></th>\n      <th>low</th>\n    </tr>\n    <tr>\n      <th>date</th>\n      <th></th>\n    </tr>\n  </thead>\n  <tbody>\n    <tr>\n      <th>2000-01-01</th>\n      <td>0.772321</td>\n    </tr>\n    <tr>\n      <th>2000-02-01</th>\n      <td>0.866071</td>\n    </tr>\n    <tr>\n      <th>2000-03-01</th>\n      <td>1.017857</td>\n    </tr>\n    <tr>\n      <th>2000-04-01</th>\n      <td>0.936384</td>\n    </tr>\n    <tr>\n      <th>2000-05-01</th>\n      <td>0.729911</td>\n    </tr>\n    <tr>\n      <th>...</th>\n      <td>...</td>\n    </tr>\n    <tr>\n      <th>2020-08-01</th>\n      <td>107.892502</td>\n    </tr>\n    <tr>\n      <th>2020-09-01</th>\n      <td>103.099998</td>\n    </tr>\n    <tr>\n      <th>2020-10-01</th>\n      <td>107.720001</td>\n    </tr>\n    <tr>\n      <th>2020-11-01</th>\n      <td>107.320000</td>\n    </tr>\n    <tr>\n      <th>2020-12-01</th>\n      <td>120.010002</td>\n    </tr>\n  </tbody>\n</table>\n<p>252 rows × 1 columns</p>\n</div>"
     },
     "metadata": {},
     "execution_count": 114
    }
   ],
   "source": [
    "pricelowmnth = testFrame['low'].min()\n",
    "pricelowmnth = pd.DataFrame(pricelowmnth)\n",
    "pricelowmnth\n"
   ]
  },
  {
   "cell_type": "code",
   "execution_count": 115,
   "metadata": {},
   "outputs": [
    {
     "output_type": "execute_result",
     "data": {
      "text/plain": [
       "date\n",
       "2000-03-31      0.772321\n",
       "2000-06-30      0.717634\n",
       "2000-09-30      0.453125\n",
       "2000-12-31      0.243304\n",
       "2001-03-31      0.257813\n",
       "                 ...    \n",
       "2019-12-31     53.782501\n",
       "2020-03-31     53.152500\n",
       "2020-06-30     59.224998\n",
       "2020-09-30     89.144997\n",
       "2020-12-31    107.320000\n",
       "Freq: Q-DEC, Name: low, Length: 84, dtype: float64"
      ]
     },
     "metadata": {},
     "execution_count": 115
    }
   ],
   "source": [
    "#grouping quarterly\n",
    "quarterlyLow = pricelowmnth.resample('Q')['low'].min()\n",
    "quarterlyLow "
   ]
  },
  {
   "cell_type": "code",
   "execution_count": 118,
   "metadata": {},
   "outputs": [
    {
     "output_type": "execute_result",
     "data": {
      "text/plain": [
       "                  high         low\n",
       "date                              \n",
       "2000-03-31    1.342634    0.772321\n",
       "2000-06-30    1.245536    0.717634\n",
       "2000-09-30    1.145089    0.453125\n",
       "2000-12-31    0.477679    0.243304\n",
       "2001-03-31    0.424107    0.257813\n",
       "...                ...         ...\n",
       "2019-12-31   73.492500   53.782501\n",
       "2020-03-31   81.962502   53.152500\n",
       "2020-06-30   93.095001   59.224998\n",
       "2020-09-30  137.979996   89.144997\n",
       "2020-12-31  138.789993  107.320000\n",
       "\n",
       "[84 rows x 2 columns]"
      ],
      "text/html": "<div>\n<style scoped>\n    .dataframe tbody tr th:only-of-type {\n        vertical-align: middle;\n    }\n\n    .dataframe tbody tr th {\n        vertical-align: top;\n    }\n\n    .dataframe thead th {\n        text-align: right;\n    }\n</style>\n<table border=\"1\" class=\"dataframe\">\n  <thead>\n    <tr style=\"text-align: right;\">\n      <th></th>\n      <th>high</th>\n      <th>low</th>\n    </tr>\n    <tr>\n      <th>date</th>\n      <th></th>\n      <th></th>\n    </tr>\n  </thead>\n  <tbody>\n    <tr>\n      <th>2000-03-31</th>\n      <td>1.342634</td>\n      <td>0.772321</td>\n    </tr>\n    <tr>\n      <th>2000-06-30</th>\n      <td>1.245536</td>\n      <td>0.717634</td>\n    </tr>\n    <tr>\n      <th>2000-09-30</th>\n      <td>1.145089</td>\n      <td>0.453125</td>\n    </tr>\n    <tr>\n      <th>2000-12-31</th>\n      <td>0.477679</td>\n      <td>0.243304</td>\n    </tr>\n    <tr>\n      <th>2001-03-31</th>\n      <td>0.424107</td>\n      <td>0.257813</td>\n    </tr>\n    <tr>\n      <th>...</th>\n      <td>...</td>\n      <td>...</td>\n    </tr>\n    <tr>\n      <th>2019-12-31</th>\n      <td>73.492500</td>\n      <td>53.782501</td>\n    </tr>\n    <tr>\n      <th>2020-03-31</th>\n      <td>81.962502</td>\n      <td>53.152500</td>\n    </tr>\n    <tr>\n      <th>2020-06-30</th>\n      <td>93.095001</td>\n      <td>59.224998</td>\n    </tr>\n    <tr>\n      <th>2020-09-30</th>\n      <td>137.979996</td>\n      <td>89.144997</td>\n    </tr>\n    <tr>\n      <th>2020-12-31</th>\n      <td>138.789993</td>\n      <td>107.320000</td>\n    </tr>\n  </tbody>\n</table>\n<p>84 rows × 2 columns</p>\n</div>"
     },
     "metadata": {},
     "execution_count": 118
    }
   ],
   "source": [
    "quarterlyHigh = pd.DataFrame(quarterlyHigh)\n",
    "quarterlyLow = pd.DataFrame(quarterlyLow)\n",
    "\n",
    "quarterly_combined_df = quarterlyHigh.merge(quarterlyLow, on=['date'])\n",
    "quarterly_combined_df"
   ]
  },
  {
   "cell_type": "code",
   "execution_count": null,
   "metadata": {},
   "outputs": [],
   "source": []
  }
 ]
}