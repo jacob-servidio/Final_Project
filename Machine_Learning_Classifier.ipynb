{
 "cells": [
  {
   "cell_type": "code",
   "execution_count": 2,
   "metadata": {},
   "outputs": [],
   "source": [
    "import numpy as np \n",
    "import pandas as pd \n",
    "import matplotlib.pyplot as plt \n",
    "from sklearn.model_selection import train_test_split\n",
    "from sklearn.metrics import confusion_matrix, classification_report\n",
    "from sklearn.preprocessing import StandardScaler\n",
    "from sklearn.pipeline import Pipeline\n",
    "import datetime as dt\n",
    "from sklearn.model_selection import GridSearchCV"
   ]
  },
  {
   "cell_type": "code",
   "execution_count": 3,
   "metadata": {},
   "outputs": [
    {
     "output_type": "execute_result",
     "data": {
      "text/plain": [
       "   year  month  decision  currentRatio  quickRatio  cashRatio  \\\n",
       "0  2000      6         2      1.136186    0.904524   0.023507   \n",
       "1  2000      9         1      1.201710    0.974555   0.062247   \n",
       "2  2000     12         2      1.341269    1.102592   0.216925   \n",
       "3  2001      3         2      1.273293    0.993598   0.048841   \n",
       "4  2001      6         0      1.061408    0.808535   0.037329   \n",
       "\n",
       "   daysOfSalesOutstanding  daysOfInventoryOutstanding  operatingCycle  \\\n",
       "0              191.731841                   11.900236       59.176580   \n",
       "1              197.680531                   30.000269       78.743413   \n",
       "2              199.343475                   31.142068       80.295254   \n",
       "3              204.196952                   30.351105       80.701038   \n",
       "4              178.772138                   27.899411       71.980213   \n",
       "\n",
       "   daysOfPayablesOutstanding  ...  priceToSalesRatio  priceEarningsRatio  \\\n",
       "0                  52.247979  ...           1.848972           36.594439   \n",
       "1                 126.905678  ...           2.132395           60.418305   \n",
       "2                 142.265787  ...           2.464919           62.256618   \n",
       "3                 128.473806  ...           2.137396           95.155789   \n",
       "4                 130.063525  ...           2.034605           91.948859   \n",
       "\n",
       "   priceToFreeCashFlowsRatio  priceToOperatingCashFlowsRatio  \\\n",
       "0                  25.600683                       11.958958   \n",
       "1                -357.637011                       32.641073   \n",
       "2                 276.214036                       23.097371   \n",
       "3                 -39.533610                       54.039416   \n",
       "4                  26.232707                       10.227671   \n",
       "\n",
       "   priceCashFlowRatio  priceEarningsToGrowthRatio  priceSalesRatio  \\\n",
       "0           11.958958                    8.402448         1.848972   \n",
       "1           32.641073                   13.872645         2.132395   \n",
       "2           23.097371                   14.251809         2.464919   \n",
       "3           54.039416                   21.860891         2.137396   \n",
       "4           10.227671                   21.757138         2.034605   \n",
       "\n",
       "   dividendYield  enterpriseValueMultiple  priceFairValue  \n",
       "0            0.0                14.202780        1.873532  \n",
       "1            0.0               138.121442        2.053819  \n",
       "2            0.0                91.966698        2.344200  \n",
       "3            0.0              -735.557312        1.789780  \n",
       "4            0.0                 6.597145        1.764326  \n",
       "\n",
       "[5 rows x 57 columns]"
      ],
      "text/html": "<div>\n<style scoped>\n    .dataframe tbody tr th:only-of-type {\n        vertical-align: middle;\n    }\n\n    .dataframe tbody tr th {\n        vertical-align: top;\n    }\n\n    .dataframe thead th {\n        text-align: right;\n    }\n</style>\n<table border=\"1\" class=\"dataframe\">\n  <thead>\n    <tr style=\"text-align: right;\">\n      <th></th>\n      <th>year</th>\n      <th>month</th>\n      <th>decision</th>\n      <th>currentRatio</th>\n      <th>quickRatio</th>\n      <th>cashRatio</th>\n      <th>daysOfSalesOutstanding</th>\n      <th>daysOfInventoryOutstanding</th>\n      <th>operatingCycle</th>\n      <th>daysOfPayablesOutstanding</th>\n      <th>...</th>\n      <th>priceToSalesRatio</th>\n      <th>priceEarningsRatio</th>\n      <th>priceToFreeCashFlowsRatio</th>\n      <th>priceToOperatingCashFlowsRatio</th>\n      <th>priceCashFlowRatio</th>\n      <th>priceEarningsToGrowthRatio</th>\n      <th>priceSalesRatio</th>\n      <th>dividendYield</th>\n      <th>enterpriseValueMultiple</th>\n      <th>priceFairValue</th>\n    </tr>\n  </thead>\n  <tbody>\n    <tr>\n      <th>0</th>\n      <td>2000</td>\n      <td>6</td>\n      <td>2</td>\n      <td>1.136186</td>\n      <td>0.904524</td>\n      <td>0.023507</td>\n      <td>191.731841</td>\n      <td>11.900236</td>\n      <td>59.176580</td>\n      <td>52.247979</td>\n      <td>...</td>\n      <td>1.848972</td>\n      <td>36.594439</td>\n      <td>25.600683</td>\n      <td>11.958958</td>\n      <td>11.958958</td>\n      <td>8.402448</td>\n      <td>1.848972</td>\n      <td>0.0</td>\n      <td>14.202780</td>\n      <td>1.873532</td>\n    </tr>\n    <tr>\n      <th>1</th>\n      <td>2000</td>\n      <td>9</td>\n      <td>1</td>\n      <td>1.201710</td>\n      <td>0.974555</td>\n      <td>0.062247</td>\n      <td>197.680531</td>\n      <td>30.000269</td>\n      <td>78.743413</td>\n      <td>126.905678</td>\n      <td>...</td>\n      <td>2.132395</td>\n      <td>60.418305</td>\n      <td>-357.637011</td>\n      <td>32.641073</td>\n      <td>32.641073</td>\n      <td>13.872645</td>\n      <td>2.132395</td>\n      <td>0.0</td>\n      <td>138.121442</td>\n      <td>2.053819</td>\n    </tr>\n    <tr>\n      <th>2</th>\n      <td>2000</td>\n      <td>12</td>\n      <td>2</td>\n      <td>1.341269</td>\n      <td>1.102592</td>\n      <td>0.216925</td>\n      <td>199.343475</td>\n      <td>31.142068</td>\n      <td>80.295254</td>\n      <td>142.265787</td>\n      <td>...</td>\n      <td>2.464919</td>\n      <td>62.256618</td>\n      <td>276.214036</td>\n      <td>23.097371</td>\n      <td>23.097371</td>\n      <td>14.251809</td>\n      <td>2.464919</td>\n      <td>0.0</td>\n      <td>91.966698</td>\n      <td>2.344200</td>\n    </tr>\n    <tr>\n      <th>3</th>\n      <td>2001</td>\n      <td>3</td>\n      <td>2</td>\n      <td>1.273293</td>\n      <td>0.993598</td>\n      <td>0.048841</td>\n      <td>204.196952</td>\n      <td>30.351105</td>\n      <td>80.701038</td>\n      <td>128.473806</td>\n      <td>...</td>\n      <td>2.137396</td>\n      <td>95.155789</td>\n      <td>-39.533610</td>\n      <td>54.039416</td>\n      <td>54.039416</td>\n      <td>21.860891</td>\n      <td>2.137396</td>\n      <td>0.0</td>\n      <td>-735.557312</td>\n      <td>1.789780</td>\n    </tr>\n    <tr>\n      <th>4</th>\n      <td>2001</td>\n      <td>6</td>\n      <td>0</td>\n      <td>1.061408</td>\n      <td>0.808535</td>\n      <td>0.037329</td>\n      <td>178.772138</td>\n      <td>27.899411</td>\n      <td>71.980213</td>\n      <td>130.063525</td>\n      <td>...</td>\n      <td>2.034605</td>\n      <td>91.948859</td>\n      <td>26.232707</td>\n      <td>10.227671</td>\n      <td>10.227671</td>\n      <td>21.757138</td>\n      <td>2.034605</td>\n      <td>0.0</td>\n      <td>6.597145</td>\n      <td>1.764326</td>\n    </tr>\n  </tbody>\n</table>\n<p>5 rows × 57 columns</p>\n</div>"
     },
     "metadata": {},
     "execution_count": 3
    }
   ],
   "source": [
    "#reading in data\n",
    "#dropping extra index\n",
    "df = pd.read_csv('Data/FDX_quarterly_data.csv')\n",
    "df = df.drop(['Unnamed: 0'], axis=1)\n",
    "df.head()"
   ]
  },
  {
   "cell_type": "code",
   "execution_count": 4,
   "metadata": {},
   "outputs": [
    {
     "output_type": "execute_result",
     "data": {
      "text/plain": [
       "    year  month  decision  currentRatio  quickRatio  cashRatio  \\\n",
       "0   2000      6         2      1.136186    0.904524   0.023507   \n",
       "1   2000      9         1      1.201710    0.974555   0.062247   \n",
       "2   2000     12         2      1.341269    1.102592   0.216925   \n",
       "3   2001      3         2      1.273293    0.993598   0.048841   \n",
       "4   2001      6         0      1.061408    0.808535   0.037329   \n",
       "..   ...    ...       ...           ...         ...        ...   \n",
       "77  2019      9         0      1.310216    1.177755   0.240463   \n",
       "78  2019     12         0      1.251351    1.113113   0.192567   \n",
       "79  2020      3         0      1.214625    1.073995   0.171041   \n",
       "80  2020      6         2      1.583817    1.448473   0.471868   \n",
       "81  2020      9         1      1.688522    1.559803   0.621170   \n",
       "\n",
       "    daysOfSalesOutstanding  daysOfInventoryOutstanding  operatingCycle  \\\n",
       "0               191.731841                   11.900236       59.176580   \n",
       "1               197.680531                   30.000269       78.743413   \n",
       "2               199.343475                   31.142068       80.295254   \n",
       "3               204.196952                   30.351105       80.701038   \n",
       "4               178.772138                   27.899411       71.980213   \n",
       "..                     ...                         ...             ...   \n",
       "77              199.371187                    3.811983       52.972002   \n",
       "78              204.559282                    3.689155       54.128430   \n",
       "79              194.595700                    3.556174       51.538675   \n",
       "80              212.422514                    3.705196       56.083351   \n",
       "81              198.510429                    3.543354       52.491131   \n",
       "\n",
       "    daysOfPayablesOutstanding  ...  priceToSalesRatio  priceEarningsRatio  \\\n",
       "0                   52.247979  ...           1.848972           36.594439   \n",
       "1                  126.905678  ...           2.132395           60.418305   \n",
       "2                  142.265787  ...           2.464919           62.256618   \n",
       "3                  128.473806  ...           2.137396           95.155789   \n",
       "4                  130.063525  ...           2.034605           91.948859   \n",
       "..                        ...  ...                ...                 ...   \n",
       "77                  21.112013  ...           2.377346           54.401340   \n",
       "78                  21.026900  ...           2.370898           73.345428   \n",
       "79                  19.990957  ...           2.080512          115.498134   \n",
       "80                  21.175327  ...           1.942924         -100.973859   \n",
       "81                  19.951534  ...           2.981113           46.263517   \n",
       "\n",
       "    priceToFreeCashFlowsRatio  priceToOperatingCashFlowsRatio  \\\n",
       "0                   25.600683                       11.958958   \n",
       "1                 -357.637011                       32.641073   \n",
       "2                  276.214036                       23.097371   \n",
       "3                  -39.533610                       54.039416   \n",
       "4                   26.232707                       10.227671   \n",
       "..                        ...                             ...   \n",
       "77                 -47.513480                       71.732741   \n",
       "78                -121.160588                       27.218979   \n",
       "79                -154.816648                       30.217535   \n",
       "80                  51.410471                       18.540555   \n",
       "81                  46.942200                       21.726925   \n",
       "\n",
       "    priceCashFlowRatio  priceEarningsToGrowthRatio  priceSalesRatio  \\\n",
       "0            11.958958                    8.402448         1.848972   \n",
       "1            32.641073                   13.872645         2.132395   \n",
       "2            23.097371                   14.251809         2.464919   \n",
       "3            54.039416                   21.860891         2.137396   \n",
       "4            10.227671                   21.757138         2.034605   \n",
       "..                 ...                         ...              ...   \n",
       "77           71.732741                   11.400699         2.377346   \n",
       "78           27.218979                   15.376029         2.370898   \n",
       "79           30.217535                   24.212862         2.080512   \n",
       "80           18.540555                  -21.249117         1.942924   \n",
       "81           21.726925                    9.735776         2.981113   \n",
       "\n",
       "    dividendYield  enterpriseValueMultiple  priceFairValue  \n",
       "0        0.000000                14.202780        1.873532  \n",
       "1        0.000000               138.121442        2.053819  \n",
       "2        0.000000                91.966698        2.344200  \n",
       "3        0.000000              -735.557312        1.789780  \n",
       "4        0.000000                 6.597145        1.764326  \n",
       "..            ...                      ...             ...  \n",
       "77       0.004195                30.588361        2.231036  \n",
       "78       0.004115                36.321008        2.201267  \n",
       "79       0.004673                40.628440        1.932022  \n",
       "80       0.005041                30.916064        1.843415  \n",
       "81       0.002951                29.351383        2.959515  \n",
       "\n",
       "[82 rows x 57 columns]"
      ],
      "text/html": "<div>\n<style scoped>\n    .dataframe tbody tr th:only-of-type {\n        vertical-align: middle;\n    }\n\n    .dataframe tbody tr th {\n        vertical-align: top;\n    }\n\n    .dataframe thead th {\n        text-align: right;\n    }\n</style>\n<table border=\"1\" class=\"dataframe\">\n  <thead>\n    <tr style=\"text-align: right;\">\n      <th></th>\n      <th>year</th>\n      <th>month</th>\n      <th>decision</th>\n      <th>currentRatio</th>\n      <th>quickRatio</th>\n      <th>cashRatio</th>\n      <th>daysOfSalesOutstanding</th>\n      <th>daysOfInventoryOutstanding</th>\n      <th>operatingCycle</th>\n      <th>daysOfPayablesOutstanding</th>\n      <th>...</th>\n      <th>priceToSalesRatio</th>\n      <th>priceEarningsRatio</th>\n      <th>priceToFreeCashFlowsRatio</th>\n      <th>priceToOperatingCashFlowsRatio</th>\n      <th>priceCashFlowRatio</th>\n      <th>priceEarningsToGrowthRatio</th>\n      <th>priceSalesRatio</th>\n      <th>dividendYield</th>\n      <th>enterpriseValueMultiple</th>\n      <th>priceFairValue</th>\n    </tr>\n  </thead>\n  <tbody>\n    <tr>\n      <th>0</th>\n      <td>2000</td>\n      <td>6</td>\n      <td>2</td>\n      <td>1.136186</td>\n      <td>0.904524</td>\n      <td>0.023507</td>\n      <td>191.731841</td>\n      <td>11.900236</td>\n      <td>59.176580</td>\n      <td>52.247979</td>\n      <td>...</td>\n      <td>1.848972</td>\n      <td>36.594439</td>\n      <td>25.600683</td>\n      <td>11.958958</td>\n      <td>11.958958</td>\n      <td>8.402448</td>\n      <td>1.848972</td>\n      <td>0.000000</td>\n      <td>14.202780</td>\n      <td>1.873532</td>\n    </tr>\n    <tr>\n      <th>1</th>\n      <td>2000</td>\n      <td>9</td>\n      <td>1</td>\n      <td>1.201710</td>\n      <td>0.974555</td>\n      <td>0.062247</td>\n      <td>197.680531</td>\n      <td>30.000269</td>\n      <td>78.743413</td>\n      <td>126.905678</td>\n      <td>...</td>\n      <td>2.132395</td>\n      <td>60.418305</td>\n      <td>-357.637011</td>\n      <td>32.641073</td>\n      <td>32.641073</td>\n      <td>13.872645</td>\n      <td>2.132395</td>\n      <td>0.000000</td>\n      <td>138.121442</td>\n      <td>2.053819</td>\n    </tr>\n    <tr>\n      <th>2</th>\n      <td>2000</td>\n      <td>12</td>\n      <td>2</td>\n      <td>1.341269</td>\n      <td>1.102592</td>\n      <td>0.216925</td>\n      <td>199.343475</td>\n      <td>31.142068</td>\n      <td>80.295254</td>\n      <td>142.265787</td>\n      <td>...</td>\n      <td>2.464919</td>\n      <td>62.256618</td>\n      <td>276.214036</td>\n      <td>23.097371</td>\n      <td>23.097371</td>\n      <td>14.251809</td>\n      <td>2.464919</td>\n      <td>0.000000</td>\n      <td>91.966698</td>\n      <td>2.344200</td>\n    </tr>\n    <tr>\n      <th>3</th>\n      <td>2001</td>\n      <td>3</td>\n      <td>2</td>\n      <td>1.273293</td>\n      <td>0.993598</td>\n      <td>0.048841</td>\n      <td>204.196952</td>\n      <td>30.351105</td>\n      <td>80.701038</td>\n      <td>128.473806</td>\n      <td>...</td>\n      <td>2.137396</td>\n      <td>95.155789</td>\n      <td>-39.533610</td>\n      <td>54.039416</td>\n      <td>54.039416</td>\n      <td>21.860891</td>\n      <td>2.137396</td>\n      <td>0.000000</td>\n      <td>-735.557312</td>\n      <td>1.789780</td>\n    </tr>\n    <tr>\n      <th>4</th>\n      <td>2001</td>\n      <td>6</td>\n      <td>0</td>\n      <td>1.061408</td>\n      <td>0.808535</td>\n      <td>0.037329</td>\n      <td>178.772138</td>\n      <td>27.899411</td>\n      <td>71.980213</td>\n      <td>130.063525</td>\n      <td>...</td>\n      <td>2.034605</td>\n      <td>91.948859</td>\n      <td>26.232707</td>\n      <td>10.227671</td>\n      <td>10.227671</td>\n      <td>21.757138</td>\n      <td>2.034605</td>\n      <td>0.000000</td>\n      <td>6.597145</td>\n      <td>1.764326</td>\n    </tr>\n    <tr>\n      <th>...</th>\n      <td>...</td>\n      <td>...</td>\n      <td>...</td>\n      <td>...</td>\n      <td>...</td>\n      <td>...</td>\n      <td>...</td>\n      <td>...</td>\n      <td>...</td>\n      <td>...</td>\n      <td>...</td>\n      <td>...</td>\n      <td>...</td>\n      <td>...</td>\n      <td>...</td>\n      <td>...</td>\n      <td>...</td>\n      <td>...</td>\n      <td>...</td>\n      <td>...</td>\n      <td>...</td>\n    </tr>\n    <tr>\n      <th>77</th>\n      <td>2019</td>\n      <td>9</td>\n      <td>0</td>\n      <td>1.310216</td>\n      <td>1.177755</td>\n      <td>0.240463</td>\n      <td>199.371187</td>\n      <td>3.811983</td>\n      <td>52.972002</td>\n      <td>21.112013</td>\n      <td>...</td>\n      <td>2.377346</td>\n      <td>54.401340</td>\n      <td>-47.513480</td>\n      <td>71.732741</td>\n      <td>71.732741</td>\n      <td>11.400699</td>\n      <td>2.377346</td>\n      <td>0.004195</td>\n      <td>30.588361</td>\n      <td>2.231036</td>\n    </tr>\n    <tr>\n      <th>78</th>\n      <td>2019</td>\n      <td>12</td>\n      <td>0</td>\n      <td>1.251351</td>\n      <td>1.113113</td>\n      <td>0.192567</td>\n      <td>204.559282</td>\n      <td>3.689155</td>\n      <td>54.128430</td>\n      <td>21.026900</td>\n      <td>...</td>\n      <td>2.370898</td>\n      <td>73.345428</td>\n      <td>-121.160588</td>\n      <td>27.218979</td>\n      <td>27.218979</td>\n      <td>15.376029</td>\n      <td>2.370898</td>\n      <td>0.004115</td>\n      <td>36.321008</td>\n      <td>2.201267</td>\n    </tr>\n    <tr>\n      <th>79</th>\n      <td>2020</td>\n      <td>3</td>\n      <td>0</td>\n      <td>1.214625</td>\n      <td>1.073995</td>\n      <td>0.171041</td>\n      <td>194.595700</td>\n      <td>3.556174</td>\n      <td>51.538675</td>\n      <td>19.990957</td>\n      <td>...</td>\n      <td>2.080512</td>\n      <td>115.498134</td>\n      <td>-154.816648</td>\n      <td>30.217535</td>\n      <td>30.217535</td>\n      <td>24.212862</td>\n      <td>2.080512</td>\n      <td>0.004673</td>\n      <td>40.628440</td>\n      <td>1.932022</td>\n    </tr>\n    <tr>\n      <th>80</th>\n      <td>2020</td>\n      <td>6</td>\n      <td>2</td>\n      <td>1.583817</td>\n      <td>1.448473</td>\n      <td>0.471868</td>\n      <td>212.422514</td>\n      <td>3.705196</td>\n      <td>56.083351</td>\n      <td>21.175327</td>\n      <td>...</td>\n      <td>1.942924</td>\n      <td>-100.973859</td>\n      <td>51.410471</td>\n      <td>18.540555</td>\n      <td>18.540555</td>\n      <td>-21.249117</td>\n      <td>1.942924</td>\n      <td>0.005041</td>\n      <td>30.916064</td>\n      <td>1.843415</td>\n    </tr>\n    <tr>\n      <th>81</th>\n      <td>2020</td>\n      <td>9</td>\n      <td>1</td>\n      <td>1.688522</td>\n      <td>1.559803</td>\n      <td>0.621170</td>\n      <td>198.510429</td>\n      <td>3.543354</td>\n      <td>52.491131</td>\n      <td>19.951534</td>\n      <td>...</td>\n      <td>2.981113</td>\n      <td>46.263517</td>\n      <td>46.942200</td>\n      <td>21.726925</td>\n      <td>21.726925</td>\n      <td>9.735776</td>\n      <td>2.981113</td>\n      <td>0.002951</td>\n      <td>29.351383</td>\n      <td>2.959515</td>\n    </tr>\n  </tbody>\n</table>\n<p>82 rows × 57 columns</p>\n</div>"
     },
     "metadata": {},
     "execution_count": 4
    }
   ],
   "source": [
    "#splitting data\n",
    "X = df.drop(['decision'], 1)\n",
    "y = df.decision\n",
    "\n",
    "#train test split\n",
    "X_train, X_test, y_train, y_test, = train_test_split(X, y)\n",
    "df"
   ]
  },
  {
   "cell_type": "code",
   "execution_count": 5,
   "metadata": {},
   "outputs": [],
   "source": [
    "#algorithms\n",
    "from sklearn.ensemble import RandomForestClassifier\n",
    "from sklearn.tree import DecisionTreeClassifier\n",
    "from sklearn.neighbors import KNeighborsClassifier"
   ]
  },
  {
   "cell_type": "code",
   "execution_count": 6,
   "metadata": {},
   "outputs": [],
   "source": [
    "#creating pipelines \n",
    "#Random Forest\n",
    "pipeline_rf = Pipeline([('scale', StandardScaler()), ('clf', RandomForestClassifier())])\n",
    "\n",
    "#DecisionTree\n",
    "pipeline_dt = Pipeline([('scale', StandardScaler()), ('clf', DecisionTreeClassifier())])\n",
    "\n",
    "#K Nearest Neighbors\n",
    "pipeline_knn = Pipeline([('scale', StandardScaler()), ('clf', KNeighborsClassifier())])"
   ]
  },
  {
   "cell_type": "code",
   "execution_count": 7,
   "metadata": {},
   "outputs": [],
   "source": [
    "#creating dictionary for models\n",
    "pipelines = [pipeline_rf, pipeline_dt, pipeline_knn]\n",
    "\n",
    "models = ['RandomForest', 'DecisionTree', 'KNN']\n",
    "model_pipelines = dict(zip(models, pipelines))"
   ]
  },
  {
   "cell_type": "code",
   "execution_count": 8,
   "metadata": {
    "tags": []
   },
   "outputs": [
    {
     "output_type": "stream",
     "name": "stdout",
     "text": [
      "Pipeline(steps=[('scale', StandardScaler()), ('clf', RandomForestClassifier())])\n",
      "Pipeline(steps=[('scale', StandardScaler()), ('clf', DecisionTreeClassifier())])\n",
      "Pipeline(steps=[('scale', StandardScaler()), ('clf', KNeighborsClassifier())])\n"
     ]
    }
   ],
   "source": [
    "# Looping through each Pipeline to fit and train each model\n",
    "for name, pipe in model_pipelines.items():\n",
    "    print(pipe)\n",
    "    pipe.fit(X_train, y_train)"
   ]
  },
  {
   "cell_type": "code",
   "execution_count": 9,
   "metadata": {
    "tags": []
   },
   "outputs": [
    {
     "output_type": "stream",
     "name": "stdout",
     "text": [
      "\nRandomForest (Macro Avg - F1 Score):\n0.3945868945868946\n\nDecisionTree (Macro Avg - F1 Score):\n0.24444444444444444\n\nKNN (Macro Avg - F1 Score):\n0.3446693657219973\n"
     ]
    }
   ],
   "source": [
    "# Dictionary containing the model names and their scores\n",
    "models_f1 = {}\n",
    "\n",
    "# Looping through each model's predictions and getting their classification reports\n",
    "for name, pipe in model_pipelines.items():\n",
    "    print('\\n'+ name + ' (Macro Avg - F1 Score):')\n",
    "    \n",
    "    # Classification Report\n",
    "    report = classification_report(y_test, pipe.predict(X_test), target_names=['Sell','Buy', 'Hold'], output_dict=True)\n",
    "    f1 = report['macro avg']['f1-score']\n",
    "    \n",
    "    # Assigning to the Dictionary\n",
    "    models_f1[name] = f1\n",
    "\n",
    "    print(f1)"
   ]
  },
  {
   "cell_type": "code",
   "execution_count": 10,
   "metadata": {},
   "outputs": [],
   "source": [
    "# Creating parameters to iterate through for each classifier\n",
    "rf_params = {'clf__n_estimators': [10,50,100,200],\n",
    "             'clf__criterion': ['gini', 'entropy'],\n",
    "             'clf__max_depth': [None, 2, 5],\n",
    "             'clf__min_samples_split': [2,4,8],\n",
    "             'clf__min_samples_leaf': [1, 2, 5]}\n",
    "\n",
    "dt_params = {'clf__criterion': ['gini', 'entropy'],\n",
    "             'clf__splitter': ['best', 'random'],\n",
    "             'clf__max_depth': [None, 2, 5],\n",
    "             'clf__min_samples_split': [2, 4, 8],\n",
    "             'clf__min_samples_leaf': [1,3,5]}\n",
    "\n",
    "knn_params = {\"clf__n_neighbors\": [5, 25, 50, 100, 200],\n",
    "              \"clf__weights\": ['uniform', 'distance'],\n",
    "              \"clf__p\": [1,2]}"
   ]
  },
  {
   "cell_type": "code",
   "execution_count": 15,
   "metadata": {},
   "outputs": [
    {
     "output_type": "execute_result",
     "data": {
      "text/plain": [
       "{'RandomForest': [Pipeline(steps=[('scale', StandardScaler()), ('clf', RandomForestClassifier())]),\n",
       "  {'clf__n_estimators': [10, 50, 100, 200],\n",
       "   'clf__criterion': ['gini', 'entropy'],\n",
       "   'clf__max_depth': [None, 2, 5],\n",
       "   'clf__min_samples_split': [2, 4, 8],\n",
       "   'clf__min_samples_leaf': [1, 2, 5]}],\n",
       " 'DecisionTree': [Pipeline(steps=[('scale', StandardScaler()), ('clf', DecisionTreeClassifier())]),\n",
       "  {'clf__criterion': ['gini', 'entropy'],\n",
       "   'clf__splitter': ['best', 'random'],\n",
       "   'clf__max_depth': [None, 2, 5],\n",
       "   'clf__min_samples_split': [2, 4, 8],\n",
       "   'clf__min_samples_leaf': [1, 3, 5]}]}"
      ]
     },
     "metadata": {},
     "execution_count": 15
    }
   ],
   "source": [
    "# Dictionary of classifiers with their params\n",
    "classifiers = {'RandomForest': [pipeline_rf, rf_params], 'DecisionTree': [pipeline_dt, dt_params]}\n",
    "classifiers"
   ]
  },
  {
   "cell_type": "code",
   "execution_count": 16,
   "metadata": {
    "tags": [
     "outputPrepend"
    ]
   },
   "outputs": [
    {
     "output_type": "stream",
     "name": "stdout",
     "text": [
      "plitter=random, total=   0.0s\n",
      "[CV] clf__criterion=entropy, clf__max_depth=2, clf__min_samples_leaf=3, clf__min_samples_split=8, clf__splitter=best \n",
      "[CV]  clf__criterion=entropy, clf__max_depth=2, clf__min_samples_leaf=3, clf__min_samples_split=8, clf__splitter=best, total=   0.0s\n",
      "[CV] clf__criterion=entropy, clf__max_depth=2, clf__min_samples_leaf=3, clf__min_samples_split=8, clf__splitter=best \n",
      "[CV]  clf__criterion=entropy, clf__max_depth=2, clf__min_samples_leaf=3, clf__min_samples_split=8, clf__splitter=best, total=   0.0s\n",
      "[CV] clf__criterion=entropy, clf__max_depth=2, clf__min_samples_leaf=3, clf__min_samples_split=8, clf__splitter=best \n",
      "[CV]  clf__criterion=entropy, clf__max_depth=2, clf__min_samples_leaf=3, clf__min_samples_split=8, clf__splitter=best, total=   0.0s\n",
      "[CV] clf__criterion=entropy, clf__max_depth=2, clf__min_samples_leaf=3, clf__min_samples_split=8, clf__splitter=random \n",
      "[CV]  clf__criterion=entropy, clf__max_depth=2, clf__min_samples_leaf=3, clf__min_samples_split=8, clf__splitter=random, total=   0.0s\n",
      "[CV] clf__criterion=entropy, clf__max_depth=2, clf__min_samples_leaf=3, clf__min_samples_split=8, clf__splitter=random \n",
      "[CV]  clf__criterion=entropy, clf__max_depth=2, clf__min_samples_leaf=3, clf__min_samples_split=8, clf__splitter=random, total=   0.0s\n",
      "[CV] clf__criterion=entropy, clf__max_depth=2, clf__min_samples_leaf=3, clf__min_samples_split=8, clf__splitter=random \n",
      "[CV]  clf__criterion=entropy, clf__max_depth=2, clf__min_samples_leaf=3, clf__min_samples_split=8, clf__splitter=random, total=   0.0s\n",
      "[CV] clf__criterion=entropy, clf__max_depth=2, clf__min_samples_leaf=5, clf__min_samples_split=2, clf__splitter=best \n",
      "[CV]  clf__criterion=entropy, clf__max_depth=2, clf__min_samples_leaf=5, clf__min_samples_split=2, clf__splitter=best, total=   0.0s\n",
      "[CV] clf__criterion=entropy, clf__max_depth=2, clf__min_samples_leaf=5, clf__min_samples_split=2, clf__splitter=best \n",
      "[CV]  clf__criterion=entropy, clf__max_depth=2, clf__min_samples_leaf=5, clf__min_samples_split=2, clf__splitter=best, total=   0.0s\n",
      "[CV] clf__criterion=entropy, clf__max_depth=2, clf__min_samples_leaf=5, clf__min_samples_split=2, clf__splitter=best \n",
      "[CV]  clf__criterion=entropy, clf__max_depth=2, clf__min_samples_leaf=5, clf__min_samples_split=2, clf__splitter=best, total=   0.0s\n",
      "[CV] clf__criterion=entropy, clf__max_depth=2, clf__min_samples_leaf=5, clf__min_samples_split=2, clf__splitter=random \n",
      "[CV]  clf__criterion=entropy, clf__max_depth=2, clf__min_samples_leaf=5, clf__min_samples_split=2, clf__splitter=random, total=   0.0s\n",
      "[CV] clf__criterion=entropy, clf__max_depth=2, clf__min_samples_leaf=5, clf__min_samples_split=2, clf__splitter=random \n",
      "[CV]  clf__criterion=entropy, clf__max_depth=2, clf__min_samples_leaf=5, clf__min_samples_split=2, clf__splitter=random, total=   0.0s\n",
      "[CV] clf__criterion=entropy, clf__max_depth=2, clf__min_samples_leaf=5, clf__min_samples_split=2, clf__splitter=random \n",
      "[CV]  clf__criterion=entropy, clf__max_depth=2, clf__min_samples_leaf=5, clf__min_samples_split=2, clf__splitter=random, total=   0.0s\n",
      "[CV] clf__criterion=entropy, clf__max_depth=2, clf__min_samples_leaf=5, clf__min_samples_split=4, clf__splitter=best \n",
      "[CV]  clf__criterion=entropy, clf__max_depth=2, clf__min_samples_leaf=5, clf__min_samples_split=4, clf__splitter=best, total=   0.0s\n",
      "[CV] clf__criterion=entropy, clf__max_depth=2, clf__min_samples_leaf=5, clf__min_samples_split=4, clf__splitter=best \n",
      "[CV]  clf__criterion=entropy, clf__max_depth=2, clf__min_samples_leaf=5, clf__min_samples_split=4, clf__splitter=best, total=   0.0s\n",
      "[CV] clf__criterion=entropy, clf__max_depth=2, clf__min_samples_leaf=5, clf__min_samples_split=4, clf__splitter=best \n",
      "[CV]  clf__criterion=entropy, clf__max_depth=2, clf__min_samples_leaf=5, clf__min_samples_split=4, clf__splitter=best, total=   0.0s\n",
      "[CV] clf__criterion=entropy, clf__max_depth=2, clf__min_samples_leaf=5, clf__min_samples_split=4, clf__splitter=random \n",
      "[CV]  clf__criterion=entropy, clf__max_depth=2, clf__min_samples_leaf=5, clf__min_samples_split=4, clf__splitter=random, total=   0.0s\n",
      "[CV] clf__criterion=entropy, clf__max_depth=2, clf__min_samples_leaf=5, clf__min_samples_split=4, clf__splitter=random \n",
      "[CV]  clf__criterion=entropy, clf__max_depth=2, clf__min_samples_leaf=5, clf__min_samples_split=4, clf__splitter=random, total=   0.0s\n",
      "[CV] clf__criterion=entropy, clf__max_depth=2, clf__min_samples_leaf=5, clf__min_samples_split=4, clf__splitter=random \n",
      "[CV]  clf__criterion=entropy, clf__max_depth=2, clf__min_samples_leaf=5, clf__min_samples_split=4, clf__splitter=random, total=   0.0s\n",
      "[CV] clf__criterion=entropy, clf__max_depth=2, clf__min_samples_leaf=5, clf__min_samples_split=8, clf__splitter=best \n",
      "[CV]  clf__criterion=entropy, clf__max_depth=2, clf__min_samples_leaf=5, clf__min_samples_split=8, clf__splitter=best, total=   0.0s\n",
      "[CV] clf__criterion=entropy, clf__max_depth=2, clf__min_samples_leaf=5, clf__min_samples_split=8, clf__splitter=best \n",
      "[CV]  clf__criterion=entropy, clf__max_depth=2, clf__min_samples_leaf=5, clf__min_samples_split=8, clf__splitter=best, total=   0.0s\n",
      "[CV] clf__criterion=entropy, clf__max_depth=2, clf__min_samples_leaf=5, clf__min_samples_split=8, clf__splitter=best \n",
      "[CV]  clf__criterion=entropy, clf__max_depth=2, clf__min_samples_leaf=5, clf__min_samples_split=8, clf__splitter=best, total=   0.0s\n",
      "[CV] clf__criterion=entropy, clf__max_depth=2, clf__min_samples_leaf=5, clf__min_samples_split=8, clf__splitter=random \n",
      "[CV]  clf__criterion=entropy, clf__max_depth=2, clf__min_samples_leaf=5, clf__min_samples_split=8, clf__splitter=random, total=   0.0s\n",
      "[CV] clf__criterion=entropy, clf__max_depth=2, clf__min_samples_leaf=5, clf__min_samples_split=8, clf__splitter=random \n",
      "[CV]  clf__criterion=entropy, clf__max_depth=2, clf__min_samples_leaf=5, clf__min_samples_split=8, clf__splitter=random, total=   0.0s\n",
      "[CV] clf__criterion=entropy, clf__max_depth=2, clf__min_samples_leaf=5, clf__min_samples_split=8, clf__splitter=random \n",
      "[CV]  clf__criterion=entropy, clf__max_depth=2, clf__min_samples_leaf=5, clf__min_samples_split=8, clf__splitter=random, total=   0.0s\n",
      "[CV] clf__criterion=entropy, clf__max_depth=5, clf__min_samples_leaf=1, clf__min_samples_split=2, clf__splitter=best \n",
      "[CV]  clf__criterion=entropy, clf__max_depth=5, clf__min_samples_leaf=1, clf__min_samples_split=2, clf__splitter=best, total=   0.0s\n",
      "[CV] clf__criterion=entropy, clf__max_depth=5, clf__min_samples_leaf=1, clf__min_samples_split=2, clf__splitter=best \n",
      "[CV]  clf__criterion=entropy, clf__max_depth=5, clf__min_samples_leaf=1, clf__min_samples_split=2, clf__splitter=best, total=   0.0s\n",
      "[CV] clf__criterion=entropy, clf__max_depth=5, clf__min_samples_leaf=1, clf__min_samples_split=2, clf__splitter=best \n",
      "[CV]  clf__criterion=entropy, clf__max_depth=5, clf__min_samples_leaf=1, clf__min_samples_split=2, clf__splitter=best, total=   0.0s\n",
      "[CV] clf__criterion=entropy, clf__max_depth=5, clf__min_samples_leaf=1, clf__min_samples_split=2, clf__splitter=random \n",
      "[CV]  clf__criterion=entropy, clf__max_depth=5, clf__min_samples_leaf=1, clf__min_samples_split=2, clf__splitter=random, total=   0.0s\n",
      "[CV] clf__criterion=entropy, clf__max_depth=5, clf__min_samples_leaf=1, clf__min_samples_split=2, clf__splitter=random \n",
      "[CV]  clf__criterion=entropy, clf__max_depth=5, clf__min_samples_leaf=1, clf__min_samples_split=2, clf__splitter=random, total=   0.0s\n",
      "[CV] clf__criterion=entropy, clf__max_depth=5, clf__min_samples_leaf=1, clf__min_samples_split=2, clf__splitter=random \n",
      "[CV]  clf__criterion=entropy, clf__max_depth=5, clf__min_samples_leaf=1, clf__min_samples_split=2, clf__splitter=random, total=   0.0s\n",
      "[CV] clf__criterion=entropy, clf__max_depth=5, clf__min_samples_leaf=1, clf__min_samples_split=4, clf__splitter=best \n",
      "[CV]  clf__criterion=entropy, clf__max_depth=5, clf__min_samples_leaf=1, clf__min_samples_split=4, clf__splitter=best, total=   0.0s\n",
      "[CV] clf__criterion=entropy, clf__max_depth=5, clf__min_samples_leaf=1, clf__min_samples_split=4, clf__splitter=best \n",
      "[CV]  clf__criterion=entropy, clf__max_depth=5, clf__min_samples_leaf=1, clf__min_samples_split=4, clf__splitter=best, total=   0.0s\n",
      "[CV] clf__criterion=entropy, clf__max_depth=5, clf__min_samples_leaf=1, clf__min_samples_split=4, clf__splitter=best \n",
      "[CV]  clf__criterion=entropy, clf__max_depth=5, clf__min_samples_leaf=1, clf__min_samples_split=4, clf__splitter=best, total=   0.0s\n",
      "[CV] clf__criterion=entropy, clf__max_depth=5, clf__min_samples_leaf=1, clf__min_samples_split=4, clf__splitter=random \n",
      "[CV]  clf__criterion=entropy, clf__max_depth=5, clf__min_samples_leaf=1, clf__min_samples_split=4, clf__splitter=random, total=   0.0s\n",
      "[CV] clf__criterion=entropy, clf__max_depth=5, clf__min_samples_leaf=1, clf__min_samples_split=4, clf__splitter=random \n",
      "[CV]  clf__criterion=entropy, clf__max_depth=5, clf__min_samples_leaf=1, clf__min_samples_split=4, clf__splitter=random, total=   0.0s\n",
      "[CV] clf__criterion=entropy, clf__max_depth=5, clf__min_samples_leaf=1, clf__min_samples_split=4, clf__splitter=random \n",
      "[CV]  clf__criterion=entropy, clf__max_depth=5, clf__min_samples_leaf=1, clf__min_samples_split=4, clf__splitter=random, total=   0.0s\n",
      "[CV] clf__criterion=entropy, clf__max_depth=5, clf__min_samples_leaf=1, clf__min_samples_split=8, clf__splitter=best \n",
      "[CV]  clf__criterion=entropy, clf__max_depth=5, clf__min_samples_leaf=1, clf__min_samples_split=8, clf__splitter=best, total=   0.0s\n",
      "[CV] clf__criterion=entropy, clf__max_depth=5, clf__min_samples_leaf=1, clf__min_samples_split=8, clf__splitter=best \n",
      "[CV]  clf__criterion=entropy, clf__max_depth=5, clf__min_samples_leaf=1, clf__min_samples_split=8, clf__splitter=best, total=   0.0s\n",
      "[CV] clf__criterion=entropy, clf__max_depth=5, clf__min_samples_leaf=1, clf__min_samples_split=8, clf__splitter=best \n",
      "[CV]  clf__criterion=entropy, clf__max_depth=5, clf__min_samples_leaf=1, clf__min_samples_split=8, clf__splitter=best, total=   0.0s\n",
      "[CV] clf__criterion=entropy, clf__max_depth=5, clf__min_samples_leaf=1, clf__min_samples_split=8, clf__splitter=random \n",
      "[CV]  clf__criterion=entropy, clf__max_depth=5, clf__min_samples_leaf=1, clf__min_samples_split=8, clf__splitter=random, total=   0.0s\n",
      "[CV] clf__criterion=entropy, clf__max_depth=5, clf__min_samples_leaf=1, clf__min_samples_split=8, clf__splitter=random \n",
      "[CV]  clf__criterion=entropy, clf__max_depth=5, clf__min_samples_leaf=1, clf__min_samples_split=8, clf__splitter=random, total=   0.0s\n",
      "[CV] clf__criterion=entropy, clf__max_depth=5, clf__min_samples_leaf=1, clf__min_samples_split=8, clf__splitter=random \n",
      "[CV]  clf__criterion=entropy, clf__max_depth=5, clf__min_samples_leaf=1, clf__min_samples_split=8, clf__splitter=random, total=   0.0s\n",
      "[CV] clf__criterion=entropy, clf__max_depth=5, clf__min_samples_leaf=3, clf__min_samples_split=2, clf__splitter=best \n",
      "[CV]  clf__criterion=entropy, clf__max_depth=5, clf__min_samples_leaf=3, clf__min_samples_split=2, clf__splitter=best, total=   0.0s\n",
      "[CV] clf__criterion=entropy, clf__max_depth=5, clf__min_samples_leaf=3, clf__min_samples_split=2, clf__splitter=best \n",
      "[CV]  clf__criterion=entropy, clf__max_depth=5, clf__min_samples_leaf=3, clf__min_samples_split=2, clf__splitter=best, total=   0.0s\n",
      "[CV] clf__criterion=entropy, clf__max_depth=5, clf__min_samples_leaf=3, clf__min_samples_split=2, clf__splitter=best \n",
      "[CV]  clf__criterion=entropy, clf__max_depth=5, clf__min_samples_leaf=3, clf__min_samples_split=2, clf__splitter=best, total=   0.0s\n",
      "[CV] clf__criterion=entropy, clf__max_depth=5, clf__min_samples_leaf=3, clf__min_samples_split=2, clf__splitter=random \n",
      "[CV]  clf__criterion=entropy, clf__max_depth=5, clf__min_samples_leaf=3, clf__min_samples_split=2, clf__splitter=random, total=   0.0s\n",
      "[CV] clf__criterion=entropy, clf__max_depth=5, clf__min_samples_leaf=3, clf__min_samples_split=2, clf__splitter=random \n",
      "[CV]  clf__criterion=entropy, clf__max_depth=5, clf__min_samples_leaf=3, clf__min_samples_split=2, clf__splitter=random, total=   0.0s\n",
      "[CV] clf__criterion=entropy, clf__max_depth=5, clf__min_samples_leaf=3, clf__min_samples_split=2, clf__splitter=random \n",
      "[CV]  clf__criterion=entropy, clf__max_depth=5, clf__min_samples_leaf=3, clf__min_samples_split=2, clf__splitter=random, total=   0.0s\n",
      "[CV] clf__criterion=entropy, clf__max_depth=5, clf__min_samples_leaf=3, clf__min_samples_split=4, clf__splitter=best \n",
      "[CV]  clf__criterion=entropy, clf__max_depth=5, clf__min_samples_leaf=3, clf__min_samples_split=4, clf__splitter=best, total=   0.0s\n",
      "[CV] clf__criterion=entropy, clf__max_depth=5, clf__min_samples_leaf=3, clf__min_samples_split=4, clf__splitter=best \n",
      "[CV]  clf__criterion=entropy, clf__max_depth=5, clf__min_samples_leaf=3, clf__min_samples_split=4, clf__splitter=best, total=   0.0s\n",
      "[CV] clf__criterion=entropy, clf__max_depth=5, clf__min_samples_leaf=3, clf__min_samples_split=4, clf__splitter=best \n",
      "[CV]  clf__criterion=entropy, clf__max_depth=5, clf__min_samples_leaf=3, clf__min_samples_split=4, clf__splitter=best, total=   0.0s\n",
      "[CV] clf__criterion=entropy, clf__max_depth=5, clf__min_samples_leaf=3, clf__min_samples_split=4, clf__splitter=random \n",
      "[CV]  clf__criterion=entropy, clf__max_depth=5, clf__min_samples_leaf=3, clf__min_samples_split=4, clf__splitter=random, total=   0.0s\n",
      "[CV] clf__criterion=entropy, clf__max_depth=5, clf__min_samples_leaf=3, clf__min_samples_split=4, clf__splitter=random \n",
      "[CV]  clf__criterion=entropy, clf__max_depth=5, clf__min_samples_leaf=3, clf__min_samples_split=4, clf__splitter=random, total=   0.0s\n",
      "[CV] clf__criterion=entropy, clf__max_depth=5, clf__min_samples_leaf=3, clf__min_samples_split=4, clf__splitter=random \n",
      "[CV]  clf__criterion=entropy, clf__max_depth=5, clf__min_samples_leaf=3, clf__min_samples_split=4, clf__splitter=random, total=   0.0s\n",
      "[CV] clf__criterion=entropy, clf__max_depth=5, clf__min_samples_leaf=3, clf__min_samples_split=8, clf__splitter=best \n",
      "[CV]  clf__criterion=entropy, clf__max_depth=5, clf__min_samples_leaf=3, clf__min_samples_split=8, clf__splitter=best, total=   0.0s\n",
      "[CV] clf__criterion=entropy, clf__max_depth=5, clf__min_samples_leaf=3, clf__min_samples_split=8, clf__splitter=best \n",
      "[CV]  clf__criterion=entropy, clf__max_depth=5, clf__min_samples_leaf=3, clf__min_samples_split=8, clf__splitter=best, total=   0.0s\n",
      "[CV] clf__criterion=entropy, clf__max_depth=5, clf__min_samples_leaf=3, clf__min_samples_split=8, clf__splitter=best \n",
      "[CV]  clf__criterion=entropy, clf__max_depth=5, clf__min_samples_leaf=3, clf__min_samples_split=8, clf__splitter=best, total=   0.0s\n",
      "[CV] clf__criterion=entropy, clf__max_depth=5, clf__min_samples_leaf=3, clf__min_samples_split=8, clf__splitter=random \n",
      "[CV]  clf__criterion=entropy, clf__max_depth=5, clf__min_samples_leaf=3, clf__min_samples_split=8, clf__splitter=random, total=   0.0s\n",
      "[CV] clf__criterion=entropy, clf__max_depth=5, clf__min_samples_leaf=3, clf__min_samples_split=8, clf__splitter=random \n",
      "[CV]  clf__criterion=entropy, clf__max_depth=5, clf__min_samples_leaf=3, clf__min_samples_split=8, clf__splitter=random, total=   0.0s\n",
      "[CV] clf__criterion=entropy, clf__max_depth=5, clf__min_samples_leaf=3, clf__min_samples_split=8, clf__splitter=random \n",
      "[CV]  clf__criterion=entropy, clf__max_depth=5, clf__min_samples_leaf=3, clf__min_samples_split=8, clf__splitter=random, total=   0.0s\n",
      "[CV] clf__criterion=entropy, clf__max_depth=5, clf__min_samples_leaf=5, clf__min_samples_split=2, clf__splitter=best \n",
      "[CV]  clf__criterion=entropy, clf__max_depth=5, clf__min_samples_leaf=5, clf__min_samples_split=2, clf__splitter=best, total=   0.0s\n",
      "[CV] clf__criterion=entropy, clf__max_depth=5, clf__min_samples_leaf=5, clf__min_samples_split=2, clf__splitter=best \n",
      "[CV]  clf__criterion=entropy, clf__max_depth=5, clf__min_samples_leaf=5, clf__min_samples_split=2, clf__splitter=best, total=   0.0s\n",
      "[CV] clf__criterion=entropy, clf__max_depth=5, clf__min_samples_leaf=5, clf__min_samples_split=2, clf__splitter=best \n",
      "[CV]  clf__criterion=entropy, clf__max_depth=5, clf__min_samples_leaf=5, clf__min_samples_split=2, clf__splitter=best, total=   0.0s\n",
      "[CV] clf__criterion=entropy, clf__max_depth=5, clf__min_samples_leaf=5, clf__min_samples_split=2, clf__splitter=random \n",
      "[CV]  clf__criterion=entropy, clf__max_depth=5, clf__min_samples_leaf=5, clf__min_samples_split=2, clf__splitter=random, total=   0.0s\n",
      "[CV] clf__criterion=entropy, clf__max_depth=5, clf__min_samples_leaf=5, clf__min_samples_split=2, clf__splitter=random \n",
      "[CV]  clf__criterion=entropy, clf__max_depth=5, clf__min_samples_leaf=5, clf__min_samples_split=2, clf__splitter=random, total=   0.0s\n",
      "[CV] clf__criterion=entropy, clf__max_depth=5, clf__min_samples_leaf=5, clf__min_samples_split=2, clf__splitter=random \n",
      "[CV]  clf__criterion=entropy, clf__max_depth=5, clf__min_samples_leaf=5, clf__min_samples_split=2, clf__splitter=random, total=   0.0s\n",
      "[CV] clf__criterion=entropy, clf__max_depth=5, clf__min_samples_leaf=5, clf__min_samples_split=4, clf__splitter=best \n",
      "[CV]  clf__criterion=entropy, clf__max_depth=5, clf__min_samples_leaf=5, clf__min_samples_split=4, clf__splitter=best, total=   0.0s\n",
      "[CV] clf__criterion=entropy, clf__max_depth=5, clf__min_samples_leaf=5, clf__min_samples_split=4, clf__splitter=best \n",
      "[CV]  clf__criterion=entropy, clf__max_depth=5, clf__min_samples_leaf=5, clf__min_samples_split=4, clf__splitter=best, total=   0.0s\n",
      "[CV] clf__criterion=entropy, clf__max_depth=5, clf__min_samples_leaf=5, clf__min_samples_split=4, clf__splitter=best \n",
      "[CV]  clf__criterion=entropy, clf__max_depth=5, clf__min_samples_leaf=5, clf__min_samples_split=4, clf__splitter=best, total=   0.0s\n",
      "[CV] clf__criterion=entropy, clf__max_depth=5, clf__min_samples_leaf=5, clf__min_samples_split=4, clf__splitter=random \n",
      "[CV]  clf__criterion=entropy, clf__max_depth=5, clf__min_samples_leaf=5, clf__min_samples_split=4, clf__splitter=random, total=   0.0s\n",
      "[CV] clf__criterion=entropy, clf__max_depth=5, clf__min_samples_leaf=5, clf__min_samples_split=4, clf__splitter=random \n",
      "[CV]  clf__criterion=entropy, clf__max_depth=5, clf__min_samples_leaf=5, clf__min_samples_split=4, clf__splitter=random, total=   0.0s\n",
      "[CV] clf__criterion=entropy, clf__max_depth=5, clf__min_samples_leaf=5, clf__min_samples_split=4, clf__splitter=random \n",
      "[CV]  clf__criterion=entropy, clf__max_depth=5, clf__min_samples_leaf=5, clf__min_samples_split=4, clf__splitter=random, total=   0.0s\n",
      "[CV] clf__criterion=entropy, clf__max_depth=5, clf__min_samples_leaf=5, clf__min_samples_split=8, clf__splitter=best \n",
      "[CV]  clf__criterion=entropy, clf__max_depth=5, clf__min_samples_leaf=5, clf__min_samples_split=8, clf__splitter=best, total=   0.0s\n",
      "[CV] clf__criterion=entropy, clf__max_depth=5, clf__min_samples_leaf=5, clf__min_samples_split=8, clf__splitter=best \n",
      "[CV]  clf__criterion=entropy, clf__max_depth=5, clf__min_samples_leaf=5, clf__min_samples_split=8, clf__splitter=best, total=   0.0s\n",
      "[CV] clf__criterion=entropy, clf__max_depth=5, clf__min_samples_leaf=5, clf__min_samples_split=8, clf__splitter=best \n",
      "[CV]  clf__criterion=entropy, clf__max_depth=5, clf__min_samples_leaf=5, clf__min_samples_split=8, clf__splitter=best, total=   0.0s\n",
      "[CV] clf__criterion=entropy, clf__max_depth=5, clf__min_samples_leaf=5, clf__min_samples_split=8, clf__splitter=random \n",
      "[CV]  clf__criterion=entropy, clf__max_depth=5, clf__min_samples_leaf=5, clf__min_samples_split=8, clf__splitter=random, total=   0.0s\n",
      "[CV] clf__criterion=entropy, clf__max_depth=5, clf__min_samples_leaf=5, clf__min_samples_split=8, clf__splitter=random \n",
      "[CV]  clf__criterion=entropy, clf__max_depth=5, clf__min_samples_leaf=5, clf__min_samples_split=8, clf__splitter=random, total=   0.0s\n",
      "[CV] clf__criterion=entropy, clf__max_depth=5, clf__min_samples_leaf=5, clf__min_samples_split=8, clf__splitter=random \n",
      "[CV]  clf__criterion=entropy, clf__max_depth=5, clf__min_samples_leaf=5, clf__min_samples_split=8, clf__splitter=random, total=   0.0s\n",
      "DecisionTree Best Parameters:  {'clf__criterion': 'gini', 'clf__max_depth': None, 'clf__min_samples_leaf': 1, 'clf__min_samples_split': 8, 'clf__splitter': 'random'}\n",
      "[Parallel(n_jobs=1)]: Done 324 out of 324 | elapsed:    9.9s finished\n"
     ]
    }
   ],
   "source": [
    "# Dictionary storing the best estimators for each classifier\n",
    "best_est = {}\n",
    "\n",
    "# Grid Searching each classifier\n",
    "for name, vals in classifiers.items():\n",
    "    print(name + ' -'*30)\n",
    "    \n",
    "    # Grid Searching \n",
    "    gridsearch = GridSearchCV(vals[0], vals[1] , cv=3, return_train_score=True, verbose=2, scoring='f1_macro')\n",
    "    gridsearch.fit(X_train, y_train)\n",
    "    \n",
    "    # Printing out the best parameters for the selected classifier\n",
    "    print(name+' Best Parameters: ', gridsearch.best_params_)\n",
    "    \n",
    "    # Saving the best estimators/tuned models\n",
    "    best_est[name+'_clf'] = gridsearch.best_estimator_"
   ]
  },
  {
   "cell_type": "code",
   "execution_count": 19,
   "metadata": {
    "tags": []
   },
   "outputs": [
    {
     "output_type": "stream",
     "name": "stdout",
     "text": [
      "\nTuned RandomForest_clf (Macro Avg - F1 Score):\n0.39595141700404857\n\nTuned DecisionTree_clf (Macro Avg - F1 Score):\n0.3257759784075574\n"
     ]
    }
   ],
   "source": [
    "# Looping through each tuned model's predictions and getting their classification reports\n",
    "for name, pipe in best_est.items():\n",
    "    print('\\nTuned '+ name + ' (Macro Avg - F1 Score):')\n",
    "    \n",
    "    report = classification_report(y_test, pipe.predict(X_test), target_names=['Buy', 'Sell', 'Hold'], output_dict=True)\n",
    "    print(report['macro avg']['f1-score'])"
   ]
  },
  {
   "cell_type": "code",
   "execution_count": 27,
   "metadata": {},
   "outputs": [],
   "source": [
    "#saving the ml model via pickle\n",
    "import pickle\n",
    "\n",
    "ml_model = pickle.dump(pipeline_rf, open('rfclassifier.pkl', 'wb'))"
   ]
  },
  {
   "cell_type": "code",
   "execution_count": 28,
   "metadata": {},
   "outputs": [
    {
     "output_type": "stream",
     "name": "stdout",
     "text": [
      "[0 2 1 0 2 0 0 1 1 0 1 1 0 1 1 0 0 0 2 2 1]\n"
     ]
    }
   ],
   "source": [
    "#loading and testing ml model via pickle\n",
    "model = pickle.load(open('rfclassifier.pkl', 'rb'))\n",
    "print(model.predict(X_test))"
   ]
  },
  {
   "cell_type": "code",
   "execution_count": 29,
   "metadata": {},
   "outputs": [],
   "source": [
    "def plot_confusion_matrix(y_true, y_pred, labels=[\"Buy\", \"Sell\", \"Hold\"], normalize=False, title=None, cmap=plt.cm.coolwarm):\n",
    "\n",
    "    cm = confusion_matrix(y_true, y_pred)\n",
    "    fig, ax = plt.subplots(figsize=(12,6))\n",
    "    im = ax.imshow(cm, interpolation='nearest', cmap=cmap)\n",
    "    ax.figure.colorbar(im, ax=ax)\n",
    "    # We want to show all ticks...\n",
    "    ax.set(xticks=np.arange(cm.shape[1]),\n",
    "           yticks=np.arange(cm.shape[0]),\n",
    "           # ... and label them with the respective list entries\n",
    "           xticklabels=labels, yticklabels=labels,\n",
    "           title=title,\n",
    "           ylabel='ACTUAL',\n",
    "           xlabel='PREDICTED')\n",
    "    # Rotate the tick labels and set their alignment.\n",
    "    plt.setp(ax.get_xticklabels(), rotation=45, ha=\"right\",\n",
    "             rotation_mode=\"anchor\")\n",
    "    # Loop over data dimensions and create text annotations.\n",
    "    fmt = '.2f' if normalize else 'd'\n",
    "    thresh = cm.max() / 1.5\n",
    "    for i in range(cm.shape[0]):\n",
    "        for j in range(cm.shape[1]):\n",
    "            ax.text(j, i, format(cm[i, j], fmt),\n",
    "                    ha=\"center\", va=\"center\",\n",
    "                    color=\"snow\" if cm[i, j] > thresh else \"orange\",\n",
    "                    size=26)\n",
    "    ax.grid(False)\n",
    "    fig.tight_layout()\n",
    "    return ax\n"
   ]
  },
  {
   "cell_type": "code",
   "execution_count": 21,
   "metadata": {
    "tags": []
   },
   "outputs": [
    {
     "output_type": "display_data",
     "data": {
      "text/plain": "<Figure size 864x432 with 2 Axes>",
      "image/svg+xml": "<?xml version=\"1.0\" encoding=\"utf-8\" standalone=\"no\"?>\r\n<!DOCTYPE svg PUBLIC \"-//W3C//DTD SVG 1.1//EN\"\r\n  \"http://www.w3.org/Graphics/SVG/1.1/DTD/svg11.dtd\">\r\n<!-- Created with matplotlib (https://matplotlib.org/) -->\r\n<svg height=\"423.379699pt\" version=\"1.1\" viewBox=\"0 0 481.080616 423.379699\" width=\"481.080616pt\" xmlns=\"http://www.w3.org/2000/svg\" xmlns:xlink=\"http://www.w3.org/1999/xlink\">\r\n <metadata>\r\n  <rdf:RDF xmlns:cc=\"http://creativecommons.org/ns#\" xmlns:dc=\"http://purl.org/dc/elements/1.1/\" xmlns:rdf=\"http://www.w3.org/1999/02/22-rdf-syntax-ns#\">\r\n   <cc:Work>\r\n    <dc:type rdf:resource=\"http://purl.org/dc/dcmitype/StillImage\"/>\r\n    <dc:date>2021-01-18T19:10:43.427421</dc:date>\r\n    <dc:format>image/svg+xml</dc:format>\r\n    <dc:creator>\r\n     <cc:Agent>\r\n      <dc:title>Matplotlib v3.3.2, https://matplotlib.org/</dc:title>\r\n     </cc:Agent>\r\n    </dc:creator>\r\n   </cc:Work>\r\n  </rdf:RDF>\r\n </metadata>\r\n <defs>\r\n  <style type=\"text/css\">*{stroke-linecap:butt;stroke-linejoin:round;}</style>\r\n </defs>\r\n <g id=\"figure_1\">\r\n  <g id=\"patch_1\">\r\n   <path d=\"M 0 423.379699 \r\nL 481.080616 423.379699 \r\nL 481.080616 0 \r\nL 0 0 \r\nz\r\n\" style=\"fill:none;\"/>\r\n  </g>\r\n  <g id=\"axes_1\">\r\n   <g id=\"patch_2\">\r\n    <path d=\"M 50.64375 372.560378 \r\nL 400.886003 372.560378 \r\nL 400.886003 22.318125 \r\nL 50.64375 22.318125 \r\nz\r\n\" style=\"fill:#ffffff;\"/>\r\n   </g>\r\n   <g clip-path=\"url(#p8284759f05)\">\r\n    <image height=\"351\" id=\"image42533eaea9\" transform=\"scale(1 -1)translate(0 -351)\" width=\"351\" x=\"50.64375\" xlink:href=\"data:image/png;base64,\r\niVBORw0KGgoAAAANSUhEUgAAAV8AAAFfCAYAAADptc+BAAAFDElEQVR4nO3WsU1CYQCFUZ9hCieBxsQBaOyYwNYJqKwsjCyDnQUNxJo1KJzgscSffAmcM8Gtvtzp8vE2P3BT1qdNPYHBXl6X9QQGe6wHANwj8QUIiC9AQHwBAuILEBBfgID4AgTEFyAgvgAB8QUIiC9AQHwBAuILEBBfgID4AgTEFyAgvgAB8QUIiC9AQHwBAuILEBBfgID4AgTEFyAgvgAB8QUIiC9AQHwBAuILEBBfgID4AgTEFyAgvgAB8QUIiC9AQHwBAuILEBBfgID4AgTEFyAgvgAB8QUIiC9AQHwBAuILEBBfgID4AgTEFyAgvgAB8QUIiC9AQHwBAuILEBBfgID4AgTEFyAgvgAB8QUIiC9AQHwBAuILEBBfgID4AgTEFyAgvgAB8QUIiC9AQHwBAuILEBBfgID4AgTEFyAgvgAB8QUIiC9AQHwBAuILEBBfgID4AgTEFyAgvgAB8QUIiC9AQHwBAuILEBBfgID4AgTEFyAgvgAB8QUIiC9AQHwBAuILEBBfgID4AgTEFyAgvgAB8QUIiC9AQHwBAuILEBBfgID4AgTEFyAgvgAB8QUIiC9AQHwBAuILEBBfgID4AgTEFyAgvgAB8QUIiC9AQHwBAouvp129gcF+tr/1BAb7PNcLGM3zBQiIL0BAfAEC4gsQEF+AgPgCBMQXICC+AAHxBQiIL0BAfAEC4gsQEF+AgPgCBMQXICC+AAHxBQiIL0BAfAEC4gsQEF+AgPgCBMQXICC+AAHxBQiIL0BAfAEC4gsQEF+AgPgCBMQXICC+AAHxBQiIL0BAfAEC4gsQEF+AgPgCBMQXICC+AAHxBQiIL0BAfAEC4gsQEF+AgPgCBMQXICC+AAHxBQiIL0BAfAEC4gsQEF+AgPgCBMQXICC+AAHxBQiIL0BAfAEC4gsQEF+AgPgCBMQXICC+AAHxBQiIL0BAfAEC4gsQEF+AgPgCBMQXICC+AAHxBQiIL0BAfAEC4gsQEF+AgPgCBMQXICC+AAHxBQiIL0BAfAEC4gsQEF+AgPgCBMQXICC+AAHxBQiIL0BAfAEC4gsQEF+AgPgCBMQXICC+AAHxBQiIL0BAfAEC4gsQEF+AgPgCBMQXICC+AAHxBQiIL0BAfAEC4gsQEF+AgPgCBMQXICC+AAHxBQiIL0BAfAEC4gsQmP7/9nM9grEOq/d6AoM9H7/rCQzm+QIExBcgIL4AAfEFCIgvQEB8AQLiCxAQX4CA+AIExBcgIL4AAfEFCIgvQEB8AQLiCxAQX4CA+AIExBcgIL4AAfEFCIgvQEB8AQLiCxAQX4CA+AIExBcgIL4AAfEFCIgvQEB8AQLiCxAQX4CA+AIExBcgIL4AAfEFCIgvQEB8AQLiCxAQX4CA+AIExBcgIL4AAfEFCIgvQEB8AQLiCxAQX4CA+AIExBcgIL4AAfEFCIgvQEB8AQLiCxAQX4CA+AIExBcgIL4AAfEFCIgvQEB8AQLiCxAQX4CA+AIExBcgIL4AAfEFCIgvQEB8AQLiCxAQX4CA+AIExBcgIL4AAfEFCIgvQEB8AQLiCxAQX4CA+AIExBcgIL4AAfEFCIgvQEB8AQLiCxAQX4CA+AIExBcgIL4AAfEFCIgvQEB8AQLiCxAQX4CA+AIExBcgIL4AAfEFCIgvQEB8AQLiCxAQX4CA+AIExBcgIL4AAfEFCIgvQEB8AQLiCxAQX4CA+AIExBcgIL4AAfEFCFwBMxMSyV1whqIAAAAASUVORK5CYII=\" y=\"-21.560378\"/>\r\n   </g>\r\n   <g id=\"matplotlib.axis_1\">\r\n    <g id=\"xtick_1\">\r\n     <g id=\"line2d_1\">\r\n      <defs>\r\n       <path d=\"M 0 0 \r\nL 0 3.5 \r\n\" id=\"me405aa9e14\" style=\"stroke:#000000;stroke-width:0.8;\"/>\r\n      </defs>\r\n      <g>\r\n       <use style=\"stroke:#000000;stroke-width:0.8;\" x=\"109.017459\" xlink:href=\"#me405aa9e14\" y=\"372.560378\"/>\r\n      </g>\r\n     </g>\r\n     <g id=\"text_1\">\r\n      <!-- Buy -->\r\n      <g transform=\"translate(100.872473 398.451178)rotate(-45)scale(0.1 -0.1)\">\r\n       <defs>\r\n        <path d=\"M 19.671875 34.8125 \r\nL 19.671875 8.109375 \r\nL 35.5 8.109375 \r\nQ 43.453125 8.109375 47.28125 11.40625 \r\nQ 51.125 14.703125 51.125 21.484375 \r\nQ 51.125 28.328125 47.28125 31.5625 \r\nQ 43.453125 34.8125 35.5 34.8125 \r\nz\r\nM 19.671875 64.796875 \r\nL 19.671875 42.828125 \r\nL 34.28125 42.828125 \r\nQ 41.5 42.828125 45.03125 45.53125 \r\nQ 48.578125 48.25 48.578125 53.8125 \r\nQ 48.578125 59.328125 45.03125 62.0625 \r\nQ 41.5 64.796875 34.28125 64.796875 \r\nz\r\nM 9.8125 72.90625 \r\nL 35.015625 72.90625 \r\nQ 46.296875 72.90625 52.390625 68.21875 \r\nQ 58.5 63.53125 58.5 54.890625 \r\nQ 58.5 48.1875 55.375 44.234375 \r\nQ 52.25 40.28125 46.1875 39.3125 \r\nQ 53.46875 37.75 57.5 32.78125 \r\nQ 61.53125 27.828125 61.53125 20.40625 \r\nQ 61.53125 10.640625 54.890625 5.3125 \r\nQ 48.25 0 35.984375 0 \r\nL 9.8125 0 \r\nz\r\n\" id=\"DejaVuSans-66\"/>\r\n        <path d=\"M 8.5 21.578125 \r\nL 8.5 54.6875 \r\nL 17.484375 54.6875 \r\nL 17.484375 21.921875 \r\nQ 17.484375 14.15625 20.5 10.265625 \r\nQ 23.53125 6.390625 29.59375 6.390625 \r\nQ 36.859375 6.390625 41.078125 11.03125 \r\nQ 45.3125 15.671875 45.3125 23.6875 \r\nL 45.3125 54.6875 \r\nL 54.296875 54.6875 \r\nL 54.296875 0 \r\nL 45.3125 0 \r\nL 45.3125 8.40625 \r\nQ 42.046875 3.421875 37.71875 1 \r\nQ 33.40625 -1.421875 27.6875 -1.421875 \r\nQ 18.265625 -1.421875 13.375 4.4375 \r\nQ 8.5 10.296875 8.5 21.578125 \r\nz\r\nM 31.109375 56 \r\nz\r\n\" id=\"DejaVuSans-117\"/>\r\n        <path d=\"M 32.171875 -5.078125 \r\nQ 28.375 -14.84375 24.75 -17.8125 \r\nQ 21.140625 -20.796875 15.09375 -20.796875 \r\nL 7.90625 -20.796875 \r\nL 7.90625 -13.28125 \r\nL 13.1875 -13.28125 \r\nQ 16.890625 -13.28125 18.9375 -11.515625 \r\nQ 21 -9.765625 23.484375 -3.21875 \r\nL 25.09375 0.875 \r\nL 2.984375 54.6875 \r\nL 12.5 54.6875 \r\nL 29.59375 11.921875 \r\nL 46.6875 54.6875 \r\nL 56.203125 54.6875 \r\nz\r\n\" id=\"DejaVuSans-121\"/>\r\n       </defs>\r\n       <use xlink:href=\"#DejaVuSans-66\"/>\r\n       <use x=\"68.603516\" xlink:href=\"#DejaVuSans-117\"/>\r\n       <use x=\"131.982422\" xlink:href=\"#DejaVuSans-121\"/>\r\n      </g>\r\n     </g>\r\n    </g>\r\n    <g id=\"xtick_2\">\r\n     <g id=\"line2d_2\">\r\n      <g>\r\n       <use style=\"stroke:#000000;stroke-width:0.8;\" x=\"225.764876\" xlink:href=\"#me405aa9e14\" y=\"372.560378\"/>\r\n      </g>\r\n     </g>\r\n     <g id=\"text_2\">\r\n      <!-- Sell -->\r\n      <g transform=\"translate(218.368981 397.702086)rotate(-45)scale(0.1 -0.1)\">\r\n       <defs>\r\n        <path d=\"M 53.515625 70.515625 \r\nL 53.515625 60.890625 \r\nQ 47.90625 63.578125 42.921875 64.890625 \r\nQ 37.9375 66.21875 33.296875 66.21875 \r\nQ 25.25 66.21875 20.875 63.09375 \r\nQ 16.5 59.96875 16.5 54.203125 \r\nQ 16.5 49.359375 19.40625 46.890625 \r\nQ 22.3125 44.4375 30.421875 42.921875 \r\nL 36.375 41.703125 \r\nQ 47.40625 39.59375 52.65625 34.296875 \r\nQ 57.90625 29 57.90625 20.125 \r\nQ 57.90625 9.515625 50.796875 4.046875 \r\nQ 43.703125 -1.421875 29.984375 -1.421875 \r\nQ 24.8125 -1.421875 18.96875 -0.25 \r\nQ 13.140625 0.921875 6.890625 3.21875 \r\nL 6.890625 13.375 \r\nQ 12.890625 10.015625 18.65625 8.296875 \r\nQ 24.421875 6.59375 29.984375 6.59375 \r\nQ 38.421875 6.59375 43.015625 9.90625 \r\nQ 47.609375 13.234375 47.609375 19.390625 \r\nQ 47.609375 24.75 44.3125 27.78125 \r\nQ 41.015625 30.8125 33.5 32.328125 \r\nL 27.484375 33.5 \r\nQ 16.453125 35.6875 11.515625 40.375 \r\nQ 6.59375 45.0625 6.59375 53.421875 \r\nQ 6.59375 63.09375 13.40625 68.65625 \r\nQ 20.21875 74.21875 32.171875 74.21875 \r\nQ 37.3125 74.21875 42.625 73.28125 \r\nQ 47.953125 72.359375 53.515625 70.515625 \r\nz\r\n\" id=\"DejaVuSans-83\"/>\r\n        <path d=\"M 56.203125 29.59375 \r\nL 56.203125 25.203125 \r\nL 14.890625 25.203125 \r\nQ 15.484375 15.921875 20.484375 11.0625 \r\nQ 25.484375 6.203125 34.421875 6.203125 \r\nQ 39.59375 6.203125 44.453125 7.46875 \r\nQ 49.3125 8.734375 54.109375 11.28125 \r\nL 54.109375 2.78125 \r\nQ 49.265625 0.734375 44.1875 -0.34375 \r\nQ 39.109375 -1.421875 33.890625 -1.421875 \r\nQ 20.796875 -1.421875 13.15625 6.1875 \r\nQ 5.515625 13.8125 5.515625 26.8125 \r\nQ 5.515625 40.234375 12.765625 48.109375 \r\nQ 20.015625 56 32.328125 56 \r\nQ 43.359375 56 49.78125 48.890625 \r\nQ 56.203125 41.796875 56.203125 29.59375 \r\nz\r\nM 47.21875 32.234375 \r\nQ 47.125 39.59375 43.09375 43.984375 \r\nQ 39.0625 48.390625 32.421875 48.390625 \r\nQ 24.90625 48.390625 20.390625 44.140625 \r\nQ 15.875 39.890625 15.1875 32.171875 \r\nz\r\n\" id=\"DejaVuSans-101\"/>\r\n        <path d=\"M 9.421875 75.984375 \r\nL 18.40625 75.984375 \r\nL 18.40625 0 \r\nL 9.421875 0 \r\nz\r\n\" id=\"DejaVuSans-108\"/>\r\n       </defs>\r\n       <use xlink:href=\"#DejaVuSans-83\"/>\r\n       <use x=\"63.476562\" xlink:href=\"#DejaVuSans-101\"/>\r\n       <use x=\"125\" xlink:href=\"#DejaVuSans-108\"/>\r\n       <use x=\"152.783203\" xlink:href=\"#DejaVuSans-108\"/>\r\n      </g>\r\n     </g>\r\n    </g>\r\n    <g id=\"xtick_3\">\r\n     <g id=\"line2d_3\">\r\n      <g>\r\n       <use style=\"stroke:#000000;stroke-width:0.8;\" x=\"342.512294\" xlink:href=\"#me405aa9e14\" y=\"372.560378\"/>\r\n      </g>\r\n     </g>\r\n     <g id=\"text_3\">\r\n      <!-- Hold -->\r\n      <g transform=\"translate(331.787473 401.031012)rotate(-45)scale(0.1 -0.1)\">\r\n       <defs>\r\n        <path d=\"M 9.8125 72.90625 \r\nL 19.671875 72.90625 \r\nL 19.671875 43.015625 \r\nL 55.515625 43.015625 \r\nL 55.515625 72.90625 \r\nL 65.375 72.90625 \r\nL 65.375 0 \r\nL 55.515625 0 \r\nL 55.515625 34.71875 \r\nL 19.671875 34.71875 \r\nL 19.671875 0 \r\nL 9.8125 0 \r\nz\r\n\" id=\"DejaVuSans-72\"/>\r\n        <path d=\"M 30.609375 48.390625 \r\nQ 23.390625 48.390625 19.1875 42.75 \r\nQ 14.984375 37.109375 14.984375 27.296875 \r\nQ 14.984375 17.484375 19.15625 11.84375 \r\nQ 23.34375 6.203125 30.609375 6.203125 \r\nQ 37.796875 6.203125 41.984375 11.859375 \r\nQ 46.1875 17.53125 46.1875 27.296875 \r\nQ 46.1875 37.015625 41.984375 42.703125 \r\nQ 37.796875 48.390625 30.609375 48.390625 \r\nz\r\nM 30.609375 56 \r\nQ 42.328125 56 49.015625 48.375 \r\nQ 55.71875 40.765625 55.71875 27.296875 \r\nQ 55.71875 13.875 49.015625 6.21875 \r\nQ 42.328125 -1.421875 30.609375 -1.421875 \r\nQ 18.84375 -1.421875 12.171875 6.21875 \r\nQ 5.515625 13.875 5.515625 27.296875 \r\nQ 5.515625 40.765625 12.171875 48.375 \r\nQ 18.84375 56 30.609375 56 \r\nz\r\n\" id=\"DejaVuSans-111\"/>\r\n        <path d=\"M 45.40625 46.390625 \r\nL 45.40625 75.984375 \r\nL 54.390625 75.984375 \r\nL 54.390625 0 \r\nL 45.40625 0 \r\nL 45.40625 8.203125 \r\nQ 42.578125 3.328125 38.25 0.953125 \r\nQ 33.9375 -1.421875 27.875 -1.421875 \r\nQ 17.96875 -1.421875 11.734375 6.484375 \r\nQ 5.515625 14.40625 5.515625 27.296875 \r\nQ 5.515625 40.1875 11.734375 48.09375 \r\nQ 17.96875 56 27.875 56 \r\nQ 33.9375 56 38.25 53.625 \r\nQ 42.578125 51.265625 45.40625 46.390625 \r\nz\r\nM 14.796875 27.296875 \r\nQ 14.796875 17.390625 18.875 11.75 \r\nQ 22.953125 6.109375 30.078125 6.109375 \r\nQ 37.203125 6.109375 41.296875 11.75 \r\nQ 45.40625 17.390625 45.40625 27.296875 \r\nQ 45.40625 37.203125 41.296875 42.84375 \r\nQ 37.203125 48.484375 30.078125 48.484375 \r\nQ 22.953125 48.484375 18.875 42.84375 \r\nQ 14.796875 37.203125 14.796875 27.296875 \r\nz\r\n\" id=\"DejaVuSans-100\"/>\r\n       </defs>\r\n       <use xlink:href=\"#DejaVuSans-72\"/>\r\n       <use x=\"75.195312\" xlink:href=\"#DejaVuSans-111\"/>\r\n       <use x=\"136.376953\" xlink:href=\"#DejaVuSans-108\"/>\r\n       <use x=\"164.160156\" xlink:href=\"#DejaVuSans-100\"/>\r\n      </g>\r\n     </g>\r\n    </g>\r\n    <g id=\"text_4\">\r\n     <!-- PREDICTED -->\r\n     <g transform=\"translate(197.236751 414.100011)scale(0.1 -0.1)\">\r\n      <defs>\r\n       <path d=\"M 19.671875 64.796875 \r\nL 19.671875 37.40625 \r\nL 32.078125 37.40625 \r\nQ 38.96875 37.40625 42.71875 40.96875 \r\nQ 46.484375 44.53125 46.484375 51.125 \r\nQ 46.484375 57.671875 42.71875 61.234375 \r\nQ 38.96875 64.796875 32.078125 64.796875 \r\nz\r\nM 9.8125 72.90625 \r\nL 32.078125 72.90625 \r\nQ 44.34375 72.90625 50.609375 67.359375 \r\nQ 56.890625 61.8125 56.890625 51.125 \r\nQ 56.890625 40.328125 50.609375 34.8125 \r\nQ 44.34375 29.296875 32.078125 29.296875 \r\nL 19.671875 29.296875 \r\nL 19.671875 0 \r\nL 9.8125 0 \r\nz\r\n\" id=\"DejaVuSans-80\"/>\r\n       <path d=\"M 44.390625 34.1875 \r\nQ 47.5625 33.109375 50.5625 29.59375 \r\nQ 53.5625 26.078125 56.59375 19.921875 \r\nL 66.609375 0 \r\nL 56 0 \r\nL 46.6875 18.703125 \r\nQ 43.0625 26.03125 39.671875 28.421875 \r\nQ 36.28125 30.8125 30.421875 30.8125 \r\nL 19.671875 30.8125 \r\nL 19.671875 0 \r\nL 9.8125 0 \r\nL 9.8125 72.90625 \r\nL 32.078125 72.90625 \r\nQ 44.578125 72.90625 50.734375 67.671875 \r\nQ 56.890625 62.453125 56.890625 51.90625 \r\nQ 56.890625 45.015625 53.6875 40.46875 \r\nQ 50.484375 35.9375 44.390625 34.1875 \r\nz\r\nM 19.671875 64.796875 \r\nL 19.671875 38.921875 \r\nL 32.078125 38.921875 \r\nQ 39.203125 38.921875 42.84375 42.21875 \r\nQ 46.484375 45.515625 46.484375 51.90625 \r\nQ 46.484375 58.296875 42.84375 61.546875 \r\nQ 39.203125 64.796875 32.078125 64.796875 \r\nz\r\n\" id=\"DejaVuSans-82\"/>\r\n       <path d=\"M 9.8125 72.90625 \r\nL 55.90625 72.90625 \r\nL 55.90625 64.59375 \r\nL 19.671875 64.59375 \r\nL 19.671875 43.015625 \r\nL 54.390625 43.015625 \r\nL 54.390625 34.71875 \r\nL 19.671875 34.71875 \r\nL 19.671875 8.296875 \r\nL 56.78125 8.296875 \r\nL 56.78125 0 \r\nL 9.8125 0 \r\nz\r\n\" id=\"DejaVuSans-69\"/>\r\n       <path d=\"M 19.671875 64.796875 \r\nL 19.671875 8.109375 \r\nL 31.59375 8.109375 \r\nQ 46.6875 8.109375 53.6875 14.9375 \r\nQ 60.6875 21.78125 60.6875 36.53125 \r\nQ 60.6875 51.171875 53.6875 57.984375 \r\nQ 46.6875 64.796875 31.59375 64.796875 \r\nz\r\nM 9.8125 72.90625 \r\nL 30.078125 72.90625 \r\nQ 51.265625 72.90625 61.171875 64.09375 \r\nQ 71.09375 55.28125 71.09375 36.53125 \r\nQ 71.09375 17.671875 61.125 8.828125 \r\nQ 51.171875 0 30.078125 0 \r\nL 9.8125 0 \r\nz\r\n\" id=\"DejaVuSans-68\"/>\r\n       <path d=\"M 9.8125 72.90625 \r\nL 19.671875 72.90625 \r\nL 19.671875 0 \r\nL 9.8125 0 \r\nz\r\n\" id=\"DejaVuSans-73\"/>\r\n       <path d=\"M 64.40625 67.28125 \r\nL 64.40625 56.890625 \r\nQ 59.421875 61.53125 53.78125 63.8125 \r\nQ 48.140625 66.109375 41.796875 66.109375 \r\nQ 29.296875 66.109375 22.65625 58.46875 \r\nQ 16.015625 50.828125 16.015625 36.375 \r\nQ 16.015625 21.96875 22.65625 14.328125 \r\nQ 29.296875 6.6875 41.796875 6.6875 \r\nQ 48.140625 6.6875 53.78125 8.984375 \r\nQ 59.421875 11.28125 64.40625 15.921875 \r\nL 64.40625 5.609375 \r\nQ 59.234375 2.09375 53.4375 0.328125 \r\nQ 47.65625 -1.421875 41.21875 -1.421875 \r\nQ 24.65625 -1.421875 15.125 8.703125 \r\nQ 5.609375 18.84375 5.609375 36.375 \r\nQ 5.609375 53.953125 15.125 64.078125 \r\nQ 24.65625 74.21875 41.21875 74.21875 \r\nQ 47.75 74.21875 53.53125 72.484375 \r\nQ 59.328125 70.75 64.40625 67.28125 \r\nz\r\n\" id=\"DejaVuSans-67\"/>\r\n       <path d=\"M -0.296875 72.90625 \r\nL 61.375 72.90625 \r\nL 61.375 64.59375 \r\nL 35.5 64.59375 \r\nL 35.5 0 \r\nL 25.59375 0 \r\nL 25.59375 64.59375 \r\nL -0.296875 64.59375 \r\nz\r\n\" id=\"DejaVuSans-84\"/>\r\n      </defs>\r\n      <use xlink:href=\"#DejaVuSans-80\"/>\r\n      <use x=\"60.302734\" xlink:href=\"#DejaVuSans-82\"/>\r\n      <use x=\"129.785156\" xlink:href=\"#DejaVuSans-69\"/>\r\n      <use x=\"192.96875\" xlink:href=\"#DejaVuSans-68\"/>\r\n      <use x=\"269.970703\" xlink:href=\"#DejaVuSans-73\"/>\r\n      <use x=\"299.462891\" xlink:href=\"#DejaVuSans-67\"/>\r\n      <use x=\"369.287109\" xlink:href=\"#DejaVuSans-84\"/>\r\n      <use x=\"430.371094\" xlink:href=\"#DejaVuSans-69\"/>\r\n      <use x=\"493.554688\" xlink:href=\"#DejaVuSans-68\"/>\r\n     </g>\r\n    </g>\r\n   </g>\r\n   <g id=\"matplotlib.axis_2\">\r\n    <g id=\"ytick_1\">\r\n     <g id=\"line2d_4\">\r\n      <defs>\r\n       <path d=\"M 0 0 \r\nL -3.5 0 \r\n\" id=\"m9acfd4d196\" style=\"stroke:#000000;stroke-width:0.8;\"/>\r\n      </defs>\r\n      <g>\r\n       <use style=\"stroke:#000000;stroke-width:0.8;\" x=\"50.64375\" xlink:href=\"#m9acfd4d196\" y=\"80.691834\"/>\r\n      </g>\r\n     </g>\r\n     <g id=\"text_5\">\r\n      <!-- Buy -->\r\n      <g transform=\"translate(24.526563 84.491053)scale(0.1 -0.1)\">\r\n       <use xlink:href=\"#DejaVuSans-66\"/>\r\n       <use x=\"68.603516\" xlink:href=\"#DejaVuSans-117\"/>\r\n       <use x=\"131.982422\" xlink:href=\"#DejaVuSans-121\"/>\r\n      </g>\r\n     </g>\r\n    </g>\r\n    <g id=\"ytick_2\">\r\n     <g id=\"line2d_5\">\r\n      <g>\r\n       <use style=\"stroke:#000000;stroke-width:0.8;\" x=\"50.64375\" xlink:href=\"#m9acfd4d196\" y=\"197.439251\"/>\r\n      </g>\r\n     </g>\r\n     <g id=\"text_6\">\r\n      <!-- Sell -->\r\n      <g transform=\"translate(25.585938 201.23847)scale(0.1 -0.1)\">\r\n       <use xlink:href=\"#DejaVuSans-83\"/>\r\n       <use x=\"63.476562\" xlink:href=\"#DejaVuSans-101\"/>\r\n       <use x=\"125\" xlink:href=\"#DejaVuSans-108\"/>\r\n       <use x=\"152.783203\" xlink:href=\"#DejaVuSans-108\"/>\r\n      </g>\r\n     </g>\r\n    </g>\r\n    <g id=\"ytick_3\">\r\n     <g id=\"line2d_6\">\r\n      <g>\r\n       <use style=\"stroke:#000000;stroke-width:0.8;\" x=\"50.64375\" xlink:href=\"#m9acfd4d196\" y=\"314.186669\"/>\r\n      </g>\r\n     </g>\r\n     <g id=\"text_7\">\r\n      <!-- Hold -->\r\n      <g transform=\"translate(20.878125 317.985888)scale(0.1 -0.1)\">\r\n       <use xlink:href=\"#DejaVuSans-72\"/>\r\n       <use x=\"75.195312\" xlink:href=\"#DejaVuSans-111\"/>\r\n       <use x=\"136.376953\" xlink:href=\"#DejaVuSans-108\"/>\r\n       <use x=\"164.160156\" xlink:href=\"#DejaVuSans-100\"/>\r\n      </g>\r\n     </g>\r\n    </g>\r\n    <g id=\"text_8\">\r\n     <!-- ACTUAL -->\r\n     <g transform=\"translate(14.798438 217.183001)rotate(-90)scale(0.1 -0.1)\">\r\n      <defs>\r\n       <path d=\"M 34.1875 63.1875 \r\nL 20.796875 26.90625 \r\nL 47.609375 26.90625 \r\nz\r\nM 28.609375 72.90625 \r\nL 39.796875 72.90625 \r\nL 67.578125 0 \r\nL 57.328125 0 \r\nL 50.6875 18.703125 \r\nL 17.828125 18.703125 \r\nL 11.1875 0 \r\nL 0.78125 0 \r\nz\r\n\" id=\"DejaVuSans-65\"/>\r\n       <path d=\"M 8.6875 72.90625 \r\nL 18.609375 72.90625 \r\nL 18.609375 28.609375 \r\nQ 18.609375 16.890625 22.84375 11.734375 \r\nQ 27.09375 6.59375 36.625 6.59375 \r\nQ 46.09375 6.59375 50.34375 11.734375 \r\nQ 54.59375 16.890625 54.59375 28.609375 \r\nL 54.59375 72.90625 \r\nL 64.5 72.90625 \r\nL 64.5 27.390625 \r\nQ 64.5 13.140625 57.4375 5.859375 \r\nQ 50.390625 -1.421875 36.625 -1.421875 \r\nQ 22.796875 -1.421875 15.734375 5.859375 \r\nQ 8.6875 13.140625 8.6875 27.390625 \r\nz\r\n\" id=\"DejaVuSans-85\"/>\r\n       <path d=\"M 9.8125 72.90625 \r\nL 19.671875 72.90625 \r\nL 19.671875 8.296875 \r\nL 55.171875 8.296875 \r\nL 55.171875 0 \r\nL 9.8125 0 \r\nz\r\n\" id=\"DejaVuSans-76\"/>\r\n      </defs>\r\n      <use xlink:href=\"#DejaVuSans-65\"/>\r\n      <use x=\"66.658203\" xlink:href=\"#DejaVuSans-67\"/>\r\n      <use x=\"136.482422\" xlink:href=\"#DejaVuSans-84\"/>\r\n      <use x=\"197.566406\" xlink:href=\"#DejaVuSans-85\"/>\r\n      <use x=\"270.759766\" xlink:href=\"#DejaVuSans-65\"/>\r\n      <use x=\"339.167969\" xlink:href=\"#DejaVuSans-76\"/>\r\n     </g>\r\n    </g>\r\n   </g>\r\n   <g id=\"patch_3\">\r\n    <path d=\"M 50.64375 372.560378 \r\nL 50.64375 22.318125 \r\n\" style=\"fill:none;stroke:#000000;stroke-linecap:square;stroke-linejoin:miter;stroke-width:0.8;\"/>\r\n   </g>\r\n   <g id=\"patch_4\">\r\n    <path d=\"M 400.886003 372.560378 \r\nL 400.886003 22.318125 \r\n\" style=\"fill:none;stroke:#000000;stroke-linecap:square;stroke-linejoin:miter;stroke-width:0.8;\"/>\r\n   </g>\r\n   <g id=\"patch_5\">\r\n    <path d=\"M 50.64375 372.560378 \r\nL 400.886003 372.560378 \r\n\" style=\"fill:none;stroke:#000000;stroke-linecap:square;stroke-linejoin:miter;stroke-width:0.8;\"/>\r\n   </g>\r\n   <g id=\"patch_6\">\r\n    <path d=\"M 50.64375 22.318125 \r\nL 400.886003 22.318125 \r\n\" style=\"fill:none;stroke:#000000;stroke-linecap:square;stroke-linejoin:miter;stroke-width:0.8;\"/>\r\n   </g>\r\n   <g id=\"text_9\">\r\n    <!-- 3 -->\r\n    <g style=\"fill:#ffa500;\" transform=\"translate(100.746209 87.866209)scale(0.26 -0.26)\">\r\n     <defs>\r\n      <path d=\"M 40.578125 39.3125 \r\nQ 47.65625 37.796875 51.625 33 \r\nQ 55.609375 28.21875 55.609375 21.1875 \r\nQ 55.609375 10.40625 48.1875 4.484375 \r\nQ 40.765625 -1.421875 27.09375 -1.421875 \r\nQ 22.515625 -1.421875 17.65625 -0.515625 \r\nQ 12.796875 0.390625 7.625 2.203125 \r\nL 7.625 11.71875 \r\nQ 11.71875 9.328125 16.59375 8.109375 \r\nQ 21.484375 6.890625 26.8125 6.890625 \r\nQ 36.078125 6.890625 40.9375 10.546875 \r\nQ 45.796875 14.203125 45.796875 21.1875 \r\nQ 45.796875 27.640625 41.28125 31.265625 \r\nQ 36.765625 34.90625 28.71875 34.90625 \r\nL 20.21875 34.90625 \r\nL 20.21875 43.015625 \r\nL 29.109375 43.015625 \r\nQ 36.375 43.015625 40.234375 45.921875 \r\nQ 44.09375 48.828125 44.09375 54.296875 \r\nQ 44.09375 59.90625 40.109375 62.90625 \r\nQ 36.140625 65.921875 28.71875 65.921875 \r\nQ 24.65625 65.921875 20.015625 65.03125 \r\nQ 15.375 64.15625 9.8125 62.3125 \r\nL 9.8125 71.09375 \r\nQ 15.4375 72.65625 20.34375 73.4375 \r\nQ 25.25 74.21875 29.59375 74.21875 \r\nQ 40.828125 74.21875 47.359375 69.109375 \r\nQ 53.90625 64.015625 53.90625 55.328125 \r\nQ 53.90625 49.265625 50.4375 45.09375 \r\nQ 46.96875 40.921875 40.578125 39.3125 \r\nz\r\n\" id=\"DejaVuSans-51\"/>\r\n     </defs>\r\n     <use xlink:href=\"#DejaVuSans-51\"/>\r\n    </g>\r\n   </g>\r\n   <g id=\"text_10\">\r\n    <!-- 5 -->\r\n    <g style=\"fill:#fffafa;\" transform=\"translate(217.493626 87.866209)scale(0.26 -0.26)\">\r\n     <defs>\r\n      <path d=\"M 10.796875 72.90625 \r\nL 49.515625 72.90625 \r\nL 49.515625 64.59375 \r\nL 19.828125 64.59375 \r\nL 19.828125 46.734375 \r\nQ 21.96875 47.46875 24.109375 47.828125 \r\nQ 26.265625 48.1875 28.421875 48.1875 \r\nQ 40.625 48.1875 47.75 41.5 \r\nQ 54.890625 34.8125 54.890625 23.390625 \r\nQ 54.890625 11.625 47.5625 5.09375 \r\nQ 40.234375 -1.421875 26.90625 -1.421875 \r\nQ 22.3125 -1.421875 17.546875 -0.640625 \r\nQ 12.796875 0.140625 7.71875 1.703125 \r\nL 7.71875 11.625 \r\nQ 12.109375 9.234375 16.796875 8.0625 \r\nQ 21.484375 6.890625 26.703125 6.890625 \r\nQ 35.15625 6.890625 40.078125 11.328125 \r\nQ 45.015625 15.765625 45.015625 23.390625 \r\nQ 45.015625 31 40.078125 35.4375 \r\nQ 35.15625 39.890625 26.703125 39.890625 \r\nQ 22.75 39.890625 18.8125 39.015625 \r\nQ 14.890625 38.140625 10.796875 36.28125 \r\nz\r\n\" id=\"DejaVuSans-53\"/>\r\n     </defs>\r\n     <use xlink:href=\"#DejaVuSans-53\"/>\r\n    </g>\r\n   </g>\r\n   <g id=\"text_11\">\r\n    <!-- 3 -->\r\n    <g style=\"fill:#ffa500;\" transform=\"translate(334.241044 87.866209)scale(0.26 -0.26)\">\r\n     <use xlink:href=\"#DejaVuSans-51\"/>\r\n    </g>\r\n   </g>\r\n   <g id=\"text_12\">\r\n    <!-- 1 -->\r\n    <g style=\"fill:#ffa500;\" transform=\"translate(100.746209 204.613626)scale(0.26 -0.26)\">\r\n     <defs>\r\n      <path d=\"M 12.40625 8.296875 \r\nL 28.515625 8.296875 \r\nL 28.515625 63.921875 \r\nL 10.984375 60.40625 \r\nL 10.984375 69.390625 \r\nL 28.421875 72.90625 \r\nL 38.28125 72.90625 \r\nL 38.28125 8.296875 \r\nL 54.390625 8.296875 \r\nL 54.390625 0 \r\nL 12.40625 0 \r\nz\r\n\" id=\"DejaVuSans-49\"/>\r\n     </defs>\r\n     <use xlink:href=\"#DejaVuSans-49\"/>\r\n    </g>\r\n   </g>\r\n   <g id=\"text_13\">\r\n    <!-- 3 -->\r\n    <g style=\"fill:#ffa500;\" transform=\"translate(217.493626 204.613626)scale(0.26 -0.26)\">\r\n     <use xlink:href=\"#DejaVuSans-51\"/>\r\n    </g>\r\n   </g>\r\n   <g id=\"text_14\">\r\n    <!-- 1 -->\r\n    <g style=\"fill:#ffa500;\" transform=\"translate(334.241044 204.613626)scale(0.26 -0.26)\">\r\n     <use xlink:href=\"#DejaVuSans-49\"/>\r\n    </g>\r\n   </g>\r\n   <g id=\"text_15\">\r\n    <!-- 4 -->\r\n    <g style=\"fill:#fffafa;\" transform=\"translate(100.746209 321.361044)scale(0.26 -0.26)\">\r\n     <defs>\r\n      <path d=\"M 37.796875 64.3125 \r\nL 12.890625 25.390625 \r\nL 37.796875 25.390625 \r\nz\r\nM 35.203125 72.90625 \r\nL 47.609375 72.90625 \r\nL 47.609375 25.390625 \r\nL 58.015625 25.390625 \r\nL 58.015625 17.1875 \r\nL 47.609375 17.1875 \r\nL 47.609375 0 \r\nL 37.796875 0 \r\nL 37.796875 17.1875 \r\nL 4.890625 17.1875 \r\nL 4.890625 26.703125 \r\nz\r\n\" id=\"DejaVuSans-52\"/>\r\n     </defs>\r\n     <use xlink:href=\"#DejaVuSans-52\"/>\r\n    </g>\r\n   </g>\r\n   <g id=\"text_16\">\r\n    <!-- 0 -->\r\n    <g style=\"fill:#ffa500;\" transform=\"translate(217.493626 321.361044)scale(0.26 -0.26)\">\r\n     <defs>\r\n      <path d=\"M 31.78125 66.40625 \r\nQ 24.171875 66.40625 20.328125 58.90625 \r\nQ 16.5 51.421875 16.5 36.375 \r\nQ 16.5 21.390625 20.328125 13.890625 \r\nQ 24.171875 6.390625 31.78125 6.390625 \r\nQ 39.453125 6.390625 43.28125 13.890625 \r\nQ 47.125 21.390625 47.125 36.375 \r\nQ 47.125 51.421875 43.28125 58.90625 \r\nQ 39.453125 66.40625 31.78125 66.40625 \r\nz\r\nM 31.78125 74.21875 \r\nQ 44.046875 74.21875 50.515625 64.515625 \r\nQ 56.984375 54.828125 56.984375 36.375 \r\nQ 56.984375 17.96875 50.515625 8.265625 \r\nQ 44.046875 -1.421875 31.78125 -1.421875 \r\nQ 19.53125 -1.421875 13.0625 8.265625 \r\nQ 6.59375 17.96875 6.59375 36.375 \r\nQ 6.59375 54.828125 13.0625 64.515625 \r\nQ 19.53125 74.21875 31.78125 74.21875 \r\nz\r\n\" id=\"DejaVuSans-48\"/>\r\n     </defs>\r\n     <use xlink:href=\"#DejaVuSans-48\"/>\r\n    </g>\r\n   </g>\r\n   <g id=\"text_17\">\r\n    <!-- 1 -->\r\n    <g style=\"fill:#ffa500;\" transform=\"translate(334.241044 321.361044)scale(0.26 -0.26)\">\r\n     <use xlink:href=\"#DejaVuSans-49\"/>\r\n    </g>\r\n   </g>\r\n   <g id=\"text_18\">\r\n    <!-- Confusion Matrix -->\r\n    <g transform=\"translate(175.123001 16.318125)scale(0.12 -0.12)\">\r\n     <defs>\r\n      <path d=\"M 54.890625 33.015625 \r\nL 54.890625 0 \r\nL 45.90625 0 \r\nL 45.90625 32.71875 \r\nQ 45.90625 40.484375 42.875 44.328125 \r\nQ 39.84375 48.1875 33.796875 48.1875 \r\nQ 26.515625 48.1875 22.3125 43.546875 \r\nQ 18.109375 38.921875 18.109375 30.90625 \r\nL 18.109375 0 \r\nL 9.078125 0 \r\nL 9.078125 54.6875 \r\nL 18.109375 54.6875 \r\nL 18.109375 46.1875 \r\nQ 21.34375 51.125 25.703125 53.5625 \r\nQ 30.078125 56 35.796875 56 \r\nQ 45.21875 56 50.046875 50.171875 \r\nQ 54.890625 44.34375 54.890625 33.015625 \r\nz\r\n\" id=\"DejaVuSans-110\"/>\r\n      <path d=\"M 37.109375 75.984375 \r\nL 37.109375 68.5 \r\nL 28.515625 68.5 \r\nQ 23.6875 68.5 21.796875 66.546875 \r\nQ 19.921875 64.59375 19.921875 59.515625 \r\nL 19.921875 54.6875 \r\nL 34.71875 54.6875 \r\nL 34.71875 47.703125 \r\nL 19.921875 47.703125 \r\nL 19.921875 0 \r\nL 10.890625 0 \r\nL 10.890625 47.703125 \r\nL 2.296875 47.703125 \r\nL 2.296875 54.6875 \r\nL 10.890625 54.6875 \r\nL 10.890625 58.5 \r\nQ 10.890625 67.625 15.140625 71.796875 \r\nQ 19.390625 75.984375 28.609375 75.984375 \r\nz\r\n\" id=\"DejaVuSans-102\"/>\r\n      <path d=\"M 44.28125 53.078125 \r\nL 44.28125 44.578125 \r\nQ 40.484375 46.53125 36.375 47.5 \r\nQ 32.28125 48.484375 27.875 48.484375 \r\nQ 21.1875 48.484375 17.84375 46.4375 \r\nQ 14.5 44.390625 14.5 40.28125 \r\nQ 14.5 37.15625 16.890625 35.375 \r\nQ 19.28125 33.59375 26.515625 31.984375 \r\nL 29.59375 31.296875 \r\nQ 39.15625 29.25 43.1875 25.515625 \r\nQ 47.21875 21.78125 47.21875 15.09375 \r\nQ 47.21875 7.46875 41.1875 3.015625 \r\nQ 35.15625 -1.421875 24.609375 -1.421875 \r\nQ 20.21875 -1.421875 15.453125 -0.5625 \r\nQ 10.6875 0.296875 5.421875 2 \r\nL 5.421875 11.28125 \r\nQ 10.40625 8.6875 15.234375 7.390625 \r\nQ 20.0625 6.109375 24.8125 6.109375 \r\nQ 31.15625 6.109375 34.5625 8.28125 \r\nQ 37.984375 10.453125 37.984375 14.40625 \r\nQ 37.984375 18.0625 35.515625 20.015625 \r\nQ 33.0625 21.96875 24.703125 23.78125 \r\nL 21.578125 24.515625 \r\nQ 13.234375 26.265625 9.515625 29.90625 \r\nQ 5.8125 33.546875 5.8125 39.890625 \r\nQ 5.8125 47.609375 11.28125 51.796875 \r\nQ 16.75 56 26.8125 56 \r\nQ 31.78125 56 36.171875 55.265625 \r\nQ 40.578125 54.546875 44.28125 53.078125 \r\nz\r\n\" id=\"DejaVuSans-115\"/>\r\n      <path d=\"M 9.421875 54.6875 \r\nL 18.40625 54.6875 \r\nL 18.40625 0 \r\nL 9.421875 0 \r\nz\r\nM 9.421875 75.984375 \r\nL 18.40625 75.984375 \r\nL 18.40625 64.59375 \r\nL 9.421875 64.59375 \r\nz\r\n\" id=\"DejaVuSans-105\"/>\r\n      <path id=\"DejaVuSans-32\"/>\r\n      <path d=\"M 9.8125 72.90625 \r\nL 24.515625 72.90625 \r\nL 43.109375 23.296875 \r\nL 61.8125 72.90625 \r\nL 76.515625 72.90625 \r\nL 76.515625 0 \r\nL 66.890625 0 \r\nL 66.890625 64.015625 \r\nL 48.09375 14.015625 \r\nL 38.1875 14.015625 \r\nL 19.390625 64.015625 \r\nL 19.390625 0 \r\nL 9.8125 0 \r\nz\r\n\" id=\"DejaVuSans-77\"/>\r\n      <path d=\"M 34.28125 27.484375 \r\nQ 23.390625 27.484375 19.1875 25 \r\nQ 14.984375 22.515625 14.984375 16.5 \r\nQ 14.984375 11.71875 18.140625 8.90625 \r\nQ 21.296875 6.109375 26.703125 6.109375 \r\nQ 34.1875 6.109375 38.703125 11.40625 \r\nQ 43.21875 16.703125 43.21875 25.484375 \r\nL 43.21875 27.484375 \r\nz\r\nM 52.203125 31.203125 \r\nL 52.203125 0 \r\nL 43.21875 0 \r\nL 43.21875 8.296875 \r\nQ 40.140625 3.328125 35.546875 0.953125 \r\nQ 30.953125 -1.421875 24.3125 -1.421875 \r\nQ 15.921875 -1.421875 10.953125 3.296875 \r\nQ 6 8.015625 6 15.921875 \r\nQ 6 25.140625 12.171875 29.828125 \r\nQ 18.359375 34.515625 30.609375 34.515625 \r\nL 43.21875 34.515625 \r\nL 43.21875 35.40625 \r\nQ 43.21875 41.609375 39.140625 45 \r\nQ 35.0625 48.390625 27.6875 48.390625 \r\nQ 23 48.390625 18.546875 47.265625 \r\nQ 14.109375 46.140625 10.015625 43.890625 \r\nL 10.015625 52.203125 \r\nQ 14.9375 54.109375 19.578125 55.046875 \r\nQ 24.21875 56 28.609375 56 \r\nQ 40.484375 56 46.34375 49.84375 \r\nQ 52.203125 43.703125 52.203125 31.203125 \r\nz\r\n\" id=\"DejaVuSans-97\"/>\r\n      <path d=\"M 18.3125 70.21875 \r\nL 18.3125 54.6875 \r\nL 36.8125 54.6875 \r\nL 36.8125 47.703125 \r\nL 18.3125 47.703125 \r\nL 18.3125 18.015625 \r\nQ 18.3125 11.328125 20.140625 9.421875 \r\nQ 21.96875 7.515625 27.59375 7.515625 \r\nL 36.8125 7.515625 \r\nL 36.8125 0 \r\nL 27.59375 0 \r\nQ 17.1875 0 13.234375 3.875 \r\nQ 9.28125 7.765625 9.28125 18.015625 \r\nL 9.28125 47.703125 \r\nL 2.6875 47.703125 \r\nL 2.6875 54.6875 \r\nL 9.28125 54.6875 \r\nL 9.28125 70.21875 \r\nz\r\n\" id=\"DejaVuSans-116\"/>\r\n      <path d=\"M 41.109375 46.296875 \r\nQ 39.59375 47.171875 37.8125 47.578125 \r\nQ 36.03125 48 33.890625 48 \r\nQ 26.265625 48 22.1875 43.046875 \r\nQ 18.109375 38.09375 18.109375 28.8125 \r\nL 18.109375 0 \r\nL 9.078125 0 \r\nL 9.078125 54.6875 \r\nL 18.109375 54.6875 \r\nL 18.109375 46.1875 \r\nQ 20.953125 51.171875 25.484375 53.578125 \r\nQ 30.03125 56 36.53125 56 \r\nQ 37.453125 56 38.578125 55.875 \r\nQ 39.703125 55.765625 41.0625 55.515625 \r\nz\r\n\" id=\"DejaVuSans-114\"/>\r\n      <path d=\"M 54.890625 54.6875 \r\nL 35.109375 28.078125 \r\nL 55.90625 0 \r\nL 45.3125 0 \r\nL 29.390625 21.484375 \r\nL 13.484375 0 \r\nL 2.875 0 \r\nL 24.125 28.609375 \r\nL 4.6875 54.6875 \r\nL 15.28125 54.6875 \r\nL 29.78125 35.203125 \r\nL 44.28125 54.6875 \r\nz\r\n\" id=\"DejaVuSans-120\"/>\r\n     </defs>\r\n     <use xlink:href=\"#DejaVuSans-67\"/>\r\n     <use x=\"69.824219\" xlink:href=\"#DejaVuSans-111\"/>\r\n     <use x=\"131.005859\" xlink:href=\"#DejaVuSans-110\"/>\r\n     <use x=\"194.384766\" xlink:href=\"#DejaVuSans-102\"/>\r\n     <use x=\"229.589844\" xlink:href=\"#DejaVuSans-117\"/>\r\n     <use x=\"292.96875\" xlink:href=\"#DejaVuSans-115\"/>\r\n     <use x=\"345.068359\" xlink:href=\"#DejaVuSans-105\"/>\r\n     <use x=\"372.851562\" xlink:href=\"#DejaVuSans-111\"/>\r\n     <use x=\"434.033203\" xlink:href=\"#DejaVuSans-110\"/>\r\n     <use x=\"497.412109\" xlink:href=\"#DejaVuSans-32\"/>\r\n     <use x=\"529.199219\" xlink:href=\"#DejaVuSans-77\"/>\r\n     <use x=\"615.478516\" xlink:href=\"#DejaVuSans-97\"/>\r\n     <use x=\"676.757812\" xlink:href=\"#DejaVuSans-116\"/>\r\n     <use x=\"715.966797\" xlink:href=\"#DejaVuSans-114\"/>\r\n     <use x=\"757.080078\" xlink:href=\"#DejaVuSans-105\"/>\r\n     <use x=\"784.863281\" xlink:href=\"#DejaVuSans-120\"/>\r\n    </g>\r\n   </g>\r\n  </g>\r\n  <g id=\"axes_2\">\r\n   <g id=\"patch_7\">\r\n    <path clip-path=\"url(#p2f17cd9133)\" d=\"M 443.006003 372.560378 \r\nL 443.006003 371.192244 \r\nL 443.006003 23.686259 \r\nL 443.006003 22.318125 \r\nL 460.518116 22.318125 \r\nL 460.518116 23.686259 \r\nL 460.518116 371.192244 \r\nL 460.518116 372.560378 \r\nz\r\n\" style=\"fill:#ffffff;stroke:#ffffff;stroke-linejoin:miter;stroke-width:0.01;\"/>\r\n   </g>\r\n   <image height=\"350\" id=\"image242cabc2a5\" transform=\"scale(1 -1)translate(0 -350)\" width=\"18\" x=\"443\" xlink:href=\"data:image/png;base64,\r\niVBORw0KGgoAAAANSUhEUgAAABIAAAFeCAYAAACII0/0AAAB90lEQVR4nO2Z2w3CMBAEz5a7ogWKpq+QmBL8M0Kj1aWAFfv0SYzX+7ML+NaYk8CpNeaAgAbzixiUQqlBYnPUps01TGzSfhm1NZMrIgukUKOpm5ExdPbrZoQqbbJGWI6od834iti6prxGcjWyURNqlDwjOvshHOOhBWqkyxE3tQhO9CtitJ8CSp5aCih4ajn7ERwjNaxrwhnBKkIBBc+IsP22I8KoEZdsCMh3sYGHFoLj1AgCMr60EFDbfwaK1gj5Tzz6FQFzxIidrREDBGpUUEWSNaJmxLeQU2c/JTb5BwsEpOuasCJUIJWvCGW/TiNjRWwa6agtiptwRnwV0VFLrgh41sRqpAMK7lrbf/5IjR4ICMvR9mmEUWPEDqZmrIiNmrEiQo10XYNcwzabo1YYNVuOhBXRiS2sSAmpyZKt1EhGDeuaMEfBM4LZ7zu06rHZ3zPyPyCjRlAghcdo8CsCzkhrdASyBZLUKJha23/4OPs3NiPQLxIeozv4pbV1jdOIcs3XNeGMgF2z5QiryNZVhKNmyxE5I1T7bXsEatTtPwLpckTab7tGfDnS2a/UKJYadrAHa6Sj1hqdP47ac3dFDp8v2cZrhKIGBtKXo9iK6FwzVoTSSCe2MUe3zn7fQkJAoP1fitpFiQ39IjBHNmprX7au6XKEUfsBePBYpgQzHy0AAAAASUVORK5CYII=\" y=\"-22\"/>\r\n   <g id=\"matplotlib.axis_3\"/>\r\n   <g id=\"matplotlib.axis_4\">\r\n    <g id=\"ytick_4\">\r\n     <g id=\"line2d_7\">\r\n      <defs>\r\n       <path d=\"M 0 0 \r\nL 3.5 0 \r\n\" id=\"ma71c3af4c8\" style=\"stroke:#000000;stroke-width:0.8;\"/>\r\n      </defs>\r\n      <g>\r\n       <use style=\"stroke:#000000;stroke-width:0.8;\" x=\"460.518116\" xlink:href=\"#ma71c3af4c8\" y=\"372.560378\"/>\r\n      </g>\r\n     </g>\r\n     <g id=\"text_19\">\r\n      <!-- 0 -->\r\n      <g transform=\"translate(467.518116 376.359597)scale(0.1 -0.1)\">\r\n       <use xlink:href=\"#DejaVuSans-48\"/>\r\n      </g>\r\n     </g>\r\n    </g>\r\n    <g id=\"ytick_5\">\r\n     <g id=\"line2d_8\">\r\n      <g>\r\n       <use style=\"stroke:#000000;stroke-width:0.8;\" x=\"460.518116\" xlink:href=\"#ma71c3af4c8\" y=\"302.511927\"/>\r\n      </g>\r\n     </g>\r\n     <g id=\"text_20\">\r\n      <!-- 1 -->\r\n      <g transform=\"translate(467.518116 306.311146)scale(0.1 -0.1)\">\r\n       <use xlink:href=\"#DejaVuSans-49\"/>\r\n      </g>\r\n     </g>\r\n    </g>\r\n    <g id=\"ytick_6\">\r\n     <g id=\"line2d_9\">\r\n      <g>\r\n       <use style=\"stroke:#000000;stroke-width:0.8;\" x=\"460.518116\" xlink:href=\"#ma71c3af4c8\" y=\"232.463477\"/>\r\n      </g>\r\n     </g>\r\n     <g id=\"text_21\">\r\n      <!-- 2 -->\r\n      <g transform=\"translate(467.518116 236.262695)scale(0.1 -0.1)\">\r\n       <defs>\r\n        <path d=\"M 19.1875 8.296875 \r\nL 53.609375 8.296875 \r\nL 53.609375 0 \r\nL 7.328125 0 \r\nL 7.328125 8.296875 \r\nQ 12.9375 14.109375 22.625 23.890625 \r\nQ 32.328125 33.6875 34.8125 36.53125 \r\nQ 39.546875 41.84375 41.421875 45.53125 \r\nQ 43.3125 49.21875 43.3125 52.78125 \r\nQ 43.3125 58.59375 39.234375 62.25 \r\nQ 35.15625 65.921875 28.609375 65.921875 \r\nQ 23.96875 65.921875 18.8125 64.3125 \r\nQ 13.671875 62.703125 7.8125 59.421875 \r\nL 7.8125 69.390625 \r\nQ 13.765625 71.78125 18.9375 73 \r\nQ 24.125 74.21875 28.421875 74.21875 \r\nQ 39.75 74.21875 46.484375 68.546875 \r\nQ 53.21875 62.890625 53.21875 53.421875 \r\nQ 53.21875 48.921875 51.53125 44.890625 \r\nQ 49.859375 40.875 45.40625 35.40625 \r\nQ 44.1875 33.984375 37.640625 27.21875 \r\nQ 31.109375 20.453125 19.1875 8.296875 \r\nz\r\n\" id=\"DejaVuSans-50\"/>\r\n       </defs>\r\n       <use xlink:href=\"#DejaVuSans-50\"/>\r\n      </g>\r\n     </g>\r\n    </g>\r\n    <g id=\"ytick_7\">\r\n     <g id=\"line2d_10\">\r\n      <g>\r\n       <use style=\"stroke:#000000;stroke-width:0.8;\" x=\"460.518116\" xlink:href=\"#ma71c3af4c8\" y=\"162.415026\"/>\r\n      </g>\r\n     </g>\r\n     <g id=\"text_22\">\r\n      <!-- 3 -->\r\n      <g transform=\"translate(467.518116 166.214245)scale(0.1 -0.1)\">\r\n       <use xlink:href=\"#DejaVuSans-51\"/>\r\n      </g>\r\n     </g>\r\n    </g>\r\n    <g id=\"ytick_8\">\r\n     <g id=\"line2d_11\">\r\n      <g>\r\n       <use style=\"stroke:#000000;stroke-width:0.8;\" x=\"460.518116\" xlink:href=\"#ma71c3af4c8\" y=\"92.366576\"/>\r\n      </g>\r\n     </g>\r\n     <g id=\"text_23\">\r\n      <!-- 4 -->\r\n      <g transform=\"translate(467.518116 96.165794)scale(0.1 -0.1)\">\r\n       <use xlink:href=\"#DejaVuSans-52\"/>\r\n      </g>\r\n     </g>\r\n    </g>\r\n    <g id=\"ytick_9\">\r\n     <g id=\"line2d_12\">\r\n      <g>\r\n       <use style=\"stroke:#000000;stroke-width:0.8;\" x=\"460.518116\" xlink:href=\"#ma71c3af4c8\" y=\"22.318125\"/>\r\n      </g>\r\n     </g>\r\n     <g id=\"text_24\">\r\n      <!-- 5 -->\r\n      <g transform=\"translate(467.518116 26.117344)scale(0.1 -0.1)\">\r\n       <use xlink:href=\"#DejaVuSans-53\"/>\r\n      </g>\r\n     </g>\r\n    </g>\r\n   </g>\r\n   <g id=\"patch_8\">\r\n    <path d=\"M 443.006003 372.560378 \r\nL 443.006003 371.192244 \r\nL 443.006003 23.686259 \r\nL 443.006003 22.318125 \r\nL 460.518116 22.318125 \r\nL 460.518116 23.686259 \r\nL 460.518116 371.192244 \r\nL 460.518116 372.560378 \r\nz\r\n\" style=\"fill:none;stroke:#000000;stroke-linejoin:miter;stroke-width:0.8;\"/>\r\n   </g>\r\n  </g>\r\n </g>\r\n <defs>\r\n  <clipPath id=\"p8284759f05\">\r\n   <rect height=\"350.242253\" width=\"350.242253\" x=\"50.64375\" y=\"22.318125\"/>\r\n  </clipPath>\r\n  <clipPath id=\"p2f17cd9133\">\r\n   <rect height=\"350.242253\" width=\"17.512113\" x=\"443.006003\" y=\"22.318125\"/>\r\n  </clipPath>\r\n </defs>\r\n</svg>\r\n",
      "image/png": "[encoded data removed]"
     },
     "metadata": {
      "needs_background": "light"
     }
    },
    {
     "output_type": "stream",
     "name": "stdout",
     "text": [
      "              precision    recall  f1-score   support\n\n         Buy       0.38      0.27      0.32        11\n        Sell       0.38      0.60      0.46         5\n        Hold       0.20      0.20      0.20         5\n\n    accuracy                           0.33        21\n   macro avg       0.32      0.36      0.33        21\nweighted avg       0.33      0.33      0.32        21\n\n"
     ]
    }
   ],
   "source": [
    "plot_confusion_matrix(y_test, best_est['DecisionTree_clf'].predict(X_test), title=\"Confusion Matrix\")\n",
    "np.set_printoptions(precision=1)\n",
    "# Plot non-normalized confusion matrix\n",
    "plt.show()\n",
    "\n",
    "# Final Classification Report\n",
    "print(classification_report(y_test, best_est['DecisionTree_clf'].predict(X_test), target_names=['Buy', 'Sell', 'Hold']))"
   ]
  },
  {
   "cell_type": "code",
   "execution_count": null,
   "metadata": {},
   "outputs": [],
   "source": []
  }
 ],
 "metadata": {
  "language_info": {
   "codemirror_mode": {
    "name": "ipython",
    "version": 3
   },
   "file_extension": ".py",
   "mimetype": "text/x-python",
   "name": "python",
   "nbconvert_exporter": "python",
   "pygments_lexer": "ipython3",
   "version": "3.6.12-final"
  },
  "orig_nbformat": 2,
  "kernelspec": {
   "name": "python3",
   "display_name": "Python 3.6.12 64-bit ('PythonAdv': conda)",
   "metadata": {
    "interpreter": {
     "hash": "6b7fa3a0957172ecb0227f4a19ea8ccb7af90ad3c01dc11e0364b2092e9452fb"
    }
   }
  }
 },
 "nbformat": 4,
 "nbformat_minor": 2
}