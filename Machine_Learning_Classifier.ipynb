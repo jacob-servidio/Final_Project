{
 "metadata": {
  "language_info": {
   "codemirror_mode": {
    "name": "ipython",
    "version": 3
   },
   "file_extension": ".py",
   "mimetype": "text/x-python",
   "name": "python",
   "nbconvert_exporter": "python",
   "pygments_lexer": "ipython3",
   "version": "3.6.12-final"
  },
  "orig_nbformat": 2,
  "kernelspec": {
   "name": "python3",
   "display_name": "Python 3.6.12 64-bit ('PythonAdv': conda)",
   "metadata": {
    "interpreter": {
     "hash": "6b7fa3a0957172ecb0227f4a19ea8ccb7af90ad3c01dc11e0364b2092e9452fb"
    }
   }
  }
 },
 "nbformat": 4,
 "nbformat_minor": 2,
 "cells": [
  {
   "cell_type": "code",
   "execution_count": 60,
   "metadata": {},
   "outputs": [],
   "source": [
    "import numpy as np \n",
    "import pandas as pd \n",
    "import matplotlib.pyplot as plt \n",
    "from sklearn.model_selection import train_test_split\n",
    "from sklearn.metrics import confusion_matrix, classification_report\n",
    "from sklearn.preprocessing import StandardScaler\n",
    "from sklearn.pipeline import Pipeline"
   ]
  },
  {
   "cell_type": "code",
   "execution_count": 61,
   "metadata": {},
   "outputs": [
    {
     "output_type": "execute_result",
     "data": {
      "text/plain": [
       "       date  decision  currentRatio  quickRatio  cashRatio  \\\n",
       "0   2000-06       2.0      2.753337    2.558996   0.717565   \n",
       "1   2000-09       2.0      2.807553    2.576306   0.616141   \n",
       "2   2000-12       2.0      3.009163    2.752596   1.061087   \n",
       "3   2001-03       2.0      2.977716    2.663510   1.191086   \n",
       "4   2001-06       2.0      3.251549    2.983891   1.314126   \n",
       "..      ...       ...           ...         ...        ...   \n",
       "77  2019-09       1.0      1.540126    1.384447   0.462022   \n",
       "78  2019-12       1.0      1.597782    1.439962   0.389297   \n",
       "79  2020-03       1.0      1.495962    1.297979   0.418070   \n",
       "80  2020-06       1.0      1.469450    1.312449   0.350228   \n",
       "81  2020-09       1.0      1.363604    1.015855   0.360710   \n",
       "\n",
       "    daysOfSalesOutstanding  daysOfInventoryOutstanding  operatingCycle  \\\n",
       "0               193.400000                    0.351014       48.038685   \n",
       "1               186.013369                    2.116892       47.983203   \n",
       "2               159.846077                    1.838521       41.252623   \n",
       "3               162.477289                    0.860421       40.923314   \n",
       "4               147.979661                    1.642651       38.130787   \n",
       "..                     ...                         ...             ...   \n",
       "77              261.062773                    9.301986       73.673629   \n",
       "78              158.793823                    6.514434       45.669075   \n",
       "79              192.017303                    8.348218       55.694950   \n",
       "80              196.152718                    9.674909       58.041333   \n",
       "81               90.942533                    9.135195       31.559381   \n",
       "\n",
       "    daysOfPayablesOutstanding  cashConversionCycle  ...  priceToSalesRatio  \\\n",
       "0                   73.010920           -24.972235  ...           9.328204   \n",
       "1                   74.219530           -26.236327  ...           4.475814   \n",
       "2                   55.768482           -14.515860  ...           4.980540   \n",
       "3                   82.686424           -41.763111  ...           5.337514   \n",
       "4                   73.227666           -35.096879  ...           5.497488   \n",
       "..                        ...                  ...  ...                ...   \n",
       "77                 104.745891           -31.072262  ...          15.344777   \n",
       "78                  71.728737           -26.059662  ...          13.934791   \n",
       "79                  81.181037           -25.486086  ...          18.523681   \n",
       "80                  85.914066           -27.872733  ...          25.551733   \n",
       "81                  95.144592           -63.585212  ...          29.602612   \n",
       "\n",
       "    priceEarningsRatio  priceToFreeCashFlowsRatio  \\\n",
       "0            85.119863                  76.340684   \n",
       "1            49.233954                  65.903718   \n",
       "2           -25.720019                -143.297250   \n",
       "3           177.627508                -125.212833   \n",
       "4           132.931059                -128.711026   \n",
       "..                 ...                        ...   \n",
       "77           71.801806                  57.355952   \n",
       "78           57.540859                  45.037789   \n",
       "79           96.023774                  94.272250   \n",
       "80          135.524323                 103.702924   \n",
       "81          151.126788                 101.917294   \n",
       "\n",
       "    priceToOperatingCashFlowsRatio  priceCashFlowRatio  \\\n",
       "0                        72.752020           72.752020   \n",
       "1                        52.973242           52.973242   \n",
       "2                      -385.800289         -385.800289   \n",
       "3                      -173.590519         -173.590519   \n",
       "4                      -245.721049         -245.721049   \n",
       "..                             ...                 ...   \n",
       "77                       49.356078           49.356078   \n",
       "78                       41.928121           41.928121   \n",
       "79                       81.148782           81.148782   \n",
       "80                       93.728425           93.728425   \n",
       "81                       93.080763           93.080763   \n",
       "\n",
       "    priceEarningsToGrowthRatio  priceSalesRatio  dividendYield  \\\n",
       "0                   137.685255         9.328204            NaN   \n",
       "1                    79.638163         4.475814            NaN   \n",
       "2                   -43.155875         4.980540            NaN   \n",
       "3                   305.918987         5.337514            NaN   \n",
       "4                   230.716720         5.497488            NaN   \n",
       "..                         ...              ...            ...   \n",
       "77                  114.617760        15.344777       0.003540   \n",
       "78                   90.303099        13.934791       0.002766   \n",
       "79                  148.821951        18.523681       0.003125   \n",
       "80                  207.752079        25.551733       0.002397   \n",
       "81                  229.082344        29.602612       0.001833   \n",
       "\n",
       "    enterpriseValueMultiple  priceFairValue  \n",
       "0                111.748060        4.076622  \n",
       "1                 63.671433        2.037928  \n",
       "2                -11.078407        1.351132  \n",
       "3                869.220315        2.043334  \n",
       "4                 79.262213        2.101813  \n",
       "..                      ...             ...  \n",
       "77                51.283681       10.859777  \n",
       "78                45.340375       14.290900  \n",
       "79                68.338017       13.773305  \n",
       "80                96.317147       21.098686  \n",
       "81               108.825672       29.312199  \n",
       "\n",
       "[82 rows x 56 columns]"
      ],
      "text/html": "<div>\n<style scoped>\n    .dataframe tbody tr th:only-of-type {\n        vertical-align: middle;\n    }\n\n    .dataframe tbody tr th {\n        vertical-align: top;\n    }\n\n    .dataframe thead th {\n        text-align: right;\n    }\n</style>\n<table border=\"1\" class=\"dataframe\">\n  <thead>\n    <tr style=\"text-align: right;\">\n      <th></th>\n      <th>date</th>\n      <th>decision</th>\n      <th>currentRatio</th>\n      <th>quickRatio</th>\n      <th>cashRatio</th>\n      <th>daysOfSalesOutstanding</th>\n      <th>daysOfInventoryOutstanding</th>\n      <th>operatingCycle</th>\n      <th>daysOfPayablesOutstanding</th>\n      <th>cashConversionCycle</th>\n      <th>...</th>\n      <th>priceToSalesRatio</th>\n      <th>priceEarningsRatio</th>\n      <th>priceToFreeCashFlowsRatio</th>\n      <th>priceToOperatingCashFlowsRatio</th>\n      <th>priceCashFlowRatio</th>\n      <th>priceEarningsToGrowthRatio</th>\n      <th>priceSalesRatio</th>\n      <th>dividendYield</th>\n      <th>enterpriseValueMultiple</th>\n      <th>priceFairValue</th>\n    </tr>\n  </thead>\n  <tbody>\n    <tr>\n      <th>0</th>\n      <td>2000-06</td>\n      <td>2.0</td>\n      <td>2.753337</td>\n      <td>2.558996</td>\n      <td>0.717565</td>\n      <td>193.400000</td>\n      <td>0.351014</td>\n      <td>48.038685</td>\n      <td>73.010920</td>\n      <td>-24.972235</td>\n      <td>...</td>\n      <td>9.328204</td>\n      <td>85.119863</td>\n      <td>76.340684</td>\n      <td>72.752020</td>\n      <td>72.752020</td>\n      <td>137.685255</td>\n      <td>9.328204</td>\n      <td>NaN</td>\n      <td>111.748060</td>\n      <td>4.076622</td>\n    </tr>\n    <tr>\n      <th>1</th>\n      <td>2000-09</td>\n      <td>2.0</td>\n      <td>2.807553</td>\n      <td>2.576306</td>\n      <td>0.616141</td>\n      <td>186.013369</td>\n      <td>2.116892</td>\n      <td>47.983203</td>\n      <td>74.219530</td>\n      <td>-26.236327</td>\n      <td>...</td>\n      <td>4.475814</td>\n      <td>49.233954</td>\n      <td>65.903718</td>\n      <td>52.973242</td>\n      <td>52.973242</td>\n      <td>79.638163</td>\n      <td>4.475814</td>\n      <td>NaN</td>\n      <td>63.671433</td>\n      <td>2.037928</td>\n    </tr>\n    <tr>\n      <th>2</th>\n      <td>2000-12</td>\n      <td>2.0</td>\n      <td>3.009163</td>\n      <td>2.752596</td>\n      <td>1.061087</td>\n      <td>159.846077</td>\n      <td>1.838521</td>\n      <td>41.252623</td>\n      <td>55.768482</td>\n      <td>-14.515860</td>\n      <td>...</td>\n      <td>4.980540</td>\n      <td>-25.720019</td>\n      <td>-143.297250</td>\n      <td>-385.800289</td>\n      <td>-385.800289</td>\n      <td>-43.155875</td>\n      <td>4.980540</td>\n      <td>NaN</td>\n      <td>-11.078407</td>\n      <td>1.351132</td>\n    </tr>\n    <tr>\n      <th>3</th>\n      <td>2001-03</td>\n      <td>2.0</td>\n      <td>2.977716</td>\n      <td>2.663510</td>\n      <td>1.191086</td>\n      <td>162.477289</td>\n      <td>0.860421</td>\n      <td>40.923314</td>\n      <td>82.686424</td>\n      <td>-41.763111</td>\n      <td>...</td>\n      <td>5.337514</td>\n      <td>177.627508</td>\n      <td>-125.212833</td>\n      <td>-173.590519</td>\n      <td>-173.590519</td>\n      <td>305.918987</td>\n      <td>5.337514</td>\n      <td>NaN</td>\n      <td>869.220315</td>\n      <td>2.043334</td>\n    </tr>\n    <tr>\n      <th>4</th>\n      <td>2001-06</td>\n      <td>2.0</td>\n      <td>3.251549</td>\n      <td>2.983891</td>\n      <td>1.314126</td>\n      <td>147.979661</td>\n      <td>1.642651</td>\n      <td>38.130787</td>\n      <td>73.227666</td>\n      <td>-35.096879</td>\n      <td>...</td>\n      <td>5.497488</td>\n      <td>132.931059</td>\n      <td>-128.711026</td>\n      <td>-245.721049</td>\n      <td>-245.721049</td>\n      <td>230.716720</td>\n      <td>5.497488</td>\n      <td>NaN</td>\n      <td>79.262213</td>\n      <td>2.101813</td>\n    </tr>\n    <tr>\n      <th>...</th>\n      <td>...</td>\n      <td>...</td>\n      <td>...</td>\n      <td>...</td>\n      <td>...</td>\n      <td>...</td>\n      <td>...</td>\n      <td>...</td>\n      <td>...</td>\n      <td>...</td>\n      <td>...</td>\n      <td>...</td>\n      <td>...</td>\n      <td>...</td>\n      <td>...</td>\n      <td>...</td>\n      <td>...</td>\n      <td>...</td>\n      <td>...</td>\n      <td>...</td>\n      <td>...</td>\n    </tr>\n    <tr>\n      <th>77</th>\n      <td>2019-09</td>\n      <td>1.0</td>\n      <td>1.540126</td>\n      <td>1.384447</td>\n      <td>0.462022</td>\n      <td>261.062773</td>\n      <td>9.301986</td>\n      <td>73.673629</td>\n      <td>104.745891</td>\n      <td>-31.072262</td>\n      <td>...</td>\n      <td>15.344777</td>\n      <td>71.801806</td>\n      <td>57.355952</td>\n      <td>49.356078</td>\n      <td>49.356078</td>\n      <td>114.617760</td>\n      <td>15.344777</td>\n      <td>0.003540</td>\n      <td>51.283681</td>\n      <td>10.859777</td>\n    </tr>\n    <tr>\n      <th>78</th>\n      <td>2019-12</td>\n      <td>1.0</td>\n      <td>1.597782</td>\n      <td>1.439962</td>\n      <td>0.389297</td>\n      <td>158.793823</td>\n      <td>6.514434</td>\n      <td>45.669075</td>\n      <td>71.728737</td>\n      <td>-26.059662</td>\n      <td>...</td>\n      <td>13.934791</td>\n      <td>57.540859</td>\n      <td>45.037789</td>\n      <td>41.928121</td>\n      <td>41.928121</td>\n      <td>90.303099</td>\n      <td>13.934791</td>\n      <td>0.002766</td>\n      <td>45.340375</td>\n      <td>14.290900</td>\n    </tr>\n    <tr>\n      <th>79</th>\n      <td>2020-03</td>\n      <td>1.0</td>\n      <td>1.495962</td>\n      <td>1.297979</td>\n      <td>0.418070</td>\n      <td>192.017303</td>\n      <td>8.348218</td>\n      <td>55.694950</td>\n      <td>81.181037</td>\n      <td>-25.486086</td>\n      <td>...</td>\n      <td>18.523681</td>\n      <td>96.023774</td>\n      <td>94.272250</td>\n      <td>81.148782</td>\n      <td>81.148782</td>\n      <td>148.821951</td>\n      <td>18.523681</td>\n      <td>0.003125</td>\n      <td>68.338017</td>\n      <td>13.773305</td>\n    </tr>\n    <tr>\n      <th>80</th>\n      <td>2020-06</td>\n      <td>1.0</td>\n      <td>1.469450</td>\n      <td>1.312449</td>\n      <td>0.350228</td>\n      <td>196.152718</td>\n      <td>9.674909</td>\n      <td>58.041333</td>\n      <td>85.914066</td>\n      <td>-27.872733</td>\n      <td>...</td>\n      <td>25.551733</td>\n      <td>135.524323</td>\n      <td>103.702924</td>\n      <td>93.728425</td>\n      <td>93.728425</td>\n      <td>207.752079</td>\n      <td>25.551733</td>\n      <td>0.002397</td>\n      <td>96.317147</td>\n      <td>21.098686</td>\n    </tr>\n    <tr>\n      <th>81</th>\n      <td>2020-09</td>\n      <td>1.0</td>\n      <td>1.363604</td>\n      <td>1.015855</td>\n      <td>0.360710</td>\n      <td>90.942533</td>\n      <td>9.135195</td>\n      <td>31.559381</td>\n      <td>95.144592</td>\n      <td>-63.585212</td>\n      <td>...</td>\n      <td>29.602612</td>\n      <td>151.126788</td>\n      <td>101.917294</td>\n      <td>93.080763</td>\n      <td>93.080763</td>\n      <td>229.082344</td>\n      <td>29.602612</td>\n      <td>0.001833</td>\n      <td>108.825672</td>\n      <td>29.312199</td>\n    </tr>\n  </tbody>\n</table>\n<p>82 rows × 56 columns</p>\n</div>"
     },
     "metadata": {},
     "execution_count": 61
    }
   ],
   "source": [
    "#reading in data\n",
    "#dropping extra index\n",
    "df = pd.read_csv('Test Data\\quarterly_data.csv')\n",
    "df = df.drop(['Unnamed: 0'], axis=1)\n",
    "df"
   ]
  },
  {
   "source": [
    "df['date'] = df['date'].astype(\"|S\")\n",
    "#df['date'] = df['date'].str.replace('-', ',')\n",
    "df.dtypes"
   ],
   "cell_type": "code",
   "metadata": {},
   "execution_count": 69,
   "outputs": [
    {
     "output_type": "execute_result",
     "data": {
      "text/plain": [
       "date                                   object\n",
       "decision                              float64\n",
       "currentRatio                          float64\n",
       "quickRatio                            float64\n",
       "cashRatio                             float64\n",
       "daysOfSalesOutstanding                float64\n",
       "daysOfInventoryOutstanding            float64\n",
       "operatingCycle                        float64\n",
       "daysOfPayablesOutstanding             float64\n",
       "cashConversionCycle                   float64\n",
       "grossProfitMargin                     float64\n",
       "operatingProfitMargin                 float64\n",
       "pretaxProfitMargin                    float64\n",
       "netProfitMargin                       float64\n",
       "effectiveTaxRate                      float64\n",
       "returnOnAssets                        float64\n",
       "returnOnEquity                        float64\n",
       "returnOnCapitalEmployed               float64\n",
       "netIncomePerEBT                       float64\n",
       "ebtPerEbit                            float64\n",
       "ebitPerRevenue                        float64\n",
       "debtRatio                             float64\n",
       "debtEquityRatio                       float64\n",
       "longTermDebtToCapitalization          float64\n",
       "totalDebtToCapitalization             float64\n",
       "interestCoverage                      float64\n",
       "cashFlowToDebtRatio                   float64\n",
       "companyEquityMultiplier               float64\n",
       "receivablesTurnover                   float64\n",
       "payablesTurnover                      float64\n",
       "inventoryTurnover                     float64\n",
       "fixedAssetTurnover                    float64\n",
       "assetTurnover                         float64\n",
       "operatingCashFlowPerShare             float64\n",
       "freeCashFlowPerShare                  float64\n",
       "cashPerShare                          float64\n",
       "payoutRatio                           float64\n",
       "operatingCashFlowSalesRatio           float64\n",
       "freeCashFlowOperatingCashFlowRatio    float64\n",
       "cashFlowCoverageRatios                float64\n",
       "shortTermCoverageRatios               float64\n",
       "capitalExpenditureCoverageRatio       float64\n",
       "dividendPaidAndCapexCoverageRatio     float64\n",
       "dividendPayoutRatio                   float64\n",
       "priceBookValueRatio                   float64\n",
       "priceToBookRatio                      float64\n",
       "priceToSalesRatio                     float64\n",
       "priceEarningsRatio                    float64\n",
       "priceToFreeCashFlowsRatio             float64\n",
       "priceToOperatingCashFlowsRatio        float64\n",
       "priceCashFlowRatio                    float64\n",
       "priceEarningsToGrowthRatio            float64\n",
       "priceSalesRatio                       float64\n",
       "dividendYield                         float64\n",
       "enterpriseValueMultiple               float64\n",
       "priceFairValue                        float64\n",
       "dtype: object"
      ]
     },
     "metadata": {},
     "execution_count": 69
    }
   ]
  },
  {
   "cell_type": "code",
   "execution_count": 63,
   "metadata": {},
   "outputs": [],
   "source": [
    "#splitting data\n",
    "X = df.drop(['decision'], 1)\n",
    "y = df.decision\n",
    "\n",
    "#train test split\n",
    "X_train, X_test, y_train, y_test, = train_test_split(X, y)"
   ]
  },
  {
   "cell_type": "code",
   "execution_count": 64,
   "metadata": {},
   "outputs": [],
   "source": [
    "#algorithms\n",
    "from sklearn.ensemble import RandomForestClassifier\n",
    "from sklearn.tree import DecisionTreeClassifier\n",
    "from sklearn.neighbors import KNeighborsClassifier"
   ]
  },
  {
   "cell_type": "code",
   "execution_count": 65,
   "metadata": {},
   "outputs": [],
   "source": [
    "#creating pipelines \n",
    "#Random Forest\n",
    "pipeline_rf = Pipeline([('scale', StandardScaler()), ('clf', RandomForestClassifier())])\n",
    "\n",
    "#DecisionTree\n",
    "pipeline_dt = Pipeline([('scale', StandardScaler()), ('clf', DecisionTreeClassifier())])\n",
    "\n",
    "#K Nearest Neighbors\n",
    "pipeline_knn = Pipeline([('scale', StandardScaler()), ('clf', KNeighborsClassifier())])"
   ]
  },
  {
   "cell_type": "code",
   "execution_count": 66,
   "metadata": {},
   "outputs": [],
   "source": [
    "#creating dictionary for models\n",
    "pipelines = [pipeline_rf, pipeline_dt, pipeline_knn]\n",
    "\n",
    "models = ['RandomForest', 'DecisionTree', 'KNN']\n",
    "model_pipelines = dict(zip(models, pipelines))"
   ]
  },
  {
   "cell_type": "code",
   "execution_count": 67,
   "metadata": {},
   "outputs": [
    {
     "output_type": "stream",
     "name": "stdout",
     "text": [
      "Pipeline(memory=None,\n         steps=[('scale',\n                 StandardScaler(copy=True, with_mean=True, with_std=True)),\n                ('clf',\n                 RandomForestClassifier(bootstrap=True, ccp_alpha=0.0,\n                                        class_weight=None, criterion='gini',\n                                        max_depth=None, max_features='auto',\n                                        max_leaf_nodes=None, max_samples=None,\n                                        min_impurity_decrease=0.0,\n                                        min_impurity_split=None,\n                                        min_samples_leaf=1, min_samples_split=2,\n                                        min_weight_fraction_leaf=0.0,\n                                        n_estimators=100, n_jobs=None,\n                                        oob_score=False, random_state=None,\n                                        verbose=0, warm_start=False))],\n         verbose=False)\n"
     ]
    },
    {
     "output_type": "error",
     "ename": "ValueError",
     "evalue": "could not convert string to float: '2000-12'",
     "traceback": [
      "\u001b[1;31m---------------------------------------------------------------------------\u001b[0m",
      "\u001b[1;31mValueError\u001b[0m                                Traceback (most recent call last)",
      "\u001b[1;32m<ipython-input-67-84a8afd6b26a>\u001b[0m in \u001b[0;36m<module>\u001b[1;34m\u001b[0m\n\u001b[0;32m      2\u001b[0m \u001b[1;32mfor\u001b[0m \u001b[0mname\u001b[0m\u001b[1;33m,\u001b[0m \u001b[0mpipe\u001b[0m \u001b[1;32min\u001b[0m \u001b[0mmodel_pipelines\u001b[0m\u001b[1;33m.\u001b[0m\u001b[0mitems\u001b[0m\u001b[1;33m(\u001b[0m\u001b[1;33m)\u001b[0m\u001b[1;33m:\u001b[0m\u001b[1;33m\u001b[0m\u001b[1;33m\u001b[0m\u001b[0m\n\u001b[0;32m      3\u001b[0m     \u001b[0mprint\u001b[0m\u001b[1;33m(\u001b[0m\u001b[0mpipe\u001b[0m\u001b[1;33m)\u001b[0m\u001b[1;33m\u001b[0m\u001b[1;33m\u001b[0m\u001b[0m\n\u001b[1;32m----> 4\u001b[1;33m     \u001b[0mpipe\u001b[0m\u001b[1;33m.\u001b[0m\u001b[0mfit\u001b[0m\u001b[1;33m(\u001b[0m\u001b[0mX_train\u001b[0m\u001b[1;33m,\u001b[0m \u001b[0my_train\u001b[0m\u001b[1;33m)\u001b[0m\u001b[1;33m\u001b[0m\u001b[1;33m\u001b[0m\u001b[0m\n\u001b[0m",
      "\u001b[1;32m~\\anaconda3\\lib\\site-packages\\sklearn\\pipeline.py\u001b[0m in \u001b[0;36mfit\u001b[1;34m(self, X, y, **fit_params)\u001b[0m\n\u001b[0;32m    348\u001b[0m             \u001b[0mThis\u001b[0m \u001b[0mestimator\u001b[0m\u001b[1;33m\u001b[0m\u001b[1;33m\u001b[0m\u001b[0m\n\u001b[0;32m    349\u001b[0m         \"\"\"\n\u001b[1;32m--> 350\u001b[1;33m         \u001b[0mXt\u001b[0m\u001b[1;33m,\u001b[0m \u001b[0mfit_params\u001b[0m \u001b[1;33m=\u001b[0m \u001b[0mself\u001b[0m\u001b[1;33m.\u001b[0m\u001b[0m_fit\u001b[0m\u001b[1;33m(\u001b[0m\u001b[0mX\u001b[0m\u001b[1;33m,\u001b[0m \u001b[0my\u001b[0m\u001b[1;33m,\u001b[0m \u001b[1;33m**\u001b[0m\u001b[0mfit_params\u001b[0m\u001b[1;33m)\u001b[0m\u001b[1;33m\u001b[0m\u001b[1;33m\u001b[0m\u001b[0m\n\u001b[0m\u001b[0;32m    351\u001b[0m         with _print_elapsed_time('Pipeline',\n\u001b[0;32m    352\u001b[0m                                  self._log_message(len(self.steps) - 1)):\n",
      "\u001b[1;32m~\\anaconda3\\lib\\site-packages\\sklearn\\pipeline.py\u001b[0m in \u001b[0;36m_fit\u001b[1;34m(self, X, y, **fit_params)\u001b[0m\n\u001b[0;32m    313\u001b[0m                 \u001b[0mmessage_clsname\u001b[0m\u001b[1;33m=\u001b[0m\u001b[1;34m'Pipeline'\u001b[0m\u001b[1;33m,\u001b[0m\u001b[1;33m\u001b[0m\u001b[1;33m\u001b[0m\u001b[0m\n\u001b[0;32m    314\u001b[0m                 \u001b[0mmessage\u001b[0m\u001b[1;33m=\u001b[0m\u001b[0mself\u001b[0m\u001b[1;33m.\u001b[0m\u001b[0m_log_message\u001b[0m\u001b[1;33m(\u001b[0m\u001b[0mstep_idx\u001b[0m\u001b[1;33m)\u001b[0m\u001b[1;33m,\u001b[0m\u001b[1;33m\u001b[0m\u001b[1;33m\u001b[0m\u001b[0m\n\u001b[1;32m--> 315\u001b[1;33m                 **fit_params_steps[name])\n\u001b[0m\u001b[0;32m    316\u001b[0m             \u001b[1;31m# Replace the transformer of the step with the fitted\u001b[0m\u001b[1;33m\u001b[0m\u001b[1;33m\u001b[0m\u001b[1;33m\u001b[0m\u001b[0m\n\u001b[0;32m    317\u001b[0m             \u001b[1;31m# transformer. This is necessary when loading the transformer\u001b[0m\u001b[1;33m\u001b[0m\u001b[1;33m\u001b[0m\u001b[1;33m\u001b[0m\u001b[0m\n",
      "\u001b[1;32m~\\anaconda3\\lib\\site-packages\\joblib\\memory.py\u001b[0m in \u001b[0;36m__call__\u001b[1;34m(self, *args, **kwargs)\u001b[0m\n\u001b[0;32m    353\u001b[0m \u001b[1;33m\u001b[0m\u001b[0m\n\u001b[0;32m    354\u001b[0m     \u001b[1;32mdef\u001b[0m \u001b[0m__call__\u001b[0m\u001b[1;33m(\u001b[0m\u001b[0mself\u001b[0m\u001b[1;33m,\u001b[0m \u001b[1;33m*\u001b[0m\u001b[0margs\u001b[0m\u001b[1;33m,\u001b[0m \u001b[1;33m**\u001b[0m\u001b[0mkwargs\u001b[0m\u001b[1;33m)\u001b[0m\u001b[1;33m:\u001b[0m\u001b[1;33m\u001b[0m\u001b[1;33m\u001b[0m\u001b[0m\n\u001b[1;32m--> 355\u001b[1;33m         \u001b[1;32mreturn\u001b[0m \u001b[0mself\u001b[0m\u001b[1;33m.\u001b[0m\u001b[0mfunc\u001b[0m\u001b[1;33m(\u001b[0m\u001b[1;33m*\u001b[0m\u001b[0margs\u001b[0m\u001b[1;33m,\u001b[0m \u001b[1;33m**\u001b[0m\u001b[0mkwargs\u001b[0m\u001b[1;33m)\u001b[0m\u001b[1;33m\u001b[0m\u001b[1;33m\u001b[0m\u001b[0m\n\u001b[0m\u001b[0;32m    356\u001b[0m \u001b[1;33m\u001b[0m\u001b[0m\n\u001b[0;32m    357\u001b[0m     \u001b[1;32mdef\u001b[0m \u001b[0mcall_and_shelve\u001b[0m\u001b[1;33m(\u001b[0m\u001b[0mself\u001b[0m\u001b[1;33m,\u001b[0m \u001b[1;33m*\u001b[0m\u001b[0margs\u001b[0m\u001b[1;33m,\u001b[0m \u001b[1;33m**\u001b[0m\u001b[0mkwargs\u001b[0m\u001b[1;33m)\u001b[0m\u001b[1;33m:\u001b[0m\u001b[1;33m\u001b[0m\u001b[1;33m\u001b[0m\u001b[0m\n",
      "\u001b[1;32m~\\anaconda3\\lib\\site-packages\\sklearn\\pipeline.py\u001b[0m in \u001b[0;36m_fit_transform_one\u001b[1;34m(transformer, X, y, weight, message_clsname, message, **fit_params)\u001b[0m\n\u001b[0;32m    726\u001b[0m     \u001b[1;32mwith\u001b[0m \u001b[0m_print_elapsed_time\u001b[0m\u001b[1;33m(\u001b[0m\u001b[0mmessage_clsname\u001b[0m\u001b[1;33m,\u001b[0m \u001b[0mmessage\u001b[0m\u001b[1;33m)\u001b[0m\u001b[1;33m:\u001b[0m\u001b[1;33m\u001b[0m\u001b[1;33m\u001b[0m\u001b[0m\n\u001b[0;32m    727\u001b[0m         \u001b[1;32mif\u001b[0m \u001b[0mhasattr\u001b[0m\u001b[1;33m(\u001b[0m\u001b[0mtransformer\u001b[0m\u001b[1;33m,\u001b[0m \u001b[1;34m'fit_transform'\u001b[0m\u001b[1;33m)\u001b[0m\u001b[1;33m:\u001b[0m\u001b[1;33m\u001b[0m\u001b[1;33m\u001b[0m\u001b[0m\n\u001b[1;32m--> 728\u001b[1;33m             \u001b[0mres\u001b[0m \u001b[1;33m=\u001b[0m \u001b[0mtransformer\u001b[0m\u001b[1;33m.\u001b[0m\u001b[0mfit_transform\u001b[0m\u001b[1;33m(\u001b[0m\u001b[0mX\u001b[0m\u001b[1;33m,\u001b[0m \u001b[0my\u001b[0m\u001b[1;33m,\u001b[0m \u001b[1;33m**\u001b[0m\u001b[0mfit_params\u001b[0m\u001b[1;33m)\u001b[0m\u001b[1;33m\u001b[0m\u001b[1;33m\u001b[0m\u001b[0m\n\u001b[0m\u001b[0;32m    729\u001b[0m         \u001b[1;32melse\u001b[0m\u001b[1;33m:\u001b[0m\u001b[1;33m\u001b[0m\u001b[1;33m\u001b[0m\u001b[0m\n\u001b[0;32m    730\u001b[0m             \u001b[0mres\u001b[0m \u001b[1;33m=\u001b[0m \u001b[0mtransformer\u001b[0m\u001b[1;33m.\u001b[0m\u001b[0mfit\u001b[0m\u001b[1;33m(\u001b[0m\u001b[0mX\u001b[0m\u001b[1;33m,\u001b[0m \u001b[0my\u001b[0m\u001b[1;33m,\u001b[0m \u001b[1;33m**\u001b[0m\u001b[0mfit_params\u001b[0m\u001b[1;33m)\u001b[0m\u001b[1;33m.\u001b[0m\u001b[0mtransform\u001b[0m\u001b[1;33m(\u001b[0m\u001b[0mX\u001b[0m\u001b[1;33m)\u001b[0m\u001b[1;33m\u001b[0m\u001b[1;33m\u001b[0m\u001b[0m\n",
      "\u001b[1;32m~\\anaconda3\\lib\\site-packages\\sklearn\\base.py\u001b[0m in \u001b[0;36mfit_transform\u001b[1;34m(self, X, y, **fit_params)\u001b[0m\n\u001b[0;32m    572\u001b[0m         \u001b[1;32melse\u001b[0m\u001b[1;33m:\u001b[0m\u001b[1;33m\u001b[0m\u001b[1;33m\u001b[0m\u001b[0m\n\u001b[0;32m    573\u001b[0m             \u001b[1;31m# fit method of arity 2 (supervised transformation)\u001b[0m\u001b[1;33m\u001b[0m\u001b[1;33m\u001b[0m\u001b[1;33m\u001b[0m\u001b[0m\n\u001b[1;32m--> 574\u001b[1;33m             \u001b[1;32mreturn\u001b[0m \u001b[0mself\u001b[0m\u001b[1;33m.\u001b[0m\u001b[0mfit\u001b[0m\u001b[1;33m(\u001b[0m\u001b[0mX\u001b[0m\u001b[1;33m,\u001b[0m \u001b[0my\u001b[0m\u001b[1;33m,\u001b[0m \u001b[1;33m**\u001b[0m\u001b[0mfit_params\u001b[0m\u001b[1;33m)\u001b[0m\u001b[1;33m.\u001b[0m\u001b[0mtransform\u001b[0m\u001b[1;33m(\u001b[0m\u001b[0mX\u001b[0m\u001b[1;33m)\u001b[0m\u001b[1;33m\u001b[0m\u001b[1;33m\u001b[0m\u001b[0m\n\u001b[0m\u001b[0;32m    575\u001b[0m \u001b[1;33m\u001b[0m\u001b[0m\n\u001b[0;32m    576\u001b[0m \u001b[1;33m\u001b[0m\u001b[0m\n",
      "\u001b[1;32m~\\anaconda3\\lib\\site-packages\\sklearn\\preprocessing\\_data.py\u001b[0m in \u001b[0;36mfit\u001b[1;34m(self, X, y)\u001b[0m\n\u001b[0;32m    667\u001b[0m         \u001b[1;31m# Reset internal state before fitting\u001b[0m\u001b[1;33m\u001b[0m\u001b[1;33m\u001b[0m\u001b[1;33m\u001b[0m\u001b[0m\n\u001b[0;32m    668\u001b[0m         \u001b[0mself\u001b[0m\u001b[1;33m.\u001b[0m\u001b[0m_reset\u001b[0m\u001b[1;33m(\u001b[0m\u001b[1;33m)\u001b[0m\u001b[1;33m\u001b[0m\u001b[1;33m\u001b[0m\u001b[0m\n\u001b[1;32m--> 669\u001b[1;33m         \u001b[1;32mreturn\u001b[0m \u001b[0mself\u001b[0m\u001b[1;33m.\u001b[0m\u001b[0mpartial_fit\u001b[0m\u001b[1;33m(\u001b[0m\u001b[0mX\u001b[0m\u001b[1;33m,\u001b[0m \u001b[0my\u001b[0m\u001b[1;33m)\u001b[0m\u001b[1;33m\u001b[0m\u001b[1;33m\u001b[0m\u001b[0m\n\u001b[0m\u001b[0;32m    670\u001b[0m \u001b[1;33m\u001b[0m\u001b[0m\n\u001b[0;32m    671\u001b[0m     \u001b[1;32mdef\u001b[0m \u001b[0mpartial_fit\u001b[0m\u001b[1;33m(\u001b[0m\u001b[0mself\u001b[0m\u001b[1;33m,\u001b[0m \u001b[0mX\u001b[0m\u001b[1;33m,\u001b[0m \u001b[0my\u001b[0m\u001b[1;33m=\u001b[0m\u001b[1;32mNone\u001b[0m\u001b[1;33m)\u001b[0m\u001b[1;33m:\u001b[0m\u001b[1;33m\u001b[0m\u001b[1;33m\u001b[0m\u001b[0m\n",
      "\u001b[1;32m~\\anaconda3\\lib\\site-packages\\sklearn\\preprocessing\\_data.py\u001b[0m in \u001b[0;36mpartial_fit\u001b[1;34m(self, X, y)\u001b[0m\n\u001b[0;32m    698\u001b[0m         X = check_array(X, accept_sparse=('csr', 'csc'),\n\u001b[0;32m    699\u001b[0m                         \u001b[0mestimator\u001b[0m\u001b[1;33m=\u001b[0m\u001b[0mself\u001b[0m\u001b[1;33m,\u001b[0m \u001b[0mdtype\u001b[0m\u001b[1;33m=\u001b[0m\u001b[0mFLOAT_DTYPES\u001b[0m\u001b[1;33m,\u001b[0m\u001b[1;33m\u001b[0m\u001b[1;33m\u001b[0m\u001b[0m\n\u001b[1;32m--> 700\u001b[1;33m                         force_all_finite='allow-nan')\n\u001b[0m\u001b[0;32m    701\u001b[0m \u001b[1;33m\u001b[0m\u001b[0m\n\u001b[0;32m    702\u001b[0m         \u001b[1;31m# Even in the case of `with_mean=False`, we update the mean anyway\u001b[0m\u001b[1;33m\u001b[0m\u001b[1;33m\u001b[0m\u001b[1;33m\u001b[0m\u001b[0m\n",
      "\u001b[1;32m~\\anaconda3\\lib\\site-packages\\sklearn\\utils\\validation.py\u001b[0m in \u001b[0;36mcheck_array\u001b[1;34m(array, accept_sparse, accept_large_sparse, dtype, order, copy, force_all_finite, ensure_2d, allow_nd, ensure_min_samples, ensure_min_features, warn_on_dtype, estimator)\u001b[0m\n\u001b[0;32m    529\u001b[0m                     \u001b[0marray\u001b[0m \u001b[1;33m=\u001b[0m \u001b[0marray\u001b[0m\u001b[1;33m.\u001b[0m\u001b[0mastype\u001b[0m\u001b[1;33m(\u001b[0m\u001b[0mdtype\u001b[0m\u001b[1;33m,\u001b[0m \u001b[0mcasting\u001b[0m\u001b[1;33m=\u001b[0m\u001b[1;34m\"unsafe\"\u001b[0m\u001b[1;33m,\u001b[0m \u001b[0mcopy\u001b[0m\u001b[1;33m=\u001b[0m\u001b[1;32mFalse\u001b[0m\u001b[1;33m)\u001b[0m\u001b[1;33m\u001b[0m\u001b[1;33m\u001b[0m\u001b[0m\n\u001b[0;32m    530\u001b[0m                 \u001b[1;32melse\u001b[0m\u001b[1;33m:\u001b[0m\u001b[1;33m\u001b[0m\u001b[1;33m\u001b[0m\u001b[0m\n\u001b[1;32m--> 531\u001b[1;33m                     \u001b[0marray\u001b[0m \u001b[1;33m=\u001b[0m \u001b[0mnp\u001b[0m\u001b[1;33m.\u001b[0m\u001b[0masarray\u001b[0m\u001b[1;33m(\u001b[0m\u001b[0marray\u001b[0m\u001b[1;33m,\u001b[0m \u001b[0morder\u001b[0m\u001b[1;33m=\u001b[0m\u001b[0morder\u001b[0m\u001b[1;33m,\u001b[0m \u001b[0mdtype\u001b[0m\u001b[1;33m=\u001b[0m\u001b[0mdtype\u001b[0m\u001b[1;33m)\u001b[0m\u001b[1;33m\u001b[0m\u001b[1;33m\u001b[0m\u001b[0m\n\u001b[0m\u001b[0;32m    532\u001b[0m             \u001b[1;32mexcept\u001b[0m \u001b[0mComplexWarning\u001b[0m\u001b[1;33m:\u001b[0m\u001b[1;33m\u001b[0m\u001b[1;33m\u001b[0m\u001b[0m\n\u001b[0;32m    533\u001b[0m                 raise ValueError(\"Complex data not supported\\n\"\n",
      "\u001b[1;32m~\\anaconda3\\lib\\site-packages\\numpy\\core\\_asarray.py\u001b[0m in \u001b[0;36masarray\u001b[1;34m(a, dtype, order)\u001b[0m\n\u001b[0;32m     83\u001b[0m \u001b[1;33m\u001b[0m\u001b[0m\n\u001b[0;32m     84\u001b[0m     \"\"\"\n\u001b[1;32m---> 85\u001b[1;33m     \u001b[1;32mreturn\u001b[0m \u001b[0marray\u001b[0m\u001b[1;33m(\u001b[0m\u001b[0ma\u001b[0m\u001b[1;33m,\u001b[0m \u001b[0mdtype\u001b[0m\u001b[1;33m,\u001b[0m \u001b[0mcopy\u001b[0m\u001b[1;33m=\u001b[0m\u001b[1;32mFalse\u001b[0m\u001b[1;33m,\u001b[0m \u001b[0morder\u001b[0m\u001b[1;33m=\u001b[0m\u001b[0morder\u001b[0m\u001b[1;33m)\u001b[0m\u001b[1;33m\u001b[0m\u001b[1;33m\u001b[0m\u001b[0m\n\u001b[0m\u001b[0;32m     86\u001b[0m \u001b[1;33m\u001b[0m\u001b[0m\n\u001b[0;32m     87\u001b[0m \u001b[1;33m\u001b[0m\u001b[0m\n",
      "\u001b[1;31mValueError\u001b[0m: could not convert string to float: '2000-12'"
     ]
    }
   ],
   "source": [
    "# Looping through each Pipeline to fit and train each model\n",
    "for name, pipe in model_pipelines.items():\n",
    "    print(pipe)\n",
    "    pipe.fit(X_train, y_train)"
   ]
  },
  {
   "cell_type": "code",
   "execution_count": null,
   "metadata": {},
   "outputs": [],
   "source": []
  }
 ]
}