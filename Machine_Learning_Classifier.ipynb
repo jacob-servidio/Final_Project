{
 "cells": [
  {
   "cell_type": "code",
   "execution_count": 226,
   "metadata": {},
   "outputs": [],
   "source": [
    "import numpy as np \n",
    "import pandas as pd \n",
    "import matplotlib.pyplot as plt \n",
    "from sklearn.model_selection import train_test_split\n",
    "from sklearn.metrics import confusion_matrix, classification_report\n",
    "from sklearn.preprocessing import StandardScaler\n",
    "from sklearn.pipeline import Pipeline\n",
    "import datetime as dt\n"
   ]
  },
  {
   "cell_type": "code",
   "execution_count": 227,
   "metadata": {},
   "outputs": [
    {
     "output_type": "execute_result",
     "data": {
      "text/plain": "   year  month  decision  currentRatio  quickRatio  cashRatio  \\\n0  2000      6       2.0      2.753337    2.558996   0.717565   \n1  2000      9       2.0      2.807553    2.576306   0.616141   \n2  2000     12       2.0      3.009163    2.752596   1.061087   \n3  2001      3       2.0      2.977716    2.663510   1.191086   \n4  2001      6       2.0      3.251549    2.983891   1.314126   \n\n   daysOfSalesOutstanding  daysOfInventoryOutstanding  operatingCycle  \\\n0              193.400000                    0.351014       48.038685   \n1              186.013369                    2.116892       47.983203   \n2              159.846077                    1.838521       41.252623   \n3              162.477289                    0.860421       40.923314   \n4              147.979661                    1.642651       38.130787   \n\n   daysOfPayablesOutstanding  ...  priceToSalesRatio  priceEarningsRatio  \\\n0                  73.010920  ...           9.328204           85.119863   \n1                  74.219530  ...           4.475814           49.233954   \n2                  55.768482  ...           4.980540          -25.720019   \n3                  82.686424  ...           5.337514          177.627508   \n4                  73.227666  ...           5.497488          132.931059   \n\n   priceToFreeCashFlowsRatio  priceToOperatingCashFlowsRatio  \\\n0                  76.340684                       72.752020   \n1                  65.903718                       52.973242   \n2                -143.297250                     -385.800289   \n3                -125.212833                     -173.590519   \n4                -128.711026                     -245.721049   \n\n   priceCashFlowRatio  priceEarningsToGrowthRatio  priceSalesRatio  \\\n0           72.752020                  137.685255         9.328204   \n1           52.973242                   79.638163         4.475814   \n2         -385.800289                  -43.155875         4.980540   \n3         -173.590519                  305.918987         5.337514   \n4         -245.721049                  230.716720         5.497488   \n\n   dividendYield  enterpriseValueMultiple  priceFairValue  \n0            0.0               111.748060        4.076622  \n1            0.0                63.671433        2.037928  \n2            0.0               -11.078407        1.351132  \n3            0.0               869.220315        2.043334  \n4            0.0                79.262213        2.101813  \n\n[5 rows x 57 columns]",
      "text/html": "<div>\n<style scoped>\n    .dataframe tbody tr th:only-of-type {\n        vertical-align: middle;\n    }\n\n    .dataframe tbody tr th {\n        vertical-align: top;\n    }\n\n    .dataframe thead th {\n        text-align: right;\n    }\n</style>\n<table border=\"1\" class=\"dataframe\">\n  <thead>\n    <tr style=\"text-align: right;\">\n      <th></th>\n      <th>year</th>\n      <th>month</th>\n      <th>decision</th>\n      <th>currentRatio</th>\n      <th>quickRatio</th>\n      <th>cashRatio</th>\n      <th>daysOfSalesOutstanding</th>\n      <th>daysOfInventoryOutstanding</th>\n      <th>operatingCycle</th>\n      <th>daysOfPayablesOutstanding</th>\n      <th>...</th>\n      <th>priceToSalesRatio</th>\n      <th>priceEarningsRatio</th>\n      <th>priceToFreeCashFlowsRatio</th>\n      <th>priceToOperatingCashFlowsRatio</th>\n      <th>priceCashFlowRatio</th>\n      <th>priceEarningsToGrowthRatio</th>\n      <th>priceSalesRatio</th>\n      <th>dividendYield</th>\n      <th>enterpriseValueMultiple</th>\n      <th>priceFairValue</th>\n    </tr>\n  </thead>\n  <tbody>\n    <tr>\n      <th>0</th>\n      <td>2000</td>\n      <td>6</td>\n      <td>2.0</td>\n      <td>2.753337</td>\n      <td>2.558996</td>\n      <td>0.717565</td>\n      <td>193.400000</td>\n      <td>0.351014</td>\n      <td>48.038685</td>\n      <td>73.010920</td>\n      <td>...</td>\n      <td>9.328204</td>\n      <td>85.119863</td>\n      <td>76.340684</td>\n      <td>72.752020</td>\n      <td>72.752020</td>\n      <td>137.685255</td>\n      <td>9.328204</td>\n      <td>0.0</td>\n      <td>111.748060</td>\n      <td>4.076622</td>\n    </tr>\n    <tr>\n      <th>1</th>\n      <td>2000</td>\n      <td>9</td>\n      <td>2.0</td>\n      <td>2.807553</td>\n      <td>2.576306</td>\n      <td>0.616141</td>\n      <td>186.013369</td>\n      <td>2.116892</td>\n      <td>47.983203</td>\n      <td>74.219530</td>\n      <td>...</td>\n      <td>4.475814</td>\n      <td>49.233954</td>\n      <td>65.903718</td>\n      <td>52.973242</td>\n      <td>52.973242</td>\n      <td>79.638163</td>\n      <td>4.475814</td>\n      <td>0.0</td>\n      <td>63.671433</td>\n      <td>2.037928</td>\n    </tr>\n    <tr>\n      <th>2</th>\n      <td>2000</td>\n      <td>12</td>\n      <td>2.0</td>\n      <td>3.009163</td>\n      <td>2.752596</td>\n      <td>1.061087</td>\n      <td>159.846077</td>\n      <td>1.838521</td>\n      <td>41.252623</td>\n      <td>55.768482</td>\n      <td>...</td>\n      <td>4.980540</td>\n      <td>-25.720019</td>\n      <td>-143.297250</td>\n      <td>-385.800289</td>\n      <td>-385.800289</td>\n      <td>-43.155875</td>\n      <td>4.980540</td>\n      <td>0.0</td>\n      <td>-11.078407</td>\n      <td>1.351132</td>\n    </tr>\n    <tr>\n      <th>3</th>\n      <td>2001</td>\n      <td>3</td>\n      <td>2.0</td>\n      <td>2.977716</td>\n      <td>2.663510</td>\n      <td>1.191086</td>\n      <td>162.477289</td>\n      <td>0.860421</td>\n      <td>40.923314</td>\n      <td>82.686424</td>\n      <td>...</td>\n      <td>5.337514</td>\n      <td>177.627508</td>\n      <td>-125.212833</td>\n      <td>-173.590519</td>\n      <td>-173.590519</td>\n      <td>305.918987</td>\n      <td>5.337514</td>\n      <td>0.0</td>\n      <td>869.220315</td>\n      <td>2.043334</td>\n    </tr>\n    <tr>\n      <th>4</th>\n      <td>2001</td>\n      <td>6</td>\n      <td>2.0</td>\n      <td>3.251549</td>\n      <td>2.983891</td>\n      <td>1.314126</td>\n      <td>147.979661</td>\n      <td>1.642651</td>\n      <td>38.130787</td>\n      <td>73.227666</td>\n      <td>...</td>\n      <td>5.497488</td>\n      <td>132.931059</td>\n      <td>-128.711026</td>\n      <td>-245.721049</td>\n      <td>-245.721049</td>\n      <td>230.716720</td>\n      <td>5.497488</td>\n      <td>0.0</td>\n      <td>79.262213</td>\n      <td>2.101813</td>\n    </tr>\n  </tbody>\n</table>\n<p>5 rows × 57 columns</p>\n</div>"
     },
     "metadata": {},
     "execution_count": 227
    }
   ],
   "source": [
    "#reading in data\n",
    "#dropping extra index\n",
    "df = pd.read_csv('Test Data/quarterly_data.csv')\n",
    "df = df.drop(['Unnamed: 0'], axis=1)\n",
    "df.head()"
   ]
  },
  {
   "cell_type": "code",
   "execution_count": 228,
   "metadata": {},
   "outputs": [
    {
     "output_type": "execute_result",
     "data": {
      "text/plain": "    year  month  decision  currentRatio  quickRatio  cashRatio  \\\n0   2000      6       2.0      2.753337    2.558996   0.717565   \n1   2000      9       2.0      2.807553    2.576306   0.616141   \n2   2000     12       2.0      3.009163    2.752596   1.061087   \n3   2001      3       2.0      2.977716    2.663510   1.191086   \n4   2001      6       2.0      3.251549    2.983891   1.314126   \n..   ...    ...       ...           ...         ...        ...   \n77  2019      9       1.0      1.540126    1.384447   0.462022   \n78  2019     12       1.0      1.597782    1.439962   0.389297   \n79  2020      3       1.0      1.495962    1.297979   0.418070   \n80  2020      6       1.0      1.469450    1.312449   0.350228   \n81  2020      9       1.0      1.363604    1.015855   0.360710   \n\n    daysOfSalesOutstanding  daysOfInventoryOutstanding  operatingCycle  \\\n0               193.400000                    0.351014       48.038685   \n1               186.013369                    2.116892       47.983203   \n2               159.846077                    1.838521       41.252623   \n3               162.477289                    0.860421       40.923314   \n4               147.979661                    1.642651       38.130787   \n..                     ...                         ...             ...   \n77              261.062773                    9.301986       73.673629   \n78              158.793823                    6.514434       45.669075   \n79              192.017303                    8.348218       55.694950   \n80              196.152718                    9.674909       58.041333   \n81               90.942533                    9.135195       31.559381   \n\n    daysOfPayablesOutstanding  ...  priceToSalesRatio  priceEarningsRatio  \\\n0                   73.010920  ...           9.328204           85.119863   \n1                   74.219530  ...           4.475814           49.233954   \n2                   55.768482  ...           4.980540          -25.720019   \n3                   82.686424  ...           5.337514          177.627508   \n4                   73.227666  ...           5.497488          132.931059   \n..                        ...  ...                ...                 ...   \n77                 104.745891  ...          15.344777           71.801806   \n78                  71.728737  ...          13.934791           57.540859   \n79                  81.181037  ...          18.523681           96.023774   \n80                  85.914066  ...          25.551733          135.524323   \n81                  95.144592  ...          29.602612          151.126788   \n\n    priceToFreeCashFlowsRatio  priceToOperatingCashFlowsRatio  \\\n0                   76.340684                       72.752020   \n1                   65.903718                       52.973242   \n2                 -143.297250                     -385.800289   \n3                 -125.212833                     -173.590519   \n4                 -128.711026                     -245.721049   \n..                        ...                             ...   \n77                  57.355952                       49.356078   \n78                  45.037789                       41.928121   \n79                  94.272250                       81.148782   \n80                 103.702924                       93.728425   \n81                 101.917294                       93.080763   \n\n    priceCashFlowRatio  priceEarningsToGrowthRatio  priceSalesRatio  \\\n0            72.752020                  137.685255         9.328204   \n1            52.973242                   79.638163         4.475814   \n2          -385.800289                  -43.155875         4.980540   \n3          -173.590519                  305.918987         5.337514   \n4          -245.721049                  230.716720         5.497488   \n..                 ...                         ...              ...   \n77           49.356078                  114.617760        15.344777   \n78           41.928121                   90.303099        13.934791   \n79           81.148782                  148.821951        18.523681   \n80           93.728425                  207.752079        25.551733   \n81           93.080763                  229.082344        29.602612   \n\n    dividendYield  enterpriseValueMultiple  priceFairValue  \n0        0.000000               111.748060        4.076622  \n1        0.000000                63.671433        2.037928  \n2        0.000000               -11.078407        1.351132  \n3        0.000000               869.220315        2.043334  \n4        0.000000                79.262213        2.101813  \n..            ...                      ...             ...  \n77       0.003540                51.283681       10.859777  \n78       0.002766                45.340375       14.290900  \n79       0.003125                68.338017       13.773305  \n80       0.002397                96.317147       21.098686  \n81       0.001833               108.825672       29.312199  \n\n[82 rows x 57 columns]",
      "text/html": "<div>\n<style scoped>\n    .dataframe tbody tr th:only-of-type {\n        vertical-align: middle;\n    }\n\n    .dataframe tbody tr th {\n        vertical-align: top;\n    }\n\n    .dataframe thead th {\n        text-align: right;\n    }\n</style>\n<table border=\"1\" class=\"dataframe\">\n  <thead>\n    <tr style=\"text-align: right;\">\n      <th></th>\n      <th>year</th>\n      <th>month</th>\n      <th>decision</th>\n      <th>currentRatio</th>\n      <th>quickRatio</th>\n      <th>cashRatio</th>\n      <th>daysOfSalesOutstanding</th>\n      <th>daysOfInventoryOutstanding</th>\n      <th>operatingCycle</th>\n      <th>daysOfPayablesOutstanding</th>\n      <th>...</th>\n      <th>priceToSalesRatio</th>\n      <th>priceEarningsRatio</th>\n      <th>priceToFreeCashFlowsRatio</th>\n      <th>priceToOperatingCashFlowsRatio</th>\n      <th>priceCashFlowRatio</th>\n      <th>priceEarningsToGrowthRatio</th>\n      <th>priceSalesRatio</th>\n      <th>dividendYield</th>\n      <th>enterpriseValueMultiple</th>\n      <th>priceFairValue</th>\n    </tr>\n  </thead>\n  <tbody>\n    <tr>\n      <th>0</th>\n      <td>2000</td>\n      <td>6</td>\n      <td>2.0</td>\n      <td>2.753337</td>\n      <td>2.558996</td>\n      <td>0.717565</td>\n      <td>193.400000</td>\n      <td>0.351014</td>\n      <td>48.038685</td>\n      <td>73.010920</td>\n      <td>...</td>\n      <td>9.328204</td>\n      <td>85.119863</td>\n      <td>76.340684</td>\n      <td>72.752020</td>\n      <td>72.752020</td>\n      <td>137.685255</td>\n      <td>9.328204</td>\n      <td>0.000000</td>\n      <td>111.748060</td>\n      <td>4.076622</td>\n    </tr>\n    <tr>\n      <th>1</th>\n      <td>2000</td>\n      <td>9</td>\n      <td>2.0</td>\n      <td>2.807553</td>\n      <td>2.576306</td>\n      <td>0.616141</td>\n      <td>186.013369</td>\n      <td>2.116892</td>\n      <td>47.983203</td>\n      <td>74.219530</td>\n      <td>...</td>\n      <td>4.475814</td>\n      <td>49.233954</td>\n      <td>65.903718</td>\n      <td>52.973242</td>\n      <td>52.973242</td>\n      <td>79.638163</td>\n      <td>4.475814</td>\n      <td>0.000000</td>\n      <td>63.671433</td>\n      <td>2.037928</td>\n    </tr>\n    <tr>\n      <th>2</th>\n      <td>2000</td>\n      <td>12</td>\n      <td>2.0</td>\n      <td>3.009163</td>\n      <td>2.752596</td>\n      <td>1.061087</td>\n      <td>159.846077</td>\n      <td>1.838521</td>\n      <td>41.252623</td>\n      <td>55.768482</td>\n      <td>...</td>\n      <td>4.980540</td>\n      <td>-25.720019</td>\n      <td>-143.297250</td>\n      <td>-385.800289</td>\n      <td>-385.800289</td>\n      <td>-43.155875</td>\n      <td>4.980540</td>\n      <td>0.000000</td>\n      <td>-11.078407</td>\n      <td>1.351132</td>\n    </tr>\n    <tr>\n      <th>3</th>\n      <td>2001</td>\n      <td>3</td>\n      <td>2.0</td>\n      <td>2.977716</td>\n      <td>2.663510</td>\n      <td>1.191086</td>\n      <td>162.477289</td>\n      <td>0.860421</td>\n      <td>40.923314</td>\n      <td>82.686424</td>\n      <td>...</td>\n      <td>5.337514</td>\n      <td>177.627508</td>\n      <td>-125.212833</td>\n      <td>-173.590519</td>\n      <td>-173.590519</td>\n      <td>305.918987</td>\n      <td>5.337514</td>\n      <td>0.000000</td>\n      <td>869.220315</td>\n      <td>2.043334</td>\n    </tr>\n    <tr>\n      <th>4</th>\n      <td>2001</td>\n      <td>6</td>\n      <td>2.0</td>\n      <td>3.251549</td>\n      <td>2.983891</td>\n      <td>1.314126</td>\n      <td>147.979661</td>\n      <td>1.642651</td>\n      <td>38.130787</td>\n      <td>73.227666</td>\n      <td>...</td>\n      <td>5.497488</td>\n      <td>132.931059</td>\n      <td>-128.711026</td>\n      <td>-245.721049</td>\n      <td>-245.721049</td>\n      <td>230.716720</td>\n      <td>5.497488</td>\n      <td>0.000000</td>\n      <td>79.262213</td>\n      <td>2.101813</td>\n    </tr>\n    <tr>\n      <th>...</th>\n      <td>...</td>\n      <td>...</td>\n      <td>...</td>\n      <td>...</td>\n      <td>...</td>\n      <td>...</td>\n      <td>...</td>\n      <td>...</td>\n      <td>...</td>\n      <td>...</td>\n      <td>...</td>\n      <td>...</td>\n      <td>...</td>\n      <td>...</td>\n      <td>...</td>\n      <td>...</td>\n      <td>...</td>\n      <td>...</td>\n      <td>...</td>\n      <td>...</td>\n      <td>...</td>\n    </tr>\n    <tr>\n      <th>77</th>\n      <td>2019</td>\n      <td>9</td>\n      <td>1.0</td>\n      <td>1.540126</td>\n      <td>1.384447</td>\n      <td>0.462022</td>\n      <td>261.062773</td>\n      <td>9.301986</td>\n      <td>73.673629</td>\n      <td>104.745891</td>\n      <td>...</td>\n      <td>15.344777</td>\n      <td>71.801806</td>\n      <td>57.355952</td>\n      <td>49.356078</td>\n      <td>49.356078</td>\n      <td>114.617760</td>\n      <td>15.344777</td>\n      <td>0.003540</td>\n      <td>51.283681</td>\n      <td>10.859777</td>\n    </tr>\n    <tr>\n      <th>78</th>\n      <td>2019</td>\n      <td>12</td>\n      <td>1.0</td>\n      <td>1.597782</td>\n      <td>1.439962</td>\n      <td>0.389297</td>\n      <td>158.793823</td>\n      <td>6.514434</td>\n      <td>45.669075</td>\n      <td>71.728737</td>\n      <td>...</td>\n      <td>13.934791</td>\n      <td>57.540859</td>\n      <td>45.037789</td>\n      <td>41.928121</td>\n      <td>41.928121</td>\n      <td>90.303099</td>\n      <td>13.934791</td>\n      <td>0.002766</td>\n      <td>45.340375</td>\n      <td>14.290900</td>\n    </tr>\n    <tr>\n      <th>79</th>\n      <td>2020</td>\n      <td>3</td>\n      <td>1.0</td>\n      <td>1.495962</td>\n      <td>1.297979</td>\n      <td>0.418070</td>\n      <td>192.017303</td>\n      <td>8.348218</td>\n      <td>55.694950</td>\n      <td>81.181037</td>\n      <td>...</td>\n      <td>18.523681</td>\n      <td>96.023774</td>\n      <td>94.272250</td>\n      <td>81.148782</td>\n      <td>81.148782</td>\n      <td>148.821951</td>\n      <td>18.523681</td>\n      <td>0.003125</td>\n      <td>68.338017</td>\n      <td>13.773305</td>\n    </tr>\n    <tr>\n      <th>80</th>\n      <td>2020</td>\n      <td>6</td>\n      <td>1.0</td>\n      <td>1.469450</td>\n      <td>1.312449</td>\n      <td>0.350228</td>\n      <td>196.152718</td>\n      <td>9.674909</td>\n      <td>58.041333</td>\n      <td>85.914066</td>\n      <td>...</td>\n      <td>25.551733</td>\n      <td>135.524323</td>\n      <td>103.702924</td>\n      <td>93.728425</td>\n      <td>93.728425</td>\n      <td>207.752079</td>\n      <td>25.551733</td>\n      <td>0.002397</td>\n      <td>96.317147</td>\n      <td>21.098686</td>\n    </tr>\n    <tr>\n      <th>81</th>\n      <td>2020</td>\n      <td>9</td>\n      <td>1.0</td>\n      <td>1.363604</td>\n      <td>1.015855</td>\n      <td>0.360710</td>\n      <td>90.942533</td>\n      <td>9.135195</td>\n      <td>31.559381</td>\n      <td>95.144592</td>\n      <td>...</td>\n      <td>29.602612</td>\n      <td>151.126788</td>\n      <td>101.917294</td>\n      <td>93.080763</td>\n      <td>93.080763</td>\n      <td>229.082344</td>\n      <td>29.602612</td>\n      <td>0.001833</td>\n      <td>108.825672</td>\n      <td>29.312199</td>\n    </tr>\n  </tbody>\n</table>\n<p>82 rows × 57 columns</p>\n</div>"
     },
     "metadata": {},
     "execution_count": 228
    }
   ],
   "source": [
    "#splitting data\n",
    "X = df.drop(['decision'], 1)\n",
    "y = df.decision\n",
    "\n",
    "#train test split\n",
    "X_train, X_test, y_train, y_test, = train_test_split(X, y)\n",
    "df"
   ]
  },
  {
   "cell_type": "code",
   "execution_count": 229,
   "metadata": {},
   "outputs": [],
   "source": [
    "#algorithms\n",
    "from sklearn.ensemble import RandomForestClassifier\n",
    "from sklearn.tree import DecisionTreeClassifier\n",
    "from sklearn.neighbors import KNeighborsClassifier"
   ]
  },
  {
   "cell_type": "code",
   "execution_count": 230,
   "metadata": {},
   "outputs": [],
   "source": [
    "#creating pipelines \n",
    "#Random Forest\n",
    "pipeline_rf = Pipeline([('scale', StandardScaler()), ('clf', RandomForestClassifier())])\n",
    "\n",
    "#DecisionTree\n",
    "pipeline_dt = Pipeline([('scale', StandardScaler()), ('clf', DecisionTreeClassifier())])\n",
    "\n",
    "#K Nearest Neighbors\n",
    "pipeline_knn = Pipeline([('scale', StandardScaler()), ('clf', KNeighborsClassifier())])"
   ]
  },
  {
   "cell_type": "code",
   "execution_count": 231,
   "metadata": {},
   "outputs": [],
   "source": [
    "#creating dictionary for models\n",
    "pipelines = [pipeline_rf, pipeline_dt, pipeline_knn]\n",
    "\n",
    "models = ['RandomForest', 'DecisionTree', 'KNN']\n",
    "model_pipelines = dict(zip(models, pipelines))"
   ]
  },
  {
   "cell_type": "code",
   "execution_count": 232,
   "metadata": {
    "tags": []
   },
   "outputs": [
    {
     "output_type": "stream",
     "name": "stdout",
     "text": "Pipeline(steps=[('scale', StandardScaler()), ('clf', RandomForestClassifier())])\nPipeline(steps=[('scale', StandardScaler()), ('clf', DecisionTreeClassifier())])\nPipeline(steps=[('scale', StandardScaler()), ('clf', KNeighborsClassifier())])\n"
    }
   ],
   "source": [
    "# Looping through each Pipeline to fit and train each model\n",
    "for name, pipe in model_pipelines.items():\n",
    "    print(pipe)\n",
    "    pipe.fit(X_train, y_train)"
   ]
  },
  {
   "cell_type": "code",
   "execution_count": null,
   "metadata": {},
   "outputs": [],
   "source": []
  }
 ],
 "metadata": {
  "language_info": {
   "codemirror_mode": {
    "name": "ipython",
    "version": 3
   },
   "file_extension": ".py",
   "mimetype": "text/x-python",
   "name": "python",
   "nbconvert_exporter": "python",
   "pygments_lexer": "ipython3",
   "version": "3.6.12-final"
  },
  "orig_nbformat": 2,
  "kernelspec": {
   "name": "python_defaultSpec_1610764885899",
   "display_name": "Python 3.6.12 64-bit ('PythonAdv': conda)",
   "metadata": {
    "interpreter": {
     "hash": "6b7fa3a0957172ecb0227f4a19ea8ccb7af90ad3c01dc11e0364b2092e9452fb"
    }
   }
  }
 },
 "nbformat": 4,
 "nbformat_minor": 2
}